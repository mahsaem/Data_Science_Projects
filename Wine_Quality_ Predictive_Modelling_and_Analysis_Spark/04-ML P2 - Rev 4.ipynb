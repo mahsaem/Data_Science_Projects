{
 "cells": [
  {
   "cell_type": "markdown",
   "metadata": {},
   "source": [
    "# Wine quality analysis - Machine Learning - PART 4\n",
    "\n",
    "Datasource: https://archive.ics.uci.edu/ml/datasets/wine+quality"
   ]
  },
  {
   "cell_type": "markdown",
   "metadata": {},
   "source": [
    "## Columns description\n",
    "\n",
    "\n",
    "Column Position | Atrribute Name | Definition \n",
    " --- | --- | --- \n",
    "1 | fixed acidity | most acids involved with wine or fixed or nonvolatile (do not evaporate readily)\n",
    "2 | volatile acidity | the amount of acetic acid in wine, which at too high of levels can lead to an unpleasant, vinegar taste\n",
    "3 | citric acid | found in small quantities, citric acid can add 'freshness' and flavor to wines\n",
    "4 | residual sugar | the amount of sugar remaining after fermentation stops, it's rare to find wines with less than 1 gram/liter and wines with greater than 45 grams/liter are considered sweet\n",
    "5 | chlorides | the amount of salt in the wine\n",
    "6 | free sulfur dioxidet | he free form of SO2 exists in equilibrium between molecular SO2 (as a dissolved gas) and bisulfite ion; it prevents microbial growth and the oxidation of wine\n",
    "7 | total sulfur dioxide | amount of free and bound forms of S02; in low concentrations, SO2 is mostly undetectable in wine, but at free SO2 concentrations over 50 ppm, SO2 becomes evident in the nose and taste of wine\n",
    "8 | density | the density of water is close to that of water depending on the percent alcohol and sugar content\n",
    "9 | pH | describes how acidic or basic a wine is on a scale from 0 (very acidic) to 14 (very basic); most wines are between 3-4 on the pH scale\n",
    "10 | sulphates | a wine additive which can contribute to sulfur dioxide gas (S02) levels, wich acts as an antimicrobial and antioxidant\n",
    "11 | alcohol | the percent alcohol content of the wine\n",
    "12 | quality | output variable (based on sensory data, score between 0 and 10)\n",
    "13 | good | binary evaluation 1 - good , 0 - bad\n",
    "14 | color | wine type red or white"
   ]
  },
  {
   "cell_type": "markdown",
   "metadata": {},
   "source": [
    "# Project Plan \n",
    "\n",
    "Import libraries <br/>\n",
    "Data preparation for machine learning<br/>\n",
    "Linear Support Vector Machine<br/>\n",
    "Naive Bayes<br/>\n",
    "Factorization machines classifier<br/>\n",
    "Decision tree classifier<br/>\n"
   ]
  },
  {
   "cell_type": "markdown",
   "metadata": {},
   "source": [
    "# Import libraries "
   ]
  },
  {
   "cell_type": "code",
   "execution_count": 1,
   "metadata": {},
   "outputs": [],
   "source": [
    "import pandas as pd\n",
    "import matplotlib.pyplot as plt\n",
    "import seaborn as sns\n",
    "%matplotlib inline\n",
    "from datetime import datetime\n",
    "import numpy as np\n",
    "\n",
    "#import stats libraries \n",
    "from pyspark.mllib.stat import Statistics\n",
    "from pyspark.ml.linalg import Vectors\n",
    "from pyspark.ml.stat import Correlation\n",
    "from pyspark.ml.feature import VectorAssembler\n",
    "\n",
    "from pyspark.sql import SparkSession"
   ]
  },
  {
   "cell_type": "code",
   "execution_count": 2,
   "metadata": {},
   "outputs": [],
   "source": [
    "# May take a little while on a local computer\n",
    "spark = SparkSession.builder.appName(\"winequality\").getOrCreate()"
   ]
  },
  {
   "cell_type": "code",
   "execution_count": 3,
   "metadata": {},
   "outputs": [],
   "source": [
    "df = spark.read.csv(\"winequality.csv\",header=True,inferSchema=True)"
   ]
  },
  {
   "cell_type": "code",
   "execution_count": 4,
   "metadata": {},
   "outputs": [
    {
     "data": {
      "text/html": [
       "<div>\n",
       "<style scoped>\n",
       "    .dataframe tbody tr th:only-of-type {\n",
       "        vertical-align: middle;\n",
       "    }\n",
       "\n",
       "    .dataframe tbody tr th {\n",
       "        vertical-align: top;\n",
       "    }\n",
       "\n",
       "    .dataframe thead th {\n",
       "        text-align: right;\n",
       "    }\n",
       "</style>\n",
       "<table border=\"1\" class=\"dataframe\">\n",
       "  <thead>\n",
       "    <tr style=\"text-align: right;\">\n",
       "      <th></th>\n",
       "      <th>fixed acidity</th>\n",
       "      <th>volatile acidity</th>\n",
       "      <th>citric acid</th>\n",
       "      <th>residual sugar</th>\n",
       "      <th>chlorides</th>\n",
       "      <th>free sulfur dioxide</th>\n",
       "      <th>total sulfur dioxide</th>\n",
       "      <th>density</th>\n",
       "      <th>pH</th>\n",
       "      <th>sulphates</th>\n",
       "      <th>alcohol</th>\n",
       "      <th>quality</th>\n",
       "      <th>good</th>\n",
       "      <th>color</th>\n",
       "    </tr>\n",
       "  </thead>\n",
       "  <tbody>\n",
       "    <tr>\n",
       "      <th>0</th>\n",
       "      <td>7.4</td>\n",
       "      <td>0.70</td>\n",
       "      <td>0.00</td>\n",
       "      <td>1.9</td>\n",
       "      <td>0.076</td>\n",
       "      <td>11.0</td>\n",
       "      <td>34.0</td>\n",
       "      <td>0.9978</td>\n",
       "      <td>3.51</td>\n",
       "      <td>0.56</td>\n",
       "      <td>9.4</td>\n",
       "      <td>5</td>\n",
       "      <td>0</td>\n",
       "      <td>red</td>\n",
       "    </tr>\n",
       "    <tr>\n",
       "      <th>1</th>\n",
       "      <td>7.8</td>\n",
       "      <td>0.88</td>\n",
       "      <td>0.00</td>\n",
       "      <td>2.6</td>\n",
       "      <td>0.098</td>\n",
       "      <td>25.0</td>\n",
       "      <td>67.0</td>\n",
       "      <td>0.9968</td>\n",
       "      <td>3.20</td>\n",
       "      <td>0.68</td>\n",
       "      <td>9.8</td>\n",
       "      <td>5</td>\n",
       "      <td>0</td>\n",
       "      <td>red</td>\n",
       "    </tr>\n",
       "    <tr>\n",
       "      <th>2</th>\n",
       "      <td>7.8</td>\n",
       "      <td>0.76</td>\n",
       "      <td>0.04</td>\n",
       "      <td>2.3</td>\n",
       "      <td>0.092</td>\n",
       "      <td>15.0</td>\n",
       "      <td>54.0</td>\n",
       "      <td>0.9970</td>\n",
       "      <td>3.26</td>\n",
       "      <td>0.65</td>\n",
       "      <td>9.8</td>\n",
       "      <td>5</td>\n",
       "      <td>0</td>\n",
       "      <td>red</td>\n",
       "    </tr>\n",
       "    <tr>\n",
       "      <th>3</th>\n",
       "      <td>11.2</td>\n",
       "      <td>0.28</td>\n",
       "      <td>0.56</td>\n",
       "      <td>1.9</td>\n",
       "      <td>0.075</td>\n",
       "      <td>17.0</td>\n",
       "      <td>60.0</td>\n",
       "      <td>0.9980</td>\n",
       "      <td>3.16</td>\n",
       "      <td>0.58</td>\n",
       "      <td>9.8</td>\n",
       "      <td>6</td>\n",
       "      <td>0</td>\n",
       "      <td>red</td>\n",
       "    </tr>\n",
       "    <tr>\n",
       "      <th>4</th>\n",
       "      <td>7.4</td>\n",
       "      <td>0.70</td>\n",
       "      <td>0.00</td>\n",
       "      <td>1.9</td>\n",
       "      <td>0.076</td>\n",
       "      <td>11.0</td>\n",
       "      <td>34.0</td>\n",
       "      <td>0.9978</td>\n",
       "      <td>3.51</td>\n",
       "      <td>0.56</td>\n",
       "      <td>9.4</td>\n",
       "      <td>5</td>\n",
       "      <td>0</td>\n",
       "      <td>red</td>\n",
       "    </tr>\n",
       "  </tbody>\n",
       "</table>\n",
       "</div>"
      ],
      "text/plain": [
       "   fixed acidity  volatile acidity  citric acid  residual sugar  chlorides  \\\n",
       "0            7.4              0.70         0.00             1.9      0.076   \n",
       "1            7.8              0.88         0.00             2.6      0.098   \n",
       "2            7.8              0.76         0.04             2.3      0.092   \n",
       "3           11.2              0.28         0.56             1.9      0.075   \n",
       "4            7.4              0.70         0.00             1.9      0.076   \n",
       "\n",
       "   free sulfur dioxide  total sulfur dioxide  density    pH  sulphates  \\\n",
       "0                 11.0                  34.0   0.9978  3.51       0.56   \n",
       "1                 25.0                  67.0   0.9968  3.20       0.68   \n",
       "2                 15.0                  54.0   0.9970  3.26       0.65   \n",
       "3                 17.0                  60.0   0.9980  3.16       0.58   \n",
       "4                 11.0                  34.0   0.9978  3.51       0.56   \n",
       "\n",
       "   alcohol  quality  good color  \n",
       "0      9.4        5     0   red  \n",
       "1      9.8        5     0   red  \n",
       "2      9.8        5     0   red  \n",
       "3      9.8        6     0   red  \n",
       "4      9.4        5     0   red  "
      ]
     },
     "execution_count": 4,
     "metadata": {},
     "output_type": "execute_result"
    }
   ],
   "source": [
    "#df.show(n=2, truncate=False, vertical=True)\n",
    "df.limit(5).toPandas()"
   ]
  },
  {
   "cell_type": "code",
   "execution_count": 5,
   "metadata": {},
   "outputs": [],
   "source": [
    "#Create DF for red and white wine\n",
    "df_red = df.filter(df.color =='red')\n",
    "df_white = df.filter(df.color =='white')"
   ]
  },
  {
   "cell_type": "code",
   "execution_count": 6,
   "metadata": {},
   "outputs": [
    {
     "name": "stdout",
     "output_type": "stream",
     "text": [
      "['color']\n",
      "['fixed acidity', 'volatile acidity', 'citric acid', 'residual sugar', 'chlorides', 'free sulfur dioxide', 'total sulfur dioxide', 'density', 'pH', 'sulphates', 'alcohol', 'quality', 'good']\n"
     ]
    }
   ],
   "source": [
    "#create lists of categorical and numberical columns\n",
    "\n",
    "cat = [item[0] for item in df.dtypes if item[1].startswith('string') ]\n",
    "num = [item for item in df.columns if item not in cat]\n",
    "print(cat)\n",
    "print(num)"
   ]
  },
  {
   "cell_type": "markdown",
   "metadata": {},
   "source": [
    "# Data preparation for machine learning"
   ]
  },
  {
   "cell_type": "code",
   "execution_count": 25,
   "metadata": {},
   "outputs": [],
   "source": [
    "#Import libraries\n",
    "from pyspark.ml.tuning import ParamGridBuilder, CrossValidator\n",
    "from pyspark.ml.evaluation import RegressionEvaluator\n",
    "from pyspark.ml import Pipeline\n",
    "from pyspark.ml.feature import StringIndexer\n",
    "\n",
    "from pyspark.ml.evaluation import MulticlassClassificationEvaluator\n",
    "\n",
    "from pyspark.ml.evaluation import BinaryClassificationEvaluator\n",
    "\n",
    "import sklearn \n",
    "from sklearn.metrics import classification_report, confusion_matrix"
   ]
  },
  {
   "cell_type": "code",
   "execution_count": 8,
   "metadata": {},
   "outputs": [
    {
     "data": {
      "text/html": [
       "<div>\n",
       "<style scoped>\n",
       "    .dataframe tbody tr th:only-of-type {\n",
       "        vertical-align: middle;\n",
       "    }\n",
       "\n",
       "    .dataframe tbody tr th {\n",
       "        vertical-align: top;\n",
       "    }\n",
       "\n",
       "    .dataframe thead th {\n",
       "        text-align: right;\n",
       "    }\n",
       "</style>\n",
       "<table border=\"1\" class=\"dataframe\">\n",
       "  <thead>\n",
       "    <tr style=\"text-align: right;\">\n",
       "      <th></th>\n",
       "      <th>fixed acidity</th>\n",
       "      <th>volatile acidity</th>\n",
       "      <th>citric acid</th>\n",
       "      <th>residual sugar</th>\n",
       "      <th>chlorides</th>\n",
       "      <th>free sulfur dioxide</th>\n",
       "      <th>total sulfur dioxide</th>\n",
       "      <th>density</th>\n",
       "      <th>pH</th>\n",
       "      <th>sulphates</th>\n",
       "      <th>alcohol</th>\n",
       "      <th>quality</th>\n",
       "      <th>good</th>\n",
       "      <th>color</th>\n",
       "      <th>features</th>\n",
       "    </tr>\n",
       "  </thead>\n",
       "  <tbody>\n",
       "    <tr>\n",
       "      <th>0</th>\n",
       "      <td>7.4</td>\n",
       "      <td>0.70</td>\n",
       "      <td>0.00</td>\n",
       "      <td>1.9</td>\n",
       "      <td>0.076</td>\n",
       "      <td>11.0</td>\n",
       "      <td>34.0</td>\n",
       "      <td>0.9978</td>\n",
       "      <td>3.51</td>\n",
       "      <td>0.56</td>\n",
       "      <td>9.4</td>\n",
       "      <td>5</td>\n",
       "      <td>0</td>\n",
       "      <td>red</td>\n",
       "      <td>[7.4, 0.7, 0.0, 1.9, 0.076, 11.0, 34.0, 0.9978...</td>\n",
       "    </tr>\n",
       "    <tr>\n",
       "      <th>1</th>\n",
       "      <td>7.8</td>\n",
       "      <td>0.88</td>\n",
       "      <td>0.00</td>\n",
       "      <td>2.6</td>\n",
       "      <td>0.098</td>\n",
       "      <td>25.0</td>\n",
       "      <td>67.0</td>\n",
       "      <td>0.9968</td>\n",
       "      <td>3.20</td>\n",
       "      <td>0.68</td>\n",
       "      <td>9.8</td>\n",
       "      <td>5</td>\n",
       "      <td>0</td>\n",
       "      <td>red</td>\n",
       "      <td>[7.8, 0.88, 0.0, 2.6, 0.098, 25.0, 67.0, 0.996...</td>\n",
       "    </tr>\n",
       "    <tr>\n",
       "      <th>2</th>\n",
       "      <td>7.8</td>\n",
       "      <td>0.76</td>\n",
       "      <td>0.04</td>\n",
       "      <td>2.3</td>\n",
       "      <td>0.092</td>\n",
       "      <td>15.0</td>\n",
       "      <td>54.0</td>\n",
       "      <td>0.9970</td>\n",
       "      <td>3.26</td>\n",
       "      <td>0.65</td>\n",
       "      <td>9.8</td>\n",
       "      <td>5</td>\n",
       "      <td>0</td>\n",
       "      <td>red</td>\n",
       "      <td>[7.8, 0.76, 0.04, 2.3, 0.092, 15.0, 54.0, 0.99...</td>\n",
       "    </tr>\n",
       "    <tr>\n",
       "      <th>3</th>\n",
       "      <td>11.2</td>\n",
       "      <td>0.28</td>\n",
       "      <td>0.56</td>\n",
       "      <td>1.9</td>\n",
       "      <td>0.075</td>\n",
       "      <td>17.0</td>\n",
       "      <td>60.0</td>\n",
       "      <td>0.9980</td>\n",
       "      <td>3.16</td>\n",
       "      <td>0.58</td>\n",
       "      <td>9.8</td>\n",
       "      <td>6</td>\n",
       "      <td>0</td>\n",
       "      <td>red</td>\n",
       "      <td>[11.2, 0.28, 0.56, 1.9, 0.075, 17.0, 60.0, 0.9...</td>\n",
       "    </tr>\n",
       "    <tr>\n",
       "      <th>4</th>\n",
       "      <td>7.4</td>\n",
       "      <td>0.70</td>\n",
       "      <td>0.00</td>\n",
       "      <td>1.9</td>\n",
       "      <td>0.076</td>\n",
       "      <td>11.0</td>\n",
       "      <td>34.0</td>\n",
       "      <td>0.9978</td>\n",
       "      <td>3.51</td>\n",
       "      <td>0.56</td>\n",
       "      <td>9.4</td>\n",
       "      <td>5</td>\n",
       "      <td>0</td>\n",
       "      <td>red</td>\n",
       "      <td>[7.4, 0.7, 0.0, 1.9, 0.076, 11.0, 34.0, 0.9978...</td>\n",
       "    </tr>\n",
       "  </tbody>\n",
       "</table>\n",
       "</div>"
      ],
      "text/plain": [
       "   fixed acidity  volatile acidity  citric acid  residual sugar  chlorides  \\\n",
       "0            7.4              0.70         0.00             1.9      0.076   \n",
       "1            7.8              0.88         0.00             2.6      0.098   \n",
       "2            7.8              0.76         0.04             2.3      0.092   \n",
       "3           11.2              0.28         0.56             1.9      0.075   \n",
       "4            7.4              0.70         0.00             1.9      0.076   \n",
       "\n",
       "   free sulfur dioxide  total sulfur dioxide  density    pH  sulphates  \\\n",
       "0                 11.0                  34.0   0.9978  3.51       0.56   \n",
       "1                 25.0                  67.0   0.9968  3.20       0.68   \n",
       "2                 15.0                  54.0   0.9970  3.26       0.65   \n",
       "3                 17.0                  60.0   0.9980  3.16       0.58   \n",
       "4                 11.0                  34.0   0.9978  3.51       0.56   \n",
       "\n",
       "   alcohol  quality  good color  \\\n",
       "0      9.4        5     0   red   \n",
       "1      9.8        5     0   red   \n",
       "2      9.8        5     0   red   \n",
       "3      9.8        6     0   red   \n",
       "4      9.4        5     0   red   \n",
       "\n",
       "                                            features  \n",
       "0  [7.4, 0.7, 0.0, 1.9, 0.076, 11.0, 34.0, 0.9978...  \n",
       "1  [7.8, 0.88, 0.0, 2.6, 0.098, 25.0, 67.0, 0.996...  \n",
       "2  [7.8, 0.76, 0.04, 2.3, 0.092, 15.0, 54.0, 0.99...  \n",
       "3  [11.2, 0.28, 0.56, 1.9, 0.075, 17.0, 60.0, 0.9...  \n",
       "4  [7.4, 0.7, 0.0, 1.9, 0.076, 11.0, 34.0, 0.9978...  "
      ]
     },
     "execution_count": 8,
     "metadata": {},
     "output_type": "execute_result"
    }
   ],
   "source": [
    "#create input vector\n",
    "features_column = num[0:-2]\n",
    "\n",
    "assembler = (VectorAssembler()\n",
    "  .setInputCols(features_column)\n",
    "  .setOutputCol(\"features\"))\n",
    "\n",
    "finalPrep = assembler.transform(df)\n",
    "#finalPrep.show(n=1, truncate=False, vertical=True)\n",
    "finalPrep.limit(5).toPandas()"
   ]
  },
  {
   "cell_type": "code",
   "execution_count": 9,
   "metadata": {},
   "outputs": [
    {
     "name": "stdout",
     "output_type": "stream",
     "text": [
      "4600\n",
      "1897\n"
     ]
    }
   ],
   "source": [
    "#split in training and testing datasets\n",
    "training, test = finalPrep.randomSplit([0.7, 0.3])\n",
    "# Going to cache the data  \n",
    "training.cache()\n",
    "test.cache()\n",
    "print(training.count())\n",
    "print(test.count())"
   ]
  },
  {
   "cell_type": "markdown",
   "metadata": {},
   "source": [
    "### Data preparation for machine learning - Red only"
   ]
  },
  {
   "cell_type": "code",
   "execution_count": 10,
   "metadata": {},
   "outputs": [
    {
     "data": {
      "text/html": [
       "<div>\n",
       "<style scoped>\n",
       "    .dataframe tbody tr th:only-of-type {\n",
       "        vertical-align: middle;\n",
       "    }\n",
       "\n",
       "    .dataframe tbody tr th {\n",
       "        vertical-align: top;\n",
       "    }\n",
       "\n",
       "    .dataframe thead th {\n",
       "        text-align: right;\n",
       "    }\n",
       "</style>\n",
       "<table border=\"1\" class=\"dataframe\">\n",
       "  <thead>\n",
       "    <tr style=\"text-align: right;\">\n",
       "      <th></th>\n",
       "      <th>fixed acidity</th>\n",
       "      <th>volatile acidity</th>\n",
       "      <th>citric acid</th>\n",
       "      <th>residual sugar</th>\n",
       "      <th>chlorides</th>\n",
       "      <th>free sulfur dioxide</th>\n",
       "      <th>total sulfur dioxide</th>\n",
       "      <th>density</th>\n",
       "      <th>pH</th>\n",
       "      <th>sulphates</th>\n",
       "      <th>alcohol</th>\n",
       "      <th>quality</th>\n",
       "      <th>good</th>\n",
       "      <th>color</th>\n",
       "      <th>features</th>\n",
       "    </tr>\n",
       "  </thead>\n",
       "  <tbody>\n",
       "    <tr>\n",
       "      <th>0</th>\n",
       "      <td>7.4</td>\n",
       "      <td>0.70</td>\n",
       "      <td>0.00</td>\n",
       "      <td>1.9</td>\n",
       "      <td>0.076</td>\n",
       "      <td>11.0</td>\n",
       "      <td>34.0</td>\n",
       "      <td>0.9978</td>\n",
       "      <td>3.51</td>\n",
       "      <td>0.56</td>\n",
       "      <td>9.4</td>\n",
       "      <td>5</td>\n",
       "      <td>0</td>\n",
       "      <td>red</td>\n",
       "      <td>[7.4, 0.7, 0.0, 1.9, 0.076, 11.0, 34.0, 0.9978...</td>\n",
       "    </tr>\n",
       "    <tr>\n",
       "      <th>1</th>\n",
       "      <td>7.8</td>\n",
       "      <td>0.88</td>\n",
       "      <td>0.00</td>\n",
       "      <td>2.6</td>\n",
       "      <td>0.098</td>\n",
       "      <td>25.0</td>\n",
       "      <td>67.0</td>\n",
       "      <td>0.9968</td>\n",
       "      <td>3.20</td>\n",
       "      <td>0.68</td>\n",
       "      <td>9.8</td>\n",
       "      <td>5</td>\n",
       "      <td>0</td>\n",
       "      <td>red</td>\n",
       "      <td>[7.8, 0.88, 0.0, 2.6, 0.098, 25.0, 67.0, 0.996...</td>\n",
       "    </tr>\n",
       "    <tr>\n",
       "      <th>2</th>\n",
       "      <td>7.8</td>\n",
       "      <td>0.76</td>\n",
       "      <td>0.04</td>\n",
       "      <td>2.3</td>\n",
       "      <td>0.092</td>\n",
       "      <td>15.0</td>\n",
       "      <td>54.0</td>\n",
       "      <td>0.9970</td>\n",
       "      <td>3.26</td>\n",
       "      <td>0.65</td>\n",
       "      <td>9.8</td>\n",
       "      <td>5</td>\n",
       "      <td>0</td>\n",
       "      <td>red</td>\n",
       "      <td>[7.8, 0.76, 0.04, 2.3, 0.092, 15.0, 54.0, 0.99...</td>\n",
       "    </tr>\n",
       "    <tr>\n",
       "      <th>3</th>\n",
       "      <td>11.2</td>\n",
       "      <td>0.28</td>\n",
       "      <td>0.56</td>\n",
       "      <td>1.9</td>\n",
       "      <td>0.075</td>\n",
       "      <td>17.0</td>\n",
       "      <td>60.0</td>\n",
       "      <td>0.9980</td>\n",
       "      <td>3.16</td>\n",
       "      <td>0.58</td>\n",
       "      <td>9.8</td>\n",
       "      <td>6</td>\n",
       "      <td>0</td>\n",
       "      <td>red</td>\n",
       "      <td>[11.2, 0.28, 0.56, 1.9, 0.075, 17.0, 60.0, 0.9...</td>\n",
       "    </tr>\n",
       "    <tr>\n",
       "      <th>4</th>\n",
       "      <td>7.4</td>\n",
       "      <td>0.70</td>\n",
       "      <td>0.00</td>\n",
       "      <td>1.9</td>\n",
       "      <td>0.076</td>\n",
       "      <td>11.0</td>\n",
       "      <td>34.0</td>\n",
       "      <td>0.9978</td>\n",
       "      <td>3.51</td>\n",
       "      <td>0.56</td>\n",
       "      <td>9.4</td>\n",
       "      <td>5</td>\n",
       "      <td>0</td>\n",
       "      <td>red</td>\n",
       "      <td>[7.4, 0.7, 0.0, 1.9, 0.076, 11.0, 34.0, 0.9978...</td>\n",
       "    </tr>\n",
       "  </tbody>\n",
       "</table>\n",
       "</div>"
      ],
      "text/plain": [
       "   fixed acidity  volatile acidity  citric acid  residual sugar  chlorides  \\\n",
       "0            7.4              0.70         0.00             1.9      0.076   \n",
       "1            7.8              0.88         0.00             2.6      0.098   \n",
       "2            7.8              0.76         0.04             2.3      0.092   \n",
       "3           11.2              0.28         0.56             1.9      0.075   \n",
       "4            7.4              0.70         0.00             1.9      0.076   \n",
       "\n",
       "   free sulfur dioxide  total sulfur dioxide  density    pH  sulphates  \\\n",
       "0                 11.0                  34.0   0.9978  3.51       0.56   \n",
       "1                 25.0                  67.0   0.9968  3.20       0.68   \n",
       "2                 15.0                  54.0   0.9970  3.26       0.65   \n",
       "3                 17.0                  60.0   0.9980  3.16       0.58   \n",
       "4                 11.0                  34.0   0.9978  3.51       0.56   \n",
       "\n",
       "   alcohol  quality  good color  \\\n",
       "0      9.4        5     0   red   \n",
       "1      9.8        5     0   red   \n",
       "2      9.8        5     0   red   \n",
       "3      9.8        6     0   red   \n",
       "4      9.4        5     0   red   \n",
       "\n",
       "                                            features  \n",
       "0  [7.4, 0.7, 0.0, 1.9, 0.076, 11.0, 34.0, 0.9978...  \n",
       "1  [7.8, 0.88, 0.0, 2.6, 0.098, 25.0, 67.0, 0.996...  \n",
       "2  [7.8, 0.76, 0.04, 2.3, 0.092, 15.0, 54.0, 0.99...  \n",
       "3  [11.2, 0.28, 0.56, 1.9, 0.075, 17.0, 60.0, 0.9...  \n",
       "4  [7.4, 0.7, 0.0, 1.9, 0.076, 11.0, 34.0, 0.9978...  "
      ]
     },
     "execution_count": 10,
     "metadata": {},
     "output_type": "execute_result"
    }
   ],
   "source": [
    "#create input vector\n",
    "features_column = num[0:-2]\n",
    "\n",
    "assembler_red = (VectorAssembler()\n",
    "  .setInputCols(features_column)\n",
    "  .setOutputCol(\"features\"))\n",
    "\n",
    "finalPrep_red = assembler_red.transform(df_red)\n",
    "#finalPrep_red.show(n=1, truncate=False, vertical=True)\n",
    "finalPrep_red.limit(5).toPandas()"
   ]
  },
  {
   "cell_type": "code",
   "execution_count": 11,
   "metadata": {},
   "outputs": [
    {
     "name": "stdout",
     "output_type": "stream",
     "text": [
      "1119\n",
      "480\n"
     ]
    }
   ],
   "source": [
    "#split in training and testing datasets\n",
    "training_red, test_red = finalPrep_red.randomSplit([0.7, 0.3])\n",
    "# Going to cache the data  \n",
    "training_red.cache()\n",
    "test_red.cache()\n",
    "print(training_red.count())\n",
    "print(test_red.count())"
   ]
  },
  {
   "cell_type": "markdown",
   "metadata": {},
   "source": [
    "### Data preparation for machine learning - White only"
   ]
  },
  {
   "cell_type": "code",
   "execution_count": 12,
   "metadata": {},
   "outputs": [
    {
     "data": {
      "text/html": [
       "<div>\n",
       "<style scoped>\n",
       "    .dataframe tbody tr th:only-of-type {\n",
       "        vertical-align: middle;\n",
       "    }\n",
       "\n",
       "    .dataframe tbody tr th {\n",
       "        vertical-align: top;\n",
       "    }\n",
       "\n",
       "    .dataframe thead th {\n",
       "        text-align: right;\n",
       "    }\n",
       "</style>\n",
       "<table border=\"1\" class=\"dataframe\">\n",
       "  <thead>\n",
       "    <tr style=\"text-align: right;\">\n",
       "      <th></th>\n",
       "      <th>fixed acidity</th>\n",
       "      <th>volatile acidity</th>\n",
       "      <th>citric acid</th>\n",
       "      <th>residual sugar</th>\n",
       "      <th>chlorides</th>\n",
       "      <th>free sulfur dioxide</th>\n",
       "      <th>total sulfur dioxide</th>\n",
       "      <th>density</th>\n",
       "      <th>pH</th>\n",
       "      <th>sulphates</th>\n",
       "      <th>alcohol</th>\n",
       "      <th>quality</th>\n",
       "      <th>good</th>\n",
       "      <th>color</th>\n",
       "      <th>features</th>\n",
       "    </tr>\n",
       "  </thead>\n",
       "  <tbody>\n",
       "    <tr>\n",
       "      <th>0</th>\n",
       "      <td>7.0</td>\n",
       "      <td>0.27</td>\n",
       "      <td>0.36</td>\n",
       "      <td>20.7</td>\n",
       "      <td>0.045</td>\n",
       "      <td>45.0</td>\n",
       "      <td>170.0</td>\n",
       "      <td>1.0010</td>\n",
       "      <td>3.00</td>\n",
       "      <td>0.45</td>\n",
       "      <td>8.8</td>\n",
       "      <td>6</td>\n",
       "      <td>0</td>\n",
       "      <td>white</td>\n",
       "      <td>[7.0, 0.27, 0.36, 20.7, 0.045, 45.0, 170.0, 1....</td>\n",
       "    </tr>\n",
       "    <tr>\n",
       "      <th>1</th>\n",
       "      <td>6.3</td>\n",
       "      <td>0.30</td>\n",
       "      <td>0.34</td>\n",
       "      <td>1.6</td>\n",
       "      <td>0.049</td>\n",
       "      <td>14.0</td>\n",
       "      <td>132.0</td>\n",
       "      <td>0.9940</td>\n",
       "      <td>3.30</td>\n",
       "      <td>0.49</td>\n",
       "      <td>9.5</td>\n",
       "      <td>6</td>\n",
       "      <td>0</td>\n",
       "      <td>white</td>\n",
       "      <td>[6.3, 0.3, 0.34, 1.6, 0.049, 14.0, 132.0, 0.99...</td>\n",
       "    </tr>\n",
       "    <tr>\n",
       "      <th>2</th>\n",
       "      <td>8.1</td>\n",
       "      <td>0.28</td>\n",
       "      <td>0.40</td>\n",
       "      <td>6.9</td>\n",
       "      <td>0.050</td>\n",
       "      <td>30.0</td>\n",
       "      <td>97.0</td>\n",
       "      <td>0.9951</td>\n",
       "      <td>3.26</td>\n",
       "      <td>0.44</td>\n",
       "      <td>10.1</td>\n",
       "      <td>6</td>\n",
       "      <td>0</td>\n",
       "      <td>white</td>\n",
       "      <td>[8.1, 0.28, 0.4, 6.9, 0.05, 30.0, 97.0, 0.9951...</td>\n",
       "    </tr>\n",
       "    <tr>\n",
       "      <th>3</th>\n",
       "      <td>7.2</td>\n",
       "      <td>0.23</td>\n",
       "      <td>0.32</td>\n",
       "      <td>8.5</td>\n",
       "      <td>0.058</td>\n",
       "      <td>47.0</td>\n",
       "      <td>186.0</td>\n",
       "      <td>0.9956</td>\n",
       "      <td>3.19</td>\n",
       "      <td>0.40</td>\n",
       "      <td>9.9</td>\n",
       "      <td>6</td>\n",
       "      <td>0</td>\n",
       "      <td>white</td>\n",
       "      <td>[7.2, 0.23, 0.32, 8.5, 0.058, 47.0, 186.0, 0.9...</td>\n",
       "    </tr>\n",
       "    <tr>\n",
       "      <th>4</th>\n",
       "      <td>7.2</td>\n",
       "      <td>0.23</td>\n",
       "      <td>0.32</td>\n",
       "      <td>8.5</td>\n",
       "      <td>0.058</td>\n",
       "      <td>47.0</td>\n",
       "      <td>186.0</td>\n",
       "      <td>0.9956</td>\n",
       "      <td>3.19</td>\n",
       "      <td>0.40</td>\n",
       "      <td>9.9</td>\n",
       "      <td>6</td>\n",
       "      <td>0</td>\n",
       "      <td>white</td>\n",
       "      <td>[7.2, 0.23, 0.32, 8.5, 0.058, 47.0, 186.0, 0.9...</td>\n",
       "    </tr>\n",
       "  </tbody>\n",
       "</table>\n",
       "</div>"
      ],
      "text/plain": [
       "   fixed acidity  volatile acidity  citric acid  residual sugar  chlorides  \\\n",
       "0            7.0              0.27         0.36            20.7      0.045   \n",
       "1            6.3              0.30         0.34             1.6      0.049   \n",
       "2            8.1              0.28         0.40             6.9      0.050   \n",
       "3            7.2              0.23         0.32             8.5      0.058   \n",
       "4            7.2              0.23         0.32             8.5      0.058   \n",
       "\n",
       "   free sulfur dioxide  total sulfur dioxide  density    pH  sulphates  \\\n",
       "0                 45.0                 170.0   1.0010  3.00       0.45   \n",
       "1                 14.0                 132.0   0.9940  3.30       0.49   \n",
       "2                 30.0                  97.0   0.9951  3.26       0.44   \n",
       "3                 47.0                 186.0   0.9956  3.19       0.40   \n",
       "4                 47.0                 186.0   0.9956  3.19       0.40   \n",
       "\n",
       "   alcohol  quality  good  color  \\\n",
       "0      8.8        6     0  white   \n",
       "1      9.5        6     0  white   \n",
       "2     10.1        6     0  white   \n",
       "3      9.9        6     0  white   \n",
       "4      9.9        6     0  white   \n",
       "\n",
       "                                            features  \n",
       "0  [7.0, 0.27, 0.36, 20.7, 0.045, 45.0, 170.0, 1....  \n",
       "1  [6.3, 0.3, 0.34, 1.6, 0.049, 14.0, 132.0, 0.99...  \n",
       "2  [8.1, 0.28, 0.4, 6.9, 0.05, 30.0, 97.0, 0.9951...  \n",
       "3  [7.2, 0.23, 0.32, 8.5, 0.058, 47.0, 186.0, 0.9...  \n",
       "4  [7.2, 0.23, 0.32, 8.5, 0.058, 47.0, 186.0, 0.9...  "
      ]
     },
     "execution_count": 12,
     "metadata": {},
     "output_type": "execute_result"
    }
   ],
   "source": [
    "#create input vector\n",
    "features_column = num[0:-2]\n",
    "\n",
    "assembler_white = (VectorAssembler()\n",
    "  .setInputCols(features_column)\n",
    "  .setOutputCol(\"features\"))\n",
    "\n",
    "finalPrep_white = assembler_red.transform(df_white)\n",
    "#finalPrep_red.show(n=1, truncate=False, vertical=True)\n",
    "finalPrep_white.limit(5).toPandas()"
   ]
  },
  {
   "cell_type": "code",
   "execution_count": 13,
   "metadata": {},
   "outputs": [
    {
     "name": "stdout",
     "output_type": "stream",
     "text": [
      "3431\n",
      "1467\n"
     ]
    }
   ],
   "source": [
    "#split in training and testing datasets\n",
    "training_white, test_white = finalPrep_white.randomSplit([0.7, 0.3])\n",
    "# Going to cache the data  \n",
    "training_white.cache()\n",
    "test_white.cache()\n",
    "print(training_white.count())\n",
    "print(test_white.count())"
   ]
  },
  {
   "cell_type": "markdown",
   "metadata": {},
   "source": [
    "### Encode Wine type and include in the model"
   ]
  },
  {
   "cell_type": "code",
   "execution_count": 14,
   "metadata": {},
   "outputs": [
    {
     "data": {
      "text/plain": [
       "['color']"
      ]
     },
     "execution_count": 14,
     "metadata": {},
     "output_type": "execute_result"
    }
   ],
   "source": [
    "cat"
   ]
  },
  {
   "cell_type": "code",
   "execution_count": 15,
   "metadata": {},
   "outputs": [],
   "source": [
    "#convert cat data into INT\n",
    "\n",
    "#define a list of stages in your pipeline. The string indexer will be one stage\n",
    "stages = []\n",
    "\n",
    "#iterate through all categorical values\n",
    "for categoricalCol in cat:\n",
    "    #create a string indexer for those categorical values and assign a new name including the word 'Index'\n",
    "    stringIndexer = StringIndexer(inputCol = categoricalCol, outputCol = categoricalCol + 'Index')\n",
    "\n",
    "    #append the string Indexer to our list of stages\n",
    "    stages += [stringIndexer]\n",
    "\n",
    "#Create the pipeline. Assign the satges list to the pipeline key word stages\n",
    "pipeline = Pipeline(stages = stages)\n",
    "#fit the pipeline to our dataframe\n",
    "pipelineModel = pipeline.fit(df)\n",
    "#transform the dataframe\n",
    "df_enc= pipelineModel.transform(df)"
   ]
  },
  {
   "cell_type": "code",
   "execution_count": 16,
   "metadata": {},
   "outputs": [
    {
     "name": "stdout",
     "output_type": "stream",
     "text": [
      "-RECORD 0----------------------\n",
      " fixed acidity        | 7.4    \n",
      " volatile acidity     | 0.7    \n",
      " citric acid          | 0.0    \n",
      " residual sugar       | 1.9    \n",
      " chlorides            | 0.076  \n",
      " free sulfur dioxide  | 11.0   \n",
      " total sulfur dioxide | 34.0   \n",
      " density              | 0.9978 \n",
      " pH                   | 3.51   \n",
      " sulphates            | 0.56   \n",
      " alcohol              | 9.4    \n",
      " quality              | 5      \n",
      " good                 | 0      \n",
      " color                | red    \n",
      " colorIndex           | 1.0    \n",
      "-RECORD 1----------------------\n",
      " fixed acidity        | 7.8    \n",
      " volatile acidity     | 0.88   \n",
      " citric acid          | 0.0    \n",
      " residual sugar       | 2.6    \n",
      " chlorides            | 0.098  \n",
      " free sulfur dioxide  | 25.0   \n",
      " total sulfur dioxide | 67.0   \n",
      " density              | 0.9968 \n",
      " pH                   | 3.2    \n",
      " sulphates            | 0.68   \n",
      " alcohol              | 9.8    \n",
      " quality              | 5      \n",
      " good                 | 0      \n",
      " color                | red    \n",
      " colorIndex           | 1.0    \n",
      "only showing top 2 rows\n",
      "\n"
     ]
    }
   ],
   "source": [
    "df_enc.show(n=2, truncate=False, vertical=True)"
   ]
  },
  {
   "cell_type": "code",
   "execution_count": 17,
   "metadata": {},
   "outputs": [
    {
     "data": {
      "text/plain": [
       "['fixed acidity',\n",
       " 'volatile acidity',\n",
       " 'citric acid',\n",
       " 'residual sugar',\n",
       " 'chlorides',\n",
       " 'free sulfur dioxide',\n",
       " 'total sulfur dioxide',\n",
       " 'density',\n",
       " 'pH',\n",
       " 'sulphates',\n",
       " 'alcohol',\n",
       " 'colorIndex']"
      ]
     },
     "execution_count": 17,
     "metadata": {},
     "output_type": "execute_result"
    }
   ],
   "source": [
    "num_enc = ['fixed acidity', 'volatile acidity', 'citric acid', 'residual sugar', 'chlorides', 'free sulfur dioxide', 'total sulfur dioxide', 'density', 'pH', 'sulphates', 'alcohol', 'colorIndex']\n",
    "num_enc"
   ]
  },
  {
   "cell_type": "code",
   "execution_count": 18,
   "metadata": {},
   "outputs": [
    {
     "name": "stdout",
     "output_type": "stream",
     "text": [
      "-RECORD 0--------------------------------------------------------------------------\n",
      " fixed acidity        | 7.4                                                        \n",
      " volatile acidity     | 0.7                                                        \n",
      " citric acid          | 0.0                                                        \n",
      " residual sugar       | 1.9                                                        \n",
      " chlorides            | 0.076                                                      \n",
      " free sulfur dioxide  | 11.0                                                       \n",
      " total sulfur dioxide | 34.0                                                       \n",
      " density              | 0.9978                                                     \n",
      " pH                   | 3.51                                                       \n",
      " sulphates            | 0.56                                                       \n",
      " alcohol              | 9.4                                                        \n",
      " quality              | 5                                                          \n",
      " good                 | 0                                                          \n",
      " color                | red                                                        \n",
      " colorIndex           | 1.0                                                        \n",
      " features             | [7.4,0.7,0.0,1.9,0.076,11.0,34.0,0.9978,3.51,0.56,9.4,1.0] \n",
      "only showing top 1 row\n",
      "\n"
     ]
    }
   ],
   "source": [
    "#create input vector\n",
    "features_column = num_enc\n",
    "\n",
    "assembler = (VectorAssembler()\n",
    "  .setInputCols(features_column)\n",
    "  .setOutputCol(\"features\"))\n",
    "\n",
    "finalPrep = assembler.transform(df_enc)\n",
    "finalPrep.show(n=1, truncate=False, vertical=True)"
   ]
  },
  {
   "cell_type": "code",
   "execution_count": 19,
   "metadata": {},
   "outputs": [
    {
     "name": "stdout",
     "output_type": "stream",
     "text": [
      "4545\n",
      "1952\n"
     ]
    }
   ],
   "source": [
    "#split in training and testing datasets\n",
    "training_enc, test_enc = finalPrep.randomSplit([0.7, 0.3])\n",
    "# Going to cache the data  \n",
    "training_enc.cache()\n",
    "test_enc.cache()\n",
    "print(training_enc.count())\n",
    "print(test_enc.count())"
   ]
  },
  {
   "cell_type": "markdown",
   "metadata": {},
   "source": [
    "# Linear Support Vector Machine"
   ]
  },
  {
   "cell_type": "code",
   "execution_count": 20,
   "metadata": {},
   "outputs": [],
   "source": [
    "from pyspark.ml.classification import LinearSVC"
   ]
  },
  {
   "cell_type": "code",
   "execution_count": 21,
   "metadata": {},
   "outputs": [],
   "source": [
    "def LSVMClassifer(training, test):\n",
    "    model = (LinearSVC()\n",
    "      .setLabelCol(\"good\")\n",
    "      .setFeaturesCol(\"features\"))\n",
    "    paramGrid = (ParamGridBuilder()\n",
    "      .addGrid(model.maxIter, [10])\n",
    "      .addGrid(model.regParam, [0.1])\n",
    "      .build())\n",
    "\n",
    "    stages = [model] \n",
    "    pipeline = Pipeline().setStages(stages)\n",
    "    \n",
    "    cv = (CrossValidator() # you can feel free to change the number of folds used in cross validation as well\n",
    "      .setEstimator(pipeline) # the estimator can also just be an individual model rather than a pipeline\n",
    "      .setEstimatorParamMaps(paramGrid)\n",
    "      .setEvaluator(BinaryClassificationEvaluator().setLabelCol(\"good\")))\n",
    "    \n",
    "    pipelineFitted = cv.fit(training)\n",
    "    \n",
    "    print(\"The Best Parameters:\\n--------------------\")\n",
    "    print(pipelineFitted.bestModel.stages[0])      \n",
    "    pipelineFitted.bestModel.stages[0].extractParamMap()\n",
    "    \n",
    "    test_predict = pipelineFitted.bestModel.transform(test).selectExpr(\"double(round(prediction)) as prediction\",\"double(round(good)) as good\")\n",
    "    display(test_predict.show(3))\n",
    "    \n",
    "    return test_predict"
   ]
  },
  {
   "cell_type": "code",
   "execution_count": 22,
   "metadata": {},
   "outputs": [],
   "source": [
    "def ConfMatrix(test_predict):\n",
    "        #collect prediction and true value\n",
    "    y_true = test_predict.select(['good']).collect()\n",
    "    y_pred = test_predict.select(['prediction']).collect()\n",
    "\n",
    "    #classification report\n",
    "    print(classification_report(y_true, y_pred))\n",
    "    \n",
    "    #confusion matrix \n",
    "\n",
    "    cm = confusion_matrix(y_true, y_pred)\n",
    "    sns.heatmap(cm, annot=True, fmt='d')\n",
    "    plt.show()"
   ]
  },
  {
   "cell_type": "code",
   "execution_count": 23,
   "metadata": {},
   "outputs": [],
   "source": [
    "def Evaluation(test_predict):\n",
    "    acc = test_predict.selectExpr(\"prediction\", \"good\",\n",
    "                        \"\"\"\n",
    "                        CASE prediction = good\n",
    "                        WHEN true then 1\n",
    "                        ELSE 0\n",
    "                        END as equal\n",
    "                        \"\"\")\n",
    "        \n",
    "    print(acc.selectExpr(\"sum(equal)/sum(1)\").show())\n",
    "\n",
    "    # Another way to evaluate error\n",
    "    evaluator = MulticlassClassificationEvaluator(labelCol=\"good\", predictionCol=\"prediction\", metricName=\"accuracy\")\n",
    "    \n",
    "    accuracy = evaluator.evaluate(test_predict)\n",
    "    print(\"Test Error = %g\" % (1.0 - accuracy))\n",
    "    \n",
    "    ConfMatrix(test_predict)"
   ]
  },
  {
   "cell_type": "markdown",
   "metadata": {},
   "source": [
    "### Linear Support Vector Machine - all wine"
   ]
  },
  {
   "cell_type": "code",
   "execution_count": 26,
   "metadata": {},
   "outputs": [
    {
     "name": "stdout",
     "output_type": "stream",
     "text": [
      "The Best Parameters:\n",
      "--------------------\n",
      "LinearSVCModel: uid=LinearSVC_f86653439099, numClasses=2, numFeatures=12\n",
      "+----------+----+\n",
      "|prediction|good|\n",
      "+----------+----+\n",
      "|       0.0| 1.0|\n",
      "|       0.0| 0.0|\n",
      "|       0.0| 0.0|\n",
      "+----------+----+\n",
      "only showing top 3 rows\n",
      "\n"
     ]
    },
    {
     "data": {
      "text/plain": [
       "None"
      ]
     },
     "metadata": {},
     "output_type": "display_data"
    },
    {
     "name": "stdout",
     "output_type": "stream",
     "text": [
      "+---------------------+\n",
      "|(sum(equal) / sum(1))|\n",
      "+---------------------+\n",
      "|   0.8002049180327869|\n",
      "+---------------------+\n",
      "\n",
      "None\n",
      "Test Error = 0.199795\n"
     ]
    },
    {
     "name": "stderr",
     "output_type": "stream",
     "text": [
      "/home/ubuntu/.local/lib/python3.8/site-packages/sklearn/metrics/_classification.py:1221: UndefinedMetricWarning: Precision and F-score are ill-defined and being set to 0.0 in labels with no predicted samples. Use `zero_division` parameter to control this behavior.\n",
      "  _warn_prf(average, modifier, msg_start, len(result))\n"
     ]
    },
    {
     "name": "stdout",
     "output_type": "stream",
     "text": [
      "              precision    recall  f1-score   support\n",
      "\n",
      "         0.0       0.80      1.00      0.89      1562\n",
      "         1.0       0.00      0.00      0.00       390\n",
      "\n",
      "    accuracy                           0.80      1952\n",
      "   macro avg       0.40      0.50      0.44      1952\n",
      "weighted avg       0.64      0.80      0.71      1952\n",
      "\n"
     ]
    },
    {
     "data": {
      "image/png": "[encoded data removed]",
      "text/plain": [
       "<Figure size 432x288 with 2 Axes>"
      ]
     },
     "metadata": {
      "needs_background": "light"
     },
     "output_type": "display_data"
    }
   ],
   "source": [
    "test_predict = LSVMClassifer(training_enc, test_enc)\n",
    "Evaluation(test_predict)"
   ]
  },
  {
   "cell_type": "markdown",
   "metadata": {},
   "source": [
    "### Linear Support Vector Machine - red wine"
   ]
  },
  {
   "cell_type": "code",
   "execution_count": 27,
   "metadata": {},
   "outputs": [
    {
     "name": "stdout",
     "output_type": "stream",
     "text": [
      "The Best Parameters:\n",
      "--------------------\n",
      "LinearSVCModel: uid=LinearSVC_1e2a6fb6d976, numClasses=2, numFeatures=11\n",
      "+----------+----+\n",
      "|prediction|good|\n",
      "+----------+----+\n",
      "|       0.0| 0.0|\n",
      "|       0.0| 1.0|\n",
      "|       0.0| 1.0|\n",
      "+----------+----+\n",
      "only showing top 3 rows\n",
      "\n"
     ]
    },
    {
     "data": {
      "text/plain": [
       "None"
      ]
     },
     "metadata": {},
     "output_type": "display_data"
    },
    {
     "name": "stdout",
     "output_type": "stream",
     "text": [
      "+---------------------+\n",
      "|(sum(equal) / sum(1))|\n",
      "+---------------------+\n",
      "|   0.8604166666666667|\n",
      "+---------------------+\n",
      "\n",
      "None\n",
      "Test Error = 0.139583\n",
      "              precision    recall  f1-score   support\n",
      "\n",
      "         0.0       0.86      1.00      0.92       413\n",
      "         1.0       0.00      0.00      0.00        67\n",
      "\n",
      "    accuracy                           0.86       480\n",
      "   macro avg       0.43      0.50      0.46       480\n",
      "weighted avg       0.74      0.86      0.80       480\n",
      "\n"
     ]
    },
    {
     "data": {
      "image/png": "[encoded data removed]",
      "text/plain": [
       "<Figure size 432x288 with 2 Axes>"
      ]
     },
     "metadata": {
      "needs_background": "light"
     },
     "output_type": "display_data"
    }
   ],
   "source": [
    "test_predict = LSVMClassifer(training_red, test_red)\n",
    "Evaluation(test_predict)"
   ]
  },
  {
   "cell_type": "markdown",
   "metadata": {},
   "source": [
    "### Linear Support Vector Machine - whte wine"
   ]
  },
  {
   "cell_type": "code",
   "execution_count": 28,
   "metadata": {},
   "outputs": [
    {
     "name": "stdout",
     "output_type": "stream",
     "text": [
      "The Best Parameters:\n",
      "--------------------\n",
      "LinearSVCModel: uid=LinearSVC_7647709c6f45, numClasses=2, numFeatures=11\n",
      "+----------+----+\n",
      "|prediction|good|\n",
      "+----------+----+\n",
      "|       0.0| 1.0|\n",
      "|       0.0| 1.0|\n",
      "|       0.0| 0.0|\n",
      "+----------+----+\n",
      "only showing top 3 rows\n",
      "\n"
     ]
    },
    {
     "data": {
      "text/plain": [
       "None"
      ]
     },
     "metadata": {},
     "output_type": "display_data"
    },
    {
     "name": "stdout",
     "output_type": "stream",
     "text": [
      "+---------------------+\n",
      "|(sum(equal) / sum(1))|\n",
      "+---------------------+\n",
      "|   0.7791411042944786|\n",
      "+---------------------+\n",
      "\n",
      "None\n",
      "Test Error = 0.220859\n",
      "              precision    recall  f1-score   support\n",
      "\n",
      "         0.0       0.78      1.00      0.88      1143\n",
      "         1.0       0.00      0.00      0.00       324\n",
      "\n",
      "    accuracy                           0.78      1467\n",
      "   macro avg       0.39      0.50      0.44      1467\n",
      "weighted avg       0.61      0.78      0.68      1467\n",
      "\n"
     ]
    },
    {
     "data": {
      "image/png": "[encoded data removed]",
      "text/plain": [
       "<Figure size 432x288 with 2 Axes>"
      ]
     },
     "metadata": {
      "needs_background": "light"
     },
     "output_type": "display_data"
    }
   ],
   "source": [
    "test_predict = LSVMClassifer(training_white, test_white)\n",
    "Evaluation(test_predict)"
   ]
  },
  {
   "cell_type": "markdown",
   "metadata": {},
   "source": [
    "# Naive Bayes"
   ]
  },
  {
   "cell_type": "code",
   "execution_count": 29,
   "metadata": {},
   "outputs": [],
   "source": [
    "from pyspark.ml.classification import NaiveBayes"
   ]
  },
  {
   "cell_type": "code",
   "execution_count": 30,
   "metadata": {},
   "outputs": [],
   "source": [
    "def NBClassifer(training, test):\n",
    "    model = (NaiveBayes()\n",
    "      .setLabelCol(\"good\")\n",
    "      .setFeaturesCol(\"features\"))\n",
    "    paramGrid = (ParamGridBuilder()\n",
    "      .addGrid(model.smoothing, [0.1])\n",
    "      .addGrid(model.modelType, [\"multinomial\"])\n",
    "      .build())\n",
    "\n",
    "    stages = [model] \n",
    "    pipeline = Pipeline().setStages(stages)\n",
    "    \n",
    "    cv = (CrossValidator() # you can feel free to change the number of folds used in cross validation as well\n",
    "      .setEstimator(pipeline) # the estimator can also just be an individual model rather than a pipeline\n",
    "      .setEstimatorParamMaps(paramGrid)\n",
    "      .setEvaluator(BinaryClassificationEvaluator().setLabelCol(\"good\")))\n",
    "    \n",
    "    pipelineFitted = cv.fit(training)\n",
    "    \n",
    "    print(\"The Best Parameters:\\n--------------------\")\n",
    "    print(pipelineFitted.bestModel.stages[0])      \n",
    "    pipelineFitted.bestModel.stages[0].extractParamMap()\n",
    "    \n",
    "    test_predict = pipelineFitted.bestModel.transform(test).selectExpr(\"double(round(prediction)) as prediction\",\"double(round(good)) as good\")\n",
    "    display(test_predict.show(3))\n",
    "    \n",
    "    return test_predict"
   ]
  },
  {
   "cell_type": "markdown",
   "metadata": {},
   "source": [
    "### Naive Bayes classifier - all wine"
   ]
  },
  {
   "cell_type": "code",
   "execution_count": 31,
   "metadata": {},
   "outputs": [
    {
     "name": "stdout",
     "output_type": "stream",
     "text": [
      "The Best Parameters:\n",
      "--------------------\n",
      "NaiveBayesModel: uid=NaiveBayes_a3ad2d10054a, modelType=multinomial, numClasses=2, numFeatures=12\n",
      "+----------+----+\n",
      "|prediction|good|\n",
      "+----------+----+\n",
      "|       0.0| 1.0|\n",
      "|       0.0| 0.0|\n",
      "|       0.0| 0.0|\n",
      "+----------+----+\n",
      "only showing top 3 rows\n",
      "\n"
     ]
    },
    {
     "data": {
      "text/plain": [
       "None"
      ]
     },
     "metadata": {},
     "output_type": "display_data"
    },
    {
     "name": "stdout",
     "output_type": "stream",
     "text": [
      "+---------------------+\n",
      "|(sum(equal) / sum(1))|\n",
      "+---------------------+\n",
      "|   0.7802254098360656|\n",
      "+---------------------+\n",
      "\n",
      "None\n",
      "Test Error = 0.219775\n",
      "              precision    recall  f1-score   support\n",
      "\n",
      "         0.0       0.81      0.94      0.87      1562\n",
      "         1.0       0.36      0.13      0.20       390\n",
      "\n",
      "    accuracy                           0.78      1952\n",
      "   macro avg       0.59      0.54      0.53      1952\n",
      "weighted avg       0.72      0.78      0.74      1952\n",
      "\n"
     ]
    },
    {
     "data": {
      "image/png": "[encoded data removed]",
      "text/plain": [
       "<Figure size 432x288 with 2 Axes>"
      ]
     },
     "metadata": {
      "needs_background": "light"
     },
     "output_type": "display_data"
    }
   ],
   "source": [
    "test_predict = NBClassifer(training_enc, test_enc)\n",
    "Evaluation(test_predict)"
   ]
  },
  {
   "cell_type": "markdown",
   "metadata": {},
   "source": [
    "### Naive Bayes classifier - red wine"
   ]
  },
  {
   "cell_type": "code",
   "execution_count": 32,
   "metadata": {},
   "outputs": [
    {
     "name": "stdout",
     "output_type": "stream",
     "text": [
      "The Best Parameters:\n",
      "--------------------\n",
      "NaiveBayesModel: uid=NaiveBayes_c03b4c4baaff, modelType=multinomial, numClasses=2, numFeatures=11\n",
      "+----------+----+\n",
      "|prediction|good|\n",
      "+----------+----+\n",
      "|       0.0| 0.0|\n",
      "|       0.0| 1.0|\n",
      "|       0.0| 1.0|\n",
      "+----------+----+\n",
      "only showing top 3 rows\n",
      "\n"
     ]
    },
    {
     "data": {
      "text/plain": [
       "None"
      ]
     },
     "metadata": {},
     "output_type": "display_data"
    },
    {
     "name": "stdout",
     "output_type": "stream",
     "text": [
      "+---------------------+\n",
      "|(sum(equal) / sum(1))|\n",
      "+---------------------+\n",
      "|   0.6583333333333333|\n",
      "+---------------------+\n",
      "\n",
      "None\n",
      "Test Error = 0.341667\n",
      "              precision    recall  f1-score   support\n",
      "\n",
      "         0.0       0.90      0.68      0.77       413\n",
      "         1.0       0.21      0.51      0.29        67\n",
      "\n",
      "    accuracy                           0.66       480\n",
      "   macro avg       0.55      0.60      0.53       480\n",
      "weighted avg       0.80      0.66      0.71       480\n",
      "\n"
     ]
    },
    {
     "data": {
      "image/png": "[encoded data removed]",
      "text/plain": [
       "<Figure size 432x288 with 2 Axes>"
      ]
     },
     "metadata": {
      "needs_background": "light"
     },
     "output_type": "display_data"
    }
   ],
   "source": [
    "test_predict = NBClassifer(training_red, test_red)\n",
    "Evaluation(test_predict)"
   ]
  },
  {
   "cell_type": "markdown",
   "metadata": {},
   "source": [
    "### Naive Bayes classifier - white wine"
   ]
  },
  {
   "cell_type": "code",
   "execution_count": 33,
   "metadata": {},
   "outputs": [
    {
     "name": "stdout",
     "output_type": "stream",
     "text": [
      "The Best Parameters:\n",
      "--------------------\n",
      "NaiveBayesModel: uid=NaiveBayes_6e09c9c1ea3e, modelType=multinomial, numClasses=2, numFeatures=11\n",
      "+----------+----+\n",
      "|prediction|good|\n",
      "+----------+----+\n",
      "|       1.0| 1.0|\n",
      "|       0.0| 1.0|\n",
      "|       0.0| 0.0|\n",
      "+----------+----+\n",
      "only showing top 3 rows\n",
      "\n"
     ]
    },
    {
     "data": {
      "text/plain": [
       "None"
      ]
     },
     "metadata": {},
     "output_type": "display_data"
    },
    {
     "name": "stdout",
     "output_type": "stream",
     "text": [
      "+---------------------+\n",
      "|(sum(equal) / sum(1))|\n",
      "+---------------------+\n",
      "|    0.732788002726653|\n",
      "+---------------------+\n",
      "\n",
      "None\n",
      "Test Error = 0.267212\n",
      "              precision    recall  f1-score   support\n",
      "\n",
      "         0.0       0.81      0.86      0.83      1143\n",
      "         1.0       0.37      0.29      0.32       324\n",
      "\n",
      "    accuracy                           0.73      1467\n",
      "   macro avg       0.59      0.57      0.58      1467\n",
      "weighted avg       0.71      0.73      0.72      1467\n",
      "\n"
     ]
    },
    {
     "data": {
      "image/png": "[encoded data removed]",
      "text/plain": [
       "<Figure size 432x288 with 2 Axes>"
      ]
     },
     "metadata": {
      "needs_background": "light"
     },
     "output_type": "display_data"
    }
   ],
   "source": [
    "test_predict = NBClassifer(training_white, test_white)\n",
    "Evaluation(test_predict)"
   ]
  },
  {
   "cell_type": "markdown",
   "metadata": {},
   "source": [
    "# Factorization machines classifier"
   ]
  },
  {
   "cell_type": "code",
   "execution_count": 34,
   "metadata": {},
   "outputs": [],
   "source": [
    "from pyspark.ml.classification import FMClassifier"
   ]
  },
  {
   "cell_type": "code",
   "execution_count": 35,
   "metadata": {},
   "outputs": [],
   "source": [
    "def FMClassifer(training, test):\n",
    "    model = (FMClassifier()\n",
    "      .setLabelCol(\"good\")\n",
    "      .setFeaturesCol(\"features\"))\n",
    "    paramGrid = (ParamGridBuilder()\n",
    "      .addGrid(model.stepSize, [0.001])\n",
    "      .build())\n",
    "\n",
    "    stages = [model] \n",
    "    pipeline = Pipeline().setStages(stages)\n",
    "    \n",
    "    cv = (CrossValidator() # you can feel free to change the number of folds used in cross validation as well\n",
    "      .setEstimator(pipeline) # the estimator can also just be an individual model rather than a pipeline\n",
    "      .setEstimatorParamMaps(paramGrid)\n",
    "      .setEvaluator(BinaryClassificationEvaluator().setLabelCol(\"good\")))\n",
    "    \n",
    "    pipelineFitted = cv.fit(training)\n",
    "    \n",
    "    print(\"The Best Parameters:\\n--------------------\")\n",
    "    print(pipelineFitted.bestModel.stages[0])      \n",
    "    pipelineFitted.bestModel.stages[0].extractParamMap()\n",
    "    \n",
    "    test_predict = pipelineFitted.bestModel.transform(test).selectExpr(\"double(round(prediction)) as prediction\",\"double(round(good)) as good\")\n",
    "    display(test_predict.show(3))\n",
    "    \n",
    "    return test_predict"
   ]
  },
  {
   "cell_type": "markdown",
   "metadata": {},
   "source": [
    "### Factorization machines classifier - all wine"
   ]
  },
  {
   "cell_type": "code",
   "execution_count": 36,
   "metadata": {},
   "outputs": [
    {
     "name": "stdout",
     "output_type": "stream",
     "text": [
      "The Best Parameters:\n",
      "--------------------\n",
      "FMClassificationModel: uid=FMClassifier_2975cccf74ee, numClasses=2, numFeatures=12, factorSize=8, fitLinear=true, fitIntercept=true\n",
      "+----------+----+\n",
      "|prediction|good|\n",
      "+----------+----+\n",
      "|       0.0| 1.0|\n",
      "|       0.0| 0.0|\n",
      "|       0.0| 0.0|\n",
      "+----------+----+\n",
      "only showing top 3 rows\n",
      "\n"
     ]
    },
    {
     "data": {
      "text/plain": [
       "None"
      ]
     },
     "metadata": {},
     "output_type": "display_data"
    },
    {
     "name": "stdout",
     "output_type": "stream",
     "text": [
      "+---------------------+\n",
      "|(sum(equal) / sum(1))|\n",
      "+---------------------+\n",
      "|   0.8002049180327869|\n",
      "+---------------------+\n",
      "\n",
      "None\n",
      "Test Error = 0.199795\n",
      "              precision    recall  f1-score   support\n",
      "\n",
      "         0.0       0.80      1.00      0.89      1562\n",
      "         1.0       0.00      0.00      0.00       390\n",
      "\n",
      "    accuracy                           0.80      1952\n",
      "   macro avg       0.40      0.50      0.44      1952\n",
      "weighted avg       0.64      0.80      0.71      1952\n",
      "\n"
     ]
    },
    {
     "data": {
      "image/png": "[encoded data removed]",
      "text/plain": [
       "<Figure size 432x288 with 2 Axes>"
      ]
     },
     "metadata": {
      "needs_background": "light"
     },
     "output_type": "display_data"
    }
   ],
   "source": [
    "test_predict = FMClassifer(training_enc, test_enc)\n",
    "Evaluation(test_predict)"
   ]
  },
  {
   "cell_type": "markdown",
   "metadata": {},
   "source": [
    "### Factorization machines classifier - red wine"
   ]
  },
  {
   "cell_type": "code",
   "execution_count": 37,
   "metadata": {},
   "outputs": [
    {
     "name": "stdout",
     "output_type": "stream",
     "text": [
      "The Best Parameters:\n",
      "--------------------\n",
      "FMClassificationModel: uid=FMClassifier_e5127ba51c97, numClasses=2, numFeatures=11, factorSize=8, fitLinear=true, fitIntercept=true\n",
      "+----------+----+\n",
      "|prediction|good|\n",
      "+----------+----+\n",
      "|       0.0| 0.0|\n",
      "|       0.0| 1.0|\n",
      "|       0.0| 1.0|\n",
      "+----------+----+\n",
      "only showing top 3 rows\n",
      "\n"
     ]
    },
    {
     "data": {
      "text/plain": [
       "None"
      ]
     },
     "metadata": {},
     "output_type": "display_data"
    },
    {
     "name": "stdout",
     "output_type": "stream",
     "text": [
      "+---------------------+\n",
      "|(sum(equal) / sum(1))|\n",
      "+---------------------+\n",
      "|   0.8604166666666667|\n",
      "+---------------------+\n",
      "\n",
      "None\n",
      "Test Error = 0.139583\n",
      "              precision    recall  f1-score   support\n",
      "\n",
      "         0.0       0.86      1.00      0.92       413\n",
      "         1.0       0.00      0.00      0.00        67\n",
      "\n",
      "    accuracy                           0.86       480\n",
      "   macro avg       0.43      0.50      0.46       480\n",
      "weighted avg       0.74      0.86      0.80       480\n",
      "\n"
     ]
    },
    {
     "data": {
      "image/png": "[encoded data removed]",
      "text/plain": [
       "<Figure size 432x288 with 2 Axes>"
      ]
     },
     "metadata": {
      "needs_background": "light"
     },
     "output_type": "display_data"
    }
   ],
   "source": [
    "test_predict = FMClassifer(training_red, test_red)\n",
    "Evaluation(test_predict)"
   ]
  },
  {
   "cell_type": "markdown",
   "metadata": {},
   "source": [
    "### Factorization machines classifier - white wine"
   ]
  },
  {
   "cell_type": "code",
   "execution_count": 38,
   "metadata": {},
   "outputs": [
    {
     "name": "stdout",
     "output_type": "stream",
     "text": [
      "The Best Parameters:\n",
      "--------------------\n",
      "FMClassificationModel: uid=FMClassifier_be17c38b058e, numClasses=2, numFeatures=11, factorSize=8, fitLinear=true, fitIntercept=true\n",
      "+----------+----+\n",
      "|prediction|good|\n",
      "+----------+----+\n",
      "|       0.0| 1.0|\n",
      "|       0.0| 1.0|\n",
      "|       0.0| 0.0|\n",
      "+----------+----+\n",
      "only showing top 3 rows\n",
      "\n"
     ]
    },
    {
     "data": {
      "text/plain": [
       "None"
      ]
     },
     "metadata": {},
     "output_type": "display_data"
    },
    {
     "name": "stdout",
     "output_type": "stream",
     "text": [
      "+---------------------+\n",
      "|(sum(equal) / sum(1))|\n",
      "+---------------------+\n",
      "|   0.7791411042944786|\n",
      "+---------------------+\n",
      "\n",
      "None\n",
      "Test Error = 0.220859\n",
      "              precision    recall  f1-score   support\n",
      "\n",
      "         0.0       0.78      1.00      0.88      1143\n",
      "         1.0       0.00      0.00      0.00       324\n",
      "\n",
      "    accuracy                           0.78      1467\n",
      "   macro avg       0.39      0.50      0.44      1467\n",
      "weighted avg       0.61      0.78      0.68      1467\n",
      "\n"
     ]
    },
    {
     "data": {
      "image/png": "[encoded data removed]",
      "text/plain": [
       "<Figure size 432x288 with 2 Axes>"
      ]
     },
     "metadata": {
      "needs_background": "light"
     },
     "output_type": "display_data"
    }
   ],
   "source": [
    "test_predict = FMClassifer(training_white, test_white)\n",
    "Evaluation(test_predict)"
   ]
  },
  {
   "cell_type": "markdown",
   "metadata": {},
   "source": [
    "# Decision tree classifier "
   ]
  },
  {
   "cell_type": "code",
   "execution_count": 39,
   "metadata": {},
   "outputs": [],
   "source": [
    "from pyspark.ml.classification import DecisionTreeClassifier"
   ]
  },
  {
   "cell_type": "code",
   "execution_count": 40,
   "metadata": {},
   "outputs": [
    {
     "name": "stdout",
     "output_type": "stream",
     "text": [
      "cacheNodeIds: If false, the algorithm will pass trees to executors to match instances with nodes. If true, the algorithm will cache node IDs for each instance. Caching can speed up training of deeper trees. Users can set how often should the cache be checkpointed or disable it by setting checkpointInterval. (default: False)\n",
      "checkpointInterval: set checkpoint interval (>= 1) or disable checkpoint (-1). E.g. 10 means that the cache will get checkpointed every 10 iterations. Note: this setting will be ignored if the checkpoint directory is not set in the SparkContext. (default: 10)\n",
      "featuresCol: features column name. (default: features)\n",
      "impurity: Criterion used for information gain calculation (case-insensitive). Supported options: entropy, gini (default: gini)\n",
      "labelCol: label column name. (default: label)\n",
      "leafCol: Leaf indices column name. Predicted leaf index of each instance in each tree by preorder. (default: )\n",
      "maxBins: Max number of bins for discretizing continuous features.  Must be >=2 and >= number of categories for any categorical feature. (default: 32)\n",
      "maxDepth: Maximum depth of the tree. (>= 0) E.g., depth 0 means 1 leaf node; depth 1 means 1 internal node + 2 leaf nodes. (default: 5)\n",
      "maxMemoryInMB: Maximum memory in MB allocated to histogram aggregation. If too small, then 1 node will be split per iteration, and its aggregates may exceed this size. (default: 256)\n",
      "minInfoGain: Minimum information gain for a split to be considered at a tree node. (default: 0.0)\n",
      "minInstancesPerNode: Minimum number of instances each child must have after split. If a split causes the left or right child to have fewer than minInstancesPerNode, the split will be discarded as invalid. Should be >= 1. (default: 1)\n",
      "minWeightFractionPerNode: Minimum fraction of the weighted sample count that each child must have after split. If a split causes the fraction of the total weight in the left or right child to be less than minWeightFractionPerNode, the split will be discarded as invalid. Should be in interval [0.0, 0.5). (default: 0.0)\n",
      "predictionCol: prediction column name. (default: prediction)\n",
      "probabilityCol: Column name for predicted class conditional probabilities. Note: Not all models output well-calibrated probability estimates! These probabilities should be treated as confidences, not precise probabilities. (default: probability)\n",
      "rawPredictionCol: raw prediction (a.k.a. confidence) column name. (default: rawPrediction)\n",
      "seed: random seed. (default: 6747081878130032878)\n",
      "thresholds: Thresholds in multi-class classification to adjust the probability of predicting each class. Array must have length equal to the number of classes, with values > 0, excepting that at most one value may be 0. The class with largest value p/t is predicted, where p is the original probability of that class and t is the class's threshold. (undefined)\n",
      "weightCol: weight column name. If this is not set or empty, we treat all instance weights as 1.0. (undefined)\n"
     ]
    }
   ],
   "source": [
    "print(DecisionTreeClassifier().explainParams())"
   ]
  },
  {
   "cell_type": "code",
   "execution_count": 41,
   "metadata": {},
   "outputs": [],
   "source": [
    "def DTClassifer(training, test):\n",
    "    rfModel = (DecisionTreeClassifier()\n",
    "      .setLabelCol(\"good\")\n",
    "      .setFeaturesCol(\"features\"))\n",
    "    paramGrid = (ParamGridBuilder()\n",
    "      .addGrid(rfModel.maxDepth, [5, 10, 20])\n",
    "      .build())\n",
    "\n",
    "    stages = [rfModel]\n",
    "    pipeline = Pipeline().setStages(stages)\n",
    "    \n",
    "    cv = (CrossValidator() # you can feel free to change the number of folds used in cross validation as well\n",
    "      .setEstimator(pipeline) # the estimator can also just be an individual model rather than a pipeline\n",
    "      .setEstimatorParamMaps(paramGrid)\n",
    "      .setEvaluator(BinaryClassificationEvaluator().setLabelCol(\"good\")))\n",
    "    \n",
    "    pipelineFitted = cv.fit(training)\n",
    "    \n",
    "    print(\"The Best Parameters:\\n--------------------\")\n",
    "    print(pipelineFitted.bestModel.stages[0])      \n",
    "    pipelineFitted.bestModel.stages[0].extractParamMap()\n",
    "    \n",
    "    test_predict = pipelineFitted.bestModel.transform(test).selectExpr(\"double(round(prediction)) as prediction\",\"double(round(good)) as good\")\n",
    "    display(test_predict.show(3))\n",
    "    \n",
    "    return test_predict"
   ]
  },
  {
   "cell_type": "markdown",
   "metadata": {},
   "source": [
    "### Decision tree classifier - all wine"
   ]
  },
  {
   "cell_type": "code",
   "execution_count": 42,
   "metadata": {},
   "outputs": [
    {
     "name": "stdout",
     "output_type": "stream",
     "text": [
      "The Best Parameters:\n",
      "--------------------\n",
      "DecisionTreeClassificationModel: uid=DecisionTreeClassifier_42631f9969a6, depth=20, numNodes=1063, numClasses=2, numFeatures=12\n",
      "+----------+----+\n",
      "|prediction|good|\n",
      "+----------+----+\n",
      "|       0.0| 1.0|\n",
      "|       0.0| 0.0|\n",
      "|       1.0| 0.0|\n",
      "+----------+----+\n",
      "only showing top 3 rows\n",
      "\n"
     ]
    },
    {
     "data": {
      "text/plain": [
       "None"
      ]
     },
     "metadata": {},
     "output_type": "display_data"
    },
    {
     "name": "stdout",
     "output_type": "stream",
     "text": [
      "+---------------------+\n",
      "|(sum(equal) / sum(1))|\n",
      "+---------------------+\n",
      "|   0.8345286885245902|\n",
      "+---------------------+\n",
      "\n",
      "None\n",
      "Test Error = 0.165471\n",
      "              precision    recall  f1-score   support\n",
      "\n",
      "         0.0       0.91      0.88      0.90      1562\n",
      "         1.0       0.58      0.64      0.61       390\n",
      "\n",
      "    accuracy                           0.83      1952\n",
      "   macro avg       0.74      0.76      0.75      1952\n",
      "weighted avg       0.84      0.83      0.84      1952\n",
      "\n"
     ]
    },
    {
     "data": {
      "image/png": "[encoded data removed]",
      "text/plain": [
       "<Figure size 432x288 with 2 Axes>"
      ]
     },
     "metadata": {
      "needs_background": "light"
     },
     "output_type": "display_data"
    }
   ],
   "source": [
    "test_predict = DTClassifer(training_enc, test_enc)\n",
    "Evaluation(test_predict)"
   ]
  },
  {
   "cell_type": "markdown",
   "metadata": {},
   "source": [
    "### Decision tree classifier - red wine"
   ]
  },
  {
   "cell_type": "code",
   "execution_count": 43,
   "metadata": {},
   "outputs": [
    {
     "name": "stdout",
     "output_type": "stream",
     "text": [
      "The Best Parameters:\n",
      "--------------------\n",
      "DecisionTreeClassificationModel: uid=DecisionTreeClassifier_fec809cb1f0b, depth=10, numNodes=199, numClasses=2, numFeatures=11\n",
      "+----------+----+\n",
      "|prediction|good|\n",
      "+----------+----+\n",
      "|       0.0| 0.0|\n",
      "|       1.0| 1.0|\n",
      "|       1.0| 1.0|\n",
      "+----------+----+\n",
      "only showing top 3 rows\n",
      "\n"
     ]
    },
    {
     "data": {
      "text/plain": [
       "None"
      ]
     },
     "metadata": {},
     "output_type": "display_data"
    },
    {
     "name": "stdout",
     "output_type": "stream",
     "text": [
      "+---------------------+\n",
      "|(sum(equal) / sum(1))|\n",
      "+---------------------+\n",
      "|   0.8770833333333333|\n",
      "+---------------------+\n",
      "\n",
      "None\n",
      "Test Error = 0.122917\n",
      "              precision    recall  f1-score   support\n",
      "\n",
      "         0.0       0.92      0.93      0.93       413\n",
      "         1.0       0.56      0.52      0.54        67\n",
      "\n",
      "    accuracy                           0.88       480\n",
      "   macro avg       0.74      0.73      0.74       480\n",
      "weighted avg       0.87      0.88      0.88       480\n",
      "\n"
     ]
    },
    {
     "data": {
      "image/png": "[encoded data removed]",
      "text/plain": [
       "<Figure size 432x288 with 2 Axes>"
      ]
     },
     "metadata": {
      "needs_background": "light"
     },
     "output_type": "display_data"
    }
   ],
   "source": [
    "test_predict = DTClassifer(training_red, test_red)\n",
    "Evaluation(test_predict)"
   ]
  },
  {
   "cell_type": "markdown",
   "metadata": {},
   "source": [
    "### Decision tree classifier - white wine"
   ]
  },
  {
   "cell_type": "code",
   "execution_count": 44,
   "metadata": {},
   "outputs": [
    {
     "name": "stdout",
     "output_type": "stream",
     "text": [
      "The Best Parameters:\n",
      "--------------------\n",
      "DecisionTreeClassificationModel: uid=DecisionTreeClassifier_fb07661fc1bd, depth=10, numNodes=461, numClasses=2, numFeatures=11\n",
      "+----------+----+\n",
      "|prediction|good|\n",
      "+----------+----+\n",
      "|       1.0| 1.0|\n",
      "|       0.0| 1.0|\n",
      "|       1.0| 0.0|\n",
      "+----------+----+\n",
      "only showing top 3 rows\n",
      "\n"
     ]
    },
    {
     "data": {
      "text/plain": [
       "None"
      ]
     },
     "metadata": {},
     "output_type": "display_data"
    },
    {
     "name": "stdout",
     "output_type": "stream",
     "text": [
      "+---------------------+\n",
      "|(sum(equal) / sum(1))|\n",
      "+---------------------+\n",
      "|   0.8227675528289026|\n",
      "+---------------------+\n",
      "\n",
      "None\n",
      "Test Error = 0.177232\n",
      "              precision    recall  f1-score   support\n",
      "\n",
      "         0.0       0.88      0.90      0.89      1143\n",
      "         1.0       0.61      0.56      0.58       324\n",
      "\n",
      "    accuracy                           0.82      1467\n",
      "   macro avg       0.74      0.73      0.73      1467\n",
      "weighted avg       0.82      0.82      0.82      1467\n",
      "\n"
     ]
    },
    {
     "data": {
      "image/png": "[encoded data removed]",
      "text/plain": [
       "<Figure size 432x288 with 2 Axes>"
      ]
     },
     "metadata": {
      "needs_background": "light"
     },
     "output_type": "display_data"
    }
   ],
   "source": [
    "test_predict = DTClassifer(training_white, test_white)\n",
    "Evaluation(test_predict)"
   ]
  },
  {
   "cell_type": "code",
   "execution_count": null,
   "metadata": {},
   "outputs": [],
   "source": []
  }
 ],
 "metadata": {
  "kernelspec": {
   "display_name": "Python 3",
   "language": "python",
   "name": "python3"
  },
  "language_info": {
   "codemirror_mode": {
    "name": "ipython",
    "version": 3
   },
   "file_extension": ".py",
   "mimetype": "text/x-python",
   "name": "python",
   "nbconvert_exporter": "python",
   "pygments_lexer": "ipython3",
   "version": "3.7.8"
  }
 },
 "nbformat": 4,
 "nbformat_minor": 4
}
