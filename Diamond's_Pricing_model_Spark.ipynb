{
 "cells": [
  {
   "cell_type": "markdown",
   "metadata": {},
   "source": [
    "## Diamond's Pricing model- Pyspark:\n",
    "\n",
    "In this notebook, using the Apache Spark ML pipeline(RandomForest, DecisionTree), I will build a model to predict the price of a diamond based on the available features."
   ]
  },
  {
   "cell_type": "code",
   "execution_count": 1,
   "metadata": {},
   "outputs": [],
   "source": [
    "import pandas as pd\n",
    "%matplotlib inline\n",
    "import numpy as np\n",
    "\n",
    "#import stats libraries \n",
    "from pyspark.mllib.stat import Statistics\n",
    "from pyspark.ml.linalg import Vectors\n",
    "from pyspark.ml.stat import Correlation\n",
    "from pyspark.ml.feature import VectorAssembler\n",
    "\n",
    "from pyspark.sql import SparkSession"
   ]
  },
  {
   "cell_type": "code",
   "execution_count": 2,
   "metadata": {},
   "outputs": [],
   "source": [
    "spark = SparkSession.builder.appName('diamonds').getOrCreate()"
   ]
  },
  {
   "cell_type": "code",
   "execution_count": 3,
   "metadata": {},
   "outputs": [],
   "source": [
    "df = spark.read.csv('diamonds.csv',header=True,inferSchema=True)"
   ]
  },
  {
   "cell_type": "code",
   "execution_count": 4,
   "metadata": {},
   "outputs": [
    {
     "data": {
      "text/html": [
       "<div>\n",
       "<style scoped>\n",
       "    .dataframe tbody tr th:only-of-type {\n",
       "        vertical-align: middle;\n",
       "    }\n",
       "\n",
       "    .dataframe tbody tr th {\n",
       "        vertical-align: top;\n",
       "    }\n",
       "\n",
       "    .dataframe thead th {\n",
       "        text-align: right;\n",
       "    }\n",
       "</style>\n",
       "<table border=\"1\" class=\"dataframe\">\n",
       "  <thead>\n",
       "    <tr style=\"text-align: right;\">\n",
       "      <th></th>\n",
       "      <th>_c0</th>\n",
       "      <th>carat</th>\n",
       "      <th>cut</th>\n",
       "      <th>color</th>\n",
       "      <th>clarity</th>\n",
       "      <th>depth</th>\n",
       "      <th>table</th>\n",
       "      <th>price</th>\n",
       "      <th>x</th>\n",
       "      <th>y</th>\n",
       "      <th>z</th>\n",
       "    </tr>\n",
       "  </thead>\n",
       "  <tbody>\n",
       "    <tr>\n",
       "      <th>0</th>\n",
       "      <td>1</td>\n",
       "      <td>0.23</td>\n",
       "      <td>Ideal</td>\n",
       "      <td>E</td>\n",
       "      <td>SI2</td>\n",
       "      <td>61.5</td>\n",
       "      <td>55.0</td>\n",
       "      <td>326</td>\n",
       "      <td>3.95</td>\n",
       "      <td>3.98</td>\n",
       "      <td>2.43</td>\n",
       "    </tr>\n",
       "    <tr>\n",
       "      <th>1</th>\n",
       "      <td>2</td>\n",
       "      <td>0.21</td>\n",
       "      <td>Premium</td>\n",
       "      <td>E</td>\n",
       "      <td>SI1</td>\n",
       "      <td>59.8</td>\n",
       "      <td>61.0</td>\n",
       "      <td>326</td>\n",
       "      <td>3.89</td>\n",
       "      <td>3.84</td>\n",
       "      <td>2.31</td>\n",
       "    </tr>\n",
       "    <tr>\n",
       "      <th>2</th>\n",
       "      <td>3</td>\n",
       "      <td>0.23</td>\n",
       "      <td>Good</td>\n",
       "      <td>E</td>\n",
       "      <td>VS1</td>\n",
       "      <td>56.9</td>\n",
       "      <td>65.0</td>\n",
       "      <td>327</td>\n",
       "      <td>4.05</td>\n",
       "      <td>4.07</td>\n",
       "      <td>2.31</td>\n",
       "    </tr>\n",
       "    <tr>\n",
       "      <th>3</th>\n",
       "      <td>4</td>\n",
       "      <td>0.29</td>\n",
       "      <td>Premium</td>\n",
       "      <td>I</td>\n",
       "      <td>VS2</td>\n",
       "      <td>62.4</td>\n",
       "      <td>58.0</td>\n",
       "      <td>334</td>\n",
       "      <td>4.20</td>\n",
       "      <td>4.23</td>\n",
       "      <td>2.63</td>\n",
       "    </tr>\n",
       "    <tr>\n",
       "      <th>4</th>\n",
       "      <td>5</td>\n",
       "      <td>0.31</td>\n",
       "      <td>Good</td>\n",
       "      <td>J</td>\n",
       "      <td>SI2</td>\n",
       "      <td>63.3</td>\n",
       "      <td>58.0</td>\n",
       "      <td>335</td>\n",
       "      <td>4.34</td>\n",
       "      <td>4.35</td>\n",
       "      <td>2.75</td>\n",
       "    </tr>\n",
       "  </tbody>\n",
       "</table>\n",
       "</div>"
      ],
      "text/plain": [
       "   _c0  carat      cut color clarity  depth  table  price     x     y     z\n",
       "0    1   0.23    Ideal     E     SI2   61.5   55.0    326  3.95  3.98  2.43\n",
       "1    2   0.21  Premium     E     SI1   59.8   61.0    326  3.89  3.84  2.31\n",
       "2    3   0.23     Good     E     VS1   56.9   65.0    327  4.05  4.07  2.31\n",
       "3    4   0.29  Premium     I     VS2   62.4   58.0    334  4.20  4.23  2.63\n",
       "4    5   0.31     Good     J     SI2   63.3   58.0    335  4.34  4.35  2.75"
      ]
     },
     "execution_count": 4,
     "metadata": {},
     "output_type": "execute_result"
    }
   ],
   "source": [
    "df.limit(5).toPandas()"
   ]
  },
  {
   "cell_type": "code",
   "execution_count": 5,
   "metadata": {},
   "outputs": [],
   "source": [
    "#drop the id column\n",
    "df_no_id = df.drop('_c0')\n",
    "df_no_na = df_no_id.dropna()"
   ]
  },
  {
   "cell_type": "code",
   "execution_count": 6,
   "metadata": {},
   "outputs": [],
   "source": [
    "df = df_no_na[['carat', 'cut', 'color', 'clarity', 'depth', 'table', 'x', 'y', 'z','price']]"
   ]
  },
  {
   "cell_type": "code",
   "execution_count": 7,
   "metadata": {},
   "outputs": [
    {
     "name": "stdout",
     "output_type": "stream",
     "text": [
      "+-----+-----+---------+-----+-------+-----+-----+----+----+----+\n",
      "|price|carat|      cut|color|clarity|depth|table|   x|   y|   z|\n",
      "+-----+-----+---------+-----+-------+-----+-----+----+----+----+\n",
      "|  326| 0.23|    Ideal|    E|    SI2| 61.5| 55.0|3.95|3.98|2.43|\n",
      "|  326| 0.21|  Premium|    E|    SI1| 59.8| 61.0|3.89|3.84|2.31|\n",
      "|  327| 0.23|     Good|    E|    VS1| 56.9| 65.0|4.05|4.07|2.31|\n",
      "|  334| 0.29|  Premium|    I|    VS2| 62.4| 58.0| 4.2|4.23|2.63|\n",
      "|  335| 0.31|     Good|    J|    SI2| 63.3| 58.0|4.34|4.35|2.75|\n",
      "|  336| 0.24|Very Good|    J|   VVS2| 62.8| 57.0|3.94|3.96|2.48|\n",
      "|  336| 0.24|Very Good|    I|   VVS1| 62.3| 57.0|3.95|3.98|2.47|\n",
      "|  337| 0.26|Very Good|    H|    SI1| 61.9| 55.0|4.07|4.11|2.53|\n",
      "|  337| 0.22|     Fair|    E|    VS2| 65.1| 61.0|3.87|3.78|2.49|\n",
      "|  338| 0.23|Very Good|    H|    VS1| 59.4| 61.0| 4.0|4.05|2.39|\n",
      "|  339|  0.3|     Good|    J|    SI1| 64.0| 55.0|4.25|4.28|2.73|\n",
      "|  340| 0.23|    Ideal|    J|    VS1| 62.8| 56.0|3.93| 3.9|2.46|\n",
      "|  342| 0.22|  Premium|    F|    SI1| 60.4| 61.0|3.88|3.84|2.33|\n",
      "|  344| 0.31|    Ideal|    J|    SI2| 62.2| 54.0|4.35|4.37|2.71|\n",
      "|  345|  0.2|  Premium|    E|    SI2| 60.2| 62.0|3.79|3.75|2.27|\n",
      "|  345| 0.32|  Premium|    E|     I1| 60.9| 58.0|4.38|4.42|2.68|\n",
      "|  348|  0.3|    Ideal|    I|    SI2| 62.0| 54.0|4.31|4.34|2.68|\n",
      "|  351|  0.3|     Good|    J|    SI1| 63.4| 54.0|4.23|4.29| 2.7|\n",
      "|  351|  0.3|     Good|    J|    SI1| 63.8| 56.0|4.23|4.26|2.71|\n",
      "|  351|  0.3|Very Good|    J|    SI1| 62.7| 59.0|4.21|4.27|2.66|\n",
      "+-----+-----+---------+-----+-------+-----+-----+----+----+----+\n",
      "only showing top 20 rows\n",
      "\n"
     ]
    }
   ],
   "source": [
    "df = df_no_na.select('price', 'carat', 'cut', 'color', 'clarity', \n",
    "  'depth', 'table', 'x', 'y', 'z')\n",
    "df.show()"
   ]
  },
  {
   "cell_type": "code",
   "execution_count": 8,
   "metadata": {},
   "outputs": [],
   "source": [
    "df = df.withColumnRenamed('price', 'label')"
   ]
  },
  {
   "cell_type": "code",
   "execution_count": 9,
   "metadata": {},
   "outputs": [
    {
     "name": "stdout",
     "output_type": "stream",
     "text": [
      "+-----+-----+---------+-----+-------+-----+-----+----+----+----+--------+----------+------------+\n",
      "|label|carat|      cut|color|clarity|depth|table|   x|   y|   z|cutIndex|colorIndex|clarityIndex|\n",
      "+-----+-----+---------+-----+-------+-----+-----+----+----+----+--------+----------+------------+\n",
      "|  326| 0.23|    Ideal|    E|    SI2| 61.5| 55.0|3.95|3.98|2.43|     0.0|       1.0|         2.0|\n",
      "|  326| 0.21|  Premium|    E|    SI1| 59.8| 61.0|3.89|3.84|2.31|     1.0|       1.0|         0.0|\n",
      "|  327| 0.23|     Good|    E|    VS1| 56.9| 65.0|4.05|4.07|2.31|     3.0|       1.0|         3.0|\n",
      "|  334| 0.29|  Premium|    I|    VS2| 62.4| 58.0| 4.2|4.23|2.63|     1.0|       5.0|         1.0|\n",
      "|  335| 0.31|     Good|    J|    SI2| 63.3| 58.0|4.34|4.35|2.75|     3.0|       6.0|         2.0|\n",
      "|  336| 0.24|Very Good|    J|   VVS2| 62.8| 57.0|3.94|3.96|2.48|     2.0|       6.0|         4.0|\n",
      "|  336| 0.24|Very Good|    I|   VVS1| 62.3| 57.0|3.95|3.98|2.47|     2.0|       5.0|         5.0|\n",
      "|  337| 0.26|Very Good|    H|    SI1| 61.9| 55.0|4.07|4.11|2.53|     2.0|       3.0|         0.0|\n",
      "|  337| 0.22|     Fair|    E|    VS2| 65.1| 61.0|3.87|3.78|2.49|     4.0|       1.0|         1.0|\n",
      "|  338| 0.23|Very Good|    H|    VS1| 59.4| 61.0| 4.0|4.05|2.39|     2.0|       3.0|         3.0|\n",
      "|  339|  0.3|     Good|    J|    SI1| 64.0| 55.0|4.25|4.28|2.73|     3.0|       6.0|         0.0|\n",
      "|  340| 0.23|    Ideal|    J|    VS1| 62.8| 56.0|3.93| 3.9|2.46|     0.0|       6.0|         3.0|\n",
      "|  342| 0.22|  Premium|    F|    SI1| 60.4| 61.0|3.88|3.84|2.33|     1.0|       2.0|         0.0|\n",
      "|  344| 0.31|    Ideal|    J|    SI2| 62.2| 54.0|4.35|4.37|2.71|     0.0|       6.0|         2.0|\n",
      "|  345|  0.2|  Premium|    E|    SI2| 60.2| 62.0|3.79|3.75|2.27|     1.0|       1.0|         2.0|\n",
      "|  345| 0.32|  Premium|    E|     I1| 60.9| 58.0|4.38|4.42|2.68|     1.0|       1.0|         7.0|\n",
      "|  348|  0.3|    Ideal|    I|    SI2| 62.0| 54.0|4.31|4.34|2.68|     0.0|       5.0|         2.0|\n",
      "|  351|  0.3|     Good|    J|    SI1| 63.4| 54.0|4.23|4.29| 2.7|     3.0|       6.0|         0.0|\n",
      "|  351|  0.3|     Good|    J|    SI1| 63.8| 56.0|4.23|4.26|2.71|     3.0|       6.0|         0.0|\n",
      "|  351|  0.3|Very Good|    J|    SI1| 62.7| 59.0|4.21|4.27|2.66|     2.0|       6.0|         0.0|\n",
      "+-----+-----+---------+-----+-------+-----+-----+----+----+----+--------+----------+------------+\n",
      "only showing top 20 rows\n",
      "\n"
     ]
    }
   ],
   "source": [
    "from pyspark.ml import Pipeline\n",
    "from pyspark.ml.feature import StringIndexer\n",
    "cutIndexer = StringIndexer(inputCol='cut', outputCol='cutIndex')\n",
    "colorIndexer = StringIndexer(inputCol='color', outputCol='colorIndex')\n",
    "clarityIndexer = StringIndexer(inputCol='clarity', outputCol='clarityIndex')\n",
    "\n",
    "df = cutIndexer.fit(df).transform(df)\n",
    "df = colorIndexer.fit(df).transform(df)\n",
    "df = clarityIndexer.fit(df).transform(df)\n",
    "\n",
    "df.show()"
   ]
  },
  {
   "cell_type": "code",
   "execution_count": 10,
   "metadata": {},
   "outputs": [],
   "source": [
    "from pyspark.ml.feature import OneHotEncoder\n",
    "OHE = OneHotEncoder(inputCols=['cutIndex', 'colorIndex', 'clarityIndex'],outputCols=['cut_OHE', 'color_OHE', 'clarity_OHE'])\n",
    "\n",
    "df = OHE.fit(df).transform(df)"
   ]
  },
  {
   "cell_type": "code",
   "execution_count": 11,
   "metadata": {},
   "outputs": [],
   "source": [
    "assembler = VectorAssembler(\n",
    "  inputCols= ['carat', 'depth', 'table', 'x', 'y', 'z', 'cut_OHE', 'color_OHE', 'clarity_OHE'], outputCol=('features_assem'))\n",
    "\n",
    "df = df.dropna()"
   ]
  },
  {
   "cell_type": "code",
   "execution_count": 12,
   "metadata": {},
   "outputs": [
    {
     "data": {
      "text/plain": [
       "DataFrame[label: int, carat: double, cut: string, color: string, clarity: string, depth: double, table: double, x: double, y: double, z: double, cutIndex: double, colorIndex: double, clarityIndex: double, cut_OHE: vector, color_OHE: vector, clarity_OHE: vector, features_assem: vector, scaledFeatures: vector]"
      ]
     },
     "metadata": {},
     "output_type": "display_data"
    }
   ],
   "source": [
    "from pyspark.ml.feature import MinMaxScaler\n",
    "\n",
    "scaler = MinMaxScaler(inputCol=\"features_assem\", outputCol=\"scaledFeatures\")\n",
    "pipeline = Pipeline(stages=[assembler, scaler])\n",
    "scalerModel = pipeline.fit(df)\n",
    "scaled_df = scalerModel.transform(df)\n",
    "display(scaled_df)"
   ]
  },
  {
   "cell_type": "code",
   "execution_count": 14,
   "metadata": {},
   "outputs": [
    {
     "data": {
      "text/plain": [
       "DataFrame[label: int, carat: double, cut: string, color: string, clarity: string, depth: double, table: double, x: double, y: double, z: double, cutIndex: double, colorIndex: double, clarityIndex: double, cut_OHE: vector, color_OHE: vector, clarity_OHE: vector, features_assem: vector, scaledFeatures: vector]"
      ]
     },
     "execution_count": 14,
     "metadata": {},
     "output_type": "execute_result"
    }
   ],
   "source": [
    "training, test = scaled_df.randomSplit([0.7, 0.3])\n",
    "training.cache()\n",
    "test.cache()"
   ]
  },
  {
   "cell_type": "code",
   "execution_count": 15,
   "metadata": {},
   "outputs": [],
   "source": [
    "from pyspark.ml.regression import DecisionTreeRegressor\n",
    "from pyspark.ml.feature import VectorIndexer\n",
    "from pyspark.ml.evaluation import RegressionEvaluator\n",
    "\n",
    "from pyspark.ml.tuning import ParamGridBuilder, CrossValidator\n",
    "\n",
    "dt = DecisionTreeRegressor(featuresCol = \"scaledFeatures\")\n",
    "\n",
    "pipeline = Pipeline(stages= [dt])\n",
    "\n",
    "paramGrid = ParamGridBuilder() \\\n",
    "    .addGrid(dt.maxDepth, [5, 10, 15, 20, 30]) \\\n",
    "    .addGrid(dt.maxBins, [10, 20, 30, 50]) \\\n",
    "    .build()"
   ]
  },
  {
   "cell_type": "code",
   "execution_count": 16,
   "metadata": {},
   "outputs": [],
   "source": [
    "cv = CrossValidator(estimator=pipeline,\n",
    "                          estimatorParamMaps=paramGrid,\n",
    "                          evaluator=RegressionEvaluator(),\n",
    "                          numFolds=3)\n",
    "cvModel = cv.fit(training)\n",
    "predictions = cvModel.transform(test)"
   ]
  },
  {
   "cell_type": "code",
   "execution_count": 17,
   "metadata": {},
   "outputs": [
    {
     "name": "stdout",
     "output_type": "stream",
     "text": [
      "RMSE on test data =  821.8354260237905\n",
      "R_squared on test data =  0.9581772494419021\n",
      "Mean Absolute Error (MAE) on test data =  388.1707928297219\n",
      "Mean Squared Error (MSE) on test data =  675413.4674677053\n",
      "+-----+------------------+\n",
      "|label|        prediction|\n",
      "+-----+------------------+\n",
      "|  334| 464.9107142857143|\n",
      "|  337|449.55555555555554|\n",
      "|  338|             398.8|\n",
      "|  342|             430.0|\n",
      "|  345|             326.0|\n",
      "|  351|431.46153846153845|\n",
      "|  353|             449.0|\n",
      "|  353| 468.7769230769231|\n",
      "|  355|             455.2|\n",
      "|  357| 394.6666666666667|\n",
      "|  357|             449.0|\n",
      "|  361|             496.5|\n",
      "|  361| 475.6363636363636|\n",
      "|  362|             601.0|\n",
      "|  363|             395.0|\n",
      "|  363|431.46153846153845|\n",
      "|  364|             364.0|\n",
      "|  364|             364.0|\n",
      "|  365| 519.5087719298245|\n",
      "|  367|             357.0|\n",
      "+-----+------------------+\n",
      "only showing top 20 rows\n",
      "\n"
     ]
    }
   ],
   "source": [
    "evaluator = RegressionEvaluator(labelCol = \"label\", predictionCol= \"prediction\", metricName = \"rmse\")\n",
    "\n",
    "rmse = evaluator.evaluate(predictions)\n",
    "\n",
    "evaluator_r2 = RegressionEvaluator(labelCol = \"label\", predictionCol= \"prediction\", metricName = \"r2\")\n",
    "\n",
    "r2 = evaluator_r2.evaluate(predictions)\n",
    "\n",
    "evaluator_mae = RegressionEvaluator(labelCol = \"label\", predictionCol= \"prediction\", metricName = \"mae\")\n",
    "\n",
    "mae = evaluator_mae.evaluate(predictions)\n",
    "\n",
    "evaluator_mse = RegressionEvaluator(labelCol = \"label\", predictionCol= \"prediction\", metricName = \"mse\")\n",
    "\n",
    "mse = evaluator_mse.evaluate(predictions)\n",
    "\n",
    "\n",
    "print(\"RMSE on test data = \", rmse)\n",
    "print(\"R_squared on test data = \", r2)\n",
    "print(\"Mean Absolute Error (MAE) on test data = \", mae)\n",
    "print(\"Mean Squared Error (MSE) on test data = \", mse)\n",
    "\n",
    "predictions.select(\"label\", \"prediction\").show()"
   ]
  },
  {
   "cell_type": "code",
   "execution_count": 18,
   "metadata": {},
   "outputs": [],
   "source": [
    "from pyspark.ml.regression import RandomForestRegressor\n",
    "\n",
    "rf = (RandomForestRegressor()\n",
    "          .setLabelCol('label')\n",
    "          .setFeaturesCol('scaledFeatures'))\n",
    "#stages = [indexers , encoders, assembler_1 , assembler, scaler, rf]\n",
    "pipeline = Pipeline(stages=[rf])\n",
    "\n",
    "paramGrid = (ParamGridBuilder()\n",
    "            .addGrid(rf.maxDepth, [5, 10])\n",
    "            .addGrid(rf.numTrees, [10, 20])\n",
    "            .addGrid(rf.maxBins, [10, 20, 30, 50])\n",
    "            .build())"
   ]
  },
  {
   "cell_type": "code",
   "execution_count": 19,
   "metadata": {},
   "outputs": [],
   "source": [
    "cv = CrossValidator(estimator=pipeline,\n",
    "                          estimatorParamMaps=paramGrid,\n",
    "                          evaluator=RegressionEvaluator(),\n",
    "                          numFolds=3)\n",
    "cvModel = cv.fit(training)\n",
    "predictions = cvModel.transform(test)"
   ]
  },
  {
   "cell_type": "code",
   "execution_count": 20,
   "metadata": {},
   "outputs": [
    {
     "name": "stdout",
     "output_type": "stream",
     "text": [
      "RMSE on test data =  887.3150584126815\n",
      "R_squared on test data =  0.9512473104603819\n",
      "Mean Absolute Error (MAE) on test data =  460.62632556681945\n",
      "Mean Squared Error (MSE) on test data =  787328.0128859004\n",
      "+-----+------------------+\n",
      "|label|        prediction|\n",
      "+-----+------------------+\n",
      "|  334| 544.5657332143484|\n",
      "|  337|509.88249363273354|\n",
      "|  338|468.81156365070683|\n",
      "|  342| 555.1007833832513|\n",
      "|  345| 581.4184954197772|\n",
      "|  351| 549.5727379013779|\n",
      "|  353| 471.1148235527985|\n",
      "|  353| 593.1545673979541|\n",
      "|  355| 518.7067738330514|\n",
      "|  357| 451.2515002784291|\n",
      "|  357| 475.1445854575604|\n",
      "|  361|496.34043473862266|\n",
      "|  361| 542.3912706450188|\n",
      "|  362| 458.8773323504947|\n",
      "|  363| 507.8475227717671|\n",
      "|  363| 567.7956188970599|\n",
      "|  364| 517.5475116146041|\n",
      "|  364| 517.5475116146041|\n",
      "|  365| 596.8092744426718|\n",
      "|  367|497.91464479845973|\n",
      "+-----+------------------+\n",
      "only showing top 20 rows\n",
      "\n"
     ]
    }
   ],
   "source": [
    "evaluator = RegressionEvaluator(labelCol = \"label\", predictionCol= \"prediction\", metricName = \"rmse\")\n",
    "\n",
    "rmse = evaluator.evaluate(predictions)\n",
    "\n",
    "evaluator_r2 = RegressionEvaluator(labelCol = \"label\", predictionCol= \"prediction\", metricName = \"r2\")\n",
    "\n",
    "r2 = evaluator_r2.evaluate(predictions)\n",
    "\n",
    "evaluator_mae = RegressionEvaluator(labelCol = \"label\", predictionCol= \"prediction\", metricName = \"mae\")\n",
    "\n",
    "mae = evaluator_mae.evaluate(predictions)\n",
    "\n",
    "evaluator_mse = RegressionEvaluator(labelCol = \"label\", predictionCol= \"prediction\", metricName = \"mse\")\n",
    "\n",
    "mse = evaluator_mse.evaluate(predictions)\n",
    "\n",
    "\n",
    "print(\"RMSE on test data = \", rmse)\n",
    "print(\"R_squared on test data = \", r2)\n",
    "print(\"Mean Absolute Error (MAE) on test data = \", mae)\n",
    "print(\"Mean Squared Error (MSE) on test data = \", mse)\n",
    "\n",
    "predictions.select(\"label\", \"prediction\").show()"
   ]
  },
  {
   "cell_type": "code",
   "execution_count": null,
   "metadata": {},
   "outputs": [],
   "source": []
  }
 ],
 "metadata": {
  "kernelspec": {
   "display_name": "Python 3",
   "language": "python",
   "name": "python3"
  },
  "language_info": {
   "codemirror_mode": {
    "name": "ipython",
    "version": 3
   },
   "file_extension": ".py",
   "mimetype": "text/x-python",
   "name": "python",
   "nbconvert_exporter": "python",
   "pygments_lexer": "ipython3",
   "version": "3.7.5"
  }
 },
 "nbformat": 4,
 "nbformat_minor": 2
}
