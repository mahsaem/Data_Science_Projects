{
 "cells": [
  {
   "cell_type": "markdown",
   "metadata": {},
   "source": [
    "### Logistic Regression\n",
    "\n",
    "Logistic Regression is a variation of Linear Regression, useful when the observed dependent variable, y, is categorical. It produces a formula that predicts the probability of the class label as a function of the independent variables.\n",
    "\n",
    "Despite the name logistic regression, it is actually a probabilistic classification model. Logistic regression fits a special s-shaped curve by taking the linear regression and transforming the numeric estimate into a probability with the following function:\n",
    "\n",
    "                            𝑃𝑟𝑜𝑏𝑎𝑏𝑖𝑙𝑖𝑡𝑦𝑂𝑓𝑎𝐶𝑙𝑎𝑠𝑠 = 𝑡ℎ𝑒𝑡𝑎(𝑦) = 𝑒𝑦1+𝑒𝑦 = 𝑒𝑥𝑝(𝑦)/(1+𝑒𝑥𝑝(𝑦)) = 𝑝\n",
    "                            \n",
    "                            \n",
    "which produces p-values between 0 (as y approaches minus infinity −𝑖𝑛𝑓𝑡𝑦) and 1 (as y approaches plus infinity  +∞ ). This now becomes a special kind of non-linear regression.\n",
    "\n",
    "You might also have seen this function before, in another configuration:\n",
    "\n",
    "$$\n",
    "ProbabilityOfaClass = \\\\theta(y) = \\frac{1}{1+e^{-y}}\n",
    "$$\n",
    "\n",
    "So, briefly, Logistic Regression passes the input through the logistic/sigmoid function but then treats the result as a probability:\n",
    "\n",
    "<img src=\"https://ibm.box.com/shared/static/kgv9alcghmjcv97op4d6onkyxevk23b1.png\" width=\"400\" align=\"center\">\n",
    "\n",
    "\n",
    "### Utilizing Logistic Regression in TensorFlow"
   ]
  },
  {
   "cell_type": "code",
   "execution_count": 1,
   "metadata": {},
   "outputs": [],
   "source": [
    "import tensorflow as tf\n",
    "import pandas as pd\n",
    "import numpy as np\n",
    "import time\n",
    "from sklearn.datasets import load_iris\n",
    "from sklearn.model_selection import train_test_split\n",
    "import matplotlib.pyplot as plt"
   ]
  },
  {
   "cell_type": "code",
   "execution_count": 2,
   "metadata": {},
   "outputs": [],
   "source": [
    "if not tf.__version__ == '2.3.0':\n",
    "    print(tf.__version__)\n",
    "    raise ValueError('please upgrade to TensorFlow 2.3.0, or restart your Kernel (Kernel->Restart & Clear Output)')"
   ]
  },
  {
   "cell_type": "markdown",
   "metadata": {},
   "source": [
    "Next, we will load the dataset we are going to use. In this case, we are utilizing the iris dataset."
   ]
  },
  {
   "cell_type": "code",
   "execution_count": 3,
   "metadata": {},
   "outputs": [],
   "source": [
    "iris = load_iris()\n",
    "\n",
    "iris_X, iris_y = iris.data[:-1, :], iris.target[:-1]\n",
    "iris_y = pd.get_dummies(iris_y).values\n",
    "train_X, test_X, train_Y, test_Y = train_test_split(iris_X, iris_y,\n",
    "                                                   test_size = 0.3, \n",
    "                                                   random_state = 42)"
   ]
  },
  {
   "cell_type": "markdown",
   "metadata": {},
   "source": [
    "Next we define x and y. These variables will hold our iris data (both the features and label matrices) We also need to give them shapes which correspond to the shape of our data."
   ]
  },
  {
   "cell_type": "code",
   "execution_count": 4,
   "metadata": {},
   "outputs": [],
   "source": [
    "numFeatures = train_X.shape[1] # Number of features, 4\n",
    "numLabels = train_Y.shape[1] # Number of classes, 3\n"
   ]
  },
  {
   "cell_type": "code",
   "execution_count": 5,
   "metadata": {},
   "outputs": [],
   "source": [
    "# Iris has 4 features, so X is a tensor to hold our data.\n",
    "#X = tf.Variable( np.identity(numFeatures), tf.TensorShape(numFeatures),\n",
    "#dtype='float32') \n",
    "\n",
    "# This will be our correct answers matrix for 3 classes.\n",
    "#yGold = tf.Variable(np.array([1,1,1]),shape=tf.TensorShape(numLabels),\n",
    "#dtype='float32') "
   ]
  },
  {
   "cell_type": "code",
   "execution_count": 6,
   "metadata": {},
   "outputs": [],
   "source": [
    "train_X = tf.constant(train_X, dtype = 'float32')\n",
    "train_Y = tf.constant(train_Y, dtype = 'float32')\n",
    "test_X = tf.constant(test_X, dtype = 'float32')\n",
    "test_Y = tf.constant(test_Y, dtype = 'float32')"
   ]
  },
  {
   "cell_type": "markdown",
   "metadata": {},
   "source": [
    "### Set model weights and bias\n",
    "\n",
    "Much like Linear Regression, we need a shared variable weight matrix for Logistic Regression. We initialize both `W` and `b` as tensors full of zeros. Since we are going to learn `W` and `b`, their initial value does not matter too much. These variables are the objects which define the structure of our regression model, and we can save them after they have been trained so we can reuse them later.\n",
    "\n",
    "We define two TensorFlow variables as our parameters. These variables will hold the weights and biases of our logistic regression and they will be continually updated during training. \n",
    "\n",
    "Notice that `W` has a shape of [4, 3] because we want to multiply the 4-dimensional input vectors by it to produce 3-dimensional vectors of evidence for the difference classes. `b` has a shape of [3] so we can add it to the output. TensorFlow variables need to be initialized with values, e.g. with zeros."
   ]
  },
  {
   "cell_type": "code",
   "execution_count": 7,
   "metadata": {},
   "outputs": [],
   "source": [
    "W = tf.Variable(tf.zeros([4, 3])) # 4 dimentional input and 3 classes\n",
    "b = tf.Variable(tf.zeros([3])) # 3 dimentional output [0,0,1],[0,1,0],[1,0,0]"
   ]
  },
  {
   "cell_type": "code",
   "execution_count": 8,
   "metadata": {},
   "outputs": [],
   "source": [
    "# Randomly sample from a normal distribution with std 0.01\n",
    "\n",
    "weights = tf.Variable(tf.random.normal([numFeatures, numLabels],\n",
    "                                      mean = 0.0,\n",
    "                                      stddev = 0.01,\n",
    "                                      name = 'weights'), dtype = 'float32')\n",
    "\n",
    "bias = tf.Variable(tf.random.normal([1, numLabels],\n",
    "                                      mean = 0.0,\n",
    "                                      stddev = 0.01,\n",
    "                                      name = 'bias'))"
   ]
  },
  {
   "cell_type": "markdown",
   "metadata": {},
   "source": [
    "### Logistic Regression model\n",
    "\n",
    "We now define our operations in order to properly run the Logistic Regression. Logistic regression is typically thought of as a single equation:\n",
    "\n",
    "$$\n",
    "ŷ =sigmoid(WX+b)\n",
    "$$\n",
    "\n",
    "We can have it broken into its three main components: \n",
    "\n",
    "-   a weight times features matrix multiplication operation, \n",
    "-   a summation of the weighted features and a bias term, \n",
    "-   and finally the application of a sigmoid function. \n",
    "\n",
    "As such, you will find these components defined as three separate operations below.\n"
   ]
  },
  {
   "cell_type": "code",
   "execution_count": 9,
   "metadata": {},
   "outputs": [],
   "source": [
    "def logistic_regression(x):\n",
    "    apply_weights_OP = tf.matmul(x, weights, name = 'apply_weights')\n",
    "    add_bias_OP = tf.add(apply_weights_OP, bias, name = 'add_bias')\n",
    "    #the logistic function in tensorflow is implimented as nn.sigmoid\n",
    "    activation_OP = tf.nn.sigmoid(add_bias_OP, name = 'activation')\n",
    "    return activation_OP"
   ]
  },
  {
   "cell_type": "markdown",
   "metadata": {},
   "source": [
    "### Training\n",
    "The learning algorithm is how we search for the best weight vector ( 𝑏𝑓𝑤 ). This search is an optimization problem looking for the hypothesis that optimizes an error/cost measure.\n",
    "\n",
    "#### What tell us our model is bad?\n",
    "The Cost or Loss of the model, so what we want is to minimize that.\n",
    "\n",
    "#### Cost function\n",
    "Before defining our cost function, we need to define how long we are going to train and how should we define the learning rate."
   ]
  },
  {
   "cell_type": "code",
   "execution_count": 10,
   "metadata": {},
   "outputs": [],
   "source": [
    "# Defining the learning rate iteration\n",
    "learning_rate = tf.keras.optimizers.schedules.ExponentialDecay(initial_learning_rate = 0.0008,\n",
    "                                                              decay_steps = train_X.shape[0],\n",
    "                                                              decay_rate = 0.95,\n",
    "                                                              staircase = True)"
   ]
  },
  {
   "cell_type": "markdown",
   "metadata": {},
   "source": [
    "The **cost function** we are going to utilize is the Squared Mean Error loss function.\n",
    "\n",
    "How to minimize the cost function?\n",
    "We can't use least-squares linear regression here, so we will use gradient descent instead. Specifically, we will use batch gradient descent which calculates the gradient from all data points in the data set."
   ]
  },
  {
   "cell_type": "code",
   "execution_count": 11,
   "metadata": {},
   "outputs": [],
   "source": [
    "# Defining the cost function - Squared Mean Error\n",
    "loss_object = tf.keras.losses.MeanSquaredLogarithmicError()\n",
    "optimizer = tf.keras.optimizers.SGD(learning_rate)"
   ]
  },
  {
   "cell_type": "markdown",
   "metadata": {},
   "source": [
    "We also want some additional operations to keep track of our model's efficiency over time. We can do this like so:"
   ]
  },
  {
   "cell_type": "code",
   "execution_count": 12,
   "metadata": {},
   "outputs": [],
   "source": [
    "# Accuracy metric\n",
    "def accuracy(y_pred, y_true):\n",
    "    # Predicted class is the index of the highest score in prediction vector\n",
    "    correct_prediction = tf.equal(tf.argmax(y_pred, 1), tf.argmax(y_true, 1))\n",
    "    return tf.reduce_mean(tf.cast(correct_prediction, tf.float32))"
   ]
  },
  {
   "cell_type": "markdown",
   "metadata": {},
   "source": [
    "- First wrap computation inside a GradientTape for automatic differentiation.\n",
    "- Then compute gradients and update W and b."
   ]
  },
  {
   "cell_type": "code",
   "execution_count": 13,
   "metadata": {},
   "outputs": [],
   "source": [
    "# Optimization process\n",
    "\n",
    "def run_optimization(x, y):\n",
    "    with tf.GradientTape() as g:\n",
    "        pred = logistic_regression(x)\n",
    "        loss = loss_object(pred, y)\n",
    "    gradients = g.gradient(loss, [weights, bias])\n",
    "    optimizer.apply_gradients(zip(gradients, [weights, bias]))"
   ]
  },
  {
   "cell_type": "markdown",
   "metadata": {},
   "source": [
    "Now we move on to actually running our operations. We will start with the operations involved in the prediction phase (i.e. the logistic regression itself).\n",
    "\n",
    "Now we can define and run the actual training loop:"
   ]
  },
  {
   "cell_type": "code",
   "execution_count": 14,
   "metadata": {},
   "outputs": [
    {
     "name": "stdout",
     "output_type": "stream",
     "text": [
      "step 0, training accuracy 0.0444444, loss 0.13631, change in loss 0.13631\n",
      "step 10, training accuracy 0.155556, loss 0.135755, change in loss 0.0005555\n",
      "step 20, training accuracy 0.266667, loss 0.135207, change in loss 0.000547603\n",
      "step 30, training accuracy 0.266667, loss 0.134667, change in loss 0.000539675\n",
      "step 40, training accuracy 0.288889, loss 0.134136, change in loss 0.000531733\n",
      "step 50, training accuracy 0.288889, loss 0.133612, change in loss 0.000523835\n",
      "step 60, training accuracy 0.288889, loss 0.133096, change in loss 0.000515878\n",
      "step 70, training accuracy 0.288889, loss 0.132588, change in loss 0.000507966\n",
      "step 80, training accuracy 0.288889, loss 0.132088, change in loss 0.000500053\n",
      "step 90, training accuracy 0.288889, loss 0.131596, change in loss 0.00049217\n",
      "step 100, training accuracy 0.288889, loss 0.131111, change in loss 0.000484303\n",
      "step 110, training accuracy 0.288889, loss 0.130651, change in loss 0.000459939\n",
      "step 120, training accuracy 0.288889, loss 0.130206, change in loss 0.000445694\n",
      "step 130, training accuracy 0.288889, loss 0.129767, change in loss 0.00043869\n",
      "step 140, training accuracy 0.288889, loss 0.129335, change in loss 0.000431746\n",
      "step 150, training accuracy 0.288889, loss 0.12891, change in loss 0.000424832\n",
      "step 160, training accuracy 0.288889, loss 0.128492, change in loss 0.000417978\n",
      "step 170, training accuracy 0.288889, loss 0.128081, change in loss 0.000411153\n",
      "step 180, training accuracy 0.288889, loss 0.127677, change in loss 0.000404432\n",
      "step 190, training accuracy 0.288889, loss 0.127279, change in loss 0.000397697\n",
      "step 200, training accuracy 0.288889, loss 0.126888, change in loss 0.000391081\n",
      "step 210, training accuracy 0.288889, loss 0.126509, change in loss 0.000378773\n",
      "step 220, training accuracy 0.288889, loss 0.12615, change in loss 0.000359342\n",
      "step 230, training accuracy 0.288889, loss 0.125796, change in loss 0.000353515\n",
      "step 240, training accuracy 0.288889, loss 0.125449, change in loss 0.000347778\n",
      "step 250, training accuracy 0.288889, loss 0.125107, change in loss 0.000342086\n",
      "step 260, training accuracy 0.288889, loss 0.12477, change in loss 0.000336453\n",
      "step 270, training accuracy 0.288889, loss 0.124439, change in loss 0.00033088\n",
      "step 280, training accuracy 0.288889, loss 0.124114, change in loss 0.000325404\n",
      "step 290, training accuracy 0.288889, loss 0.123794, change in loss 0.00031998\n",
      "step 300, training accuracy 0.288889, loss 0.123479, change in loss 0.000314616\n",
      "step 310, training accuracy 0.288889, loss 0.12317, change in loss 0.000309333\n",
      "step 320, training accuracy 0.288889, loss 0.122879, change in loss 0.00029052\n",
      "step 330, training accuracy 0.288889, loss 0.122595, change in loss 0.000284351\n",
      "step 340, training accuracy 0.288889, loss 0.122315, change in loss 0.000279777\n",
      "step 350, training accuracy 0.288889, loss 0.12204, change in loss 0.000275239\n",
      "step 360, training accuracy 0.288889, loss 0.121769, change in loss 0.000270784\n",
      "step 370, training accuracy 0.288889, loss 0.121503, change in loss 0.000266396\n",
      "step 380, training accuracy 0.288889, loss 0.121241, change in loss 0.000262037\n",
      "step 390, training accuracy 0.288889, loss 0.120983, change in loss 0.00025779\n",
      "step 400, training accuracy 0.288889, loss 0.120729, change in loss 0.000253558\n",
      "step 410, training accuracy 0.288889, loss 0.12048, change in loss 0.000249445\n",
      "step 420, training accuracy 0.288889, loss 0.120241, change in loss 0.000239238\n",
      "step 430, training accuracy 0.288889, loss 0.120011, change in loss 0.000229456\n",
      "step 440, training accuracy 0.288889, loss 0.119786, change in loss 0.000225857\n",
      "step 450, training accuracy 0.288889, loss 0.119563, change in loss 0.000222355\n",
      "step 460, training accuracy 0.288889, loss 0.119344, change in loss 0.000218868\n",
      "step 470, training accuracy 0.288889, loss 0.119129, change in loss 0.000215471\n",
      "step 480, training accuracy 0.288889, loss 0.118917, change in loss 0.000212088\n",
      "step 490, training accuracy 0.288889, loss 0.118708, change in loss 0.000208795\n",
      "step 500, training accuracy 0.288889, loss 0.118502, change in loss 0.000205532\n",
      "step 510, training accuracy 0.288889, loss 0.1183, change in loss 0.000202335\n",
      "step 520, training accuracy 0.288889, loss 0.118102, change in loss 0.000198185\n",
      "step 530, training accuracy 0.288889, loss 0.117916, change in loss 0.000186346\n",
      "step 540, training accuracy 0.288889, loss 0.117732, change in loss 0.000183582\n",
      "step 550, training accuracy 0.288889, loss 0.117551, change in loss 0.000180885\n",
      "step 560, training accuracy 0.288889, loss 0.117373, change in loss 0.000178203\n",
      "step 570, training accuracy 0.288889, loss 0.117197, change in loss 0.000175588\n",
      "step 580, training accuracy 0.288889, loss 0.117024, change in loss 0.000172973\n",
      "step 590, training accuracy 0.288889, loss 0.116854, change in loss 0.000170432\n",
      "step 600, training accuracy 0.288889, loss 0.116686, change in loss 0.000167929\n",
      "step 610, training accuracy 0.288889, loss 0.11652, change in loss 0.0001655\n",
      "step 620, training accuracy 0.288889, loss 0.116357, change in loss 0.000163041\n",
      "step 630, training accuracy 0.288889, loss 0.116202, change in loss 0.000155084\n",
      "step 640, training accuracy 0.288889, loss 0.116052, change in loss 0.000150532\n",
      "step 650, training accuracy 0.288889, loss 0.115903, change in loss 0.000148445\n",
      "step 660, training accuracy 0.288889, loss 0.115757, change in loss 0.000146396\n",
      "step 670, training accuracy 0.288889, loss 0.115613, change in loss 0.000144362\n",
      "step 680, training accuracy 0.288889, loss 0.11547, change in loss 0.000142395\n",
      "step 690, training accuracy 0.288889, loss 0.11533, change in loss 0.000140429\n",
      "final accuracy on test set: 0.2888889\n"
     ]
    }
   ],
   "source": [
    "# Initialize reporting variables\n",
    "\n",
    "epochs = 700 # Number of Epochs in our training\n",
    "display_step = 10\n",
    "epoch_values = []\n",
    "accuracy_values = []\n",
    "loss_values = []\n",
    "loss = 0\n",
    "diff = 1\n",
    "\n",
    "# Training epochs\n",
    "for i in range(epochs):\n",
    "    if i > 1 and diff < 0.0001:\n",
    "        print(\"change in loss %g; convergence.\"%diff)\n",
    "        break\n",
    "    else:\n",
    "        # Run training step\n",
    "        run_optimization(train_X, train_Y)\n",
    "        \n",
    "        # Report occasional stats\n",
    "        if i % display_step == 0:\n",
    "            # Add epoch to epoch_values\n",
    "            epoch_values.append(i)\n",
    "            \n",
    "            pred = logistic_regression(test_X)\n",
    "            \n",
    "            new_loss = loss_object(pred, test_Y)\n",
    "            # Add loss to live graphing variable\n",
    "            loss_values.append(new_loss)\n",
    "            \n",
    "            # Generate accuracy stats on test data\n",
    "            acc = accuracy(pred, test_Y)\n",
    "            accuracy_values.append(acc)\n",
    "            \n",
    "    \n",
    "            # Re-assign values for variables\n",
    "            diff = abs(new_loss - loss)\n",
    "            loss = new_loss\n",
    "\n",
    "            #generate print statements\n",
    "            print(\"step %d, training accuracy %g, loss %g, change in loss %g\"%(i, acc, new_loss, diff))\n",
    "\n",
    "        \n",
    "\n",
    "          \n",
    "\n",
    "# How well do we perform on held-out test data?\n",
    "print(\"final accuracy on test set: %s\" %acc.numpy())\n",
    "\n"
   ]
  },
  {
   "cell_type": "code",
   "execution_count": 16,
   "metadata": {},
   "outputs": [
    {
     "data": {
      "image/png": "[encoded data removed]",
      "text/plain": [
       "<Figure size 432x288 with 1 Axes>"
      ]
     },
     "metadata": {
      "needs_background": "light"
     },
     "output_type": "display_data"
    }
   ],
   "source": [
    "%matplotlib inline\n",
    "import numpy as np\n",
    "import matplotlib.pyplot as plt\n",
    "# Plot the loss\n",
    "plt.plot([np.mean(loss_values[i-50:i]) for i in range(len(loss_values))])\n",
    "plt.show()"
   ]
  },
  {
   "cell_type": "code",
   "execution_count": null,
   "metadata": {},
   "outputs": [],
   "source": []
  }
 ],
 "metadata": {
  "kernelspec": {
   "display_name": "Python 3",
   "language": "python",
   "name": "python3"
  },
  "language_info": {
   "codemirror_mode": {
    "name": "ipython",
    "version": 3
   },
   "file_extension": ".py",
   "mimetype": "text/x-python",
   "name": "python",
   "nbconvert_exporter": "python",
   "pygments_lexer": "ipython3",
   "version": "3.7.8"
  }
 },
 "nbformat": 4,
 "nbformat_minor": 4
}
