{
 "cells": [
  {
   "cell_type": "markdown",
   "metadata": {},
   "source": [
    "# Wine quality analysis - Machine Learning - PART 4\n",
    "### Balancing Good / Bad wine in a dataset\n",
    "\n",
    "Datasource: https://archive.ics.uci.edu/ml/datasets/wine+quality"
   ]
  },
  {
   "cell_type": "markdown",
   "metadata": {},
   "source": [
    "## Columns description\n",
    "\n",
    "\n",
    "Column Position | Atrribute Name | Definition \n",
    " --- | --- | --- \n",
    "1 | fixed acidity | most acids involved with wine or fixed or nonvolatile (do not evaporate readily)\n",
    "2 | volatile acidity | the amount of acetic acid in wine, which at too high of levels can lead to an unpleasant, vinegar taste\n",
    "3 | citric acid | found in small quantities, citric acid can add 'freshness' and flavor to wines\n",
    "4 | residual sugar | the amount of sugar remaining after fermentation stops, it's rare to find wines with less than 1 gram/liter and wines with greater than 45 grams/liter are considered sweet\n",
    "5 | chlorides | the amount of salt in the wine\n",
    "6 | free sulfur dioxidet | he free form of SO2 exists in equilibrium between molecular SO2 (as a dissolved gas) and bisulfite ion; it prevents microbial growth and the oxidation of wine\n",
    "7 | total sulfur dioxide | amount of free and bound forms of S02; in low concentrations, SO2 is mostly undetectable in wine, but at free SO2 concentrations over 50 ppm, SO2 becomes evident in the nose and taste of wine\n",
    "8 | density | the density of water is close to that of water depending on the percent alcohol and sugar content\n",
    "9 | pH | describes how acidic or basic a wine is on a scale from 0 (very acidic) to 14 (very basic); most wines are between 3-4 on the pH scale\n",
    "10 | sulphates | a wine additive which can contribute to sulfur dioxide gas (S02) levels, wich acts as an antimicrobial and antioxidant\n",
    "11 | alcohol | the percent alcohol content of the wine\n",
    "12 | quality | output variable (based on sensory data, score between 0 and 10)\n",
    "13 | good | binary evaluation 1 - good , 0 - bad\n",
    "14 | color | wine type red or white"
   ]
  },
  {
   "cell_type": "markdown",
   "metadata": {},
   "source": [
    "# Project Plan \n",
    "\n",
    "Import libraries <br/>\n",
    "Data preparation for machine learning<br/>\n",
    "Balancing good/bad wine in a dataset<br/>\n",
    "\n",
    "Random Forest Binary Classification<br/>\n",
    "Decision Tree Binary Classification<br/>\n"
   ]
  },
  {
   "cell_type": "markdown",
   "metadata": {},
   "source": [
    "# Import libraries "
   ]
  },
  {
   "cell_type": "code",
   "execution_count": 1,
   "metadata": {},
   "outputs": [],
   "source": [
    "import pandas as pd\n",
    "import matplotlib.pyplot as plt\n",
    "import seaborn as sns\n",
    "%matplotlib inline\n",
    "from datetime import datetime\n",
    "import numpy as np\n",
    "\n",
    "#import stats libraries \n",
    "from pyspark.mllib.stat import Statistics\n",
    "from pyspark.ml.linalg import Vectors\n",
    "from pyspark.ml.stat import Correlation\n",
    "from pyspark.ml.feature import VectorAssembler\n",
    "\n",
    "from pyspark.sql import SparkSession"
   ]
  },
  {
   "cell_type": "code",
   "execution_count": 2,
   "metadata": {},
   "outputs": [],
   "source": [
    "# May take a little while on a local computer\n",
    "spark = SparkSession.builder.appName(\"winequality\").getOrCreate()"
   ]
  },
  {
   "cell_type": "code",
   "execution_count": 3,
   "metadata": {},
   "outputs": [],
   "source": [
    "df = spark.read.csv(\"winequality.csv\",header=True,inferSchema=True)"
   ]
  },
  {
   "cell_type": "code",
   "execution_count": 4,
   "metadata": {},
   "outputs": [
    {
     "data": {
      "text/html": [
       "<div>\n",
       "<style scoped>\n",
       "    .dataframe tbody tr th:only-of-type {\n",
       "        vertical-align: middle;\n",
       "    }\n",
       "\n",
       "    .dataframe tbody tr th {\n",
       "        vertical-align: top;\n",
       "    }\n",
       "\n",
       "    .dataframe thead th {\n",
       "        text-align: right;\n",
       "    }\n",
       "</style>\n",
       "<table border=\"1\" class=\"dataframe\">\n",
       "  <thead>\n",
       "    <tr style=\"text-align: right;\">\n",
       "      <th></th>\n",
       "      <th>fixed acidity</th>\n",
       "      <th>volatile acidity</th>\n",
       "      <th>citric acid</th>\n",
       "      <th>residual sugar</th>\n",
       "      <th>chlorides</th>\n",
       "      <th>free sulfur dioxide</th>\n",
       "      <th>total sulfur dioxide</th>\n",
       "      <th>density</th>\n",
       "      <th>pH</th>\n",
       "      <th>sulphates</th>\n",
       "      <th>alcohol</th>\n",
       "      <th>quality</th>\n",
       "      <th>good</th>\n",
       "      <th>color</th>\n",
       "    </tr>\n",
       "  </thead>\n",
       "  <tbody>\n",
       "    <tr>\n",
       "      <th>0</th>\n",
       "      <td>7.4</td>\n",
       "      <td>0.70</td>\n",
       "      <td>0.00</td>\n",
       "      <td>1.9</td>\n",
       "      <td>0.076</td>\n",
       "      <td>11.0</td>\n",
       "      <td>34.0</td>\n",
       "      <td>0.9978</td>\n",
       "      <td>3.51</td>\n",
       "      <td>0.56</td>\n",
       "      <td>9.4</td>\n",
       "      <td>5</td>\n",
       "      <td>0</td>\n",
       "      <td>red</td>\n",
       "    </tr>\n",
       "    <tr>\n",
       "      <th>1</th>\n",
       "      <td>7.8</td>\n",
       "      <td>0.88</td>\n",
       "      <td>0.00</td>\n",
       "      <td>2.6</td>\n",
       "      <td>0.098</td>\n",
       "      <td>25.0</td>\n",
       "      <td>67.0</td>\n",
       "      <td>0.9968</td>\n",
       "      <td>3.20</td>\n",
       "      <td>0.68</td>\n",
       "      <td>9.8</td>\n",
       "      <td>5</td>\n",
       "      <td>0</td>\n",
       "      <td>red</td>\n",
       "    </tr>\n",
       "    <tr>\n",
       "      <th>2</th>\n",
       "      <td>7.8</td>\n",
       "      <td>0.76</td>\n",
       "      <td>0.04</td>\n",
       "      <td>2.3</td>\n",
       "      <td>0.092</td>\n",
       "      <td>15.0</td>\n",
       "      <td>54.0</td>\n",
       "      <td>0.9970</td>\n",
       "      <td>3.26</td>\n",
       "      <td>0.65</td>\n",
       "      <td>9.8</td>\n",
       "      <td>5</td>\n",
       "      <td>0</td>\n",
       "      <td>red</td>\n",
       "    </tr>\n",
       "    <tr>\n",
       "      <th>3</th>\n",
       "      <td>11.2</td>\n",
       "      <td>0.28</td>\n",
       "      <td>0.56</td>\n",
       "      <td>1.9</td>\n",
       "      <td>0.075</td>\n",
       "      <td>17.0</td>\n",
       "      <td>60.0</td>\n",
       "      <td>0.9980</td>\n",
       "      <td>3.16</td>\n",
       "      <td>0.58</td>\n",
       "      <td>9.8</td>\n",
       "      <td>6</td>\n",
       "      <td>0</td>\n",
       "      <td>red</td>\n",
       "    </tr>\n",
       "    <tr>\n",
       "      <th>4</th>\n",
       "      <td>7.4</td>\n",
       "      <td>0.70</td>\n",
       "      <td>0.00</td>\n",
       "      <td>1.9</td>\n",
       "      <td>0.076</td>\n",
       "      <td>11.0</td>\n",
       "      <td>34.0</td>\n",
       "      <td>0.9978</td>\n",
       "      <td>3.51</td>\n",
       "      <td>0.56</td>\n",
       "      <td>9.4</td>\n",
       "      <td>5</td>\n",
       "      <td>0</td>\n",
       "      <td>red</td>\n",
       "    </tr>\n",
       "  </tbody>\n",
       "</table>\n",
       "</div>"
      ],
      "text/plain": [
       "   fixed acidity  volatile acidity  citric acid  residual sugar  chlorides  \\\n",
       "0            7.4              0.70         0.00             1.9      0.076   \n",
       "1            7.8              0.88         0.00             2.6      0.098   \n",
       "2            7.8              0.76         0.04             2.3      0.092   \n",
       "3           11.2              0.28         0.56             1.9      0.075   \n",
       "4            7.4              0.70         0.00             1.9      0.076   \n",
       "\n",
       "   free sulfur dioxide  total sulfur dioxide  density    pH  sulphates  \\\n",
       "0                 11.0                  34.0   0.9978  3.51       0.56   \n",
       "1                 25.0                  67.0   0.9968  3.20       0.68   \n",
       "2                 15.0                  54.0   0.9970  3.26       0.65   \n",
       "3                 17.0                  60.0   0.9980  3.16       0.58   \n",
       "4                 11.0                  34.0   0.9978  3.51       0.56   \n",
       "\n",
       "   alcohol  quality  good color  \n",
       "0      9.4        5     0   red  \n",
       "1      9.8        5     0   red  \n",
       "2      9.8        5     0   red  \n",
       "3      9.8        6     0   red  \n",
       "4      9.4        5     0   red  "
      ]
     },
     "execution_count": 4,
     "metadata": {},
     "output_type": "execute_result"
    }
   ],
   "source": [
    "#df.show(n=2, truncate=False, vertical=True)\n",
    "df.limit(5).toPandas()"
   ]
  },
  {
   "cell_type": "code",
   "execution_count": 5,
   "metadata": {},
   "outputs": [],
   "source": [
    "#Create DF for red and white wine\n",
    "df_red = df.filter(df.color =='red')\n",
    "df_white = df.filter(df.color =='white')"
   ]
  },
  {
   "cell_type": "code",
   "execution_count": 6,
   "metadata": {},
   "outputs": [
    {
     "name": "stdout",
     "output_type": "stream",
     "text": [
      "['color']\n",
      "['fixed acidity', 'volatile acidity', 'citric acid', 'residual sugar', 'chlorides', 'free sulfur dioxide', 'total sulfur dioxide', 'density', 'pH', 'sulphates', 'alcohol', 'quality', 'good']\n"
     ]
    }
   ],
   "source": [
    "#create lists of categorical and numberical columns\n",
    "\n",
    "cat = [item[0] for item in df.dtypes if item[1].startswith('string') ]\n",
    "num = [item for item in df.columns if item not in cat]\n",
    "print(cat)\n",
    "print(num)"
   ]
  },
  {
   "cell_type": "markdown",
   "metadata": {},
   "source": [
    "# Balancing dataset"
   ]
  },
  {
   "cell_type": "markdown",
   "metadata": {},
   "source": [
    "### Red wine"
   ]
  },
  {
   "cell_type": "code",
   "execution_count": 48,
   "metadata": {},
   "outputs": [
    {
     "name": "stdout",
     "output_type": "stream",
     "text": [
      "Good/bad ratio 0.16\n",
      "Good count 217\n",
      "Bad count 1382\n"
     ]
    }
   ],
   "source": [
    "df_red_good = df_red[df_red['good'] == 1]\n",
    "df_red_bad = df_red[df_red['good'] == 0]\n",
    "\n",
    "red_ratio = round(df_red_good.count()/df_red_bad.count(),2)\n",
    "print('Good/bad ratio',red_ratio)\n",
    "print('Good count',df_red_good.count())\n",
    "print('Bad count',df_red_bad.count())"
   ]
  },
  {
   "cell_type": "code",
   "execution_count": 49,
   "metadata": {},
   "outputs": [
    {
     "name": "stdout",
     "output_type": "stream",
     "text": [
      "Bad count after sampling 228\n",
      "Balaced count after union 445\n"
     ]
    }
   ],
   "source": [
    "#sample without replacement bad to match good size, and seed for reproduce the result\n",
    "df_red_bad = df_red_bad.sample(False, red_ratio, 42)\n",
    "print('Bad count after sampling',df_red_bad.count())\n",
    "red_balanced = df_red_good.union(df_red_bad)\n",
    "print('Balaced count after union',red_balanced.count())"
   ]
  },
  {
   "cell_type": "code",
   "execution_count": 50,
   "metadata": {},
   "outputs": [
    {
     "name": "stdout",
     "output_type": "stream",
     "text": [
      "Percent of original dataset 0.28\n"
     ]
    }
   ],
   "source": [
    "print('Percent of original dataset',round(red_balanced.count()/df_red.count(),2))"
   ]
  },
  {
   "cell_type": "markdown",
   "metadata": {},
   "source": [
    "### White wine"
   ]
  },
  {
   "cell_type": "code",
   "execution_count": 51,
   "metadata": {},
   "outputs": [
    {
     "name": "stdout",
     "output_type": "stream",
     "text": [
      "Good/bad ratio 0.28\n",
      "Good count 1060\n",
      "Bad count 3838\n"
     ]
    }
   ],
   "source": [
    "df_white_good = df_white[df_white['good'] == 1]\n",
    "df_white_bad = df_white[df_white['good'] == 0]\n",
    "\n",
    "white_ratio = round(df_white_good.count()/df_white_bad.count(),2)\n",
    "print('Good/bad ratio',white_ratio)\n",
    "print('Good count',df_white_good.count())\n",
    "print('Bad count',df_white_bad.count())"
   ]
  },
  {
   "cell_type": "code",
   "execution_count": 52,
   "metadata": {},
   "outputs": [
    {
     "name": "stdout",
     "output_type": "stream",
     "text": [
      "Bad count after sampling 1103\n",
      "Balaced count after union 2163\n"
     ]
    }
   ],
   "source": [
    "#sample without replacement bad to match good size, and seed for reproduce the result\n",
    "df_white_bad = df_white_bad.sample(False, white_ratio, 42)\n",
    "print('Bad count after sampling',df_white_bad.count())\n",
    "white_balanced = df_white_good.union(df_white_bad)\n",
    "print('Balaced count after union',white_balanced.count())"
   ]
  },
  {
   "cell_type": "code",
   "execution_count": 53,
   "metadata": {},
   "outputs": [
    {
     "name": "stdout",
     "output_type": "stream",
     "text": [
      "Percent of original dataset 0.44\n"
     ]
    }
   ],
   "source": [
    "print('Percent of original dataset',round(white_balanced.count()/df_white.count(),2))"
   ]
  },
  {
   "cell_type": "code",
   "execution_count": 54,
   "metadata": {},
   "outputs": [
    {
     "data": {
      "text/plain": [
       "DataFrame[fixed acidity: double, volatile acidity: double, citric acid: double, residual sugar: double, chlorides: double, free sulfur dioxide: double, total sulfur dioxide: double, density: double, pH: double, sulphates: double, alcohol: double, quality: int, good: int, color: string]"
      ]
     },
     "execution_count": 54,
     "metadata": {},
     "output_type": "execute_result"
    }
   ],
   "source": [
    "white_balanced"
   ]
  },
  {
   "cell_type": "code",
   "execution_count": 55,
   "metadata": {},
   "outputs": [],
   "source": [
    "#Match dataframes with balanced values\n",
    "df = red_balanced.union(white_balanced)\n",
    "df_red = red_balanced\n",
    "df_white = white_balanced"
   ]
  },
  {
   "cell_type": "markdown",
   "metadata": {},
   "source": [
    "# Data preparation for ML"
   ]
  },
  {
   "cell_type": "code",
   "execution_count": null,
   "metadata": {},
   "outputs": [],
   "source": [
    "#Import libraries\n",
    "from pyspark.ml.tuning import ParamGridBuilder, CrossValidator\n",
    "from pyspark.ml.evaluation import RegressionEvaluator\n",
    "from pyspark.ml import Pipeline\n",
    "from pyspark.ml.feature import StringIndexer"
   ]
  },
  {
   "cell_type": "markdown",
   "metadata": {},
   "source": [
    "### Encode wine color"
   ]
  },
  {
   "cell_type": "code",
   "execution_count": 59,
   "metadata": {},
   "outputs": [
    {
     "data": {
      "text/plain": [
       "['color']"
      ]
     },
     "execution_count": 59,
     "metadata": {},
     "output_type": "execute_result"
    }
   ],
   "source": [
    "cat"
   ]
  },
  {
   "cell_type": "code",
   "execution_count": 60,
   "metadata": {},
   "outputs": [],
   "source": [
    "#convert cat data into INT\n",
    "\n",
    "#define a list of stages in your pipeline. The string indexer will be one stage\n",
    "stages = []\n",
    "\n",
    "#iterate through all categorical values\n",
    "for categoricalCol in cat:\n",
    "    #create a string indexer for those categorical values and assign a new name including the word 'Index'\n",
    "    stringIndexer = StringIndexer(inputCol = categoricalCol, outputCol = categoricalCol + 'Index')\n",
    "\n",
    "    #append the string Indexer to our list of stages\n",
    "    stages += [stringIndexer]\n",
    "\n",
    "#Create the pipeline. Assign the satges list to the pipeline key word stages\n",
    "pipeline = Pipeline(stages = stages)\n",
    "#fit the pipeline to our dataframe\n",
    "pipelineModel = pipeline.fit(df)\n",
    "#transform the dataframe\n",
    "df_enc= pipelineModel.transform(df)"
   ]
  },
  {
   "cell_type": "code",
   "execution_count": 61,
   "metadata": {},
   "outputs": [
    {
     "data": {
      "text/plain": [
       "['fixed acidity',\n",
       " 'volatile acidity',\n",
       " 'citric acid',\n",
       " 'residual sugar',\n",
       " 'chlorides',\n",
       " 'free sulfur dioxide',\n",
       " 'total sulfur dioxide',\n",
       " 'density',\n",
       " 'pH',\n",
       " 'sulphates',\n",
       " 'alcohol',\n",
       " 'colorIndex']"
      ]
     },
     "execution_count": 61,
     "metadata": {},
     "output_type": "execute_result"
    }
   ],
   "source": [
    "num_enc = ['fixed acidity', 'volatile acidity', 'citric acid', 'residual sugar', 'chlorides', 'free sulfur dioxide', 'total sulfur dioxide', 'density', 'pH', 'sulphates', 'alcohol', 'colorIndex']\n",
    "num_enc"
   ]
  },
  {
   "cell_type": "markdown",
   "metadata": {},
   "source": [
    "### Create input vector and split data"
   ]
  },
  {
   "cell_type": "code",
   "execution_count": 62,
   "metadata": {},
   "outputs": [
    {
     "name": "stdout",
     "output_type": "stream",
     "text": [
      "-RECORD 0----------------------------------------------------------------------------\n",
      " fixed acidity        | 7.3                                                          \n",
      " volatile acidity     | 0.65                                                         \n",
      " citric acid          | 0.0                                                          \n",
      " residual sugar       | 1.2                                                          \n",
      " chlorides            | 0.065                                                        \n",
      " free sulfur dioxide  | 15.0                                                         \n",
      " total sulfur dioxide | 21.0                                                         \n",
      " density              | 0.9946                                                       \n",
      " pH                   | 3.39                                                         \n",
      " sulphates            | 0.47                                                         \n",
      " alcohol              | 10.0                                                         \n",
      " quality              | 7                                                            \n",
      " good                 | 1                                                            \n",
      " color                | red                                                          \n",
      " colorIndex           | 1.0                                                          \n",
      " features             | [7.3,0.65,0.0,1.2,0.065,15.0,21.0,0.9946,3.39,0.47,10.0,1.0] \n",
      "only showing top 1 row\n",
      "\n"
     ]
    }
   ],
   "source": [
    "#create input vector\n",
    "features_column = num_enc\n",
    "\n",
    "assembler = (VectorAssembler()\n",
    "  .setInputCols(features_column)\n",
    "  .setOutputCol(\"features\"))\n",
    "\n",
    "finalPrep = assembler.transform(df_enc)\n",
    "finalPrep.show(n=1, truncate=False, vertical=True)"
   ]
  },
  {
   "cell_type": "code",
   "execution_count": 63,
   "metadata": {},
   "outputs": [
    {
     "name": "stdout",
     "output_type": "stream",
     "text": [
      "1814\n",
      "794\n"
     ]
    }
   ],
   "source": [
    "#split in training and testing datasets\n",
    "training_enc, test_enc = finalPrep.randomSplit([0.7, 0.3])\n",
    "# Going to cache the data  \n",
    "training_enc.cache()\n",
    "test_enc.cache()\n",
    "print(training_enc.count())\n",
    "print(test_enc.count())"
   ]
  },
  {
   "cell_type": "markdown",
   "metadata": {},
   "source": [
    "### Data preparation for machine learning - Red only"
   ]
  },
  {
   "cell_type": "code",
   "execution_count": 64,
   "metadata": {},
   "outputs": [
    {
     "data": {
      "text/html": [
       "<div>\n",
       "<style scoped>\n",
       "    .dataframe tbody tr th:only-of-type {\n",
       "        vertical-align: middle;\n",
       "    }\n",
       "\n",
       "    .dataframe tbody tr th {\n",
       "        vertical-align: top;\n",
       "    }\n",
       "\n",
       "    .dataframe thead th {\n",
       "        text-align: right;\n",
       "    }\n",
       "</style>\n",
       "<table border=\"1\" class=\"dataframe\">\n",
       "  <thead>\n",
       "    <tr style=\"text-align: right;\">\n",
       "      <th></th>\n",
       "      <th>fixed acidity</th>\n",
       "      <th>volatile acidity</th>\n",
       "      <th>citric acid</th>\n",
       "      <th>residual sugar</th>\n",
       "      <th>chlorides</th>\n",
       "      <th>free sulfur dioxide</th>\n",
       "      <th>total sulfur dioxide</th>\n",
       "      <th>density</th>\n",
       "      <th>pH</th>\n",
       "      <th>sulphates</th>\n",
       "      <th>alcohol</th>\n",
       "      <th>quality</th>\n",
       "      <th>good</th>\n",
       "      <th>color</th>\n",
       "      <th>features</th>\n",
       "    </tr>\n",
       "  </thead>\n",
       "  <tbody>\n",
       "    <tr>\n",
       "      <th>0</th>\n",
       "      <td>7.3</td>\n",
       "      <td>0.65</td>\n",
       "      <td>0.00</td>\n",
       "      <td>1.2</td>\n",
       "      <td>0.065</td>\n",
       "      <td>15.0</td>\n",
       "      <td>21.0</td>\n",
       "      <td>0.9946</td>\n",
       "      <td>3.39</td>\n",
       "      <td>0.47</td>\n",
       "      <td>10.0</td>\n",
       "      <td>7</td>\n",
       "      <td>1</td>\n",
       "      <td>red</td>\n",
       "      <td>[7.3, 0.65, 0.0, 1.2, 0.065, 15.0, 21.0, 0.994...</td>\n",
       "    </tr>\n",
       "    <tr>\n",
       "      <th>1</th>\n",
       "      <td>7.8</td>\n",
       "      <td>0.58</td>\n",
       "      <td>0.02</td>\n",
       "      <td>2.0</td>\n",
       "      <td>0.073</td>\n",
       "      <td>9.0</td>\n",
       "      <td>18.0</td>\n",
       "      <td>0.9968</td>\n",
       "      <td>3.36</td>\n",
       "      <td>0.57</td>\n",
       "      <td>9.5</td>\n",
       "      <td>7</td>\n",
       "      <td>1</td>\n",
       "      <td>red</td>\n",
       "      <td>[7.8, 0.58, 0.02, 2.0, 0.073, 9.0, 18.0, 0.996...</td>\n",
       "    </tr>\n",
       "    <tr>\n",
       "      <th>2</th>\n",
       "      <td>8.5</td>\n",
       "      <td>0.28</td>\n",
       "      <td>0.56</td>\n",
       "      <td>1.8</td>\n",
       "      <td>0.092</td>\n",
       "      <td>35.0</td>\n",
       "      <td>103.0</td>\n",
       "      <td>0.9969</td>\n",
       "      <td>3.30</td>\n",
       "      <td>0.75</td>\n",
       "      <td>10.5</td>\n",
       "      <td>7</td>\n",
       "      <td>1</td>\n",
       "      <td>red</td>\n",
       "      <td>[8.5, 0.28, 0.56, 1.8, 0.092, 35.0, 103.0, 0.9...</td>\n",
       "    </tr>\n",
       "    <tr>\n",
       "      <th>3</th>\n",
       "      <td>8.1</td>\n",
       "      <td>0.38</td>\n",
       "      <td>0.28</td>\n",
       "      <td>2.1</td>\n",
       "      <td>0.066</td>\n",
       "      <td>13.0</td>\n",
       "      <td>30.0</td>\n",
       "      <td>0.9968</td>\n",
       "      <td>3.23</td>\n",
       "      <td>0.73</td>\n",
       "      <td>9.7</td>\n",
       "      <td>7</td>\n",
       "      <td>1</td>\n",
       "      <td>red</td>\n",
       "      <td>[8.1, 0.38, 0.28, 2.1, 0.066, 13.0, 30.0, 0.99...</td>\n",
       "    </tr>\n",
       "    <tr>\n",
       "      <th>4</th>\n",
       "      <td>7.5</td>\n",
       "      <td>0.52</td>\n",
       "      <td>0.16</td>\n",
       "      <td>1.9</td>\n",
       "      <td>0.085</td>\n",
       "      <td>12.0</td>\n",
       "      <td>35.0</td>\n",
       "      <td>0.9968</td>\n",
       "      <td>3.38</td>\n",
       "      <td>0.62</td>\n",
       "      <td>9.5</td>\n",
       "      <td>7</td>\n",
       "      <td>1</td>\n",
       "      <td>red</td>\n",
       "      <td>[7.5, 0.52, 0.16, 1.9, 0.085, 12.0, 35.0, 0.99...</td>\n",
       "    </tr>\n",
       "  </tbody>\n",
       "</table>\n",
       "</div>"
      ],
      "text/plain": [
       "   fixed acidity  volatile acidity  citric acid  residual sugar  chlorides  \\\n",
       "0            7.3              0.65         0.00             1.2      0.065   \n",
       "1            7.8              0.58         0.02             2.0      0.073   \n",
       "2            8.5              0.28         0.56             1.8      0.092   \n",
       "3            8.1              0.38         0.28             2.1      0.066   \n",
       "4            7.5              0.52         0.16             1.9      0.085   \n",
       "\n",
       "   free sulfur dioxide  total sulfur dioxide  density    pH  sulphates  \\\n",
       "0                 15.0                  21.0   0.9946  3.39       0.47   \n",
       "1                  9.0                  18.0   0.9968  3.36       0.57   \n",
       "2                 35.0                 103.0   0.9969  3.30       0.75   \n",
       "3                 13.0                  30.0   0.9968  3.23       0.73   \n",
       "4                 12.0                  35.0   0.9968  3.38       0.62   \n",
       "\n",
       "   alcohol  quality  good color  \\\n",
       "0     10.0        7     1   red   \n",
       "1      9.5        7     1   red   \n",
       "2     10.5        7     1   red   \n",
       "3      9.7        7     1   red   \n",
       "4      9.5        7     1   red   \n",
       "\n",
       "                                            features  \n",
       "0  [7.3, 0.65, 0.0, 1.2, 0.065, 15.0, 21.0, 0.994...  \n",
       "1  [7.8, 0.58, 0.02, 2.0, 0.073, 9.0, 18.0, 0.996...  \n",
       "2  [8.5, 0.28, 0.56, 1.8, 0.092, 35.0, 103.0, 0.9...  \n",
       "3  [8.1, 0.38, 0.28, 2.1, 0.066, 13.0, 30.0, 0.99...  \n",
       "4  [7.5, 0.52, 0.16, 1.9, 0.085, 12.0, 35.0, 0.99...  "
      ]
     },
     "execution_count": 64,
     "metadata": {},
     "output_type": "execute_result"
    }
   ],
   "source": [
    "#create input vector\n",
    "features_column = num[0:-2]\n",
    "\n",
    "assembler_red = (VectorAssembler()\n",
    "  .setInputCols(features_column)\n",
    "  .setOutputCol(\"features\"))\n",
    "\n",
    "finalPrep_red = assembler_red.transform(df_red)\n",
    "#finalPrep_red.show(n=1, truncate=False, vertical=True)\n",
    "finalPrep_red.limit(5).toPandas()"
   ]
  },
  {
   "cell_type": "code",
   "execution_count": 65,
   "metadata": {},
   "outputs": [
    {
     "name": "stdout",
     "output_type": "stream",
     "text": [
      "322\n",
      "123\n"
     ]
    }
   ],
   "source": [
    "#split in training and testing datasets\n",
    "training_red, test_red = finalPrep_red.randomSplit([0.7, 0.3])\n",
    "# Going to cache the data  \n",
    "training_red.cache()\n",
    "test_red.cache()\n",
    "print(training_red.count())\n",
    "print(test_red.count())"
   ]
  },
  {
   "cell_type": "markdown",
   "metadata": {},
   "source": [
    "### Data preparation for machine learning - White only"
   ]
  },
  {
   "cell_type": "code",
   "execution_count": 66,
   "metadata": {},
   "outputs": [
    {
     "data": {
      "text/html": [
       "<div>\n",
       "<style scoped>\n",
       "    .dataframe tbody tr th:only-of-type {\n",
       "        vertical-align: middle;\n",
       "    }\n",
       "\n",
       "    .dataframe tbody tr th {\n",
       "        vertical-align: top;\n",
       "    }\n",
       "\n",
       "    .dataframe thead th {\n",
       "        text-align: right;\n",
       "    }\n",
       "</style>\n",
       "<table border=\"1\" class=\"dataframe\">\n",
       "  <thead>\n",
       "    <tr style=\"text-align: right;\">\n",
       "      <th></th>\n",
       "      <th>fixed acidity</th>\n",
       "      <th>volatile acidity</th>\n",
       "      <th>citric acid</th>\n",
       "      <th>residual sugar</th>\n",
       "      <th>chlorides</th>\n",
       "      <th>free sulfur dioxide</th>\n",
       "      <th>total sulfur dioxide</th>\n",
       "      <th>density</th>\n",
       "      <th>pH</th>\n",
       "      <th>sulphates</th>\n",
       "      <th>alcohol</th>\n",
       "      <th>quality</th>\n",
       "      <th>good</th>\n",
       "      <th>color</th>\n",
       "      <th>features</th>\n",
       "    </tr>\n",
       "  </thead>\n",
       "  <tbody>\n",
       "    <tr>\n",
       "      <th>0</th>\n",
       "      <td>6.6</td>\n",
       "      <td>0.16</td>\n",
       "      <td>0.40</td>\n",
       "      <td>1.5</td>\n",
       "      <td>0.044</td>\n",
       "      <td>48.0</td>\n",
       "      <td>143.0</td>\n",
       "      <td>0.9912</td>\n",
       "      <td>3.54</td>\n",
       "      <td>0.52</td>\n",
       "      <td>12.4</td>\n",
       "      <td>7</td>\n",
       "      <td>1</td>\n",
       "      <td>white</td>\n",
       "      <td>[6.6, 0.16, 0.4, 1.5, 0.044, 48.0, 143.0, 0.99...</td>\n",
       "    </tr>\n",
       "    <tr>\n",
       "      <th>1</th>\n",
       "      <td>6.6</td>\n",
       "      <td>0.17</td>\n",
       "      <td>0.38</td>\n",
       "      <td>1.5</td>\n",
       "      <td>0.032</td>\n",
       "      <td>28.0</td>\n",
       "      <td>112.0</td>\n",
       "      <td>0.9914</td>\n",
       "      <td>3.25</td>\n",
       "      <td>0.55</td>\n",
       "      <td>11.4</td>\n",
       "      <td>7</td>\n",
       "      <td>1</td>\n",
       "      <td>white</td>\n",
       "      <td>[6.6, 0.17, 0.38, 1.5, 0.032, 28.0, 112.0, 0.9...</td>\n",
       "    </tr>\n",
       "    <tr>\n",
       "      <th>2</th>\n",
       "      <td>6.2</td>\n",
       "      <td>0.66</td>\n",
       "      <td>0.48</td>\n",
       "      <td>1.2</td>\n",
       "      <td>0.029</td>\n",
       "      <td>29.0</td>\n",
       "      <td>75.0</td>\n",
       "      <td>0.9892</td>\n",
       "      <td>3.33</td>\n",
       "      <td>0.39</td>\n",
       "      <td>12.8</td>\n",
       "      <td>8</td>\n",
       "      <td>1</td>\n",
       "      <td>white</td>\n",
       "      <td>[6.2, 0.66, 0.48, 1.2, 0.029, 29.0, 75.0, 0.98...</td>\n",
       "    </tr>\n",
       "    <tr>\n",
       "      <th>3</th>\n",
       "      <td>6.2</td>\n",
       "      <td>0.66</td>\n",
       "      <td>0.48</td>\n",
       "      <td>1.2</td>\n",
       "      <td>0.029</td>\n",
       "      <td>29.0</td>\n",
       "      <td>75.0</td>\n",
       "      <td>0.9892</td>\n",
       "      <td>3.33</td>\n",
       "      <td>0.39</td>\n",
       "      <td>12.8</td>\n",
       "      <td>8</td>\n",
       "      <td>1</td>\n",
       "      <td>white</td>\n",
       "      <td>[6.2, 0.66, 0.48, 1.2, 0.029, 29.0, 75.0, 0.98...</td>\n",
       "    </tr>\n",
       "    <tr>\n",
       "      <th>4</th>\n",
       "      <td>6.4</td>\n",
       "      <td>0.31</td>\n",
       "      <td>0.38</td>\n",
       "      <td>2.9</td>\n",
       "      <td>0.038</td>\n",
       "      <td>19.0</td>\n",
       "      <td>102.0</td>\n",
       "      <td>0.9912</td>\n",
       "      <td>3.17</td>\n",
       "      <td>0.35</td>\n",
       "      <td>11.0</td>\n",
       "      <td>7</td>\n",
       "      <td>1</td>\n",
       "      <td>white</td>\n",
       "      <td>[6.4, 0.31, 0.38, 2.9, 0.038, 19.0, 102.0, 0.9...</td>\n",
       "    </tr>\n",
       "  </tbody>\n",
       "</table>\n",
       "</div>"
      ],
      "text/plain": [
       "   fixed acidity  volatile acidity  citric acid  residual sugar  chlorides  \\\n",
       "0            6.6              0.16         0.40             1.5      0.044   \n",
       "1            6.6              0.17         0.38             1.5      0.032   \n",
       "2            6.2              0.66         0.48             1.2      0.029   \n",
       "3            6.2              0.66         0.48             1.2      0.029   \n",
       "4            6.4              0.31         0.38             2.9      0.038   \n",
       "\n",
       "   free sulfur dioxide  total sulfur dioxide  density    pH  sulphates  \\\n",
       "0                 48.0                 143.0   0.9912  3.54       0.52   \n",
       "1                 28.0                 112.0   0.9914  3.25       0.55   \n",
       "2                 29.0                  75.0   0.9892  3.33       0.39   \n",
       "3                 29.0                  75.0   0.9892  3.33       0.39   \n",
       "4                 19.0                 102.0   0.9912  3.17       0.35   \n",
       "\n",
       "   alcohol  quality  good  color  \\\n",
       "0     12.4        7     1  white   \n",
       "1     11.4        7     1  white   \n",
       "2     12.8        8     1  white   \n",
       "3     12.8        8     1  white   \n",
       "4     11.0        7     1  white   \n",
       "\n",
       "                                            features  \n",
       "0  [6.6, 0.16, 0.4, 1.5, 0.044, 48.0, 143.0, 0.99...  \n",
       "1  [6.6, 0.17, 0.38, 1.5, 0.032, 28.0, 112.0, 0.9...  \n",
       "2  [6.2, 0.66, 0.48, 1.2, 0.029, 29.0, 75.0, 0.98...  \n",
       "3  [6.2, 0.66, 0.48, 1.2, 0.029, 29.0, 75.0, 0.98...  \n",
       "4  [6.4, 0.31, 0.38, 2.9, 0.038, 19.0, 102.0, 0.9...  "
      ]
     },
     "execution_count": 66,
     "metadata": {},
     "output_type": "execute_result"
    }
   ],
   "source": [
    "#create input vector\n",
    "features_column = num[0:-2]\n",
    "\n",
    "assembler_white = (VectorAssembler()\n",
    "  .setInputCols(features_column)\n",
    "  .setOutputCol(\"features\"))\n",
    "\n",
    "finalPrep_white = assembler_red.transform(df_white)\n",
    "#finalPrep_red.show(n=1, truncate=False, vertical=True)\n",
    "finalPrep_white.limit(5).toPandas()"
   ]
  },
  {
   "cell_type": "code",
   "execution_count": 67,
   "metadata": {},
   "outputs": [
    {
     "name": "stdout",
     "output_type": "stream",
     "text": [
      "1543\n",
      "620\n"
     ]
    }
   ],
   "source": [
    "#split in training and testing datasets\n",
    "training_white, test_white = finalPrep_white.randomSplit([0.7, 0.3])\n",
    "# Going to cache the data  \n",
    "training_white.cache()\n",
    "test_white.cache()\n",
    "print(training_white.count())\n",
    "print(test_white.count())"
   ]
  },
  {
   "cell_type": "markdown",
   "metadata": {},
   "source": [
    "# Random Forest Binary Classification "
   ]
  },
  {
   "cell_type": "code",
   "execution_count": 68,
   "metadata": {},
   "outputs": [],
   "source": [
    "from pyspark.ml import Pipeline\n",
    "from pyspark.ml.classification import RandomForestClassifier\n",
    "from pyspark.ml.evaluation import MulticlassClassificationEvaluator\n",
    "\n",
    "from pyspark.ml.evaluation import BinaryClassificationEvaluator\n",
    "import sklearn \n",
    "from sklearn.metrics import classification_report, confusion_matrix"
   ]
  },
  {
   "cell_type": "code",
   "execution_count": 69,
   "metadata": {},
   "outputs": [],
   "source": [
    "def RFClassifer(training, test):\n",
    "    rfModel = (RandomForestClassifier()\n",
    "      .setLabelCol(\"good\")\n",
    "      .setFeaturesCol(\"features\"))\n",
    "    paramGrid = (ParamGridBuilder()\n",
    "      .addGrid(rfModel.maxDepth, [5, 10])\n",
    "      .addGrid(rfModel.numTrees, [20, 60])\n",
    "      .build())\n",
    "\n",
    "    stages = [rfModel]\n",
    "    pipeline = Pipeline().setStages(stages)\n",
    "    \n",
    "    cv = (CrossValidator() # you can feel free to change the number of folds used in cross validation as well\n",
    "      .setEstimator(pipeline) # the estimator can also just be an individual model rather than a pipeline\n",
    "      .setEstimatorParamMaps(paramGrid)\n",
    "      .setEvaluator(BinaryClassificationEvaluator().setLabelCol(\"good\")))\n",
    "    \n",
    "    pipelineFitted = cv.fit(training)\n",
    "    \n",
    "    print(\"The Best Parameters:\\n--------------------\")\n",
    "    print(pipelineFitted.bestModel.stages[0])      \n",
    "    pipelineFitted.bestModel.stages[0].extractParamMap()\n",
    "    \n",
    "    test_predict = pipelineFitted.bestModel.transform(test).selectExpr(\"double(round(prediction)) as prediction\",\"double(round(good)) as good\")\n",
    "    display(test_predict.show(3))\n",
    "    \n",
    "    return test_predict"
   ]
  },
  {
   "cell_type": "code",
   "execution_count": 70,
   "metadata": {},
   "outputs": [],
   "source": [
    "def ConfMatrix(test_predict):\n",
    "        #collect prediction and true value\n",
    "    y_true = test_predict.select(['good']).collect()\n",
    "    y_pred = test_predict.select(['prediction']).collect()\n",
    "\n",
    "    #classification report\n",
    "    print(classification_report(y_true, y_pred))\n",
    "    \n",
    "    #confusion matrix \n",
    "\n",
    "    cm = confusion_matrix(y_true, y_pred)\n",
    "    sns.heatmap(cm, annot=True, fmt='d')\n",
    "    plt.show()"
   ]
  },
  {
   "cell_type": "code",
   "execution_count": 71,
   "metadata": {},
   "outputs": [],
   "source": [
    "def Evaluation(test_predict):\n",
    "    acc = test_predict.selectExpr(\"prediction\", \"good\",\n",
    "                        \"\"\"\n",
    "                        CASE prediction = good\n",
    "                        WHEN true then 1\n",
    "                        ELSE 0\n",
    "                        END as equal\n",
    "                        \"\"\")\n",
    "        \n",
    "    print(acc.selectExpr(\"sum(equal)/sum(1)\").show())\n",
    "\n",
    "    # Another way to evaluate error\n",
    "    evaluator = MulticlassClassificationEvaluator(labelCol=\"good\", predictionCol=\"prediction\", metricName=\"accuracy\")\n",
    "    \n",
    "    accuracy = evaluator.evaluate(test_predict)\n",
    "    print(\"Test Error = %g\" % (1.0 - accuracy))\n",
    "    \n",
    "    ConfMatrix(test_predict)"
   ]
  },
  {
   "cell_type": "markdown",
   "metadata": {},
   "source": [
    "### Random Forest Classification - All wine"
   ]
  },
  {
   "cell_type": "code",
   "execution_count": 72,
   "metadata": {},
   "outputs": [
    {
     "name": "stdout",
     "output_type": "stream",
     "text": [
      "The Best Parameters:\n",
      "--------------------\n",
      "RandomForestClassificationModel: uid=RandomForestClassifier_4302bf837437, numTrees=60, numClasses=2, numFeatures=12\n",
      "+----------+----+\n",
      "|prediction|good|\n",
      "+----------+----+\n",
      "|       1.0| 1.0|\n",
      "|       1.0| 1.0|\n",
      "|       1.0| 1.0|\n",
      "+----------+----+\n",
      "only showing top 3 rows\n",
      "\n"
     ]
    },
    {
     "data": {
      "text/plain": [
       "None"
      ]
     },
     "metadata": {},
     "output_type": "display_data"
    },
    {
     "name": "stdout",
     "output_type": "stream",
     "text": [
      "+---------------------+\n",
      "|(sum(equal) / sum(1))|\n",
      "+---------------------+\n",
      "|   0.7896725440806045|\n",
      "+---------------------+\n",
      "\n",
      "None\n",
      "Test Error = 0.210327\n",
      "              precision    recall  f1-score   support\n",
      "\n",
      "         0.0       0.80      0.78      0.79       404\n",
      "         1.0       0.78      0.80      0.79       390\n",
      "\n",
      "    accuracy                           0.79       794\n",
      "   macro avg       0.79      0.79      0.79       794\n",
      "weighted avg       0.79      0.79      0.79       794\n",
      "\n"
     ]
    },
    {
     "data": {
      "image/png": "[encoded data removed]",
      "text/plain": [
       "<Figure size 432x288 with 2 Axes>"
      ]
     },
     "metadata": {
      "needs_background": "light"
     },
     "output_type": "display_data"
    }
   ],
   "source": [
    "test_predict = RFClassifer(training_enc, test_enc)\n",
    "Evaluation(test_predict)"
   ]
  },
  {
   "cell_type": "markdown",
   "metadata": {},
   "source": [
    "### Random Forest Classification - Red Wine only"
   ]
  },
  {
   "cell_type": "code",
   "execution_count": 73,
   "metadata": {},
   "outputs": [
    {
     "name": "stdout",
     "output_type": "stream",
     "text": [
      "The Best Parameters:\n",
      "--------------------\n",
      "RandomForestClassificationModel: uid=RandomForestClassifier_7de30802b305, numTrees=60, numClasses=2, numFeatures=11\n",
      "+----------+----+\n",
      "|prediction|good|\n",
      "+----------+----+\n",
      "|       1.0| 1.0|\n",
      "|       1.0| 1.0|\n",
      "|       1.0| 1.0|\n",
      "+----------+----+\n",
      "only showing top 3 rows\n",
      "\n"
     ]
    },
    {
     "data": {
      "text/plain": [
       "None"
      ]
     },
     "metadata": {},
     "output_type": "display_data"
    },
    {
     "name": "stdout",
     "output_type": "stream",
     "text": [
      "+---------------------+\n",
      "|(sum(equal) / sum(1))|\n",
      "+---------------------+\n",
      "|   0.8292682926829268|\n",
      "+---------------------+\n",
      "\n",
      "None\n",
      "Test Error = 0.170732\n",
      "              precision    recall  f1-score   support\n",
      "\n",
      "         0.0       0.87      0.80      0.83        66\n",
      "         1.0       0.79      0.86      0.82        57\n",
      "\n",
      "    accuracy                           0.83       123\n",
      "   macro avg       0.83      0.83      0.83       123\n",
      "weighted avg       0.83      0.83      0.83       123\n",
      "\n"
     ]
    },
    {
     "data": {
      "image/png": "[encoded data removed]",
      "text/plain": [
       "<Figure size 432x288 with 2 Axes>"
      ]
     },
     "metadata": {
      "needs_background": "light"
     },
     "output_type": "display_data"
    }
   ],
   "source": [
    "test_predict = RFClassifer(training_red, test_red)\n",
    "Evaluation(test_predict)"
   ]
  },
  {
   "cell_type": "markdown",
   "metadata": {},
   "source": [
    "### Random Forest Classification - White Wine only"
   ]
  },
  {
   "cell_type": "code",
   "execution_count": 74,
   "metadata": {},
   "outputs": [
    {
     "name": "stdout",
     "output_type": "stream",
     "text": [
      "The Best Parameters:\n",
      "--------------------\n",
      "RandomForestClassificationModel: uid=RandomForestClassifier_0ece3e38fdfe, numTrees=60, numClasses=2, numFeatures=11\n",
      "+----------+----+\n",
      "|prediction|good|\n",
      "+----------+----+\n",
      "|       1.0| 1.0|\n",
      "|       1.0| 1.0|\n",
      "|       0.0| 1.0|\n",
      "+----------+----+\n",
      "only showing top 3 rows\n",
      "\n"
     ]
    },
    {
     "data": {
      "text/plain": [
       "None"
      ]
     },
     "metadata": {},
     "output_type": "display_data"
    },
    {
     "name": "stdout",
     "output_type": "stream",
     "text": [
      "+---------------------+\n",
      "|(sum(equal) / sum(1))|\n",
      "+---------------------+\n",
      "|   0.8016129032258065|\n",
      "+---------------------+\n",
      "\n",
      "None\n",
      "Test Error = 0.198387\n",
      "              precision    recall  f1-score   support\n",
      "\n",
      "         0.0       0.85      0.75      0.80       321\n",
      "         1.0       0.76      0.86      0.81       299\n",
      "\n",
      "    accuracy                           0.80       620\n",
      "   macro avg       0.81      0.80      0.80       620\n",
      "weighted avg       0.81      0.80      0.80       620\n",
      "\n"
     ]
    },
    {
     "data": {
      "image/png": "[encoded data removed]",
      "text/plain": [
       "<Figure size 432x288 with 2 Axes>"
      ]
     },
     "metadata": {
      "needs_background": "light"
     },
     "output_type": "display_data"
    }
   ],
   "source": [
    "test_predict = RFClassifer(training_white, test_white)\n",
    "Evaluation(test_predict)"
   ]
  },
  {
   "cell_type": "markdown",
   "metadata": {},
   "source": [
    "# Decision tree classifier"
   ]
  },
  {
   "cell_type": "code",
   "execution_count": 75,
   "metadata": {},
   "outputs": [],
   "source": [
    "from pyspark.ml.classification import DecisionTreeClassifier"
   ]
  },
  {
   "cell_type": "code",
   "execution_count": 76,
   "metadata": {},
   "outputs": [
    {
     "name": "stdout",
     "output_type": "stream",
     "text": [
      "cacheNodeIds: If false, the algorithm will pass trees to executors to match instances with nodes. If true, the algorithm will cache node IDs for each instance. Caching can speed up training of deeper trees. Users can set how often should the cache be checkpointed or disable it by setting checkpointInterval. (default: False)\n",
      "checkpointInterval: set checkpoint interval (>= 1) or disable checkpoint (-1). E.g. 10 means that the cache will get checkpointed every 10 iterations. Note: this setting will be ignored if the checkpoint directory is not set in the SparkContext. (default: 10)\n",
      "featuresCol: features column name. (default: features)\n",
      "impurity: Criterion used for information gain calculation (case-insensitive). Supported options: entropy, gini (default: gini)\n",
      "labelCol: label column name. (default: label)\n",
      "leafCol: Leaf indices column name. Predicted leaf index of each instance in each tree by preorder. (default: )\n",
      "maxBins: Max number of bins for discretizing continuous features.  Must be >=2 and >= number of categories for any categorical feature. (default: 32)\n",
      "maxDepth: Maximum depth of the tree. (>= 0) E.g., depth 0 means 1 leaf node; depth 1 means 1 internal node + 2 leaf nodes. (default: 5)\n",
      "maxMemoryInMB: Maximum memory in MB allocated to histogram aggregation. If too small, then 1 node will be split per iteration, and its aggregates may exceed this size. (default: 256)\n",
      "minInfoGain: Minimum information gain for a split to be considered at a tree node. (default: 0.0)\n",
      "minInstancesPerNode: Minimum number of instances each child must have after split. If a split causes the left or right child to have fewer than minInstancesPerNode, the split will be discarded as invalid. Should be >= 1. (default: 1)\n",
      "minWeightFractionPerNode: Minimum fraction of the weighted sample count that each child must have after split. If a split causes the fraction of the total weight in the left or right child to be less than minWeightFractionPerNode, the split will be discarded as invalid. Should be in interval [0.0, 0.5). (default: 0.0)\n",
      "predictionCol: prediction column name. (default: prediction)\n",
      "probabilityCol: Column name for predicted class conditional probabilities. Note: Not all models output well-calibrated probability estimates! These probabilities should be treated as confidences, not precise probabilities. (default: probability)\n",
      "rawPredictionCol: raw prediction (a.k.a. confidence) column name. (default: rawPrediction)\n",
      "seed: random seed. (default: 4992587723437326453)\n",
      "thresholds: Thresholds in multi-class classification to adjust the probability of predicting each class. Array must have length equal to the number of classes, with values > 0, excepting that at most one value may be 0. The class with largest value p/t is predicted, where p is the original probability of that class and t is the class's threshold. (undefined)\n",
      "weightCol: weight column name. If this is not set or empty, we treat all instance weights as 1.0. (undefined)\n"
     ]
    }
   ],
   "source": [
    "print(DecisionTreeClassifier().explainParams())"
   ]
  },
  {
   "cell_type": "code",
   "execution_count": 77,
   "metadata": {},
   "outputs": [],
   "source": [
    "def DTClassifer(training, test):\n",
    "    rfModel = (DecisionTreeClassifier()\n",
    "      .setLabelCol(\"good\")\n",
    "      .setFeaturesCol(\"features\"))\n",
    "    paramGrid = (ParamGridBuilder()\n",
    "      .addGrid(rfModel.maxDepth, [5, 10, 20])\n",
    "      .build())\n",
    "\n",
    "    stages = [rfModel]\n",
    "    pipeline = Pipeline().setStages(stages)\n",
    "    \n",
    "    cv = (CrossValidator() # you can feel free to change the number of folds used in cross validation as well\n",
    "      .setEstimator(pipeline) # the estimator can also just be an individual model rather than a pipeline\n",
    "      .setEstimatorParamMaps(paramGrid)\n",
    "      .setEvaluator(BinaryClassificationEvaluator().setLabelCol(\"good\")))\n",
    "    \n",
    "    pipelineFitted = cv.fit(training)\n",
    "    \n",
    "    print(\"The Best Parameters:\\n--------------------\")\n",
    "    print(pipelineFitted.bestModel.stages[0])      \n",
    "    pipelineFitted.bestModel.stages[0].extractParamMap()\n",
    "    \n",
    "    test_predict = pipelineFitted.bestModel.transform(test).selectExpr(\"double(round(prediction)) as prediction\",\"double(round(good)) as good\")\n",
    "    display(test_predict.show(3))\n",
    "    \n",
    "    return test_predict"
   ]
  },
  {
   "cell_type": "markdown",
   "metadata": {},
   "source": [
    "### Decision tree classifier - all wine"
   ]
  },
  {
   "cell_type": "code",
   "execution_count": 79,
   "metadata": {},
   "outputs": [
    {
     "name": "stdout",
     "output_type": "stream",
     "text": [
      "The Best Parameters:\n",
      "--------------------\n",
      "DecisionTreeClassificationModel: uid=DecisionTreeClassifier_a34b44574b6d, depth=10, numNodes=369, numClasses=2, numFeatures=12\n",
      "+----------+----+\n",
      "|prediction|good|\n",
      "+----------+----+\n",
      "|       1.0| 1.0|\n",
      "|       1.0| 1.0|\n",
      "|       1.0| 1.0|\n",
      "+----------+----+\n",
      "only showing top 3 rows\n",
      "\n"
     ]
    },
    {
     "data": {
      "text/plain": [
       "None"
      ]
     },
     "metadata": {},
     "output_type": "display_data"
    },
    {
     "name": "stdout",
     "output_type": "stream",
     "text": [
      "+---------------------+\n",
      "|(sum(equal) / sum(1))|\n",
      "+---------------------+\n",
      "|   0.7304785894206549|\n",
      "+---------------------+\n",
      "\n",
      "None\n",
      "Test Error = 0.269521\n",
      "              precision    recall  f1-score   support\n",
      "\n",
      "         0.0       0.74      0.73      0.73       404\n",
      "         1.0       0.72      0.74      0.73       390\n",
      "\n",
      "    accuracy                           0.73       794\n",
      "   macro avg       0.73      0.73      0.73       794\n",
      "weighted avg       0.73      0.73      0.73       794\n",
      "\n"
     ]
    },
    {
     "data": {
      "image/png": "[encoded data removed]",
      "text/plain": [
       "<Figure size 432x288 with 2 Axes>"
      ]
     },
     "metadata": {
      "needs_background": "light"
     },
     "output_type": "display_data"
    }
   ],
   "source": [
    "test_predict = DTClassifer(training_enc, test_enc)\n",
    "Evaluation(test_predict)"
   ]
  },
  {
   "cell_type": "markdown",
   "metadata": {},
   "source": [
    "### Decision tree classifier - red wine"
   ]
  },
  {
   "cell_type": "code",
   "execution_count": 80,
   "metadata": {},
   "outputs": [
    {
     "name": "stdout",
     "output_type": "stream",
     "text": [
      "The Best Parameters:\n",
      "--------------------\n",
      "DecisionTreeClassificationModel: uid=DecisionTreeClassifier_4b3f2675f811, depth=5, numNodes=39, numClasses=2, numFeatures=11\n",
      "+----------+----+\n",
      "|prediction|good|\n",
      "+----------+----+\n",
      "|       1.0| 1.0|\n",
      "|       1.0| 1.0|\n",
      "|       1.0| 1.0|\n",
      "+----------+----+\n",
      "only showing top 3 rows\n",
      "\n"
     ]
    },
    {
     "data": {
      "text/plain": [
       "None"
      ]
     },
     "metadata": {},
     "output_type": "display_data"
    },
    {
     "name": "stdout",
     "output_type": "stream",
     "text": [
      "+---------------------+\n",
      "|(sum(equal) / sum(1))|\n",
      "+---------------------+\n",
      "|   0.6991869918699187|\n",
      "+---------------------+\n",
      "\n",
      "None\n",
      "Test Error = 0.300813\n",
      "              precision    recall  f1-score   support\n",
      "\n",
      "         0.0       0.75      0.65      0.70        66\n",
      "         1.0       0.65      0.75      0.70        57\n",
      "\n",
      "    accuracy                           0.70       123\n",
      "   macro avg       0.70      0.70      0.70       123\n",
      "weighted avg       0.71      0.70      0.70       123\n",
      "\n"
     ]
    },
    {
     "data": {
      "image/png": "[encoded data removed]",
      "text/plain": [
       "<Figure size 432x288 with 2 Axes>"
      ]
     },
     "metadata": {
      "needs_background": "light"
     },
     "output_type": "display_data"
    }
   ],
   "source": [
    "test_predict = DTClassifer(training_red, test_red)\n",
    "Evaluation(test_predict)"
   ]
  },
  {
   "cell_type": "markdown",
   "metadata": {},
   "source": [
    "### Decision tree classifier - white wine"
   ]
  },
  {
   "cell_type": "code",
   "execution_count": 81,
   "metadata": {},
   "outputs": [
    {
     "name": "stdout",
     "output_type": "stream",
     "text": [
      "The Best Parameters:\n",
      "--------------------\n",
      "DecisionTreeClassificationModel: uid=DecisionTreeClassifier_a69874997549, depth=10, numNodes=369, numClasses=2, numFeatures=11\n",
      "+----------+----+\n",
      "|prediction|good|\n",
      "+----------+----+\n",
      "|       1.0| 1.0|\n",
      "|       1.0| 1.0|\n",
      "|       1.0| 1.0|\n",
      "+----------+----+\n",
      "only showing top 3 rows\n",
      "\n"
     ]
    },
    {
     "data": {
      "text/plain": [
       "None"
      ]
     },
     "metadata": {},
     "output_type": "display_data"
    },
    {
     "name": "stdout",
     "output_type": "stream",
     "text": [
      "+---------------------+\n",
      "|(sum(equal) / sum(1))|\n",
      "+---------------------+\n",
      "|   0.7306451612903225|\n",
      "+---------------------+\n",
      "\n",
      "None\n",
      "Test Error = 0.269355\n",
      "              precision    recall  f1-score   support\n",
      "\n",
      "         0.0       0.79      0.66      0.72       321\n",
      "         1.0       0.69      0.81      0.74       299\n",
      "\n",
      "    accuracy                           0.73       620\n",
      "   macro avg       0.74      0.73      0.73       620\n",
      "weighted avg       0.74      0.73      0.73       620\n",
      "\n"
     ]
    },
    {
     "data": {
      "image/png": "[encoded data removed]",
      "text/plain": [
       "<Figure size 432x288 with 2 Axes>"
      ]
     },
     "metadata": {
      "needs_background": "light"
     },
     "output_type": "display_data"
    }
   ],
   "source": [
    "test_predict = DTClassifer(training_white, test_white)\n",
    "Evaluation(test_predict)"
   ]
  },
  {
   "cell_type": "code",
   "execution_count": null,
   "metadata": {},
   "outputs": [],
   "source": []
  }
 ],
 "metadata": {
  "kernelspec": {
   "display_name": "Python 3",
   "language": "python",
   "name": "python3"
  },
  "language_info": {
   "codemirror_mode": {
    "name": "ipython",
    "version": 3
   },
   "file_extension": ".py",
   "mimetype": "text/x-python",
   "name": "python",
   "nbconvert_exporter": "python",
   "pygments_lexer": "ipython3",
   "version": "3.7.5"
  }
 },
 "nbformat": 4,
 "nbformat_minor": 4
}
