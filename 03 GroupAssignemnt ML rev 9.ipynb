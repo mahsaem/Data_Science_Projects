{
 "cells": [
  {
   "cell_type": "markdown",
   "metadata": {},
   "source": [
    "# Wine quality analysis - Machine Learning - PART 3\n",
    "\n",
    "Datasource: https://archive.ics.uci.edu/ml/datasets/wine+quality"
   ]
  },
  {
   "cell_type": "markdown",
   "metadata": {},
   "source": [
    "## Columns description\n",
    "\n",
    "\n",
    "Column Position | Atrribute Name | Definition \n",
    " --- | --- | --- \n",
    "1 | fixed acidity | most acids involved with wine or fixed or nonvolatile (do not evaporate readily)\n",
    "2 | volatile acidity | the amount of acetic acid in wine, which at too high of levels can lead to an unpleasant, vinegar taste\n",
    "3 | citric acid | found in small quantities, citric acid can add 'freshness' and flavor to wines\n",
    "4 | residual sugar | the amount of sugar remaining after fermentation stops, it's rare to find wines with less than 1 gram/liter and wines with greater than 45 grams/liter are considered sweet\n",
    "5 | chlorides | the amount of salt in the wine\n",
    "6 | free sulfur dioxidet | he free form of SO2 exists in equilibrium between molecular SO2 (as a dissolved gas) and bisulfite ion; it prevents microbial growth and the oxidation of wine\n",
    "7 | total sulfur dioxide | amount of free and bound forms of S02; in low concentrations, SO2 is mostly undetectable in wine, but at free SO2 concentrations over 50 ppm, SO2 becomes evident in the nose and taste of wine\n",
    "8 | density | the density of water is close to that of water depending on the percent alcohol and sugar content\n",
    "9 | pH | describes how acidic or basic a wine is on a scale from 0 (very acidic) to 14 (very basic); most wines are between 3-4 on the pH scale\n",
    "10 | sulphates | a wine additive which can contribute to sulfur dioxide gas (S02) levels, wich acts as an antimicrobial and antioxidant\n",
    "11 | alcohol | the percent alcohol content of the wine\n",
    "12 | quality | output variable (based on sensory data, score between 0 and 10)\n",
    "13 | good | binary evaluation 1 - good , 0 - bad\n",
    "14 | color | wine type red or white"
   ]
  },
  {
   "cell_type": "markdown",
   "metadata": {},
   "source": [
    "# Project Plan \n",
    "\n",
    "Import libraries <br/>\n",
    "Data preparation for machine learning<br/>\n",
    "Data preparation for machine learning - Red only<br/>\n",
    "Data preparation for machine learning - White only<br/>\n",
    "Random Forest Regression<br/>\n",
    "All wine regression model<br/>\n",
    "Red only regression model<br/>\n",
    "White only regression model<br/>\n",
    "Regression results Analysis<br/>\n",
    "Random Forest Binary Classification<br/>\n",
    "Random Forest Classification - All wine<br/>\n",
    "Random Forest Classification - Red Wine only<br/>\n",
    "Random Forest Classification - White Wine only<br/>\n",
    "Random Forest, Encode Wine type and include in the model<br/>\n",
    "Random Forest Classification Results analysis <br/>\n",
    "Mutli-calss classification<br/>\n",
    "Mutli-calss classification - All wine encoded<br/>\n",
    "Mutli-calss classification - Only red wine<br/>\n",
    "Mutli-calss classification - Only white wine<br/>\n",
    "Mutli-calss classification Results Analysis<br/>\n",
    "Gradient-boosted tree classifier -binary<br/>\n",
    "Gradient-boosted tree classifier - All wine<br/>\n",
    "Gradient-boosted tree classifier - Red wine only<br/>\n",
    "Gradient-boosted tree classifier - White wine only<br/>\n",
    "Clustering<br/>\n",
    "PCA for Cluster visualisation<br/>\n",
    "Clustering Analysis<br/>\n",
    "Multilayer perceptron classifier<br/>\n",
    "Multilayer perceptron classifier - All wine<br/>\n",
    "Multilayer perceptron classifier - Red wine only<br/>\n",
    "Multilayer perceptron classifier - White wine only<br/>\n",
    "Multilayer perceptron classifier - Results analysis<br/>\n"
   ]
  },
  {
   "cell_type": "markdown",
   "metadata": {},
   "source": [
    "# Import libraries "
   ]
  },
  {
   "cell_type": "code",
   "execution_count": 1,
   "metadata": {},
   "outputs": [],
   "source": [
    "import pandas as pd\n",
    "import matplotlib.pyplot as plt\n",
    "import seaborn as sns\n",
    "%matplotlib inline\n",
    "from datetime import datetime\n",
    "import numpy as np\n",
    "\n",
    "#import stats libraries \n",
    "from pyspark.mllib.stat import Statistics\n",
    "from pyspark.ml.linalg import Vectors\n",
    "from pyspark.ml.stat import Correlation\n",
    "from pyspark.ml.feature import VectorAssembler\n",
    "\n",
    "from pyspark.sql import SparkSession"
   ]
  },
  {
   "cell_type": "code",
   "execution_count": 2,
   "metadata": {},
   "outputs": [],
   "source": [
    "# May take a little while on a local computer\n",
    "spark = SparkSession.builder.appName(\"winequality\").getOrCreate()"
   ]
  },
  {
   "cell_type": "code",
   "execution_count": 3,
   "metadata": {},
   "outputs": [],
   "source": [
    "df = spark.read.csv(\"winequality.csv\",header=True,inferSchema=True)"
   ]
  },
  {
   "cell_type": "code",
   "execution_count": 4,
   "metadata": {},
   "outputs": [
    {
     "data": {
      "text/html": [
       "<div>\n",
       "<style scoped>\n",
       "    .dataframe tbody tr th:only-of-type {\n",
       "        vertical-align: middle;\n",
       "    }\n",
       "\n",
       "    .dataframe tbody tr th {\n",
       "        vertical-align: top;\n",
       "    }\n",
       "\n",
       "    .dataframe thead th {\n",
       "        text-align: right;\n",
       "    }\n",
       "</style>\n",
       "<table border=\"1\" class=\"dataframe\">\n",
       "  <thead>\n",
       "    <tr style=\"text-align: right;\">\n",
       "      <th></th>\n",
       "      <th>fixed acidity</th>\n",
       "      <th>volatile acidity</th>\n",
       "      <th>citric acid</th>\n",
       "      <th>residual sugar</th>\n",
       "      <th>chlorides</th>\n",
       "      <th>free sulfur dioxide</th>\n",
       "      <th>total sulfur dioxide</th>\n",
       "      <th>density</th>\n",
       "      <th>pH</th>\n",
       "      <th>sulphates</th>\n",
       "      <th>alcohol</th>\n",
       "      <th>quality</th>\n",
       "      <th>good</th>\n",
       "      <th>color</th>\n",
       "    </tr>\n",
       "  </thead>\n",
       "  <tbody>\n",
       "    <tr>\n",
       "      <th>0</th>\n",
       "      <td>7.4</td>\n",
       "      <td>0.70</td>\n",
       "      <td>0.00</td>\n",
       "      <td>1.9</td>\n",
       "      <td>0.076</td>\n",
       "      <td>11.0</td>\n",
       "      <td>34.0</td>\n",
       "      <td>0.9978</td>\n",
       "      <td>3.51</td>\n",
       "      <td>0.56</td>\n",
       "      <td>9.4</td>\n",
       "      <td>5</td>\n",
       "      <td>0</td>\n",
       "      <td>red</td>\n",
       "    </tr>\n",
       "    <tr>\n",
       "      <th>1</th>\n",
       "      <td>7.8</td>\n",
       "      <td>0.88</td>\n",
       "      <td>0.00</td>\n",
       "      <td>2.6</td>\n",
       "      <td>0.098</td>\n",
       "      <td>25.0</td>\n",
       "      <td>67.0</td>\n",
       "      <td>0.9968</td>\n",
       "      <td>3.20</td>\n",
       "      <td>0.68</td>\n",
       "      <td>9.8</td>\n",
       "      <td>5</td>\n",
       "      <td>0</td>\n",
       "      <td>red</td>\n",
       "    </tr>\n",
       "    <tr>\n",
       "      <th>2</th>\n",
       "      <td>7.8</td>\n",
       "      <td>0.76</td>\n",
       "      <td>0.04</td>\n",
       "      <td>2.3</td>\n",
       "      <td>0.092</td>\n",
       "      <td>15.0</td>\n",
       "      <td>54.0</td>\n",
       "      <td>0.9970</td>\n",
       "      <td>3.26</td>\n",
       "      <td>0.65</td>\n",
       "      <td>9.8</td>\n",
       "      <td>5</td>\n",
       "      <td>0</td>\n",
       "      <td>red</td>\n",
       "    </tr>\n",
       "    <tr>\n",
       "      <th>3</th>\n",
       "      <td>11.2</td>\n",
       "      <td>0.28</td>\n",
       "      <td>0.56</td>\n",
       "      <td>1.9</td>\n",
       "      <td>0.075</td>\n",
       "      <td>17.0</td>\n",
       "      <td>60.0</td>\n",
       "      <td>0.9980</td>\n",
       "      <td>3.16</td>\n",
       "      <td>0.58</td>\n",
       "      <td>9.8</td>\n",
       "      <td>6</td>\n",
       "      <td>0</td>\n",
       "      <td>red</td>\n",
       "    </tr>\n",
       "    <tr>\n",
       "      <th>4</th>\n",
       "      <td>7.4</td>\n",
       "      <td>0.70</td>\n",
       "      <td>0.00</td>\n",
       "      <td>1.9</td>\n",
       "      <td>0.076</td>\n",
       "      <td>11.0</td>\n",
       "      <td>34.0</td>\n",
       "      <td>0.9978</td>\n",
       "      <td>3.51</td>\n",
       "      <td>0.56</td>\n",
       "      <td>9.4</td>\n",
       "      <td>5</td>\n",
       "      <td>0</td>\n",
       "      <td>red</td>\n",
       "    </tr>\n",
       "  </tbody>\n",
       "</table>\n",
       "</div>"
      ],
      "text/plain": [
       "   fixed acidity  volatile acidity  citric acid  residual sugar  chlorides  \\\n",
       "0            7.4              0.70         0.00             1.9      0.076   \n",
       "1            7.8              0.88         0.00             2.6      0.098   \n",
       "2            7.8              0.76         0.04             2.3      0.092   \n",
       "3           11.2              0.28         0.56             1.9      0.075   \n",
       "4            7.4              0.70         0.00             1.9      0.076   \n",
       "\n",
       "   free sulfur dioxide  total sulfur dioxide  density    pH  sulphates  \\\n",
       "0                 11.0                  34.0   0.9978  3.51       0.56   \n",
       "1                 25.0                  67.0   0.9968  3.20       0.68   \n",
       "2                 15.0                  54.0   0.9970  3.26       0.65   \n",
       "3                 17.0                  60.0   0.9980  3.16       0.58   \n",
       "4                 11.0                  34.0   0.9978  3.51       0.56   \n",
       "\n",
       "   alcohol  quality  good color  \n",
       "0      9.4        5     0   red  \n",
       "1      9.8        5     0   red  \n",
       "2      9.8        5     0   red  \n",
       "3      9.8        6     0   red  \n",
       "4      9.4        5     0   red  "
      ]
     },
     "execution_count": 4,
     "metadata": {},
     "output_type": "execute_result"
    }
   ],
   "source": [
    "#df.show(n=2, truncate=False, vertical=True)\n",
    "df.limit(5).toPandas()"
   ]
  },
  {
   "cell_type": "code",
   "execution_count": 5,
   "metadata": {},
   "outputs": [],
   "source": [
    "#Create DF for red and white wine\n",
    "df_red = df.filter(df.color =='red')\n",
    "df_white = df.filter(df.color =='white')"
   ]
  },
  {
   "cell_type": "code",
   "execution_count": 6,
   "metadata": {},
   "outputs": [
    {
     "name": "stdout",
     "output_type": "stream",
     "text": [
      "['color']\n",
      "['fixed acidity', 'volatile acidity', 'citric acid', 'residual sugar', 'chlorides', 'free sulfur dioxide', 'total sulfur dioxide', 'density', 'pH', 'sulphates', 'alcohol', 'quality', 'good']\n"
     ]
    }
   ],
   "source": [
    "#create lists of categorical and numberical columns\n",
    "\n",
    "cat = [item[0] for item in df.dtypes if item[1].startswith('string') ]\n",
    "num = [item for item in df.columns if item not in cat]\n",
    "print(cat)\n",
    "print(num)"
   ]
  },
  {
   "cell_type": "markdown",
   "metadata": {},
   "source": [
    "# Data preparation for machine learning"
   ]
  },
  {
   "cell_type": "code",
   "execution_count": 7,
   "metadata": {},
   "outputs": [],
   "source": [
    "#Import libraries\n",
    "from pyspark.ml.regression import RandomForestRegressor\n",
    "from pyspark.ml.tuning import ParamGridBuilder, CrossValidator\n",
    "from pyspark.ml.evaluation import RegressionEvaluator\n",
    "from pyspark.ml import Pipeline\n",
    "from pyspark.ml.feature import StringIndexer"
   ]
  },
  {
   "cell_type": "code",
   "execution_count": 8,
   "metadata": {},
   "outputs": [
    {
     "data": {
      "text/html": [
       "<div>\n",
       "<style scoped>\n",
       "    .dataframe tbody tr th:only-of-type {\n",
       "        vertical-align: middle;\n",
       "    }\n",
       "\n",
       "    .dataframe tbody tr th {\n",
       "        vertical-align: top;\n",
       "    }\n",
       "\n",
       "    .dataframe thead th {\n",
       "        text-align: right;\n",
       "    }\n",
       "</style>\n",
       "<table border=\"1\" class=\"dataframe\">\n",
       "  <thead>\n",
       "    <tr style=\"text-align: right;\">\n",
       "      <th></th>\n",
       "      <th>fixed acidity</th>\n",
       "      <th>volatile acidity</th>\n",
       "      <th>citric acid</th>\n",
       "      <th>residual sugar</th>\n",
       "      <th>chlorides</th>\n",
       "      <th>free sulfur dioxide</th>\n",
       "      <th>total sulfur dioxide</th>\n",
       "      <th>density</th>\n",
       "      <th>pH</th>\n",
       "      <th>sulphates</th>\n",
       "      <th>alcohol</th>\n",
       "      <th>quality</th>\n",
       "      <th>good</th>\n",
       "      <th>color</th>\n",
       "      <th>features</th>\n",
       "    </tr>\n",
       "  </thead>\n",
       "  <tbody>\n",
       "    <tr>\n",
       "      <th>0</th>\n",
       "      <td>7.4</td>\n",
       "      <td>0.70</td>\n",
       "      <td>0.00</td>\n",
       "      <td>1.9</td>\n",
       "      <td>0.076</td>\n",
       "      <td>11.0</td>\n",
       "      <td>34.0</td>\n",
       "      <td>0.9978</td>\n",
       "      <td>3.51</td>\n",
       "      <td>0.56</td>\n",
       "      <td>9.4</td>\n",
       "      <td>5</td>\n",
       "      <td>0</td>\n",
       "      <td>red</td>\n",
       "      <td>[7.4, 0.7, 0.0, 1.9, 0.076, 11.0, 34.0, 0.9978...</td>\n",
       "    </tr>\n",
       "    <tr>\n",
       "      <th>1</th>\n",
       "      <td>7.8</td>\n",
       "      <td>0.88</td>\n",
       "      <td>0.00</td>\n",
       "      <td>2.6</td>\n",
       "      <td>0.098</td>\n",
       "      <td>25.0</td>\n",
       "      <td>67.0</td>\n",
       "      <td>0.9968</td>\n",
       "      <td>3.20</td>\n",
       "      <td>0.68</td>\n",
       "      <td>9.8</td>\n",
       "      <td>5</td>\n",
       "      <td>0</td>\n",
       "      <td>red</td>\n",
       "      <td>[7.8, 0.88, 0.0, 2.6, 0.098, 25.0, 67.0, 0.996...</td>\n",
       "    </tr>\n",
       "    <tr>\n",
       "      <th>2</th>\n",
       "      <td>7.8</td>\n",
       "      <td>0.76</td>\n",
       "      <td>0.04</td>\n",
       "      <td>2.3</td>\n",
       "      <td>0.092</td>\n",
       "      <td>15.0</td>\n",
       "      <td>54.0</td>\n",
       "      <td>0.9970</td>\n",
       "      <td>3.26</td>\n",
       "      <td>0.65</td>\n",
       "      <td>9.8</td>\n",
       "      <td>5</td>\n",
       "      <td>0</td>\n",
       "      <td>red</td>\n",
       "      <td>[7.8, 0.76, 0.04, 2.3, 0.092, 15.0, 54.0, 0.99...</td>\n",
       "    </tr>\n",
       "    <tr>\n",
       "      <th>3</th>\n",
       "      <td>11.2</td>\n",
       "      <td>0.28</td>\n",
       "      <td>0.56</td>\n",
       "      <td>1.9</td>\n",
       "      <td>0.075</td>\n",
       "      <td>17.0</td>\n",
       "      <td>60.0</td>\n",
       "      <td>0.9980</td>\n",
       "      <td>3.16</td>\n",
       "      <td>0.58</td>\n",
       "      <td>9.8</td>\n",
       "      <td>6</td>\n",
       "      <td>0</td>\n",
       "      <td>red</td>\n",
       "      <td>[11.2, 0.28, 0.56, 1.9, 0.075, 17.0, 60.0, 0.9...</td>\n",
       "    </tr>\n",
       "    <tr>\n",
       "      <th>4</th>\n",
       "      <td>7.4</td>\n",
       "      <td>0.70</td>\n",
       "      <td>0.00</td>\n",
       "      <td>1.9</td>\n",
       "      <td>0.076</td>\n",
       "      <td>11.0</td>\n",
       "      <td>34.0</td>\n",
       "      <td>0.9978</td>\n",
       "      <td>3.51</td>\n",
       "      <td>0.56</td>\n",
       "      <td>9.4</td>\n",
       "      <td>5</td>\n",
       "      <td>0</td>\n",
       "      <td>red</td>\n",
       "      <td>[7.4, 0.7, 0.0, 1.9, 0.076, 11.0, 34.0, 0.9978...</td>\n",
       "    </tr>\n",
       "  </tbody>\n",
       "</table>\n",
       "</div>"
      ],
      "text/plain": [
       "   fixed acidity  volatile acidity  citric acid  residual sugar  chlorides  \\\n",
       "0            7.4              0.70         0.00             1.9      0.076   \n",
       "1            7.8              0.88         0.00             2.6      0.098   \n",
       "2            7.8              0.76         0.04             2.3      0.092   \n",
       "3           11.2              0.28         0.56             1.9      0.075   \n",
       "4            7.4              0.70         0.00             1.9      0.076   \n",
       "\n",
       "   free sulfur dioxide  total sulfur dioxide  density    pH  sulphates  \\\n",
       "0                 11.0                  34.0   0.9978  3.51       0.56   \n",
       "1                 25.0                  67.0   0.9968  3.20       0.68   \n",
       "2                 15.0                  54.0   0.9970  3.26       0.65   \n",
       "3                 17.0                  60.0   0.9980  3.16       0.58   \n",
       "4                 11.0                  34.0   0.9978  3.51       0.56   \n",
       "\n",
       "   alcohol  quality  good color  \\\n",
       "0      9.4        5     0   red   \n",
       "1      9.8        5     0   red   \n",
       "2      9.8        5     0   red   \n",
       "3      9.8        6     0   red   \n",
       "4      9.4        5     0   red   \n",
       "\n",
       "                                            features  \n",
       "0  [7.4, 0.7, 0.0, 1.9, 0.076, 11.0, 34.0, 0.9978...  \n",
       "1  [7.8, 0.88, 0.0, 2.6, 0.098, 25.0, 67.0, 0.996...  \n",
       "2  [7.8, 0.76, 0.04, 2.3, 0.092, 15.0, 54.0, 0.99...  \n",
       "3  [11.2, 0.28, 0.56, 1.9, 0.075, 17.0, 60.0, 0.9...  \n",
       "4  [7.4, 0.7, 0.0, 1.9, 0.076, 11.0, 34.0, 0.9978...  "
      ]
     },
     "execution_count": 8,
     "metadata": {},
     "output_type": "execute_result"
    }
   ],
   "source": [
    "#create input vector\n",
    "features_column = num[0:-2]\n",
    "\n",
    "assembler = (VectorAssembler()\n",
    "  .setInputCols(features_column)\n",
    "  .setOutputCol(\"features\"))\n",
    "\n",
    "finalPrep = assembler.transform(df)\n",
    "#finalPrep.show(n=1, truncate=False, vertical=True)\n",
    "finalPrep.limit(5).toPandas()"
   ]
  },
  {
   "cell_type": "code",
   "execution_count": 9,
   "metadata": {},
   "outputs": [
    {
     "name": "stdout",
     "output_type": "stream",
     "text": [
      "4560\n",
      "1937\n"
     ]
    }
   ],
   "source": [
    "#split in training and testing datasets\n",
    "training, test = finalPrep.randomSplit([0.7, 0.3])\n",
    "# Going to cache the data  \n",
    "training.cache()\n",
    "test.cache()\n",
    "print(training.count())\n",
    "print(test.count())"
   ]
  },
  {
   "cell_type": "markdown",
   "metadata": {},
   "source": [
    "### Data preparation for machine learning - Red only"
   ]
  },
  {
   "cell_type": "code",
   "execution_count": 10,
   "metadata": {},
   "outputs": [
    {
     "data": {
      "text/html": [
       "<div>\n",
       "<style scoped>\n",
       "    .dataframe tbody tr th:only-of-type {\n",
       "        vertical-align: middle;\n",
       "    }\n",
       "\n",
       "    .dataframe tbody tr th {\n",
       "        vertical-align: top;\n",
       "    }\n",
       "\n",
       "    .dataframe thead th {\n",
       "        text-align: right;\n",
       "    }\n",
       "</style>\n",
       "<table border=\"1\" class=\"dataframe\">\n",
       "  <thead>\n",
       "    <tr style=\"text-align: right;\">\n",
       "      <th></th>\n",
       "      <th>fixed acidity</th>\n",
       "      <th>volatile acidity</th>\n",
       "      <th>citric acid</th>\n",
       "      <th>residual sugar</th>\n",
       "      <th>chlorides</th>\n",
       "      <th>free sulfur dioxide</th>\n",
       "      <th>total sulfur dioxide</th>\n",
       "      <th>density</th>\n",
       "      <th>pH</th>\n",
       "      <th>sulphates</th>\n",
       "      <th>alcohol</th>\n",
       "      <th>quality</th>\n",
       "      <th>good</th>\n",
       "      <th>color</th>\n",
       "      <th>features</th>\n",
       "    </tr>\n",
       "  </thead>\n",
       "  <tbody>\n",
       "    <tr>\n",
       "      <th>0</th>\n",
       "      <td>7.4</td>\n",
       "      <td>0.70</td>\n",
       "      <td>0.00</td>\n",
       "      <td>1.9</td>\n",
       "      <td>0.076</td>\n",
       "      <td>11.0</td>\n",
       "      <td>34.0</td>\n",
       "      <td>0.9978</td>\n",
       "      <td>3.51</td>\n",
       "      <td>0.56</td>\n",
       "      <td>9.4</td>\n",
       "      <td>5</td>\n",
       "      <td>0</td>\n",
       "      <td>red</td>\n",
       "      <td>[7.4, 0.7, 0.0, 1.9, 0.076, 11.0, 34.0, 0.9978...</td>\n",
       "    </tr>\n",
       "    <tr>\n",
       "      <th>1</th>\n",
       "      <td>7.8</td>\n",
       "      <td>0.88</td>\n",
       "      <td>0.00</td>\n",
       "      <td>2.6</td>\n",
       "      <td>0.098</td>\n",
       "      <td>25.0</td>\n",
       "      <td>67.0</td>\n",
       "      <td>0.9968</td>\n",
       "      <td>3.20</td>\n",
       "      <td>0.68</td>\n",
       "      <td>9.8</td>\n",
       "      <td>5</td>\n",
       "      <td>0</td>\n",
       "      <td>red</td>\n",
       "      <td>[7.8, 0.88, 0.0, 2.6, 0.098, 25.0, 67.0, 0.996...</td>\n",
       "    </tr>\n",
       "    <tr>\n",
       "      <th>2</th>\n",
       "      <td>7.8</td>\n",
       "      <td>0.76</td>\n",
       "      <td>0.04</td>\n",
       "      <td>2.3</td>\n",
       "      <td>0.092</td>\n",
       "      <td>15.0</td>\n",
       "      <td>54.0</td>\n",
       "      <td>0.9970</td>\n",
       "      <td>3.26</td>\n",
       "      <td>0.65</td>\n",
       "      <td>9.8</td>\n",
       "      <td>5</td>\n",
       "      <td>0</td>\n",
       "      <td>red</td>\n",
       "      <td>[7.8, 0.76, 0.04, 2.3, 0.092, 15.0, 54.0, 0.99...</td>\n",
       "    </tr>\n",
       "    <tr>\n",
       "      <th>3</th>\n",
       "      <td>11.2</td>\n",
       "      <td>0.28</td>\n",
       "      <td>0.56</td>\n",
       "      <td>1.9</td>\n",
       "      <td>0.075</td>\n",
       "      <td>17.0</td>\n",
       "      <td>60.0</td>\n",
       "      <td>0.9980</td>\n",
       "      <td>3.16</td>\n",
       "      <td>0.58</td>\n",
       "      <td>9.8</td>\n",
       "      <td>6</td>\n",
       "      <td>0</td>\n",
       "      <td>red</td>\n",
       "      <td>[11.2, 0.28, 0.56, 1.9, 0.075, 17.0, 60.0, 0.9...</td>\n",
       "    </tr>\n",
       "    <tr>\n",
       "      <th>4</th>\n",
       "      <td>7.4</td>\n",
       "      <td>0.70</td>\n",
       "      <td>0.00</td>\n",
       "      <td>1.9</td>\n",
       "      <td>0.076</td>\n",
       "      <td>11.0</td>\n",
       "      <td>34.0</td>\n",
       "      <td>0.9978</td>\n",
       "      <td>3.51</td>\n",
       "      <td>0.56</td>\n",
       "      <td>9.4</td>\n",
       "      <td>5</td>\n",
       "      <td>0</td>\n",
       "      <td>red</td>\n",
       "      <td>[7.4, 0.7, 0.0, 1.9, 0.076, 11.0, 34.0, 0.9978...</td>\n",
       "    </tr>\n",
       "  </tbody>\n",
       "</table>\n",
       "</div>"
      ],
      "text/plain": [
       "   fixed acidity  volatile acidity  citric acid  residual sugar  chlorides  \\\n",
       "0            7.4              0.70         0.00             1.9      0.076   \n",
       "1            7.8              0.88         0.00             2.6      0.098   \n",
       "2            7.8              0.76         0.04             2.3      0.092   \n",
       "3           11.2              0.28         0.56             1.9      0.075   \n",
       "4            7.4              0.70         0.00             1.9      0.076   \n",
       "\n",
       "   free sulfur dioxide  total sulfur dioxide  density    pH  sulphates  \\\n",
       "0                 11.0                  34.0   0.9978  3.51       0.56   \n",
       "1                 25.0                  67.0   0.9968  3.20       0.68   \n",
       "2                 15.0                  54.0   0.9970  3.26       0.65   \n",
       "3                 17.0                  60.0   0.9980  3.16       0.58   \n",
       "4                 11.0                  34.0   0.9978  3.51       0.56   \n",
       "\n",
       "   alcohol  quality  good color  \\\n",
       "0      9.4        5     0   red   \n",
       "1      9.8        5     0   red   \n",
       "2      9.8        5     0   red   \n",
       "3      9.8        6     0   red   \n",
       "4      9.4        5     0   red   \n",
       "\n",
       "                                            features  \n",
       "0  [7.4, 0.7, 0.0, 1.9, 0.076, 11.0, 34.0, 0.9978...  \n",
       "1  [7.8, 0.88, 0.0, 2.6, 0.098, 25.0, 67.0, 0.996...  \n",
       "2  [7.8, 0.76, 0.04, 2.3, 0.092, 15.0, 54.0, 0.99...  \n",
       "3  [11.2, 0.28, 0.56, 1.9, 0.075, 17.0, 60.0, 0.9...  \n",
       "4  [7.4, 0.7, 0.0, 1.9, 0.076, 11.0, 34.0, 0.9978...  "
      ]
     },
     "execution_count": 10,
     "metadata": {},
     "output_type": "execute_result"
    }
   ],
   "source": [
    "#create input vector\n",
    "features_column = num[0:-2]\n",
    "\n",
    "assembler_red = (VectorAssembler()\n",
    "  .setInputCols(features_column)\n",
    "  .setOutputCol(\"features\"))\n",
    "\n",
    "finalPrep_red = assembler_red.transform(df_red)\n",
    "#finalPrep_red.show(n=1, truncate=False, vertical=True)\n",
    "finalPrep_red.limit(5).toPandas()"
   ]
  },
  {
   "cell_type": "code",
   "execution_count": 11,
   "metadata": {},
   "outputs": [
    {
     "name": "stdout",
     "output_type": "stream",
     "text": [
      "1076\n",
      "523\n"
     ]
    }
   ],
   "source": [
    "#split in training and testing datasets\n",
    "training_red, test_red = finalPrep_red.randomSplit([0.7, 0.3])\n",
    "# Going to cache the data  \n",
    "training_red.cache()\n",
    "test_red.cache()\n",
    "print(training_red.count())\n",
    "print(test_red.count())"
   ]
  },
  {
   "cell_type": "markdown",
   "metadata": {},
   "source": [
    "### Data preparation for machine learning - White only"
   ]
  },
  {
   "cell_type": "code",
   "execution_count": 12,
   "metadata": {},
   "outputs": [
    {
     "data": {
      "text/html": [
       "<div>\n",
       "<style scoped>\n",
       "    .dataframe tbody tr th:only-of-type {\n",
       "        vertical-align: middle;\n",
       "    }\n",
       "\n",
       "    .dataframe tbody tr th {\n",
       "        vertical-align: top;\n",
       "    }\n",
       "\n",
       "    .dataframe thead th {\n",
       "        text-align: right;\n",
       "    }\n",
       "</style>\n",
       "<table border=\"1\" class=\"dataframe\">\n",
       "  <thead>\n",
       "    <tr style=\"text-align: right;\">\n",
       "      <th></th>\n",
       "      <th>fixed acidity</th>\n",
       "      <th>volatile acidity</th>\n",
       "      <th>citric acid</th>\n",
       "      <th>residual sugar</th>\n",
       "      <th>chlorides</th>\n",
       "      <th>free sulfur dioxide</th>\n",
       "      <th>total sulfur dioxide</th>\n",
       "      <th>density</th>\n",
       "      <th>pH</th>\n",
       "      <th>sulphates</th>\n",
       "      <th>alcohol</th>\n",
       "      <th>quality</th>\n",
       "      <th>good</th>\n",
       "      <th>color</th>\n",
       "      <th>features</th>\n",
       "    </tr>\n",
       "  </thead>\n",
       "  <tbody>\n",
       "    <tr>\n",
       "      <th>0</th>\n",
       "      <td>7.0</td>\n",
       "      <td>0.27</td>\n",
       "      <td>0.36</td>\n",
       "      <td>20.7</td>\n",
       "      <td>0.045</td>\n",
       "      <td>45.0</td>\n",
       "      <td>170.0</td>\n",
       "      <td>1.0010</td>\n",
       "      <td>3.00</td>\n",
       "      <td>0.45</td>\n",
       "      <td>8.8</td>\n",
       "      <td>6</td>\n",
       "      <td>0</td>\n",
       "      <td>white</td>\n",
       "      <td>[7.0, 0.27, 0.36, 20.7, 0.045, 45.0, 170.0, 1....</td>\n",
       "    </tr>\n",
       "    <tr>\n",
       "      <th>1</th>\n",
       "      <td>6.3</td>\n",
       "      <td>0.30</td>\n",
       "      <td>0.34</td>\n",
       "      <td>1.6</td>\n",
       "      <td>0.049</td>\n",
       "      <td>14.0</td>\n",
       "      <td>132.0</td>\n",
       "      <td>0.9940</td>\n",
       "      <td>3.30</td>\n",
       "      <td>0.49</td>\n",
       "      <td>9.5</td>\n",
       "      <td>6</td>\n",
       "      <td>0</td>\n",
       "      <td>white</td>\n",
       "      <td>[6.3, 0.3, 0.34, 1.6, 0.049, 14.0, 132.0, 0.99...</td>\n",
       "    </tr>\n",
       "    <tr>\n",
       "      <th>2</th>\n",
       "      <td>8.1</td>\n",
       "      <td>0.28</td>\n",
       "      <td>0.40</td>\n",
       "      <td>6.9</td>\n",
       "      <td>0.050</td>\n",
       "      <td>30.0</td>\n",
       "      <td>97.0</td>\n",
       "      <td>0.9951</td>\n",
       "      <td>3.26</td>\n",
       "      <td>0.44</td>\n",
       "      <td>10.1</td>\n",
       "      <td>6</td>\n",
       "      <td>0</td>\n",
       "      <td>white</td>\n",
       "      <td>[8.1, 0.28, 0.4, 6.9, 0.05, 30.0, 97.0, 0.9951...</td>\n",
       "    </tr>\n",
       "    <tr>\n",
       "      <th>3</th>\n",
       "      <td>7.2</td>\n",
       "      <td>0.23</td>\n",
       "      <td>0.32</td>\n",
       "      <td>8.5</td>\n",
       "      <td>0.058</td>\n",
       "      <td>47.0</td>\n",
       "      <td>186.0</td>\n",
       "      <td>0.9956</td>\n",
       "      <td>3.19</td>\n",
       "      <td>0.40</td>\n",
       "      <td>9.9</td>\n",
       "      <td>6</td>\n",
       "      <td>0</td>\n",
       "      <td>white</td>\n",
       "      <td>[7.2, 0.23, 0.32, 8.5, 0.058, 47.0, 186.0, 0.9...</td>\n",
       "    </tr>\n",
       "    <tr>\n",
       "      <th>4</th>\n",
       "      <td>7.2</td>\n",
       "      <td>0.23</td>\n",
       "      <td>0.32</td>\n",
       "      <td>8.5</td>\n",
       "      <td>0.058</td>\n",
       "      <td>47.0</td>\n",
       "      <td>186.0</td>\n",
       "      <td>0.9956</td>\n",
       "      <td>3.19</td>\n",
       "      <td>0.40</td>\n",
       "      <td>9.9</td>\n",
       "      <td>6</td>\n",
       "      <td>0</td>\n",
       "      <td>white</td>\n",
       "      <td>[7.2, 0.23, 0.32, 8.5, 0.058, 47.0, 186.0, 0.9...</td>\n",
       "    </tr>\n",
       "  </tbody>\n",
       "</table>\n",
       "</div>"
      ],
      "text/plain": [
       "   fixed acidity  volatile acidity  citric acid  residual sugar  chlorides  \\\n",
       "0            7.0              0.27         0.36            20.7      0.045   \n",
       "1            6.3              0.30         0.34             1.6      0.049   \n",
       "2            8.1              0.28         0.40             6.9      0.050   \n",
       "3            7.2              0.23         0.32             8.5      0.058   \n",
       "4            7.2              0.23         0.32             8.5      0.058   \n",
       "\n",
       "   free sulfur dioxide  total sulfur dioxide  density    pH  sulphates  \\\n",
       "0                 45.0                 170.0   1.0010  3.00       0.45   \n",
       "1                 14.0                 132.0   0.9940  3.30       0.49   \n",
       "2                 30.0                  97.0   0.9951  3.26       0.44   \n",
       "3                 47.0                 186.0   0.9956  3.19       0.40   \n",
       "4                 47.0                 186.0   0.9956  3.19       0.40   \n",
       "\n",
       "   alcohol  quality  good  color  \\\n",
       "0      8.8        6     0  white   \n",
       "1      9.5        6     0  white   \n",
       "2     10.1        6     0  white   \n",
       "3      9.9        6     0  white   \n",
       "4      9.9        6     0  white   \n",
       "\n",
       "                                            features  \n",
       "0  [7.0, 0.27, 0.36, 20.7, 0.045, 45.0, 170.0, 1....  \n",
       "1  [6.3, 0.3, 0.34, 1.6, 0.049, 14.0, 132.0, 0.99...  \n",
       "2  [8.1, 0.28, 0.4, 6.9, 0.05, 30.0, 97.0, 0.9951...  \n",
       "3  [7.2, 0.23, 0.32, 8.5, 0.058, 47.0, 186.0, 0.9...  \n",
       "4  [7.2, 0.23, 0.32, 8.5, 0.058, 47.0, 186.0, 0.9...  "
      ]
     },
     "execution_count": 12,
     "metadata": {},
     "output_type": "execute_result"
    }
   ],
   "source": [
    "#create input vector\n",
    "features_column = num[0:-2]\n",
    "\n",
    "assembler_white = (VectorAssembler()\n",
    "  .setInputCols(features_column)\n",
    "  .setOutputCol(\"features\"))\n",
    "\n",
    "finalPrep_white = assembler_red.transform(df_white)\n",
    "#finalPrep_red.show(n=1, truncate=False, vertical=True)\n",
    "finalPrep_white.limit(5).toPandas()"
   ]
  },
  {
   "cell_type": "code",
   "execution_count": 13,
   "metadata": {},
   "outputs": [
    {
     "name": "stdout",
     "output_type": "stream",
     "text": [
      "3490\n",
      "1408\n"
     ]
    }
   ],
   "source": [
    "#split in training and testing datasets\n",
    "training_white, test_white = finalPrep_white.randomSplit([0.7, 0.3])\n",
    "# Going to cache the data  \n",
    "training_white.cache()\n",
    "test_white.cache()\n",
    "print(training_white.count())\n",
    "print(test_white.count())"
   ]
  },
  {
   "cell_type": "markdown",
   "metadata": {},
   "source": [
    "# Random Forest Regression"
   ]
  },
  {
   "cell_type": "markdown",
   "metadata": {},
   "source": [
    "Tested the follwoing parameters: \n",
    "\n",
    "\n",
    "paramGrid = (ParamGridBuilder() <br/>\n",
    "  .addGrid(rfModel.maxDepth, [3, 5, 7,10, 15, 20, 30])<br/>\n",
    "  .addGrid(rfModel.numTrees, [5, 10, 20,60,100, 200])<br/>\n",
    "  .addGrid(rfModel.featureSubsetStrategy, ['auto','sqrt', 'log2'])<br/>\n",
    "  .addGrid(rfModel.maxBins, [24, 32, 48])<br/>\n",
    "  .build())</br>\n",
    "  \n",
    "To increase the speed of search i only enter the best parameters"
   ]
  },
  {
   "cell_type": "code",
   "execution_count": 14,
   "metadata": {},
   "outputs": [],
   "source": [
    "def RFRegressor(training, test):\n",
    "    rfModel = (RandomForestRegressor()\n",
    "      .setLabelCol(\"quality\")\n",
    "      .setFeaturesCol(\"features\"))\n",
    "    \n",
    "    paramGrid = (ParamGridBuilder()\n",
    "      .addGrid(rfModel.maxDepth, [5, 10])\n",
    "      .addGrid(rfModel.numTrees, [20, 60])\n",
    "      .build())\n",
    "\n",
    "    stages = [rfModel]\n",
    "    pipeline = Pipeline().setStages(stages)\n",
    "    cv = (CrossValidator() # you can feel free to change the number of folds used in cross validation as well\n",
    "      .setEstimator(pipeline) # the estimator can also just be an individual model rather than a pipeline\n",
    "      .setEstimatorParamMaps(paramGrid)\n",
    "      .setEvaluator(RegressionEvaluator().setLabelCol(\"quality\")))\n",
    "    pipelineFitted = cv.fit(training)\n",
    "    \n",
    "    print(\"The Best Parameters:\\n--------------------\")\n",
    "    print(pipelineFitted.bestModel.stages[0])      \n",
    "    pipelineFitted.bestModel.stages[0].extractParamMap()\n",
    "    \n",
    "    test_predict = pipelineFitted.bestModel.transform(test).selectExpr(\"double(round(prediction)) as prediction\",\"double(round(quality)) as quality\")\n",
    "    display(test_predict.show(3))\n",
    "    \n",
    "    return test_predict"
   ]
  },
  {
   "cell_type": "markdown",
   "metadata": {},
   "source": [
    "### All wine regression model"
   ]
  },
  {
   "cell_type": "code",
   "execution_count": 15,
   "metadata": {},
   "outputs": [],
   "source": [
    "def AccuracyEvaluation(test_predict):\n",
    "    acc = test_predict.selectExpr(\"prediction\", \"quality\",\n",
    "                        \"\"\"\n",
    "                        CASE prediction = quality\n",
    "                        WHEN true then 1\n",
    "                        ELSE 0\n",
    "                        END as equal\n",
    "                        \"\"\")\n",
    "    display(acc.selectExpr(\"sum(equal)/sum(1)\").show())\n"
   ]
  },
  {
   "cell_type": "code",
   "execution_count": 16,
   "metadata": {},
   "outputs": [
    {
     "name": "stdout",
     "output_type": "stream",
     "text": [
      "The Best Parameters:\n",
      "--------------------\n",
      "RandomForestRegressionModel: uid=RandomForestRegressor_1a17950714bb, numTrees=60, numFeatures=11\n",
      "+----------+-------+\n",
      "|prediction|quality|\n",
      "+----------+-------+\n",
      "|       7.0|    8.0|\n",
      "|       6.0|    3.0|\n",
      "|       6.0|    5.0|\n",
      "+----------+-------+\n",
      "only showing top 3 rows\n",
      "\n"
     ]
    },
    {
     "data": {
      "text/plain": [
       "None"
      ]
     },
     "metadata": {},
     "output_type": "display_data"
    }
   ],
   "source": [
    "test_predict = RFRegressor(training, test)"
   ]
  },
  {
   "cell_type": "code",
   "execution_count": 17,
   "metadata": {},
   "outputs": [
    {
     "name": "stdout",
     "output_type": "stream",
     "text": [
      "+---------------------+\n",
      "|(sum(equal) / sum(1))|\n",
      "+---------------------+\n",
      "|   0.6081569437274136|\n",
      "+---------------------+\n",
      "\n"
     ]
    },
    {
     "data": {
      "text/plain": [
       "None"
      ]
     },
     "metadata": {},
     "output_type": "display_data"
    }
   ],
   "source": [
    "AccuracyEvaluation(test_predict)"
   ]
  },
  {
   "cell_type": "markdown",
   "metadata": {},
   "source": [
    "### Red only regrerssion model"
   ]
  },
  {
   "cell_type": "code",
   "execution_count": 18,
   "metadata": {},
   "outputs": [
    {
     "name": "stdout",
     "output_type": "stream",
     "text": [
      "The Best Parameters:\n",
      "--------------------\n",
      "RandomForestRegressionModel: uid=RandomForestRegressor_efe117aec0be, numTrees=60, numFeatures=11\n",
      "+----------+-------+\n",
      "|prediction|quality|\n",
      "+----------+-------+\n",
      "|       6.0|    6.0|\n",
      "|       7.0|    7.0|\n",
      "|       6.0|    6.0|\n",
      "+----------+-------+\n",
      "only showing top 3 rows\n",
      "\n"
     ]
    },
    {
     "data": {
      "text/plain": [
       "None"
      ]
     },
     "metadata": {},
     "output_type": "display_data"
    },
    {
     "name": "stdout",
     "output_type": "stream",
     "text": [
      "+---------------------+\n",
      "|(sum(equal) / sum(1))|\n",
      "+---------------------+\n",
      "|   0.6806883365200764|\n",
      "+---------------------+\n",
      "\n"
     ]
    },
    {
     "data": {
      "text/plain": [
       "None"
      ]
     },
     "metadata": {},
     "output_type": "display_data"
    }
   ],
   "source": [
    "test_predict_red = RFRegressor(training_red, test_red)\n",
    "AccuracyEvaluation(test_predict_red)"
   ]
  },
  {
   "cell_type": "markdown",
   "metadata": {},
   "source": [
    "### White only regrerssion model"
   ]
  },
  {
   "cell_type": "code",
   "execution_count": 19,
   "metadata": {},
   "outputs": [
    {
     "name": "stdout",
     "output_type": "stream",
     "text": [
      "The Best Parameters:\n",
      "--------------------\n",
      "RandomForestRegressionModel: uid=RandomForestRegressor_d2cd4f9a7098, numTrees=60, numFeatures=11\n",
      "+----------+-------+\n",
      "|prediction|quality|\n",
      "+----------+-------+\n",
      "|       6.0|    6.0|\n",
      "|       7.0|    6.0|\n",
      "|       7.0|    7.0|\n",
      "+----------+-------+\n",
      "only showing top 3 rows\n",
      "\n"
     ]
    },
    {
     "data": {
      "text/plain": [
       "None"
      ]
     },
     "metadata": {},
     "output_type": "display_data"
    },
    {
     "name": "stdout",
     "output_type": "stream",
     "text": [
      "+---------------------+\n",
      "|(sum(equal) / sum(1))|\n",
      "+---------------------+\n",
      "|   0.6029829545454546|\n",
      "+---------------------+\n",
      "\n"
     ]
    },
    {
     "data": {
      "text/plain": [
       "None"
      ]
     },
     "metadata": {},
     "output_type": "display_data"
    }
   ],
   "source": [
    "test_predict_white = RFRegressor(training_white, test_white)\n",
    "AccuracyEvaluation(test_predict_white)"
   ]
  },
  {
   "cell_type": "markdown",
   "metadata": {},
   "source": [
    "## Regression results Analysis \n",
    "\n",
    "It was an interesting exercise to apply regression method to a classification problem. The reason it could be done because quality is ranging from 1 to 9. \n",
    "In case of all wine and red wine the prediction accuracy at 0.6\n",
    "\n",
    "Next we will look at binary classification and multi-class classification to improve the results. "
   ]
  },
  {
   "cell_type": "markdown",
   "metadata": {},
   "source": [
    "# Random Forest Binary Classification "
   ]
  },
  {
   "cell_type": "code",
   "execution_count": 25,
   "metadata": {},
   "outputs": [],
   "source": [
    "from pyspark.ml import Pipeline\n",
    "from pyspark.ml.classification import RandomForestClassifier\n",
    "from pyspark.ml.evaluation import MulticlassClassificationEvaluator\n",
    "\n",
    "from pyspark.ml.evaluation import BinaryClassificationEvaluator\n",
    "import sklearn \n",
    "from sklearn.metrics import classification_report, confusion_matrix"
   ]
  },
  {
   "cell_type": "code",
   "execution_count": 21,
   "metadata": {},
   "outputs": [],
   "source": [
    "def RFClassifer(training, test):\n",
    "    rfModel = (RandomForestClassifier()\n",
    "      .setLabelCol(\"good\")\n",
    "      .setFeaturesCol(\"features\"))\n",
    "    paramGrid = (ParamGridBuilder()\n",
    "      .addGrid(rfModel.maxDepth, [5, 10])\n",
    "      .addGrid(rfModel.numTrees, [20, 60])\n",
    "      .build())\n",
    "\n",
    "    stages = [rfModel]\n",
    "    pipeline = Pipeline().setStages(stages)\n",
    "    \n",
    "    cv = (CrossValidator() # you can feel free to change the number of folds used in cross validation as well\n",
    "      .setEstimator(pipeline) # the estimator can also just be an individual model rather than a pipeline\n",
    "      .setEstimatorParamMaps(paramGrid)\n",
    "      .setEvaluator(BinaryClassificationEvaluator().setLabelCol(\"good\")))\n",
    "    \n",
    "    pipelineFitted = cv.fit(training)\n",
    "    \n",
    "    print(\"The Best Parameters:\\n--------------------\")\n",
    "    print(pipelineFitted.bestModel.stages[0])      \n",
    "    pipelineFitted.bestModel.stages[0].extractParamMap()\n",
    "    \n",
    "    test_predict = pipelineFitted.bestModel.transform(test).selectExpr(\"double(round(prediction)) as prediction\",\"double(round(good)) as good\")\n",
    "    display(test_predict.show(3))\n",
    "    \n",
    "    return test_predict"
   ]
  },
  {
   "cell_type": "code",
   "execution_count": 22,
   "metadata": {},
   "outputs": [],
   "source": [
    "def ConfMatrix(test_predict):\n",
    "        #collect prediction and true value\n",
    "    y_true = test_predict.select(['good']).collect()\n",
    "    y_pred = test_predict.select(['prediction']).collect()\n",
    "\n",
    "    #classification report\n",
    "    print(classification_report(y_true, y_pred))\n",
    "    \n",
    "    #confusion matrix \n",
    "\n",
    "    cm = confusion_matrix(y_true, y_pred)\n",
    "    sns.heatmap(cm, annot=True, fmt='d')\n",
    "    plt.show()"
   ]
  },
  {
   "cell_type": "code",
   "execution_count": 23,
   "metadata": {},
   "outputs": [],
   "source": [
    "def Evaluation(test_predict):\n",
    "    acc = test_predict.selectExpr(\"prediction\", \"good\",\n",
    "                        \"\"\"\n",
    "                        CASE prediction = good\n",
    "                        WHEN true then 1\n",
    "                        ELSE 0\n",
    "                        END as equal\n",
    "                        \"\"\")\n",
    "        \n",
    "    print(acc.selectExpr(\"sum(equal)/sum(1)\").show())\n",
    "\n",
    "    # Another way to evaluate error\n",
    "    evaluator = MulticlassClassificationEvaluator(labelCol=\"good\", predictionCol=\"prediction\", metricName=\"accuracy\")\n",
    "    \n",
    "    accuracy = evaluator.evaluate(test_predict)\n",
    "    print(\"Test Error = %g\" % (1.0 - accuracy))\n",
    "    \n",
    "    ConfMatrix(test_predict)"
   ]
  },
  {
   "cell_type": "markdown",
   "metadata": {},
   "source": [
    "### Random Forest Classification - All wine"
   ]
  },
  {
   "cell_type": "code",
   "execution_count": 26,
   "metadata": {},
   "outputs": [
    {
     "name": "stdout",
     "output_type": "stream",
     "text": [
      "The Best Parameters:\n",
      "--------------------\n",
      "RandomForestClassificationModel: uid=RandomForestClassifier_6c1dcf9f738d, numTrees=60, numClasses=2, numFeatures=11\n",
      "+----------+----+\n",
      "|prediction|good|\n",
      "+----------+----+\n",
      "|       1.0| 1.0|\n",
      "|       0.0| 0.0|\n",
      "|       0.0| 0.0|\n",
      "+----------+----+\n",
      "only showing top 3 rows\n",
      "\n"
     ]
    },
    {
     "data": {
      "text/plain": [
       "None"
      ]
     },
     "metadata": {},
     "output_type": "display_data"
    },
    {
     "name": "stdout",
     "output_type": "stream",
     "text": [
      "+---------------------+\n",
      "|(sum(equal) / sum(1))|\n",
      "+---------------------+\n",
      "|   0.8626742385131647|\n",
      "+---------------------+\n",
      "\n",
      "None\n",
      "Test Error = 0.137326\n",
      "              precision    recall  f1-score   support\n",
      "\n",
      "         0.0       0.88      0.96      0.92      1556\n",
      "         1.0       0.75      0.45      0.57       381\n",
      "\n",
      "    accuracy                           0.86      1937\n",
      "   macro avg       0.81      0.71      0.74      1937\n",
      "weighted avg       0.85      0.86      0.85      1937\n",
      "\n"
     ]
    },
    {
     "data": {
      "image/png": "[encoded data removed]",
      "text/plain": [
       "<Figure size 432x288 with 2 Axes>"
      ]
     },
     "metadata": {
      "needs_background": "light"
     },
     "output_type": "display_data"
    }
   ],
   "source": [
    "test_predict = RFClassifer(training, test)\n",
    "Evaluation(test_predict)"
   ]
  },
  {
   "cell_type": "markdown",
   "metadata": {},
   "source": [
    "### Random Forest Classification - Red Wine only"
   ]
  },
  {
   "cell_type": "code",
   "execution_count": 27,
   "metadata": {},
   "outputs": [
    {
     "name": "stdout",
     "output_type": "stream",
     "text": [
      "The Best Parameters:\n",
      "--------------------\n",
      "RandomForestClassificationModel: uid=RandomForestClassifier_570e5b249d15, numTrees=60, numClasses=2, numFeatures=11\n",
      "+----------+----+\n",
      "|prediction|good|\n",
      "+----------+----+\n",
      "|       0.0| 0.0|\n",
      "|       1.0| 1.0|\n",
      "|       1.0| 0.0|\n",
      "+----------+----+\n",
      "only showing top 3 rows\n",
      "\n"
     ]
    },
    {
     "data": {
      "text/plain": [
       "None"
      ]
     },
     "metadata": {},
     "output_type": "display_data"
    },
    {
     "name": "stdout",
     "output_type": "stream",
     "text": [
      "+---------------------+\n",
      "|(sum(equal) / sum(1))|\n",
      "+---------------------+\n",
      "|   0.8852772466539197|\n",
      "+---------------------+\n",
      "\n",
      "None\n",
      "Test Error = 0.114723\n",
      "              precision    recall  f1-score   support\n",
      "\n",
      "         0.0       0.91      0.96      0.93       448\n",
      "         1.0       0.65      0.43      0.52        75\n",
      "\n",
      "    accuracy                           0.89       523\n",
      "   macro avg       0.78      0.69      0.73       523\n",
      "weighted avg       0.87      0.89      0.87       523\n",
      "\n"
     ]
    },
    {
     "data": {
      "image/png": "[encoded data removed]",
      "text/plain": [
       "<Figure size 432x288 with 2 Axes>"
      ]
     },
     "metadata": {
      "needs_background": "light"
     },
     "output_type": "display_data"
    }
   ],
   "source": [
    "test_predict = RFClassifer(training_red, test_red)\n",
    "Evaluation(test_predict)"
   ]
  },
  {
   "cell_type": "markdown",
   "metadata": {},
   "source": [
    "### Random Forest Classification - White Wine only"
   ]
  },
  {
   "cell_type": "code",
   "execution_count": 28,
   "metadata": {},
   "outputs": [
    {
     "name": "stdout",
     "output_type": "stream",
     "text": [
      "The Best Parameters:\n",
      "--------------------\n",
      "RandomForestClassificationModel: uid=RandomForestClassifier_b4616fb4bc10, numTrees=60, numClasses=2, numFeatures=11\n",
      "+----------+----+\n",
      "|prediction|good|\n",
      "+----------+----+\n",
      "|       0.0| 0.0|\n",
      "|       1.0| 0.0|\n",
      "|       1.0| 1.0|\n",
      "+----------+----+\n",
      "only showing top 3 rows\n",
      "\n"
     ]
    },
    {
     "data": {
      "text/plain": [
       "None"
      ]
     },
     "metadata": {},
     "output_type": "display_data"
    },
    {
     "name": "stdout",
     "output_type": "stream",
     "text": [
      "+---------------------+\n",
      "|(sum(equal) / sum(1))|\n",
      "+---------------------+\n",
      "|   0.8536931818181818|\n",
      "+---------------------+\n",
      "\n",
      "None\n",
      "Test Error = 0.146307\n",
      "              precision    recall  f1-score   support\n",
      "\n",
      "         0.0       0.87      0.96      0.91      1083\n",
      "         1.0       0.78      0.50      0.61       325\n",
      "\n",
      "    accuracy                           0.85      1408\n",
      "   macro avg       0.83      0.73      0.76      1408\n",
      "weighted avg       0.85      0.85      0.84      1408\n",
      "\n"
     ]
    },
    {
     "data": {
      "image/png": "[encoded data removed]",
      "text/plain": [
       "<Figure size 432x288 with 2 Axes>"
      ]
     },
     "metadata": {
      "needs_background": "light"
     },
     "output_type": "display_data"
    }
   ],
   "source": [
    "test_predict = RFClassifer(training_white, test_white)\n",
    "Evaluation(test_predict)"
   ]
  },
  {
   "cell_type": "markdown",
   "metadata": {},
   "source": [
    "# Random Forest, Encode Wine type and include in the model"
   ]
  },
  {
   "cell_type": "code",
   "execution_count": 29,
   "metadata": {},
   "outputs": [
    {
     "data": {
      "text/plain": [
       "['color']"
      ]
     },
     "execution_count": 29,
     "metadata": {},
     "output_type": "execute_result"
    }
   ],
   "source": [
    "cat"
   ]
  },
  {
   "cell_type": "code",
   "execution_count": 30,
   "metadata": {},
   "outputs": [],
   "source": [
    "#convert cat data into INT\n",
    "\n",
    "#define a list of stages in your pipeline. The string indexer will be one stage\n",
    "stages = []\n",
    "\n",
    "#iterate through all categorical values\n",
    "for categoricalCol in cat:\n",
    "    #create a string indexer for those categorical values and assign a new name including the word 'Index'\n",
    "    stringIndexer = StringIndexer(inputCol = categoricalCol, outputCol = categoricalCol + 'Index')\n",
    "\n",
    "    #append the string Indexer to our list of stages\n",
    "    stages += [stringIndexer]\n",
    "\n",
    "#Create the pipeline. Assign the satges list to the pipeline key word stages\n",
    "pipeline = Pipeline(stages = stages)\n",
    "#fit the pipeline to our dataframe\n",
    "pipelineModel = pipeline.fit(df)\n",
    "#transform the dataframe\n",
    "df_enc= pipelineModel.transform(df)"
   ]
  },
  {
   "cell_type": "code",
   "execution_count": 31,
   "metadata": {},
   "outputs": [
    {
     "name": "stdout",
     "output_type": "stream",
     "text": [
      "-RECORD 0----------------------\n",
      " fixed acidity        | 7.4    \n",
      " volatile acidity     | 0.7    \n",
      " citric acid          | 0.0    \n",
      " residual sugar       | 1.9    \n",
      " chlorides            | 0.076  \n",
      " free sulfur dioxide  | 11.0   \n",
      " total sulfur dioxide | 34.0   \n",
      " density              | 0.9978 \n",
      " pH                   | 3.51   \n",
      " sulphates            | 0.56   \n",
      " alcohol              | 9.4    \n",
      " quality              | 5      \n",
      " good                 | 0      \n",
      " color                | red    \n",
      " colorIndex           | 1.0    \n",
      "-RECORD 1----------------------\n",
      " fixed acidity        | 7.8    \n",
      " volatile acidity     | 0.88   \n",
      " citric acid          | 0.0    \n",
      " residual sugar       | 2.6    \n",
      " chlorides            | 0.098  \n",
      " free sulfur dioxide  | 25.0   \n",
      " total sulfur dioxide | 67.0   \n",
      " density              | 0.9968 \n",
      " pH                   | 3.2    \n",
      " sulphates            | 0.68   \n",
      " alcohol              | 9.8    \n",
      " quality              | 5      \n",
      " good                 | 0      \n",
      " color                | red    \n",
      " colorIndex           | 1.0    \n",
      "only showing top 2 rows\n",
      "\n"
     ]
    }
   ],
   "source": [
    "df_enc.show(n=2, truncate=False, vertical=True)"
   ]
  },
  {
   "cell_type": "code",
   "execution_count": 32,
   "metadata": {},
   "outputs": [
    {
     "data": {
      "text/plain": [
       "['fixed acidity',\n",
       " 'volatile acidity',\n",
       " 'citric acid',\n",
       " 'residual sugar',\n",
       " 'chlorides',\n",
       " 'free sulfur dioxide',\n",
       " 'total sulfur dioxide',\n",
       " 'density',\n",
       " 'pH',\n",
       " 'sulphates',\n",
       " 'alcohol',\n",
       " 'colorIndex']"
      ]
     },
     "execution_count": 32,
     "metadata": {},
     "output_type": "execute_result"
    }
   ],
   "source": [
    "num_enc = ['fixed acidity', 'volatile acidity', 'citric acid', 'residual sugar', 'chlorides', 'free sulfur dioxide', 'total sulfur dioxide', 'density', 'pH', 'sulphates', 'alcohol', 'colorIndex']\n",
    "num_enc"
   ]
  },
  {
   "cell_type": "code",
   "execution_count": 33,
   "metadata": {},
   "outputs": [
    {
     "name": "stdout",
     "output_type": "stream",
     "text": [
      "-RECORD 0--------------------------------------------------------------------------\n",
      " fixed acidity        | 7.4                                                        \n",
      " volatile acidity     | 0.7                                                        \n",
      " citric acid          | 0.0                                                        \n",
      " residual sugar       | 1.9                                                        \n",
      " chlorides            | 0.076                                                      \n",
      " free sulfur dioxide  | 11.0                                                       \n",
      " total sulfur dioxide | 34.0                                                       \n",
      " density              | 0.9978                                                     \n",
      " pH                   | 3.51                                                       \n",
      " sulphates            | 0.56                                                       \n",
      " alcohol              | 9.4                                                        \n",
      " quality              | 5                                                          \n",
      " good                 | 0                                                          \n",
      " color                | red                                                        \n",
      " colorIndex           | 1.0                                                        \n",
      " features             | [7.4,0.7,0.0,1.9,0.076,11.0,34.0,0.9978,3.51,0.56,9.4,1.0] \n",
      "only showing top 1 row\n",
      "\n"
     ]
    }
   ],
   "source": [
    "#create input vector\n",
    "features_column = num_enc\n",
    "\n",
    "assembler = (VectorAssembler()\n",
    "  .setInputCols(features_column)\n",
    "  .setOutputCol(\"features\"))\n",
    "\n",
    "finalPrep = assembler.transform(df_enc)\n",
    "finalPrep.show(n=1, truncate=False, vertical=True)"
   ]
  },
  {
   "cell_type": "code",
   "execution_count": 34,
   "metadata": {},
   "outputs": [
    {
     "name": "stdout",
     "output_type": "stream",
     "text": [
      "4569\n",
      "1928\n"
     ]
    }
   ],
   "source": [
    "#split in training and testing datasets\n",
    "training_enc, test_enc = finalPrep.randomSplit([0.7, 0.3])\n",
    "# Going to cache the data  \n",
    "training_enc.cache()\n",
    "test_enc.cache()\n",
    "print(training_enc.count())\n",
    "print(test_enc.count())"
   ]
  },
  {
   "cell_type": "code",
   "execution_count": 35,
   "metadata": {},
   "outputs": [
    {
     "name": "stdout",
     "output_type": "stream",
     "text": [
      "The Best Parameters:\n",
      "--------------------\n",
      "RandomForestClassificationModel: uid=RandomForestClassifier_72f2654a01ba, numTrees=60, numClasses=2, numFeatures=12\n",
      "+----------+----+\n",
      "|prediction|good|\n",
      "+----------+----+\n",
      "|       0.0| 0.0|\n",
      "|       1.0| 0.0|\n",
      "|       0.0| 0.0|\n",
      "+----------+----+\n",
      "only showing top 3 rows\n",
      "\n"
     ]
    },
    {
     "data": {
      "text/plain": [
       "None"
      ]
     },
     "metadata": {},
     "output_type": "display_data"
    },
    {
     "name": "stdout",
     "output_type": "stream",
     "text": [
      "+---------------------+\n",
      "|(sum(equal) / sum(1))|\n",
      "+---------------------+\n",
      "|   0.8563278008298755|\n",
      "+---------------------+\n",
      "\n",
      "None\n",
      "Test Error = 0.143672\n",
      "              precision    recall  f1-score   support\n",
      "\n",
      "         0.0       0.87      0.96      0.91      1550\n",
      "         1.0       0.72      0.44      0.54       378\n",
      "\n",
      "    accuracy                           0.86      1928\n",
      "   macro avg       0.80      0.70      0.73      1928\n",
      "weighted avg       0.84      0.86      0.84      1928\n",
      "\n"
     ]
    },
    {
     "data": {
      "image/png": "[encoded data removed]",
      "text/plain": [
       "<Figure size 432x288 with 2 Axes>"
      ]
     },
     "metadata": {
      "needs_background": "light"
     },
     "output_type": "display_data"
    }
   ],
   "source": [
    "test_predict = RFClassifer(training_enc, test_enc)\n",
    "Evaluation(test_predict)"
   ]
  },
  {
   "cell_type": "markdown",
   "metadata": {},
   "source": [
    "# Random Forest Classification Results analysis \n",
    "\n",
    "\n",
    "Encoding red or white wine and including data in the model does not improve model. Separating model into two models for red and white wine increases accuracy of the model. "
   ]
  },
  {
   "cell_type": "markdown",
   "metadata": {},
   "source": [
    "# Mutli-calss classification"
   ]
  },
  {
   "cell_type": "code",
   "execution_count": 36,
   "metadata": {},
   "outputs": [],
   "source": [
    "def MC_RFClassifer(training, test):\n",
    "    rfModel = (RandomForestClassifier()\n",
    "      .setLabelCol(\"quality\")\n",
    "      .setFeaturesCol(\"features\"))\n",
    "    paramGrid = (ParamGridBuilder()\n",
    "      .addGrid(rfModel.maxDepth, [5, 10])\n",
    "      .addGrid(rfModel.numTrees, [20, 60])\n",
    "      .build())\n",
    "\n",
    "    stages = [rfModel]\n",
    "    pipeline = Pipeline().setStages(stages)\n",
    "    \n",
    "    cv = (CrossValidator() # you can feel free to change the number of folds used in cross validation as well\n",
    "      .setEstimator(pipeline) # the estimator can also just be an individual model rather than a pipeline\n",
    "      .setEstimatorParamMaps(paramGrid)\n",
    "      .setEvaluator(BinaryClassificationEvaluator().setLabelCol(\"quality\")))\n",
    "    \n",
    "    pipelineFitted = cv.fit(training)\n",
    "    \n",
    "    print(\"The Best Parameters:\\n--------------------\")\n",
    "    print(pipelineFitted.bestModel.stages[0])      \n",
    "    pipelineFitted.bestModel.stages[0].extractParamMap()\n",
    "    \n",
    "    test_predict = pipelineFitted.bestModel.transform(test).selectExpr(\"double(round(prediction)) as prediction\",\"double(round(quality)) as quality\")\n",
    "    display(test_predict.show(3))\n",
    "    \n",
    "    return test_predict"
   ]
  },
  {
   "cell_type": "code",
   "execution_count": 37,
   "metadata": {},
   "outputs": [],
   "source": [
    "def MC_ConfMatrix(test_predict):\n",
    "        #collect prediction and true value\n",
    "    y_true = test_predict.select(['quality']).collect()\n",
    "    y_pred = test_predict.select(['prediction']).collect()\n",
    "\n",
    "    #classification report\n",
    "    print(classification_report(y_true, y_pred))\n",
    "    \n",
    "    #confusion matrix \n",
    "\n",
    "    cm = confusion_matrix(y_true, y_pred)\n",
    "    sns.heatmap(cm, annot=True, fmt='d')\n",
    "    plt.show()"
   ]
  },
  {
   "cell_type": "code",
   "execution_count": 38,
   "metadata": {},
   "outputs": [],
   "source": [
    "def MC_Evaluation(test_predict):\n",
    "    acc = test_predict.selectExpr(\"prediction\", \"quality\",\n",
    "                        \"\"\"\n",
    "                        CASE prediction = quality\n",
    "                        WHEN true then 1\n",
    "                        ELSE 0\n",
    "                        END as equal\n",
    "                        \"\"\")\n",
    "        \n",
    "    print(acc.selectExpr(\"sum(equal)/sum(1)\").show())\n",
    "\n",
    "    # Another way to evaluate error\n",
    "    evaluator = MulticlassClassificationEvaluator(labelCol=\"quality\", predictionCol=\"prediction\", metricName=\"accuracy\")\n",
    "    \n",
    "    accuracy = evaluator.evaluate(test_predict)\n",
    "    print(\"Test Error = %g\" % (1.0 - accuracy))\n",
    "    \n",
    "    MC_ConfMatrix(test_predict)"
   ]
  },
  {
   "cell_type": "markdown",
   "metadata": {},
   "source": [
    "### All wine encoded "
   ]
  },
  {
   "cell_type": "code",
   "execution_count": 39,
   "metadata": {},
   "outputs": [
    {
     "name": "stdout",
     "output_type": "stream",
     "text": [
      "The Best Parameters:\n",
      "--------------------\n",
      "RandomForestClassificationModel: uid=RandomForestClassifier_5ca5258ccac2, numTrees=20, numClasses=10, numFeatures=12\n",
      "+----------+-------+\n",
      "|prediction|quality|\n",
      "+----------+-------+\n",
      "|       5.0|    3.0|\n",
      "|       7.0|    6.0|\n",
      "|       6.0|    5.0|\n",
      "+----------+-------+\n",
      "only showing top 3 rows\n",
      "\n"
     ]
    },
    {
     "data": {
      "text/plain": [
       "None"
      ]
     },
     "metadata": {},
     "output_type": "display_data"
    },
    {
     "name": "stdout",
     "output_type": "stream",
     "text": [
      "+---------------------+\n",
      "|(sum(equal) / sum(1))|\n",
      "+---------------------+\n",
      "|   0.5425311203319502|\n",
      "+---------------------+\n",
      "\n",
      "None\n",
      "Test Error = 0.457469\n",
      "              precision    recall  f1-score   support\n",
      "\n",
      "         3.0       0.00      0.00      0.00         9\n",
      "         4.0       0.00      0.00      0.00        69\n",
      "         5.0       0.62      0.59      0.61       655\n",
      "         6.0       0.50      0.74      0.60       817\n",
      "         7.0       0.55      0.18      0.27       323\n",
      "         8.0       0.00      0.00      0.00        54\n",
      "         9.0       0.00      0.00      0.00         1\n",
      "\n",
      "    accuracy                           0.54      1928\n",
      "   macro avg       0.24      0.21      0.21      1928\n",
      "weighted avg       0.52      0.54      0.50      1928\n",
      "\n"
     ]
    },
    {
     "name": "stderr",
     "output_type": "stream",
     "text": [
      "/home/ubuntu/.local/lib/python3.8/site-packages/sklearn/metrics/_classification.py:1221: UndefinedMetricWarning: Precision and F-score are ill-defined and being set to 0.0 in labels with no predicted samples. Use `zero_division` parameter to control this behavior.\n",
      "  _warn_prf(average, modifier, msg_start, len(result))\n"
     ]
    },
    {
     "data": {
      "image/png": "[encoded data removed]",
      "text/plain": [
       "<Figure size 432x288 with 2 Axes>"
      ]
     },
     "metadata": {
      "needs_background": "light"
     },
     "output_type": "display_data"
    }
   ],
   "source": [
    "test_predict = MC_RFClassifer(training_enc, test_enc)\n",
    "MC_Evaluation(test_predict)"
   ]
  },
  {
   "cell_type": "markdown",
   "metadata": {},
   "source": [
    "### Mutli-calss classification  - Only red wine"
   ]
  },
  {
   "cell_type": "code",
   "execution_count": 40,
   "metadata": {},
   "outputs": [
    {
     "name": "stdout",
     "output_type": "stream",
     "text": [
      "The Best Parameters:\n",
      "--------------------\n",
      "RandomForestClassificationModel: uid=RandomForestClassifier_0f2feba287b7, numTrees=20, numClasses=9, numFeatures=11\n",
      "+----------+-------+\n",
      "|prediction|quality|\n",
      "+----------+-------+\n",
      "|       7.0|    6.0|\n",
      "|       6.0|    7.0|\n",
      "|       6.0|    6.0|\n",
      "+----------+-------+\n",
      "only showing top 3 rows\n",
      "\n"
     ]
    },
    {
     "data": {
      "text/plain": [
       "None"
      ]
     },
     "metadata": {},
     "output_type": "display_data"
    },
    {
     "name": "stdout",
     "output_type": "stream",
     "text": [
      "+---------------------+\n",
      "|(sum(equal) / sum(1))|\n",
      "+---------------------+\n",
      "|   0.6252390057361377|\n",
      "+---------------------+\n",
      "\n",
      "None\n",
      "Test Error = 0.374761\n",
      "              precision    recall  f1-score   support\n",
      "\n",
      "         3.0       0.00      0.00      0.00         1\n",
      "         4.0       0.00      0.00      0.00        20\n",
      "         5.0       0.71      0.76      0.73       222\n",
      "         6.0       0.55      0.68      0.61       205\n",
      "         7.0       0.62      0.25      0.36        71\n",
      "         8.0       0.00      0.00      0.00         4\n",
      "\n",
      "    accuracy                           0.63       523\n",
      "   macro avg       0.31      0.28      0.28       523\n",
      "weighted avg       0.60      0.63      0.60       523\n",
      "\n"
     ]
    },
    {
     "data": {
      "image/png": "[encoded data removed]",
      "text/plain": [
       "<Figure size 432x288 with 2 Axes>"
      ]
     },
     "metadata": {
      "needs_background": "light"
     },
     "output_type": "display_data"
    }
   ],
   "source": [
    "test_predict = MC_RFClassifer(training_red, test_red)\n",
    "MC_Evaluation(test_predict)"
   ]
  },
  {
   "cell_type": "markdown",
   "metadata": {},
   "source": [
    "### Mutli-calss classification - Only white wine"
   ]
  },
  {
   "cell_type": "code",
   "execution_count": 41,
   "metadata": {},
   "outputs": [
    {
     "name": "stdout",
     "output_type": "stream",
     "text": [
      "The Best Parameters:\n",
      "--------------------\n",
      "RandomForestClassificationModel: uid=RandomForestClassifier_51925a185f8a, numTrees=20, numClasses=10, numFeatures=11\n",
      "+----------+-------+\n",
      "|prediction|quality|\n",
      "+----------+-------+\n",
      "|       6.0|    6.0|\n",
      "|       7.0|    6.0|\n",
      "|       6.0|    7.0|\n",
      "+----------+-------+\n",
      "only showing top 3 rows\n",
      "\n"
     ]
    },
    {
     "data": {
      "text/plain": [
       "None"
      ]
     },
     "metadata": {},
     "output_type": "display_data"
    },
    {
     "name": "stdout",
     "output_type": "stream",
     "text": [
      "+---------------------+\n",
      "|(sum(equal) / sum(1))|\n",
      "+---------------------+\n",
      "|            0.5390625|\n",
      "+---------------------+\n",
      "\n",
      "None\n",
      "Test Error = 0.460938\n",
      "              precision    recall  f1-score   support\n",
      "\n",
      "         3.0       0.00      0.00      0.00         5\n",
      "         4.0       0.00      0.00      0.00        49\n",
      "         5.0       0.60      0.61      0.60       411\n",
      "         6.0       0.51      0.76      0.61       618\n",
      "         7.0       0.55      0.15      0.24       273\n",
      "         8.0       0.00      0.00      0.00        51\n",
      "         9.0       0.00      0.00      0.00         1\n",
      "\n",
      "    accuracy                           0.54      1408\n",
      "   macro avg       0.24      0.22      0.21      1408\n",
      "weighted avg       0.51      0.54      0.49      1408\n",
      "\n"
     ]
    },
    {
     "data": {
      "image/png": "[encoded data removed]",
      "text/plain": [
       "<Figure size 432x288 with 2 Axes>"
      ]
     },
     "metadata": {
      "needs_background": "light"
     },
     "output_type": "display_data"
    }
   ],
   "source": [
    "test_predict = MC_RFClassifer(training_white, test_white)\n",
    "MC_Evaluation(test_predict)"
   ]
  },
  {
   "cell_type": "markdown",
   "metadata": {},
   "source": [
    "## Mutli-calss classification Results Analysis:\n",
    "Multi-class classification does not produce very accurate results compared to binary classification.\n",
    "However, it produces better results than regression model"
   ]
  },
  {
   "cell_type": "markdown",
   "metadata": {},
   "source": [
    "# Gradient-boosted tree classifier -binrary"
   ]
  },
  {
   "cell_type": "code",
   "execution_count": 42,
   "metadata": {},
   "outputs": [],
   "source": [
    "from pyspark.ml.classification import GBTClassifier"
   ]
  },
  {
   "cell_type": "code",
   "execution_count": 43,
   "metadata": {},
   "outputs": [],
   "source": [
    "def BGTCClassifer(training, test):\n",
    "    model = (GBTClassifier()\n",
    "      .setLabelCol(\"good\")\n",
    "      .setFeaturesCol(\"features\"))\n",
    "    \n",
    "    paramGrid = (ParamGridBuilder()\n",
    "      .addGrid(model.maxDepth, [7, 15])\n",
    "      .addGrid(model.maxIter, [25])\n",
    "      .build())\n",
    "\n",
    "    stages = [model]\n",
    "    pipeline = Pipeline().setStages(stages)\n",
    "    \n",
    "    cv = (CrossValidator() # you can feel free to change the number of folds used in cross validation as well\n",
    "      .setEstimator(pipeline) # the estimator can also just be an individual model rather than a pipeline\n",
    "      .setEstimatorParamMaps(paramGrid)\n",
    "      .setEvaluator(BinaryClassificationEvaluator().setLabelCol(\"good\")))\n",
    "    \n",
    "    pipelineFitted = cv.fit(training)\n",
    "    \n",
    "    print(\"The Best Parameters:\\n--------------------\")\n",
    "    print(pipelineFitted.bestModel.stages[0])      \n",
    "    pipelineFitted.bestModel.stages[0].extractParamMap()\n",
    "    \n",
    "    test_predict = pipelineFitted.bestModel.transform(test).selectExpr(\"double(round(prediction)) as prediction\",\"double(round(good)) as good\")\n",
    "    display(test_predict.show(3))\n",
    "    \n",
    "    return test_predict"
   ]
  },
  {
   "cell_type": "markdown",
   "metadata": {},
   "source": [
    "### Gradient-boosted tree classifier - All wine "
   ]
  },
  {
   "cell_type": "code",
   "execution_count": 44,
   "metadata": {},
   "outputs": [
    {
     "name": "stdout",
     "output_type": "stream",
     "text": [
      "The Best Parameters:\n",
      "--------------------\n",
      "GBTClassificationModel: uid = GBTClassifier_b9a7d09a9bd6, numTrees=25, numClasses=2, numFeatures=12\n",
      "+----------+----+\n",
      "|prediction|good|\n",
      "+----------+----+\n",
      "|       0.0| 0.0|\n",
      "|       1.0| 0.0|\n",
      "|       0.0| 0.0|\n",
      "+----------+----+\n",
      "only showing top 3 rows\n",
      "\n"
     ]
    },
    {
     "data": {
      "text/plain": [
       "None"
      ]
     },
     "metadata": {},
     "output_type": "display_data"
    }
   ],
   "source": [
    "test_predict = BGTCClassifer(training_enc, test_enc)"
   ]
  },
  {
   "cell_type": "code",
   "execution_count": 45,
   "metadata": {},
   "outputs": [
    {
     "name": "stdout",
     "output_type": "stream",
     "text": [
      "+---------------------+\n",
      "|(sum(equal) / sum(1))|\n",
      "+---------------------+\n",
      "|   0.8469917012448133|\n",
      "+---------------------+\n",
      "\n",
      "None\n",
      "Test Error = 0.153008\n",
      "              precision    recall  f1-score   support\n",
      "\n",
      "         0.0       0.89      0.92      0.91      1550\n",
      "         1.0       0.63      0.54      0.58       378\n",
      "\n",
      "    accuracy                           0.85      1928\n",
      "   macro avg       0.76      0.73      0.74      1928\n",
      "weighted avg       0.84      0.85      0.84      1928\n",
      "\n"
     ]
    },
    {
     "data": {
      "image/png": "[encoded data removed]",
      "text/plain": [
       "<Figure size 432x288 with 2 Axes>"
      ]
     },
     "metadata": {
      "needs_background": "light"
     },
     "output_type": "display_data"
    }
   ],
   "source": [
    "Evaluation(test_predict)"
   ]
  },
  {
   "cell_type": "markdown",
   "metadata": {},
   "source": [
    "### Gradient-boosted tree classifier - Red wine only"
   ]
  },
  {
   "cell_type": "code",
   "execution_count": 46,
   "metadata": {},
   "outputs": [
    {
     "name": "stdout",
     "output_type": "stream",
     "text": [
      "The Best Parameters:\n",
      "--------------------\n",
      "GBTClassificationModel: uid = GBTClassifier_93fca5a2a107, numTrees=25, numClasses=2, numFeatures=11\n",
      "+----------+----+\n",
      "|prediction|good|\n",
      "+----------+----+\n",
      "|       0.0| 0.0|\n",
      "|       1.0| 1.0|\n",
      "|       0.0| 0.0|\n",
      "+----------+----+\n",
      "only showing top 3 rows\n",
      "\n"
     ]
    },
    {
     "data": {
      "text/plain": [
       "None"
      ]
     },
     "metadata": {},
     "output_type": "display_data"
    },
    {
     "name": "stdout",
     "output_type": "stream",
     "text": [
      "+---------------------+\n",
      "|(sum(equal) / sum(1))|\n",
      "+---------------------+\n",
      "|   0.8795411089866156|\n",
      "+---------------------+\n",
      "\n",
      "None\n",
      "Test Error = 0.120459\n",
      "              precision    recall  f1-score   support\n",
      "\n",
      "         0.0       0.92      0.94      0.93       448\n",
      "         1.0       0.60      0.49      0.54        75\n",
      "\n",
      "    accuracy                           0.88       523\n",
      "   macro avg       0.76      0.72      0.74       523\n",
      "weighted avg       0.87      0.88      0.87       523\n",
      "\n"
     ]
    },
    {
     "data": {
      "image/png": "[encoded data removed]",
      "text/plain": [
       "<Figure size 432x288 with 2 Axes>"
      ]
     },
     "metadata": {
      "needs_background": "light"
     },
     "output_type": "display_data"
    }
   ],
   "source": [
    "test_predict = BGTCClassifer(training_red, test_red)\n",
    "Evaluation(test_predict)"
   ]
  },
  {
   "cell_type": "markdown",
   "metadata": {},
   "source": [
    "### Gradient-boosted tree classifier - White wine only"
   ]
  },
  {
   "cell_type": "code",
   "execution_count": 47,
   "metadata": {},
   "outputs": [
    {
     "name": "stdout",
     "output_type": "stream",
     "text": [
      "The Best Parameters:\n",
      "--------------------\n",
      "GBTClassificationModel: uid = GBTClassifier_6721c0680b73, numTrees=25, numClasses=2, numFeatures=11\n",
      "+----------+----+\n",
      "|prediction|good|\n",
      "+----------+----+\n",
      "|       1.0| 0.0|\n",
      "|       1.0| 0.0|\n",
      "|       1.0| 1.0|\n",
      "+----------+----+\n",
      "only showing top 3 rows\n",
      "\n"
     ]
    },
    {
     "data": {
      "text/plain": [
       "None"
      ]
     },
     "metadata": {},
     "output_type": "display_data"
    },
    {
     "name": "stdout",
     "output_type": "stream",
     "text": [
      "+---------------------+\n",
      "|(sum(equal) / sum(1))|\n",
      "+---------------------+\n",
      "|   0.8366477272727273|\n",
      "+---------------------+\n",
      "\n",
      "None\n",
      "Test Error = 0.163352\n",
      "              precision    recall  f1-score   support\n",
      "\n",
      "         0.0       0.88      0.92      0.90      1083\n",
      "         1.0       0.68      0.56      0.61       325\n",
      "\n",
      "    accuracy                           0.84      1408\n",
      "   macro avg       0.78      0.74      0.76      1408\n",
      "weighted avg       0.83      0.84      0.83      1408\n",
      "\n"
     ]
    },
    {
     "data": {
      "image/png": "[encoded data removed]",
      "text/plain": [
       "<Figure size 432x288 with 2 Axes>"
      ]
     },
     "metadata": {
      "needs_background": "light"
     },
     "output_type": "display_data"
    }
   ],
   "source": [
    "test_predict = BGTCClassifer(training_white, test_white)\n",
    "Evaluation(test_predict)"
   ]
  },
  {
   "cell_type": "markdown",
   "metadata": {},
   "source": [
    "# Clustering"
   ]
  },
  {
   "cell_type": "code",
   "execution_count": 47,
   "metadata": {},
   "outputs": [],
   "source": [
    "from pyspark.ml.clustering import KMeans\n",
    "from pyspark.ml.evaluation import ClusteringEvaluator"
   ]
  },
  {
   "cell_type": "code",
   "execution_count": 48,
   "metadata": {},
   "outputs": [],
   "source": [
    "num_clust = ['fixed acidity',\n",
    " 'volatile acidity',\n",
    " 'citric acid',\n",
    " 'residual sugar',\n",
    " 'chlorides',\n",
    " 'free sulfur dioxide',\n",
    " 'total sulfur dioxide',\n",
    " 'density',\n",
    " 'pH',\n",
    " 'sulphates',\n",
    " 'alcohol',]"
   ]
  },
  {
   "cell_type": "code",
   "execution_count": 49,
   "metadata": {},
   "outputs": [
    {
     "name": "stdout",
     "output_type": "stream",
     "text": [
      "-RECORD 0----------------------------------------------------------------------\n",
      " fixed acidity        | 7.4                                                    \n",
      " volatile acidity     | 0.7                                                    \n",
      " citric acid          | 0.0                                                    \n",
      " residual sugar       | 1.9                                                    \n",
      " chlorides            | 0.076                                                  \n",
      " free sulfur dioxide  | 11.0                                                   \n",
      " total sulfur dioxide | 34.0                                                   \n",
      " density              | 0.9978                                                 \n",
      " pH                   | 3.51                                                   \n",
      " sulphates            | 0.56                                                   \n",
      " alcohol              | 9.4                                                    \n",
      " quality              | 5                                                      \n",
      " good                 | 0                                                      \n",
      " color                | red                                                    \n",
      " features             | [7.4,0.7,0.0,1.9,0.076,11.0,34.0,0.9978,3.51,0.56,9.4] \n",
      "only showing top 1 row\n",
      "\n"
     ]
    }
   ],
   "source": [
    "#create input vector\n",
    "features_column = num_clust\n",
    "\n",
    "assembler = (VectorAssembler()\n",
    "  .setInputCols(features_column)\n",
    "  .setOutputCol(\"features\"))\n",
    "\n",
    "dataset = assembler.transform(df)\n",
    "dataset.show(n=1, truncate=False, vertical=True)"
   ]
  },
  {
   "cell_type": "code",
   "execution_count": 50,
   "metadata": {},
   "outputs": [],
   "source": [
    "kmeans = KMeans().setK(2).setSeed(1)\n",
    "model = kmeans.fit(dataset)"
   ]
  },
  {
   "cell_type": "code",
   "execution_count": 51,
   "metadata": {},
   "outputs": [],
   "source": [
    "predictions = model.transform(dataset)"
   ]
  },
  {
   "cell_type": "code",
   "execution_count": 52,
   "metadata": {},
   "outputs": [
    {
     "name": "stdout",
     "output_type": "stream",
     "text": [
      "Silhouette with squared euclidean distance = 0.6899553418429238\n",
      "Cluster Centers: \n",
      "[6.90383157e+00 2.87090441e-01 3.39704847e-01 7.24164636e+00\n",
      " 4.85754129e-02 3.97382887e+01 1.55643786e+02 9.94787092e-01\n",
      " 3.19103710e+00 4.99834823e-01 1.02609387e+01]\n",
      "[ 7.62553495  0.40891049  0.29088088  3.07464337  0.06585699 18.39140514\n",
      " 63.19543509  0.9945775   3.2546719   0.57266762 10.79585711]\n"
     ]
    }
   ],
   "source": [
    "# Evaluate clustering by computing Silhouette score\n",
    "evaluator = ClusteringEvaluator()\n",
    "\n",
    "silhouette = evaluator.evaluate(predictions)\n",
    "print(\"Silhouette with squared euclidean distance = \" + str(silhouette))\n",
    "\n",
    "# Shows the result.\n",
    "centers = model.clusterCenters()\n",
    "print(\"Cluster Centers: \")\n",
    "for center in centers:\n",
    "    print(center)"
   ]
  },
  {
   "cell_type": "code",
   "execution_count": 53,
   "metadata": {},
   "outputs": [
    {
     "name": "stdout",
     "output_type": "stream",
     "text": [
      "-RECORD 0----------------------------------------------------------------------\n",
      " fixed acidity        | 7.4                                                    \n",
      " volatile acidity     | 0.7                                                    \n",
      " citric acid          | 0.0                                                    \n",
      " residual sugar       | 1.9                                                    \n",
      " chlorides            | 0.076                                                  \n",
      " free sulfur dioxide  | 11.0                                                   \n",
      " total sulfur dioxide | 34.0                                                   \n",
      " density              | 0.9978                                                 \n",
      " pH                   | 3.51                                                   \n",
      " sulphates            | 0.56                                                   \n",
      " alcohol              | 9.4                                                    \n",
      " quality              | 5                                                      \n",
      " good                 | 0                                                      \n",
      " color                | red                                                    \n",
      " features             | [7.4,0.7,0.0,1.9,0.076,11.0,34.0,0.9978,3.51,0.56,9.4] \n",
      " prediction           | 1                                                      \n",
      "only showing top 1 row\n",
      "\n"
     ]
    }
   ],
   "source": [
    "predictions.show(n=1, truncate=False, vertical=True)"
   ]
  },
  {
   "cell_type": "code",
   "execution_count": 54,
   "metadata": {},
   "outputs": [
    {
     "name": "stdout",
     "output_type": "stream",
     "text": [
      "Row(fixed acidity=7.4, volatile acidity=0.7, citric acid=0.0, residual sugar=1.9, chlorides=0.076, free sulfur dioxide=11.0, total sulfur dioxide=34.0, density=0.9978, pH=3.51, sulphates=0.56, alcohol=9.4, quality=5, good=0, color='red', features=DenseVector([7.4, 0.7, 0.0, 1.9, 0.076, 11.0, 34.0, 0.9978, 3.51, 0.56, 9.4]), prediction=1)\n",
      "\n",
      "\n"
     ]
    }
   ],
   "source": [
    "for row in predictions.head(1):\n",
    "    print(row)\n",
    "    print('\\n')"
   ]
  },
  {
   "cell_type": "code",
   "execution_count": 55,
   "metadata": {},
   "outputs": [
    {
     "name": "stdout",
     "output_type": "stream",
     "text": [
      "+----------+-----+\n",
      "|prediction|count|\n",
      "+----------+-----+\n",
      "|         1| 2804|\n",
      "|         0| 3693|\n",
      "+----------+-----+\n",
      "\n",
      "None\n"
     ]
    }
   ],
   "source": [
    "print(predictions.groupby(\"prediction\").count().show())"
   ]
  },
  {
   "cell_type": "code",
   "execution_count": 56,
   "metadata": {},
   "outputs": [
    {
     "name": "stdout",
     "output_type": "stream",
     "text": [
      "+----+-----+\n",
      "|good|count|\n",
      "+----+-----+\n",
      "|   1| 1277|\n",
      "|   0| 5220|\n",
      "+----+-----+\n",
      "\n",
      "None\n"
     ]
    }
   ],
   "source": [
    "print(predictions.groupby(\"good\").count().show())"
   ]
  },
  {
   "cell_type": "code",
   "execution_count": 57,
   "metadata": {},
   "outputs": [],
   "source": [
    "#only good for group of 2"
   ]
  },
  {
   "cell_type": "code",
   "execution_count": 58,
   "metadata": {},
   "outputs": [
    {
     "name": "stdout",
     "output_type": "stream",
     "text": [
      "+---------------------+\n",
      "|(sum(equal) / sum(1))|\n",
      "+---------------------+\n",
      "|   0.5457903647837463|\n",
      "+---------------------+\n",
      "\n"
     ]
    },
    {
     "data": {
      "text/plain": [
       "None"
      ]
     },
     "metadata": {},
     "output_type": "display_data"
    }
   ],
   "source": [
    "acc_clust = predictions.selectExpr(\"prediction\", \"good\",\n",
    "                        \"\"\"\n",
    "                        CASE prediction = good\n",
    "                        WHEN true then 1\n",
    "                        ELSE 0\n",
    "                        END as equal\n",
    "                        \"\"\")\n",
    "display(acc_clust.selectExpr(\"sum(equal)/sum(1)\").show())"
   ]
  },
  {
   "cell_type": "code",
   "execution_count": 59,
   "metadata": {},
   "outputs": [],
   "source": [
    "#collect prediction and true value\n",
    "y_true = df.select(['good']).collect()\n",
    "y_pred = predictions.select(['prediction']).collect()"
   ]
  },
  {
   "cell_type": "code",
   "execution_count": 60,
   "metadata": {},
   "outputs": [
    {
     "name": "stdout",
     "output_type": "stream",
     "text": [
      "              precision    recall  f1-score   support\n",
      "\n",
      "           0       0.81      0.57      0.67      5220\n",
      "           1       0.20      0.44      0.28      1277\n",
      "\n",
      "    accuracy                           0.55      6497\n",
      "   macro avg       0.50      0.51      0.47      6497\n",
      "weighted avg       0.69      0.55      0.59      6497\n",
      "\n"
     ]
    }
   ],
   "source": [
    "#classification report\n",
    "print(classification_report(y_true, y_pred))"
   ]
  },
  {
   "cell_type": "code",
   "execution_count": 61,
   "metadata": {},
   "outputs": [
    {
     "data": {
      "image/png": "[encoded data removed]",
      "text/plain": [
       "<Figure size 432x288 with 2 Axes>"
      ]
     },
     "metadata": {
      "needs_background": "light"
     },
     "output_type": "display_data"
    }
   ],
   "source": [
    "#confusion matrix \n",
    "\n",
    "cm = confusion_matrix(y_true, y_pred)\n",
    "sns.heatmap(cm, annot=True, fmt='d')\n",
    "plt.show()\n"
   ]
  },
  {
   "cell_type": "code",
   "execution_count": 62,
   "metadata": {},
   "outputs": [
    {
     "data": {
      "text/html": [
       "<div>\n",
       "<style scoped>\n",
       "    .dataframe tbody tr th:only-of-type {\n",
       "        vertical-align: middle;\n",
       "    }\n",
       "\n",
       "    .dataframe tbody tr th {\n",
       "        vertical-align: top;\n",
       "    }\n",
       "\n",
       "    .dataframe thead th {\n",
       "        text-align: right;\n",
       "    }\n",
       "</style>\n",
       "<table border=\"1\" class=\"dataframe\">\n",
       "  <thead>\n",
       "    <tr style=\"text-align: right;\">\n",
       "      <th></th>\n",
       "      <th>fixed acidity</th>\n",
       "      <th>volatile acidity</th>\n",
       "      <th>citric acid</th>\n",
       "      <th>residual sugar</th>\n",
       "      <th>chlorides</th>\n",
       "      <th>free sulfur dioxide</th>\n",
       "      <th>total sulfur dioxide</th>\n",
       "      <th>density</th>\n",
       "      <th>pH</th>\n",
       "      <th>sulphates</th>\n",
       "      <th>alcohol</th>\n",
       "      <th>quality</th>\n",
       "      <th>good</th>\n",
       "      <th>color</th>\n",
       "    </tr>\n",
       "  </thead>\n",
       "  <tbody>\n",
       "    <tr>\n",
       "      <th>0</th>\n",
       "      <td>7.4</td>\n",
       "      <td>0.70</td>\n",
       "      <td>0.00</td>\n",
       "      <td>1.9</td>\n",
       "      <td>0.076</td>\n",
       "      <td>11.0</td>\n",
       "      <td>34.0</td>\n",
       "      <td>0.9978</td>\n",
       "      <td>3.51</td>\n",
       "      <td>0.56</td>\n",
       "      <td>9.4</td>\n",
       "      <td>5</td>\n",
       "      <td>0</td>\n",
       "      <td>red</td>\n",
       "    </tr>\n",
       "    <tr>\n",
       "      <th>1</th>\n",
       "      <td>7.8</td>\n",
       "      <td>0.88</td>\n",
       "      <td>0.00</td>\n",
       "      <td>2.6</td>\n",
       "      <td>0.098</td>\n",
       "      <td>25.0</td>\n",
       "      <td>67.0</td>\n",
       "      <td>0.9968</td>\n",
       "      <td>3.20</td>\n",
       "      <td>0.68</td>\n",
       "      <td>9.8</td>\n",
       "      <td>5</td>\n",
       "      <td>0</td>\n",
       "      <td>red</td>\n",
       "    </tr>\n",
       "    <tr>\n",
       "      <th>2</th>\n",
       "      <td>7.8</td>\n",
       "      <td>0.76</td>\n",
       "      <td>0.04</td>\n",
       "      <td>2.3</td>\n",
       "      <td>0.092</td>\n",
       "      <td>15.0</td>\n",
       "      <td>54.0</td>\n",
       "      <td>0.9970</td>\n",
       "      <td>3.26</td>\n",
       "      <td>0.65</td>\n",
       "      <td>9.8</td>\n",
       "      <td>5</td>\n",
       "      <td>0</td>\n",
       "      <td>red</td>\n",
       "    </tr>\n",
       "    <tr>\n",
       "      <th>3</th>\n",
       "      <td>11.2</td>\n",
       "      <td>0.28</td>\n",
       "      <td>0.56</td>\n",
       "      <td>1.9</td>\n",
       "      <td>0.075</td>\n",
       "      <td>17.0</td>\n",
       "      <td>60.0</td>\n",
       "      <td>0.9980</td>\n",
       "      <td>3.16</td>\n",
       "      <td>0.58</td>\n",
       "      <td>9.8</td>\n",
       "      <td>6</td>\n",
       "      <td>0</td>\n",
       "      <td>red</td>\n",
       "    </tr>\n",
       "    <tr>\n",
       "      <th>4</th>\n",
       "      <td>7.4</td>\n",
       "      <td>0.70</td>\n",
       "      <td>0.00</td>\n",
       "      <td>1.9</td>\n",
       "      <td>0.076</td>\n",
       "      <td>11.0</td>\n",
       "      <td>34.0</td>\n",
       "      <td>0.9978</td>\n",
       "      <td>3.51</td>\n",
       "      <td>0.56</td>\n",
       "      <td>9.4</td>\n",
       "      <td>5</td>\n",
       "      <td>0</td>\n",
       "      <td>red</td>\n",
       "    </tr>\n",
       "  </tbody>\n",
       "</table>\n",
       "</div>"
      ],
      "text/plain": [
       "   fixed acidity  volatile acidity  citric acid  residual sugar  chlorides  \\\n",
       "0            7.4              0.70         0.00             1.9      0.076   \n",
       "1            7.8              0.88         0.00             2.6      0.098   \n",
       "2            7.8              0.76         0.04             2.3      0.092   \n",
       "3           11.2              0.28         0.56             1.9      0.075   \n",
       "4            7.4              0.70         0.00             1.9      0.076   \n",
       "\n",
       "   free sulfur dioxide  total sulfur dioxide  density    pH  sulphates  \\\n",
       "0                 11.0                  34.0   0.9978  3.51       0.56   \n",
       "1                 25.0                  67.0   0.9968  3.20       0.68   \n",
       "2                 15.0                  54.0   0.9970  3.26       0.65   \n",
       "3                 17.0                  60.0   0.9980  3.16       0.58   \n",
       "4                 11.0                  34.0   0.9978  3.51       0.56   \n",
       "\n",
       "   alcohol  quality  good color  \n",
       "0      9.4        5     0   red  \n",
       "1      9.8        5     0   red  \n",
       "2      9.8        5     0   red  \n",
       "3      9.8        6     0   red  \n",
       "4      9.4        5     0   red  "
      ]
     },
     "execution_count": 62,
     "metadata": {},
     "output_type": "execute_result"
    }
   ],
   "source": [
    "df.limit(5).toPandas()"
   ]
  },
  {
   "cell_type": "markdown",
   "metadata": {},
   "source": [
    "# PCA for Cluster visualisation"
   ]
  },
  {
   "cell_type": "code",
   "execution_count": 63,
   "metadata": {},
   "outputs": [
    {
     "name": "stdout",
     "output_type": "stream",
     "text": [
      "-RECORD 0---------------------------------------------\n",
      " pcaFeatures | [35.55730853561848,2.8557329251644883] \n",
      "-RECORD 1---------------------------------------------\n",
      " pcaFeatures | [70.88903047039945,8.848169692542028]  \n",
      "-RECORD 2---------------------------------------------\n",
      " pcaFeatures | [55.933882405273444,2.124434149984114] \n",
      "only showing top 3 rows\n",
      "\n"
     ]
    }
   ],
   "source": [
    "from pyspark.ml.feature import PCA\n",
    "#from pyspark.ml.linalg import Vectors\n",
    "\n",
    "pca = PCA(k=2, inputCol=\"features\", outputCol=\"pcaFeatures\")\n",
    "model = pca.fit(dataset)\n",
    "\n",
    "result = model.transform(dataset).select(\"pcaFeatures\")\n",
    "result.show(n=3, truncate=False, vertical=True)"
   ]
  },
  {
   "cell_type": "code",
   "execution_count": 64,
   "metadata": {},
   "outputs": [],
   "source": [
    "pca_plt = pd.DataFrame()\n",
    "for row in result.rdd.collect():\n",
    "    #print(row[0][0],row[0][1])\n",
    "    pca_plt = pca_plt.append({'x' : row[0][0] , 'y' : row[0][1]} , ignore_index=True)"
   ]
  },
  {
   "cell_type": "code",
   "execution_count": 65,
   "metadata": {},
   "outputs": [],
   "source": [
    "y_pred_pd = pd.DataFrame()\n",
    "for row in y_pred:\n",
    "    y_pred_pd = y_pred_pd.append({'clust':row[0]}, ignore_index=True)\n"
   ]
  },
  {
   "cell_type": "code",
   "execution_count": 66,
   "metadata": {},
   "outputs": [],
   "source": [
    "pca_plt_clust = pd.concat([pca_plt, y_pred_pd], axis=1)"
   ]
  },
  {
   "cell_type": "code",
   "execution_count": 67,
   "metadata": {},
   "outputs": [
    {
     "data": {
      "text/plain": [
       "<matplotlib.axes._subplots.AxesSubplot at 0x7f1599eca790>"
      ]
     },
     "execution_count": 67,
     "metadata": {},
     "output_type": "execute_result"
    },
    {
     "data": {
      "image/png": "[encoded data removed]",
      "text/plain": [
       "<Figure size 432x288 with 1 Axes>"
      ]
     },
     "metadata": {
      "needs_background": "light"
     },
     "output_type": "display_data"
    }
   ],
   "source": [
    "sns.scatterplot(x=\"x\", y=\"y\", hue='clust', data=pca_plt_clust)"
   ]
  },
  {
   "cell_type": "code",
   "execution_count": 68,
   "metadata": {},
   "outputs": [],
   "source": [
    "#Visualisation of Wine Quality"
   ]
  },
  {
   "cell_type": "code",
   "execution_count": 69,
   "metadata": {},
   "outputs": [],
   "source": [
    "qlty = df.select('good').collect()"
   ]
  },
  {
   "cell_type": "code",
   "execution_count": 70,
   "metadata": {},
   "outputs": [],
   "source": [
    "wine_qlty = pd.DataFrame()\n",
    "for row in qlty:\n",
    "    wine_qlty = wine_qlty.append({'good':row[0]}, ignore_index=True)"
   ]
  },
  {
   "cell_type": "code",
   "execution_count": 71,
   "metadata": {},
   "outputs": [
    {
     "data": {
      "text/html": [
       "<div>\n",
       "<style scoped>\n",
       "    .dataframe tbody tr th:only-of-type {\n",
       "        vertical-align: middle;\n",
       "    }\n",
       "\n",
       "    .dataframe tbody tr th {\n",
       "        vertical-align: top;\n",
       "    }\n",
       "\n",
       "    .dataframe thead th {\n",
       "        text-align: right;\n",
       "    }\n",
       "</style>\n",
       "<table border=\"1\" class=\"dataframe\">\n",
       "  <thead>\n",
       "    <tr style=\"text-align: right;\">\n",
       "      <th></th>\n",
       "      <th>x</th>\n",
       "      <th>y</th>\n",
       "      <th>clust</th>\n",
       "      <th>good</th>\n",
       "    </tr>\n",
       "  </thead>\n",
       "  <tbody>\n",
       "    <tr>\n",
       "      <th>0</th>\n",
       "      <td>35.557309</td>\n",
       "      <td>2.855733</td>\n",
       "      <td>1.0</td>\n",
       "      <td>0.0</td>\n",
       "    </tr>\n",
       "    <tr>\n",
       "      <th>1</th>\n",
       "      <td>70.889030</td>\n",
       "      <td>8.848170</td>\n",
       "      <td>1.0</td>\n",
       "      <td>0.0</td>\n",
       "    </tr>\n",
       "    <tr>\n",
       "      <th>2</th>\n",
       "      <td>55.933882</td>\n",
       "      <td>2.124434</td>\n",
       "      <td>1.0</td>\n",
       "      <td>0.0</td>\n",
       "    </tr>\n",
       "    <tr>\n",
       "      <th>3</th>\n",
       "      <td>62.187191</td>\n",
       "      <td>2.655752</td>\n",
       "      <td>1.0</td>\n",
       "      <td>0.0</td>\n",
       "    </tr>\n",
       "    <tr>\n",
       "      <th>4</th>\n",
       "      <td>35.557309</td>\n",
       "      <td>2.855733</td>\n",
       "      <td>1.0</td>\n",
       "      <td>0.0</td>\n",
       "    </tr>\n",
       "    <tr>\n",
       "      <th>...</th>\n",
       "      <td>...</td>\n",
       "      <td>...</td>\n",
       "      <td>...</td>\n",
       "      <td>...</td>\n",
       "    </tr>\n",
       "    <tr>\n",
       "      <th>6492</th>\n",
       "      <td>94.926945</td>\n",
       "      <td>2.084641</td>\n",
       "      <td>1.0</td>\n",
       "      <td>0.0</td>\n",
       "    </tr>\n",
       "    <tr>\n",
       "      <th>6493</th>\n",
       "      <td>176.685818</td>\n",
       "      <td>16.707601</td>\n",
       "      <td>0.0</td>\n",
       "      <td>0.0</td>\n",
       "    </tr>\n",
       "    <tr>\n",
       "      <th>6494</th>\n",
       "      <td>114.772316</td>\n",
       "      <td>3.509418</td>\n",
       "      <td>0.0</td>\n",
       "      <td>0.0</td>\n",
       "    </tr>\n",
       "    <tr>\n",
       "      <th>6495</th>\n",
       "      <td>111.479926</td>\n",
       "      <td>-5.972431</td>\n",
       "      <td>1.0</td>\n",
       "      <td>1.0</td>\n",
       "    </tr>\n",
       "    <tr>\n",
       "      <th>6496</th>\n",
       "      <td>100.264558</td>\n",
       "      <td>-1.261352</td>\n",
       "      <td>1.0</td>\n",
       "      <td>0.0</td>\n",
       "    </tr>\n",
       "  </tbody>\n",
       "</table>\n",
       "<p>6497 rows × 4 columns</p>\n",
       "</div>"
      ],
      "text/plain": [
       "               x          y  clust  good\n",
       "0      35.557309   2.855733    1.0   0.0\n",
       "1      70.889030   8.848170    1.0   0.0\n",
       "2      55.933882   2.124434    1.0   0.0\n",
       "3      62.187191   2.655752    1.0   0.0\n",
       "4      35.557309   2.855733    1.0   0.0\n",
       "...          ...        ...    ...   ...\n",
       "6492   94.926945   2.084641    1.0   0.0\n",
       "6493  176.685818  16.707601    0.0   0.0\n",
       "6494  114.772316   3.509418    0.0   0.0\n",
       "6495  111.479926  -5.972431    1.0   1.0\n",
       "6496  100.264558  -1.261352    1.0   0.0\n",
       "\n",
       "[6497 rows x 4 columns]"
      ]
     },
     "execution_count": 71,
     "metadata": {},
     "output_type": "execute_result"
    }
   ],
   "source": [
    "pca_plt_clust = pd.concat([pca_plt_clust, wine_qlty], axis=1)\n",
    "pca_plt_clust"
   ]
  },
  {
   "cell_type": "code",
   "execution_count": 72,
   "metadata": {},
   "outputs": [
    {
     "data": {
      "text/plain": [
       "<matplotlib.axes._subplots.AxesSubplot at 0x7f1599d5a4f0>"
      ]
     },
     "execution_count": 72,
     "metadata": {},
     "output_type": "execute_result"
    },
    {
     "data": {
      "image/png": "[encoded data removed]",
      "text/plain": [
       "<Figure size 432x288 with 1 Axes>"
      ]
     },
     "metadata": {
      "needs_background": "light"
     },
     "output_type": "display_data"
    }
   ],
   "source": [
    "sns.scatterplot(x=\"x\", y=\"y\", hue='good', data=pca_plt_clust)"
   ]
  },
  {
   "cell_type": "markdown",
   "metadata": {},
   "source": [
    "# Clustering Analysis\n",
    "From the results above it is clear that k-mean clustering does not provide better model than other Random Forest. "
   ]
  },
  {
   "cell_type": "markdown",
   "metadata": {},
   "source": [
    "# Multilayer perceptron classifier"
   ]
  },
  {
   "cell_type": "code",
   "execution_count": 18,
   "metadata": {},
   "outputs": [],
   "source": [
    "from pyspark.ml.classification import MultilayerPerceptronClassifier\n",
    "\n",
    "\n",
    "from pyspark.ml import Pipeline\n",
    "from pyspark.ml.evaluation import MulticlassClassificationEvaluator\n",
    "\n",
    "import sklearn \n",
    "from sklearn.metrics import classification_report, confusion_matrix"
   ]
  },
  {
   "cell_type": "code",
   "execution_count": 22,
   "metadata": {},
   "outputs": [],
   "source": [
    "def MLPClassifier(training,test, num_enc):\n",
    "    # specify layers for the neural network:\n",
    "    # input layer of size 4 (features), two intermediate of size 5 and 4\n",
    "    # and output of size 3 (classes)\n",
    "    features_number = len(num_enc)\n",
    "    layers = [features_number, features_number+1, features_number, 2]\n",
    "    \n",
    "    \n",
    "\n",
    "    # create the trainer and set its parameters\n",
    "    trainer = MultilayerPerceptronClassifier(maxIter=100, layers=layers, blockSize=128, seed=1234, labelCol='good',featuresCol='features')\n",
    "\n",
    "    # train the model\n",
    "    model = trainer.fit(training)\n",
    "\n",
    "    # compute accuracy on the test set\n",
    "    result = model.transform(test)\n",
    "    \n",
    "    test_predict = result.select(\"prediction\", \"good\")\n",
    "    \n",
    "    return test_predict\n",
    "\n",
    "    "
   ]
  },
  {
   "cell_type": "markdown",
   "metadata": {},
   "source": [
    "### Multilayer perceptron classifier - All wine"
   ]
  },
  {
   "cell_type": "code",
   "execution_count": 31,
   "metadata": {},
   "outputs": [
    {
     "name": "stdout",
     "output_type": "stream",
     "text": [
      "+---------------------+\n",
      "|(sum(equal) / sum(1))|\n",
      "+---------------------+\n",
      "|   0.8179979777553084|\n",
      "+---------------------+\n",
      "\n",
      "None\n",
      "Test Error = 0.182002\n",
      "              precision    recall  f1-score   support\n",
      "\n",
      "           0       0.85      0.95      0.89      1602\n",
      "           1       0.54      0.27      0.36       376\n",
      "\n",
      "    accuracy                           0.82      1978\n",
      "   macro avg       0.69      0.61      0.63      1978\n",
      "weighted avg       0.79      0.82      0.79      1978\n",
      "\n"
     ]
    },
    {
     "data": {
      "image/png": "[encoded data removed]",
      "text/plain": [
       "<Figure size 432x288 with 2 Axes>"
      ]
     },
     "metadata": {
      "needs_background": "light"
     },
     "output_type": "display_data"
    }
   ],
   "source": [
    "test_predict = MLPClassifier(training_enc,test_enc, num_enc)\n",
    "Evaluation(test_predict)"
   ]
  },
  {
   "cell_type": "markdown",
   "metadata": {},
   "source": [
    "### Multilayer perceptron classifier - red wine only"
   ]
  },
  {
   "cell_type": "code",
   "execution_count": 34,
   "metadata": {},
   "outputs": [
    {
     "name": "stdout",
     "output_type": "stream",
     "text": [
      "+---------------------+\n",
      "|(sum(equal) / sum(1))|\n",
      "+---------------------+\n",
      "|   0.7896928682977615|\n",
      "+---------------------+\n",
      "\n",
      "None\n",
      "Test Error = 0.210307\n",
      "              precision    recall  f1-score   support\n",
      "\n",
      "           0       0.80      0.98      0.88      1501\n",
      "           1       0.62      0.10      0.17       420\n",
      "\n",
      "    accuracy                           0.79      1921\n",
      "   macro avg       0.71      0.54      0.52      1921\n",
      "weighted avg       0.76      0.79      0.72      1921\n",
      "\n"
     ]
    },
    {
     "data": {
      "image/png": "[encoded data removed]",
      "text/plain": [
       "<Figure size 432x288 with 2 Axes>"
      ]
     },
     "metadata": {
      "needs_background": "light"
     },
     "output_type": "display_data"
    }
   ],
   "source": [
    "test_predict = MLPClassifier(training_red,test_red, features_column)\n",
    "Evaluation(test_predict)"
   ]
  },
  {
   "cell_type": "markdown",
   "metadata": {},
   "source": [
    "### Multilayer perceptron classifier - white wine only"
   ]
  },
  {
   "cell_type": "code",
   "execution_count": 23,
   "metadata": {},
   "outputs": [
    {
     "name": "stdout",
     "output_type": "stream",
     "text": [
      "+---------------------+\n",
      "|(sum(equal) / sum(1))|\n",
      "+---------------------+\n",
      "|   0.7868190988567586|\n",
      "+---------------------+\n",
      "\n",
      "None\n",
      "Test Error = 0.213181\n",
      "              precision    recall  f1-score   support\n",
      "\n",
      "           0       0.81      0.96      0.88      1173\n",
      "           1       0.48      0.15      0.23       314\n",
      "\n",
      "    accuracy                           0.79      1487\n",
      "   macro avg       0.65      0.55      0.55      1487\n",
      "weighted avg       0.74      0.79      0.74      1487\n",
      "\n"
     ]
    },
    {
     "data": {
      "image/png": "[encoded data removed]",
      "text/plain": [
       "<Figure size 432x288 with 2 Axes>"
      ]
     },
     "metadata": {
      "needs_background": "light"
     },
     "output_type": "display_data"
    }
   ],
   "source": [
    "test_predict = MLPClassifier(training_white,test_white, features_column)\n",
    "Evaluation(test_predict)"
   ]
  },
  {
   "cell_type": "markdown",
   "metadata": {},
   "source": [
    "## Multilayer perceptron classifier results analysis \n",
    "\n",
    "This model does not produce better results than Random Forest. \n",
    "we have tried adjusting layers, adding more and changing the size of hidden layers, yet the results are not improving\n"
   ]
  },
  {
   "cell_type": "code",
   "execution_count": null,
   "metadata": {},
   "outputs": [],
   "source": []
  }
 ],
 "metadata": {
  "kernelspec": {
   "display_name": "Python 3",
   "language": "python",
   "name": "python3"
  },
  "language_info": {
   "codemirror_mode": {
    "name": "ipython",
    "version": 3
   },
   "file_extension": ".py",
   "mimetype": "text/x-python",
   "name": "python",
   "nbconvert_exporter": "python",
   "pygments_lexer": "ipython3",
   "version": "3.7.5"
  }
 },
 "nbformat": 4,
 "nbformat_minor": 4
}
