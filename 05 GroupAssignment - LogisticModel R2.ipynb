{
 "cells": [
  {
   "cell_type": "markdown",
   "metadata": {},
   "source": [
    "# Wine quality analysis - Machine Learning - Logistic Model\n",
    "\n",
    "\n",
    "Datasource: https://archive.ics.uci.edu/ml/datasets/wine+quality"
   ]
  },
  {
   "cell_type": "markdown",
   "metadata": {},
   "source": [
    "## Columns description\n",
    "\n",
    "\n",
    "Column Position | Atrribute Name | Definition \n",
    " --- | --- | --- \n",
    "1 | fixed acidity | most acids involved with wine or fixed or nonvolatile (do not evaporate readily)\n",
    "2 | volatile acidity | the amount of acetic acid in wine, which at too high of levels can lead to an unpleasant, vinegar taste\n",
    "3 | citric acid | found in small quantities, citric acid can add 'freshness' and flavor to wines\n",
    "4 | residual sugar | the amount of sugar remaining after fermentation stops, it's rare to find wines with less than 1 gram/liter and wines with greater than 45 grams/liter are considered sweet\n",
    "5 | chlorides | the amount of salt in the wine\n",
    "6 | free sulfur dioxidet | he free form of SO2 exists in equilibrium between molecular SO2 (as a dissolved gas) and bisulfite ion; it prevents microbial growth and the oxidation of wine\n",
    "7 | total sulfur dioxide | amount of free and bound forms of S02; in low concentrations, SO2 is mostly undetectable in wine, but at free SO2 concentrations over 50 ppm, SO2 becomes evident in the nose and taste of wine\n",
    "8 | density | the density of water is close to that of water depending on the percent alcohol and sugar content\n",
    "9 | pH | describes how acidic or basic a wine is on a scale from 0 (very acidic) to 14 (very basic); most wines are between 3-4 on the pH scale\n",
    "10 | sulphates | a wine additive which can contribute to sulfur dioxide gas (S02) levels, wich acts as an antimicrobial and antioxidant\n",
    "11 | alcohol | the percent alcohol content of the wine\n",
    "12 | quality | output variable (based on sensory data, score between 0 and 10)\n",
    "13 | good | binary evaluation 1 - good , 0 - bad\n",
    "14 | color | wine type red or white"
   ]
  },
  {
   "cell_type": "markdown",
   "metadata": {},
   "source": [
    "# Import libraries "
   ]
  },
  {
   "cell_type": "code",
   "execution_count": 4,
   "metadata": {},
   "outputs": [],
   "source": [
    "# this may need to be changed to run on non mac computers\n",
    "\n",
    "import findspark\n",
    "import pyspark\n",
    "#spark = pyspark.SparkContext(appName=\"winequality\")\n",
    "from pyspark.sql import SparkSession\n",
    "spark = SparkSession.builder.appName(\"winequality\").getOrCreate()"
   ]
  },
  {
   "cell_type": "code",
   "execution_count": 5,
   "metadata": {},
   "outputs": [],
   "source": [
    "import pandas as pd\n",
    "import matplotlib.pyplot as plt\n",
    "import seaborn as sns\n",
    "%matplotlib inline\n",
    "from datetime import datetime\n",
    "import numpy as np\n",
    "\n",
    "#import stats libraries \n",
    "from pyspark.mllib.stat import Statistics\n",
    "from pyspark.ml.linalg import Vectors\n",
    "from pyspark.ml.stat import Correlation\n",
    "from pyspark.ml.feature import VectorAssembler\n",
    "\n",
    "from pyspark.sql import SparkSession"
   ]
  },
  {
   "cell_type": "code",
   "execution_count": 6,
   "metadata": {},
   "outputs": [],
   "source": [
    "df = spark.read.csv(\"winequality.csv\",header=True,inferSchema=True)"
   ]
  },
  {
   "cell_type": "code",
   "execution_count": 7,
   "metadata": {},
   "outputs": [
    {
     "data": {
      "text/html": [
       "<div>\n",
       "<style scoped>\n",
       "    .dataframe tbody tr th:only-of-type {\n",
       "        vertical-align: middle;\n",
       "    }\n",
       "\n",
       "    .dataframe tbody tr th {\n",
       "        vertical-align: top;\n",
       "    }\n",
       "\n",
       "    .dataframe thead th {\n",
       "        text-align: right;\n",
       "    }\n",
       "</style>\n",
       "<table border=\"1\" class=\"dataframe\">\n",
       "  <thead>\n",
       "    <tr style=\"text-align: right;\">\n",
       "      <th></th>\n",
       "      <th>fixed acidity</th>\n",
       "      <th>volatile acidity</th>\n",
       "      <th>citric acid</th>\n",
       "      <th>residual sugar</th>\n",
       "      <th>chlorides</th>\n",
       "      <th>free sulfur dioxide</th>\n",
       "      <th>total sulfur dioxide</th>\n",
       "      <th>density</th>\n",
       "      <th>pH</th>\n",
       "      <th>sulphates</th>\n",
       "      <th>alcohol</th>\n",
       "      <th>quality</th>\n",
       "      <th>good</th>\n",
       "      <th>color</th>\n",
       "    </tr>\n",
       "  </thead>\n",
       "  <tbody>\n",
       "    <tr>\n",
       "      <th>0</th>\n",
       "      <td>7.4</td>\n",
       "      <td>0.70</td>\n",
       "      <td>0.00</td>\n",
       "      <td>1.9</td>\n",
       "      <td>0.076</td>\n",
       "      <td>11.0</td>\n",
       "      <td>34.0</td>\n",
       "      <td>0.9978</td>\n",
       "      <td>3.51</td>\n",
       "      <td>0.56</td>\n",
       "      <td>9.4</td>\n",
       "      <td>5</td>\n",
       "      <td>0</td>\n",
       "      <td>red</td>\n",
       "    </tr>\n",
       "    <tr>\n",
       "      <th>1</th>\n",
       "      <td>7.8</td>\n",
       "      <td>0.88</td>\n",
       "      <td>0.00</td>\n",
       "      <td>2.6</td>\n",
       "      <td>0.098</td>\n",
       "      <td>25.0</td>\n",
       "      <td>67.0</td>\n",
       "      <td>0.9968</td>\n",
       "      <td>3.20</td>\n",
       "      <td>0.68</td>\n",
       "      <td>9.8</td>\n",
       "      <td>5</td>\n",
       "      <td>0</td>\n",
       "      <td>red</td>\n",
       "    </tr>\n",
       "    <tr>\n",
       "      <th>2</th>\n",
       "      <td>7.8</td>\n",
       "      <td>0.76</td>\n",
       "      <td>0.04</td>\n",
       "      <td>2.3</td>\n",
       "      <td>0.092</td>\n",
       "      <td>15.0</td>\n",
       "      <td>54.0</td>\n",
       "      <td>0.9970</td>\n",
       "      <td>3.26</td>\n",
       "      <td>0.65</td>\n",
       "      <td>9.8</td>\n",
       "      <td>5</td>\n",
       "      <td>0</td>\n",
       "      <td>red</td>\n",
       "    </tr>\n",
       "    <tr>\n",
       "      <th>3</th>\n",
       "      <td>11.2</td>\n",
       "      <td>0.28</td>\n",
       "      <td>0.56</td>\n",
       "      <td>1.9</td>\n",
       "      <td>0.075</td>\n",
       "      <td>17.0</td>\n",
       "      <td>60.0</td>\n",
       "      <td>0.9980</td>\n",
       "      <td>3.16</td>\n",
       "      <td>0.58</td>\n",
       "      <td>9.8</td>\n",
       "      <td>6</td>\n",
       "      <td>0</td>\n",
       "      <td>red</td>\n",
       "    </tr>\n",
       "    <tr>\n",
       "      <th>4</th>\n",
       "      <td>7.4</td>\n",
       "      <td>0.70</td>\n",
       "      <td>0.00</td>\n",
       "      <td>1.9</td>\n",
       "      <td>0.076</td>\n",
       "      <td>11.0</td>\n",
       "      <td>34.0</td>\n",
       "      <td>0.9978</td>\n",
       "      <td>3.51</td>\n",
       "      <td>0.56</td>\n",
       "      <td>9.4</td>\n",
       "      <td>5</td>\n",
       "      <td>0</td>\n",
       "      <td>red</td>\n",
       "    </tr>\n",
       "  </tbody>\n",
       "</table>\n",
       "</div>"
      ],
      "text/plain": [
       "   fixed acidity  volatile acidity  citric acid  residual sugar  chlorides  \\\n",
       "0            7.4              0.70         0.00             1.9      0.076   \n",
       "1            7.8              0.88         0.00             2.6      0.098   \n",
       "2            7.8              0.76         0.04             2.3      0.092   \n",
       "3           11.2              0.28         0.56             1.9      0.075   \n",
       "4            7.4              0.70         0.00             1.9      0.076   \n",
       "\n",
       "   free sulfur dioxide  total sulfur dioxide  density    pH  sulphates  \\\n",
       "0                 11.0                  34.0   0.9978  3.51       0.56   \n",
       "1                 25.0                  67.0   0.9968  3.20       0.68   \n",
       "2                 15.0                  54.0   0.9970  3.26       0.65   \n",
       "3                 17.0                  60.0   0.9980  3.16       0.58   \n",
       "4                 11.0                  34.0   0.9978  3.51       0.56   \n",
       "\n",
       "   alcohol  quality  good color  \n",
       "0      9.4        5     0   red  \n",
       "1      9.8        5     0   red  \n",
       "2      9.8        5     0   red  \n",
       "3      9.8        6     0   red  \n",
       "4      9.4        5     0   red  "
      ]
     },
     "execution_count": 7,
     "metadata": {},
     "output_type": "execute_result"
    }
   ],
   "source": [
    "#df.show(n=2, truncate=False, vertical=True)\n",
    "df.limit(5).toPandas()"
   ]
  },
  {
   "cell_type": "code",
   "execution_count": 8,
   "metadata": {},
   "outputs": [],
   "source": [
    "#Create DF for red and white wine\n",
    "df_red = df.filter(df.color =='red')\n",
    "df_white = df.filter(df.color =='white')"
   ]
  },
  {
   "cell_type": "code",
   "execution_count": 9,
   "metadata": {},
   "outputs": [
    {
     "name": "stdout",
     "output_type": "stream",
     "text": [
      "['color']\n",
      "['fixed acidity', 'volatile acidity', 'citric acid', 'residual sugar', 'chlorides', 'free sulfur dioxide', 'total sulfur dioxide', 'density', 'pH', 'sulphates', 'alcohol', 'quality', 'good']\n"
     ]
    }
   ],
   "source": [
    "#create lists of categorical and numberical columns\n",
    "\n",
    "cat = [item[0] for item in df.dtypes if item[1].startswith('string') ]\n",
    "num = [item for item in df.columns if item not in cat]\n",
    "print(cat)\n",
    "print(num)"
   ]
  },
  {
   "cell_type": "markdown",
   "metadata": {},
   "source": [
    "# Data preparation for machine learning"
   ]
  },
  {
   "cell_type": "code",
   "execution_count": 28,
   "metadata": {},
   "outputs": [],
   "source": [
    "#Import libraries\n",
    "from pyspark.ml.tuning import ParamGridBuilder, CrossValidator\n",
    "from pyspark.ml.evaluation import RegressionEvaluator\n",
    "from pyspark.ml import Pipeline\n",
    "from pyspark.ml.feature import StringIndexer\n",
    "\n",
    "from pyspark.ml.evaluation import MulticlassClassificationEvaluator\n",
    "from pyspark.ml.evaluation import BinaryClassificationEvaluator\n",
    "\n",
    "import sklearn \n",
    "from sklearn.metrics import classification_report, confusion_matrix"
   ]
  },
  {
   "cell_type": "code",
   "execution_count": 11,
   "metadata": {},
   "outputs": [
    {
     "data": {
      "text/html": [
       "<div>\n",
       "<style scoped>\n",
       "    .dataframe tbody tr th:only-of-type {\n",
       "        vertical-align: middle;\n",
       "    }\n",
       "\n",
       "    .dataframe tbody tr th {\n",
       "        vertical-align: top;\n",
       "    }\n",
       "\n",
       "    .dataframe thead th {\n",
       "        text-align: right;\n",
       "    }\n",
       "</style>\n",
       "<table border=\"1\" class=\"dataframe\">\n",
       "  <thead>\n",
       "    <tr style=\"text-align: right;\">\n",
       "      <th></th>\n",
       "      <th>fixed acidity</th>\n",
       "      <th>volatile acidity</th>\n",
       "      <th>citric acid</th>\n",
       "      <th>residual sugar</th>\n",
       "      <th>chlorides</th>\n",
       "      <th>free sulfur dioxide</th>\n",
       "      <th>total sulfur dioxide</th>\n",
       "      <th>density</th>\n",
       "      <th>pH</th>\n",
       "      <th>sulphates</th>\n",
       "      <th>alcohol</th>\n",
       "      <th>quality</th>\n",
       "      <th>good</th>\n",
       "      <th>color</th>\n",
       "      <th>features</th>\n",
       "    </tr>\n",
       "  </thead>\n",
       "  <tbody>\n",
       "    <tr>\n",
       "      <th>0</th>\n",
       "      <td>7.4</td>\n",
       "      <td>0.70</td>\n",
       "      <td>0.00</td>\n",
       "      <td>1.9</td>\n",
       "      <td>0.076</td>\n",
       "      <td>11.0</td>\n",
       "      <td>34.0</td>\n",
       "      <td>0.9978</td>\n",
       "      <td>3.51</td>\n",
       "      <td>0.56</td>\n",
       "      <td>9.4</td>\n",
       "      <td>5</td>\n",
       "      <td>0</td>\n",
       "      <td>red</td>\n",
       "      <td>[7.4, 0.7, 0.0, 1.9, 0.076, 11.0, 34.0, 0.9978...</td>\n",
       "    </tr>\n",
       "    <tr>\n",
       "      <th>1</th>\n",
       "      <td>7.8</td>\n",
       "      <td>0.88</td>\n",
       "      <td>0.00</td>\n",
       "      <td>2.6</td>\n",
       "      <td>0.098</td>\n",
       "      <td>25.0</td>\n",
       "      <td>67.0</td>\n",
       "      <td>0.9968</td>\n",
       "      <td>3.20</td>\n",
       "      <td>0.68</td>\n",
       "      <td>9.8</td>\n",
       "      <td>5</td>\n",
       "      <td>0</td>\n",
       "      <td>red</td>\n",
       "      <td>[7.8, 0.88, 0.0, 2.6, 0.098, 25.0, 67.0, 0.996...</td>\n",
       "    </tr>\n",
       "    <tr>\n",
       "      <th>2</th>\n",
       "      <td>7.8</td>\n",
       "      <td>0.76</td>\n",
       "      <td>0.04</td>\n",
       "      <td>2.3</td>\n",
       "      <td>0.092</td>\n",
       "      <td>15.0</td>\n",
       "      <td>54.0</td>\n",
       "      <td>0.9970</td>\n",
       "      <td>3.26</td>\n",
       "      <td>0.65</td>\n",
       "      <td>9.8</td>\n",
       "      <td>5</td>\n",
       "      <td>0</td>\n",
       "      <td>red</td>\n",
       "      <td>[7.8, 0.76, 0.04, 2.3, 0.092, 15.0, 54.0, 0.99...</td>\n",
       "    </tr>\n",
       "    <tr>\n",
       "      <th>3</th>\n",
       "      <td>11.2</td>\n",
       "      <td>0.28</td>\n",
       "      <td>0.56</td>\n",
       "      <td>1.9</td>\n",
       "      <td>0.075</td>\n",
       "      <td>17.0</td>\n",
       "      <td>60.0</td>\n",
       "      <td>0.9980</td>\n",
       "      <td>3.16</td>\n",
       "      <td>0.58</td>\n",
       "      <td>9.8</td>\n",
       "      <td>6</td>\n",
       "      <td>0</td>\n",
       "      <td>red</td>\n",
       "      <td>[11.2, 0.28, 0.56, 1.9, 0.075, 17.0, 60.0, 0.9...</td>\n",
       "    </tr>\n",
       "    <tr>\n",
       "      <th>4</th>\n",
       "      <td>7.4</td>\n",
       "      <td>0.70</td>\n",
       "      <td>0.00</td>\n",
       "      <td>1.9</td>\n",
       "      <td>0.076</td>\n",
       "      <td>11.0</td>\n",
       "      <td>34.0</td>\n",
       "      <td>0.9978</td>\n",
       "      <td>3.51</td>\n",
       "      <td>0.56</td>\n",
       "      <td>9.4</td>\n",
       "      <td>5</td>\n",
       "      <td>0</td>\n",
       "      <td>red</td>\n",
       "      <td>[7.4, 0.7, 0.0, 1.9, 0.076, 11.0, 34.0, 0.9978...</td>\n",
       "    </tr>\n",
       "  </tbody>\n",
       "</table>\n",
       "</div>"
      ],
      "text/plain": [
       "   fixed acidity  volatile acidity  citric acid  residual sugar  chlorides  \\\n",
       "0            7.4              0.70         0.00             1.9      0.076   \n",
       "1            7.8              0.88         0.00             2.6      0.098   \n",
       "2            7.8              0.76         0.04             2.3      0.092   \n",
       "3           11.2              0.28         0.56             1.9      0.075   \n",
       "4            7.4              0.70         0.00             1.9      0.076   \n",
       "\n",
       "   free sulfur dioxide  total sulfur dioxide  density    pH  sulphates  \\\n",
       "0                 11.0                  34.0   0.9978  3.51       0.56   \n",
       "1                 25.0                  67.0   0.9968  3.20       0.68   \n",
       "2                 15.0                  54.0   0.9970  3.26       0.65   \n",
       "3                 17.0                  60.0   0.9980  3.16       0.58   \n",
       "4                 11.0                  34.0   0.9978  3.51       0.56   \n",
       "\n",
       "   alcohol  quality  good color  \\\n",
       "0      9.4        5     0   red   \n",
       "1      9.8        5     0   red   \n",
       "2      9.8        5     0   red   \n",
       "3      9.8        6     0   red   \n",
       "4      9.4        5     0   red   \n",
       "\n",
       "                                            features  \n",
       "0  [7.4, 0.7, 0.0, 1.9, 0.076, 11.0, 34.0, 0.9978...  \n",
       "1  [7.8, 0.88, 0.0, 2.6, 0.098, 25.0, 67.0, 0.996...  \n",
       "2  [7.8, 0.76, 0.04, 2.3, 0.092, 15.0, 54.0, 0.99...  \n",
       "3  [11.2, 0.28, 0.56, 1.9, 0.075, 17.0, 60.0, 0.9...  \n",
       "4  [7.4, 0.7, 0.0, 1.9, 0.076, 11.0, 34.0, 0.9978...  "
      ]
     },
     "execution_count": 11,
     "metadata": {},
     "output_type": "execute_result"
    }
   ],
   "source": [
    "#create input vector\n",
    "features_column = num[0:-2]\n",
    "\n",
    "assembler = (VectorAssembler()\n",
    "  .setInputCols(features_column)\n",
    "  .setOutputCol(\"features\"))\n",
    "\n",
    "finalPrep = assembler.transform(df)\n",
    "#finalPrep.show(n=1, truncate=False, vertical=True)\n",
    "finalPrep.limit(5).toPandas()"
   ]
  },
  {
   "cell_type": "code",
   "execution_count": 12,
   "metadata": {},
   "outputs": [
    {
     "name": "stdout",
     "output_type": "stream",
     "text": [
      "4565\n",
      "1932\n"
     ]
    }
   ],
   "source": [
    "#split in training and testing datasets\n",
    "training, test = finalPrep.randomSplit([0.7, 0.3])\n",
    "# Going to cache the data  \n",
    "training.cache()\n",
    "test.cache()\n",
    "print(training.count())\n",
    "print(test.count())"
   ]
  },
  {
   "cell_type": "markdown",
   "metadata": {},
   "source": [
    "### Data preparation for machine learning - Red only"
   ]
  },
  {
   "cell_type": "code",
   "execution_count": 13,
   "metadata": {},
   "outputs": [
    {
     "data": {
      "text/html": [
       "<div>\n",
       "<style scoped>\n",
       "    .dataframe tbody tr th:only-of-type {\n",
       "        vertical-align: middle;\n",
       "    }\n",
       "\n",
       "    .dataframe tbody tr th {\n",
       "        vertical-align: top;\n",
       "    }\n",
       "\n",
       "    .dataframe thead th {\n",
       "        text-align: right;\n",
       "    }\n",
       "</style>\n",
       "<table border=\"1\" class=\"dataframe\">\n",
       "  <thead>\n",
       "    <tr style=\"text-align: right;\">\n",
       "      <th></th>\n",
       "      <th>fixed acidity</th>\n",
       "      <th>volatile acidity</th>\n",
       "      <th>citric acid</th>\n",
       "      <th>residual sugar</th>\n",
       "      <th>chlorides</th>\n",
       "      <th>free sulfur dioxide</th>\n",
       "      <th>total sulfur dioxide</th>\n",
       "      <th>density</th>\n",
       "      <th>pH</th>\n",
       "      <th>sulphates</th>\n",
       "      <th>alcohol</th>\n",
       "      <th>quality</th>\n",
       "      <th>good</th>\n",
       "      <th>color</th>\n",
       "      <th>features</th>\n",
       "    </tr>\n",
       "  </thead>\n",
       "  <tbody>\n",
       "    <tr>\n",
       "      <th>0</th>\n",
       "      <td>7.4</td>\n",
       "      <td>0.70</td>\n",
       "      <td>0.00</td>\n",
       "      <td>1.9</td>\n",
       "      <td>0.076</td>\n",
       "      <td>11.0</td>\n",
       "      <td>34.0</td>\n",
       "      <td>0.9978</td>\n",
       "      <td>3.51</td>\n",
       "      <td>0.56</td>\n",
       "      <td>9.4</td>\n",
       "      <td>5</td>\n",
       "      <td>0</td>\n",
       "      <td>red</td>\n",
       "      <td>[7.4, 0.7, 0.0, 1.9, 0.076, 11.0, 34.0, 0.9978...</td>\n",
       "    </tr>\n",
       "    <tr>\n",
       "      <th>1</th>\n",
       "      <td>7.8</td>\n",
       "      <td>0.88</td>\n",
       "      <td>0.00</td>\n",
       "      <td>2.6</td>\n",
       "      <td>0.098</td>\n",
       "      <td>25.0</td>\n",
       "      <td>67.0</td>\n",
       "      <td>0.9968</td>\n",
       "      <td>3.20</td>\n",
       "      <td>0.68</td>\n",
       "      <td>9.8</td>\n",
       "      <td>5</td>\n",
       "      <td>0</td>\n",
       "      <td>red</td>\n",
       "      <td>[7.8, 0.88, 0.0, 2.6, 0.098, 25.0, 67.0, 0.996...</td>\n",
       "    </tr>\n",
       "    <tr>\n",
       "      <th>2</th>\n",
       "      <td>7.8</td>\n",
       "      <td>0.76</td>\n",
       "      <td>0.04</td>\n",
       "      <td>2.3</td>\n",
       "      <td>0.092</td>\n",
       "      <td>15.0</td>\n",
       "      <td>54.0</td>\n",
       "      <td>0.9970</td>\n",
       "      <td>3.26</td>\n",
       "      <td>0.65</td>\n",
       "      <td>9.8</td>\n",
       "      <td>5</td>\n",
       "      <td>0</td>\n",
       "      <td>red</td>\n",
       "      <td>[7.8, 0.76, 0.04, 2.3, 0.092, 15.0, 54.0, 0.99...</td>\n",
       "    </tr>\n",
       "    <tr>\n",
       "      <th>3</th>\n",
       "      <td>11.2</td>\n",
       "      <td>0.28</td>\n",
       "      <td>0.56</td>\n",
       "      <td>1.9</td>\n",
       "      <td>0.075</td>\n",
       "      <td>17.0</td>\n",
       "      <td>60.0</td>\n",
       "      <td>0.9980</td>\n",
       "      <td>3.16</td>\n",
       "      <td>0.58</td>\n",
       "      <td>9.8</td>\n",
       "      <td>6</td>\n",
       "      <td>0</td>\n",
       "      <td>red</td>\n",
       "      <td>[11.2, 0.28, 0.56, 1.9, 0.075, 17.0, 60.0, 0.9...</td>\n",
       "    </tr>\n",
       "    <tr>\n",
       "      <th>4</th>\n",
       "      <td>7.4</td>\n",
       "      <td>0.70</td>\n",
       "      <td>0.00</td>\n",
       "      <td>1.9</td>\n",
       "      <td>0.076</td>\n",
       "      <td>11.0</td>\n",
       "      <td>34.0</td>\n",
       "      <td>0.9978</td>\n",
       "      <td>3.51</td>\n",
       "      <td>0.56</td>\n",
       "      <td>9.4</td>\n",
       "      <td>5</td>\n",
       "      <td>0</td>\n",
       "      <td>red</td>\n",
       "      <td>[7.4, 0.7, 0.0, 1.9, 0.076, 11.0, 34.0, 0.9978...</td>\n",
       "    </tr>\n",
       "  </tbody>\n",
       "</table>\n",
       "</div>"
      ],
      "text/plain": [
       "   fixed acidity  volatile acidity  citric acid  residual sugar  chlorides  \\\n",
       "0            7.4              0.70         0.00             1.9      0.076   \n",
       "1            7.8              0.88         0.00             2.6      0.098   \n",
       "2            7.8              0.76         0.04             2.3      0.092   \n",
       "3           11.2              0.28         0.56             1.9      0.075   \n",
       "4            7.4              0.70         0.00             1.9      0.076   \n",
       "\n",
       "   free sulfur dioxide  total sulfur dioxide  density    pH  sulphates  \\\n",
       "0                 11.0                  34.0   0.9978  3.51       0.56   \n",
       "1                 25.0                  67.0   0.9968  3.20       0.68   \n",
       "2                 15.0                  54.0   0.9970  3.26       0.65   \n",
       "3                 17.0                  60.0   0.9980  3.16       0.58   \n",
       "4                 11.0                  34.0   0.9978  3.51       0.56   \n",
       "\n",
       "   alcohol  quality  good color  \\\n",
       "0      9.4        5     0   red   \n",
       "1      9.8        5     0   red   \n",
       "2      9.8        5     0   red   \n",
       "3      9.8        6     0   red   \n",
       "4      9.4        5     0   red   \n",
       "\n",
       "                                            features  \n",
       "0  [7.4, 0.7, 0.0, 1.9, 0.076, 11.0, 34.0, 0.9978...  \n",
       "1  [7.8, 0.88, 0.0, 2.6, 0.098, 25.0, 67.0, 0.996...  \n",
       "2  [7.8, 0.76, 0.04, 2.3, 0.092, 15.0, 54.0, 0.99...  \n",
       "3  [11.2, 0.28, 0.56, 1.9, 0.075, 17.0, 60.0, 0.9...  \n",
       "4  [7.4, 0.7, 0.0, 1.9, 0.076, 11.0, 34.0, 0.9978...  "
      ]
     },
     "execution_count": 13,
     "metadata": {},
     "output_type": "execute_result"
    }
   ],
   "source": [
    "#create input vector\n",
    "features_column = num[0:-2]\n",
    "\n",
    "assembler_red = (VectorAssembler()\n",
    "  .setInputCols(features_column)\n",
    "  .setOutputCol(\"features\"))\n",
    "\n",
    "finalPrep_red = assembler_red.transform(df_red)\n",
    "#finalPrep_red.show(n=1, truncate=False, vertical=True)\n",
    "finalPrep_red.limit(5).toPandas()"
   ]
  },
  {
   "cell_type": "code",
   "execution_count": 14,
   "metadata": {},
   "outputs": [
    {
     "name": "stdout",
     "output_type": "stream",
     "text": [
      "1122\n",
      "477\n"
     ]
    }
   ],
   "source": [
    "#split in training and testing datasets\n",
    "training_red, test_red = finalPrep_red.randomSplit([0.7, 0.3])\n",
    "# Going to cache the data  \n",
    "training_red.cache()\n",
    "test_red.cache()\n",
    "print(training_red.count())\n",
    "print(test_red.count())"
   ]
  },
  {
   "cell_type": "markdown",
   "metadata": {},
   "source": [
    "### Data preparation for machine learning - White only"
   ]
  },
  {
   "cell_type": "code",
   "execution_count": 15,
   "metadata": {},
   "outputs": [
    {
     "data": {
      "text/html": [
       "<div>\n",
       "<style scoped>\n",
       "    .dataframe tbody tr th:only-of-type {\n",
       "        vertical-align: middle;\n",
       "    }\n",
       "\n",
       "    .dataframe tbody tr th {\n",
       "        vertical-align: top;\n",
       "    }\n",
       "\n",
       "    .dataframe thead th {\n",
       "        text-align: right;\n",
       "    }\n",
       "</style>\n",
       "<table border=\"1\" class=\"dataframe\">\n",
       "  <thead>\n",
       "    <tr style=\"text-align: right;\">\n",
       "      <th></th>\n",
       "      <th>fixed acidity</th>\n",
       "      <th>volatile acidity</th>\n",
       "      <th>citric acid</th>\n",
       "      <th>residual sugar</th>\n",
       "      <th>chlorides</th>\n",
       "      <th>free sulfur dioxide</th>\n",
       "      <th>total sulfur dioxide</th>\n",
       "      <th>density</th>\n",
       "      <th>pH</th>\n",
       "      <th>sulphates</th>\n",
       "      <th>alcohol</th>\n",
       "      <th>quality</th>\n",
       "      <th>good</th>\n",
       "      <th>color</th>\n",
       "      <th>features</th>\n",
       "    </tr>\n",
       "  </thead>\n",
       "  <tbody>\n",
       "    <tr>\n",
       "      <th>0</th>\n",
       "      <td>7.0</td>\n",
       "      <td>0.27</td>\n",
       "      <td>0.36</td>\n",
       "      <td>20.7</td>\n",
       "      <td>0.045</td>\n",
       "      <td>45.0</td>\n",
       "      <td>170.0</td>\n",
       "      <td>1.0010</td>\n",
       "      <td>3.00</td>\n",
       "      <td>0.45</td>\n",
       "      <td>8.8</td>\n",
       "      <td>6</td>\n",
       "      <td>0</td>\n",
       "      <td>white</td>\n",
       "      <td>[7.0, 0.27, 0.36, 20.7, 0.045, 45.0, 170.0, 1....</td>\n",
       "    </tr>\n",
       "    <tr>\n",
       "      <th>1</th>\n",
       "      <td>6.3</td>\n",
       "      <td>0.30</td>\n",
       "      <td>0.34</td>\n",
       "      <td>1.6</td>\n",
       "      <td>0.049</td>\n",
       "      <td>14.0</td>\n",
       "      <td>132.0</td>\n",
       "      <td>0.9940</td>\n",
       "      <td>3.30</td>\n",
       "      <td>0.49</td>\n",
       "      <td>9.5</td>\n",
       "      <td>6</td>\n",
       "      <td>0</td>\n",
       "      <td>white</td>\n",
       "      <td>[6.3, 0.3, 0.34, 1.6, 0.049, 14.0, 132.0, 0.99...</td>\n",
       "    </tr>\n",
       "    <tr>\n",
       "      <th>2</th>\n",
       "      <td>8.1</td>\n",
       "      <td>0.28</td>\n",
       "      <td>0.40</td>\n",
       "      <td>6.9</td>\n",
       "      <td>0.050</td>\n",
       "      <td>30.0</td>\n",
       "      <td>97.0</td>\n",
       "      <td>0.9951</td>\n",
       "      <td>3.26</td>\n",
       "      <td>0.44</td>\n",
       "      <td>10.1</td>\n",
       "      <td>6</td>\n",
       "      <td>0</td>\n",
       "      <td>white</td>\n",
       "      <td>[8.1, 0.28, 0.4, 6.9, 0.05, 30.0, 97.0, 0.9951...</td>\n",
       "    </tr>\n",
       "    <tr>\n",
       "      <th>3</th>\n",
       "      <td>7.2</td>\n",
       "      <td>0.23</td>\n",
       "      <td>0.32</td>\n",
       "      <td>8.5</td>\n",
       "      <td>0.058</td>\n",
       "      <td>47.0</td>\n",
       "      <td>186.0</td>\n",
       "      <td>0.9956</td>\n",
       "      <td>3.19</td>\n",
       "      <td>0.40</td>\n",
       "      <td>9.9</td>\n",
       "      <td>6</td>\n",
       "      <td>0</td>\n",
       "      <td>white</td>\n",
       "      <td>[7.2, 0.23, 0.32, 8.5, 0.058, 47.0, 186.0, 0.9...</td>\n",
       "    </tr>\n",
       "    <tr>\n",
       "      <th>4</th>\n",
       "      <td>7.2</td>\n",
       "      <td>0.23</td>\n",
       "      <td>0.32</td>\n",
       "      <td>8.5</td>\n",
       "      <td>0.058</td>\n",
       "      <td>47.0</td>\n",
       "      <td>186.0</td>\n",
       "      <td>0.9956</td>\n",
       "      <td>3.19</td>\n",
       "      <td>0.40</td>\n",
       "      <td>9.9</td>\n",
       "      <td>6</td>\n",
       "      <td>0</td>\n",
       "      <td>white</td>\n",
       "      <td>[7.2, 0.23, 0.32, 8.5, 0.058, 47.0, 186.0, 0.9...</td>\n",
       "    </tr>\n",
       "  </tbody>\n",
       "</table>\n",
       "</div>"
      ],
      "text/plain": [
       "   fixed acidity  volatile acidity  citric acid  residual sugar  chlorides  \\\n",
       "0            7.0              0.27         0.36            20.7      0.045   \n",
       "1            6.3              0.30         0.34             1.6      0.049   \n",
       "2            8.1              0.28         0.40             6.9      0.050   \n",
       "3            7.2              0.23         0.32             8.5      0.058   \n",
       "4            7.2              0.23         0.32             8.5      0.058   \n",
       "\n",
       "   free sulfur dioxide  total sulfur dioxide  density    pH  sulphates  \\\n",
       "0                 45.0                 170.0   1.0010  3.00       0.45   \n",
       "1                 14.0                 132.0   0.9940  3.30       0.49   \n",
       "2                 30.0                  97.0   0.9951  3.26       0.44   \n",
       "3                 47.0                 186.0   0.9956  3.19       0.40   \n",
       "4                 47.0                 186.0   0.9956  3.19       0.40   \n",
       "\n",
       "   alcohol  quality  good  color  \\\n",
       "0      8.8        6     0  white   \n",
       "1      9.5        6     0  white   \n",
       "2     10.1        6     0  white   \n",
       "3      9.9        6     0  white   \n",
       "4      9.9        6     0  white   \n",
       "\n",
       "                                            features  \n",
       "0  [7.0, 0.27, 0.36, 20.7, 0.045, 45.0, 170.0, 1....  \n",
       "1  [6.3, 0.3, 0.34, 1.6, 0.049, 14.0, 132.0, 0.99...  \n",
       "2  [8.1, 0.28, 0.4, 6.9, 0.05, 30.0, 97.0, 0.9951...  \n",
       "3  [7.2, 0.23, 0.32, 8.5, 0.058, 47.0, 186.0, 0.9...  \n",
       "4  [7.2, 0.23, 0.32, 8.5, 0.058, 47.0, 186.0, 0.9...  "
      ]
     },
     "execution_count": 15,
     "metadata": {},
     "output_type": "execute_result"
    }
   ],
   "source": [
    "#create input vector\n",
    "features_column = num[0:-2]\n",
    "\n",
    "assembler_white = (VectorAssembler()\n",
    "  .setInputCols(features_column)\n",
    "  .setOutputCol(\"features\"))\n",
    "\n",
    "finalPrep_white = assembler_red.transform(df_white)\n",
    "#finalPrep_red.show(n=1, truncate=False, vertical=True)\n",
    "finalPrep_white.limit(5).toPandas()"
   ]
  },
  {
   "cell_type": "code",
   "execution_count": 16,
   "metadata": {},
   "outputs": [
    {
     "name": "stdout",
     "output_type": "stream",
     "text": [
      "3464\n",
      "1434\n"
     ]
    }
   ],
   "source": [
    "#split in training and testing datasets\n",
    "training_white, test_white = finalPrep_white.randomSplit([0.7, 0.3])\n",
    "# Going to cache the data  \n",
    "training_white.cache()\n",
    "test_white.cache()\n",
    "print(training_white.count())\n",
    "print(test_white.count())"
   ]
  },
  {
   "cell_type": "markdown",
   "metadata": {},
   "source": [
    "### Encode Wine type and include in the model"
   ]
  },
  {
   "cell_type": "code",
   "execution_count": 17,
   "metadata": {},
   "outputs": [
    {
     "data": {
      "text/plain": [
       "['color']"
      ]
     },
     "execution_count": 17,
     "metadata": {},
     "output_type": "execute_result"
    }
   ],
   "source": [
    "cat"
   ]
  },
  {
   "cell_type": "code",
   "execution_count": 18,
   "metadata": {},
   "outputs": [],
   "source": [
    "#convert cat data into INT\n",
    "\n",
    "#define a list of stages in your pipeline. The string indexer will be one stage\n",
    "stages = []\n",
    "\n",
    "#iterate through all categorical values\n",
    "for categoricalCol in cat:\n",
    "    #create a string indexer for those categorical values and assign a new name including the word 'Index'\n",
    "    stringIndexer = StringIndexer(inputCol = categoricalCol, outputCol = categoricalCol + 'Index')\n",
    "\n",
    "    #append the string Indexer to our list of stages\n",
    "    stages += [stringIndexer]\n",
    "\n",
    "#Create the pipeline. Assign the satges list to the pipeline key word stages\n",
    "pipeline = Pipeline(stages = stages)\n",
    "#fit the pipeline to our dataframe\n",
    "pipelineModel = pipeline.fit(df)\n",
    "#transform the dataframe\n",
    "df_enc= pipelineModel.transform(df)"
   ]
  },
  {
   "cell_type": "code",
   "execution_count": 19,
   "metadata": {},
   "outputs": [
    {
     "name": "stdout",
     "output_type": "stream",
     "text": [
      "-RECORD 0----------------------\n",
      " fixed acidity        | 7.4    \n",
      " volatile acidity     | 0.7    \n",
      " citric acid          | 0.0    \n",
      " residual sugar       | 1.9    \n",
      " chlorides            | 0.076  \n",
      " free sulfur dioxide  | 11.0   \n",
      " total sulfur dioxide | 34.0   \n",
      " density              | 0.9978 \n",
      " pH                   | 3.51   \n",
      " sulphates            | 0.56   \n",
      " alcohol              | 9.4    \n",
      " quality              | 5      \n",
      " good                 | 0      \n",
      " color                | red    \n",
      " colorIndex           | 1.0    \n",
      "-RECORD 1----------------------\n",
      " fixed acidity        | 7.8    \n",
      " volatile acidity     | 0.88   \n",
      " citric acid          | 0.0    \n",
      " residual sugar       | 2.6    \n",
      " chlorides            | 0.098  \n",
      " free sulfur dioxide  | 25.0   \n",
      " total sulfur dioxide | 67.0   \n",
      " density              | 0.9968 \n",
      " pH                   | 3.2    \n",
      " sulphates            | 0.68   \n",
      " alcohol              | 9.8    \n",
      " quality              | 5      \n",
      " good                 | 0      \n",
      " color                | red    \n",
      " colorIndex           | 1.0    \n",
      "only showing top 2 rows\n",
      "\n"
     ]
    }
   ],
   "source": [
    "df_enc.show(n=2, truncate=False, vertical=True)"
   ]
  },
  {
   "cell_type": "code",
   "execution_count": 20,
   "metadata": {},
   "outputs": [
    {
     "data": {
      "text/plain": [
       "['fixed acidity',\n",
       " 'volatile acidity',\n",
       " 'citric acid',\n",
       " 'residual sugar',\n",
       " 'chlorides',\n",
       " 'free sulfur dioxide',\n",
       " 'total sulfur dioxide',\n",
       " 'density',\n",
       " 'pH',\n",
       " 'sulphates',\n",
       " 'alcohol',\n",
       " 'colorIndex']"
      ]
     },
     "execution_count": 20,
     "metadata": {},
     "output_type": "execute_result"
    }
   ],
   "source": [
    "num_enc = ['fixed acidity', 'volatile acidity', 'citric acid', 'residual sugar', 'chlorides', 'free sulfur dioxide', 'total sulfur dioxide', 'density', 'pH', 'sulphates', 'alcohol', 'colorIndex']\n",
    "num_enc"
   ]
  },
  {
   "cell_type": "code",
   "execution_count": 21,
   "metadata": {},
   "outputs": [
    {
     "name": "stdout",
     "output_type": "stream",
     "text": [
      "-RECORD 0--------------------------------------------------------------------------\n",
      " fixed acidity        | 7.4                                                        \n",
      " volatile acidity     | 0.7                                                        \n",
      " citric acid          | 0.0                                                        \n",
      " residual sugar       | 1.9                                                        \n",
      " chlorides            | 0.076                                                      \n",
      " free sulfur dioxide  | 11.0                                                       \n",
      " total sulfur dioxide | 34.0                                                       \n",
      " density              | 0.9978                                                     \n",
      " pH                   | 3.51                                                       \n",
      " sulphates            | 0.56                                                       \n",
      " alcohol              | 9.4                                                        \n",
      " quality              | 5                                                          \n",
      " good                 | 0                                                          \n",
      " color                | red                                                        \n",
      " colorIndex           | 1.0                                                        \n",
      " features             | [7.4,0.7,0.0,1.9,0.076,11.0,34.0,0.9978,3.51,0.56,9.4,1.0] \n",
      "only showing top 1 row\n",
      "\n"
     ]
    }
   ],
   "source": [
    "#create input vector\n",
    "features_column = num_enc\n",
    "\n",
    "assembler = (VectorAssembler()\n",
    "  .setInputCols(features_column)\n",
    "  .setOutputCol(\"features\"))\n",
    "\n",
    "finalPrep = assembler.transform(df_enc)\n",
    "finalPrep.show(n=1, truncate=False, vertical=True)"
   ]
  },
  {
   "cell_type": "code",
   "execution_count": 22,
   "metadata": {},
   "outputs": [
    {
     "name": "stdout",
     "output_type": "stream",
     "text": [
      "4571\n",
      "1926\n"
     ]
    }
   ],
   "source": [
    "#split in training and testing datasets\n",
    "training_enc, test_enc = finalPrep.randomSplit([0.7, 0.3])\n",
    "# Going to cache the data  \n",
    "training_enc.cache()\n",
    "test_enc.cache()\n",
    "print(training_enc.count())\n",
    "print(test_enc.count())"
   ]
  },
  {
   "cell_type": "markdown",
   "metadata": {},
   "source": [
    "# Logistic Regression"
   ]
  },
  {
   "cell_type": "code",
   "execution_count": 23,
   "metadata": {},
   "outputs": [
    {
     "name": "stdout",
     "output_type": "stream",
     "text": [
      "aggregationDepth: suggested depth for treeAggregate (>= 2). (default: 2)\n",
      "elasticNetParam: the ElasticNet mixing parameter, in range [0, 1]. For alpha = 0, the penalty is an L2 penalty. For alpha = 1, it is an L1 penalty. (default: 0.0)\n",
      "family: The name of family which is a description of the label distribution to be used in the model. Supported options: auto, binomial, multinomial (default: auto)\n",
      "featuresCol: features column name. (default: features)\n",
      "fitIntercept: whether to fit an intercept term. (default: True)\n",
      "labelCol: label column name. (default: label)\n",
      "lowerBoundsOnCoefficients: The lower bounds on coefficients if fitting under bound constrained optimization. The bound matrix must be compatible with the shape (1, number of features) for binomial regression, or (number of classes, number of features) for multinomial regression. (undefined)\n",
      "lowerBoundsOnIntercepts: The lower bounds on intercepts if fitting under bound constrained optimization. The bounds vector size must beequal with 1 for binomial regression, or the number oflasses for multinomial regression. (undefined)\n",
      "maxIter: max number of iterations (>= 0). (default: 100)\n",
      "predictionCol: prediction column name. (default: prediction)\n",
      "probabilityCol: Column name for predicted class conditional probabilities. Note: Not all models output well-calibrated probability estimates! These probabilities should be treated as confidences, not precise probabilities. (default: probability)\n",
      "rawPredictionCol: raw prediction (a.k.a. confidence) column name. (default: rawPrediction)\n",
      "regParam: regularization parameter (>= 0). (default: 0.0)\n",
      "standardization: whether to standardize the training features before fitting the model. (default: True)\n",
      "threshold: Threshold in binary classification prediction, in range [0, 1]. If threshold and thresholds are both set, they must match.e.g. if threshold is p, then thresholds must be equal to [1-p, p]. (default: 0.5)\n",
      "thresholds: Thresholds in multi-class classification to adjust the probability of predicting each class. Array must have length equal to the number of classes, with values > 0, excepting that at most one value may be 0. The class with largest value p/t is predicted, where p is the original probability of that class and t is the class's threshold. (undefined)\n",
      "tol: the convergence tolerance for iterative algorithms (>= 0). (default: 1e-06)\n",
      "upperBoundsOnCoefficients: The upper bounds on coefficients if fitting under bound constrained optimization. The bound matrix must be compatible with the shape (1, number of features) for binomial regression, or (number of classes, number of features) for multinomial regression. (undefined)\n",
      "upperBoundsOnIntercepts: The upper bounds on intercepts if fitting under bound constrained optimization. The bound vector size must be equal with 1 for binomial regression, or the number of classes for multinomial regression. (undefined)\n",
      "weightCol: weight column name. If this is not set or empty, we treat all instance weights as 1.0. (undefined)\n"
     ]
    }
   ],
   "source": [
    "from pyspark.ml.classification import LogisticRegression\n",
    "print(LogisticRegression().explainParams())"
   ]
  },
  {
   "cell_type": "code",
   "execution_count": 34,
   "metadata": {},
   "outputs": [],
   "source": [
    "def LogisticClassifer(training, test):\n",
    "    model = (LogisticRegression()\n",
    "      .setLabelCol(\"good\")\n",
    "      .setFeaturesCol(\"features\"))\n",
    "    paramGrid = (ParamGridBuilder()\n",
    "      .addGrid(model.maxIter, [100])\n",
    "      .addGrid(model.threshold, [0.35,0.5,0.65])\n",
    "      .build())\n",
    "\n",
    "    stages = [model] \n",
    "    pipeline = Pipeline().setStages(stages)\n",
    "    \n",
    "    cv = (CrossValidator() # you can feel free to change the number of folds used in cross validation as well\n",
    "      .setEstimator(pipeline) # the estimator can also just be an individual model rather than a pipeline\n",
    "      .setEstimatorParamMaps(paramGrid)\n",
    "      .setEvaluator(BinaryClassificationEvaluator().setLabelCol(\"good\")))\n",
    "    \n",
    "    pipelineFitted = cv.fit(training)\n",
    "    \n",
    "    print(\"The Best Parameters:\\n--------------------\")\n",
    "    print(pipelineFitted.bestModel.stages[0])      \n",
    "    pipelineFitted.bestModel.stages[0].extractParamMap()\n",
    "    \n",
    "    test_predict = pipelineFitted.bestModel.transform(test).selectExpr(\"double(round(prediction)) as prediction\",\"double(round(good)) as good\")\n",
    "    display(test_predict.show(3))\n",
    "    \n",
    "    return test_predict"
   ]
  },
  {
   "cell_type": "code",
   "execution_count": 25,
   "metadata": {},
   "outputs": [],
   "source": [
    "def ConfMatrix(test_predict):\n",
    "        #collect prediction and true value\n",
    "    y_true = test_predict.select(['good']).collect()\n",
    "    y_pred = test_predict.select(['prediction']).collect()\n",
    "\n",
    "    #classification report\n",
    "    print(classification_report(y_true, y_pred))\n",
    "    \n",
    "    #confusion matrix \n",
    "\n",
    "    cm = confusion_matrix(y_true, y_pred)\n",
    "    sns.heatmap(cm, annot=True, fmt='d')\n",
    "    plt.show()"
   ]
  },
  {
   "cell_type": "code",
   "execution_count": 29,
   "metadata": {},
   "outputs": [],
   "source": [
    "def Evaluation(test_predict):\n",
    "    acc = test_predict.selectExpr(\"prediction\", \"good\",\n",
    "                        \"\"\"\n",
    "                        CASE prediction = good\n",
    "                        WHEN true then 1\n",
    "                        ELSE 0\n",
    "                        END as equal\n",
    "                        \"\"\")\n",
    "        \n",
    "    print(acc.selectExpr(\"sum(equal)/sum(1)\").show())\n",
    "\n",
    "    # Another way to evaluate error\n",
    "    evaluator = MulticlassClassificationEvaluator(labelCol=\"good\", predictionCol=\"prediction\", metricName=\"accuracy\")\n",
    "    \n",
    "    accuracy = evaluator.evaluate(test_predict)\n",
    "    print(\"Test Error = %g\" % (1.0 - accuracy))\n",
    "    \n",
    "    ConfMatrix(test_predict)"
   ]
  },
  {
   "cell_type": "markdown",
   "metadata": {},
   "source": [
    "### Logistic Regression - all wine"
   ]
  },
  {
   "cell_type": "code",
   "execution_count": 30,
   "metadata": {},
   "outputs": [
    {
     "name": "stdout",
     "output_type": "stream",
     "text": [
      "The Best Parameters:\n",
      "--------------------\n",
      "LogisticRegressionModel: uid=LogisticRegression_2c5c3dac3e73, numClasses=2, numFeatures=12\n",
      "+----------+----+\n",
      "|prediction|good|\n",
      "+----------+----+\n",
      "|       1.0| 1.0|\n",
      "|       1.0| 1.0|\n",
      "|       0.0| 1.0|\n",
      "+----------+----+\n",
      "only showing top 3 rows\n",
      "\n"
     ]
    },
    {
     "data": {
      "text/plain": [
       "None"
      ]
     },
     "metadata": {},
     "output_type": "display_data"
    },
    {
     "name": "stdout",
     "output_type": "stream",
     "text": [
      "+---------------------+\n",
      "|(sum(equal) / sum(1))|\n",
      "+---------------------+\n",
      "|   0.8037383177570093|\n",
      "+---------------------+\n",
      "\n",
      "None\n",
      "Test Error = 0.196262\n",
      "              precision    recall  f1-score   support\n",
      "\n",
      "         0.0       0.88      0.88      0.88      1555\n",
      "         1.0       0.49      0.49      0.49       371\n",
      "\n",
      "    accuracy                           0.80      1926\n",
      "   macro avg       0.68      0.68      0.68      1926\n",
      "weighted avg       0.80      0.80      0.80      1926\n",
      "\n"
     ]
    },
    {
     "data": {
      "image/png": "[encoded data removed]",
      "text/plain": [
       "<Figure size 432x288 with 2 Axes>"
      ]
     },
     "metadata": {
      "needs_background": "light"
     },
     "output_type": "display_data"
    }
   ],
   "source": [
    "test_predict = LogisticClassifer(training_enc, test_enc)\n",
    "Evaluation(test_predict)"
   ]
  },
  {
   "cell_type": "markdown",
   "metadata": {},
   "source": [
    "### Logistic Regression - red wine"
   ]
  },
  {
   "cell_type": "code",
   "execution_count": 31,
   "metadata": {},
   "outputs": [
    {
     "name": "stdout",
     "output_type": "stream",
     "text": [
      "The Best Parameters:\n",
      "--------------------\n",
      "LogisticRegressionModel: uid=LogisticRegression_fed0de997b7e, numClasses=2, numFeatures=11\n",
      "+----------+----+\n",
      "|prediction|good|\n",
      "+----------+----+\n",
      "|       0.0| 0.0|\n",
      "|       0.0| 0.0|\n",
      "|       1.0| 1.0|\n",
      "+----------+----+\n",
      "only showing top 3 rows\n",
      "\n"
     ]
    },
    {
     "data": {
      "text/plain": [
       "None"
      ]
     },
     "metadata": {},
     "output_type": "display_data"
    },
    {
     "name": "stdout",
     "output_type": "stream",
     "text": [
      "+---------------------+\n",
      "|(sum(equal) / sum(1))|\n",
      "+---------------------+\n",
      "|   0.8679245283018868|\n",
      "+---------------------+\n",
      "\n",
      "None\n",
      "Test Error = 0.132075\n",
      "              precision    recall  f1-score   support\n",
      "\n",
      "         0.0       0.93      0.92      0.92       418\n",
      "         1.0       0.47      0.51      0.49        59\n",
      "\n",
      "    accuracy                           0.87       477\n",
      "   macro avg       0.70      0.71      0.71       477\n",
      "weighted avg       0.87      0.87      0.87       477\n",
      "\n"
     ]
    },
    {
     "data": {
      "image/png": "[encoded data removed]",
      "text/plain": [
       "<Figure size 432x288 with 2 Axes>"
      ]
     },
     "metadata": {
      "needs_background": "light"
     },
     "output_type": "display_data"
    }
   ],
   "source": [
    "test_predict = LogisticClassifer(training_red, test_red)\n",
    "Evaluation(test_predict)"
   ]
  },
  {
   "cell_type": "markdown",
   "metadata": {},
   "source": [
    "### Logistic Regression - white only"
   ]
  },
  {
   "cell_type": "code",
   "execution_count": 32,
   "metadata": {},
   "outputs": [
    {
     "name": "stdout",
     "output_type": "stream",
     "text": [
      "The Best Parameters:\n",
      "--------------------\n",
      "LogisticRegressionModel: uid=LogisticRegression_9e283d14dae7, numClasses=2, numFeatures=11\n",
      "+----------+----+\n",
      "|prediction|good|\n",
      "+----------+----+\n",
      "|       0.0| 0.0|\n",
      "|       0.0| 0.0|\n",
      "|       1.0| 0.0|\n",
      "+----------+----+\n",
      "only showing top 3 rows\n",
      "\n"
     ]
    },
    {
     "data": {
      "text/plain": [
       "None"
      ]
     },
     "metadata": {},
     "output_type": "display_data"
    },
    {
     "name": "stdout",
     "output_type": "stream",
     "text": [
      "+---------------------+\n",
      "|(sum(equal) / sum(1))|\n",
      "+---------------------+\n",
      "|   0.7838214783821479|\n",
      "+---------------------+\n",
      "\n",
      "None\n",
      "Test Error = 0.216179\n",
      "              precision    recall  f1-score   support\n",
      "\n",
      "         0.0       0.87      0.85      0.86      1138\n",
      "         1.0       0.48      0.52      0.50       296\n",
      "\n",
      "    accuracy                           0.78      1434\n",
      "   macro avg       0.68      0.69      0.68      1434\n",
      "weighted avg       0.79      0.78      0.79      1434\n",
      "\n"
     ]
    },
    {
     "data": {
      "image/png": "[encoded data removed]",
      "text/plain": [
       "<Figure size 432x288 with 2 Axes>"
      ]
     },
     "metadata": {
      "needs_background": "light"
     },
     "output_type": "display_data"
    }
   ],
   "source": [
    "test_predict = LogisticClassifer(training_white, test_white)\n",
    "Evaluation(test_predict)"
   ]
  },
  {
   "cell_type": "markdown",
   "metadata": {},
   "source": [
    "# Logistic Regression - Multi-Class Classification"
   ]
  },
  {
   "cell_type": "code",
   "execution_count": 43,
   "metadata": {},
   "outputs": [],
   "source": [
    "def MC_LRClassifer(training, test):\n",
    "    model = (LogisticRegression()\n",
    "      .setLabelCol(\"quality\")\n",
    "      .setFeaturesCol(\"features\"))\n",
    "    \n",
    "    paramGrid = (ParamGridBuilder()\n",
    "      .addGrid(model.maxIter, [100])\n",
    "      .addGrid(model.threshold, [0.35,0.5,0.65])\n",
    "      .build())\n",
    "\n",
    "    stages = [model]\n",
    "    pipeline = Pipeline().setStages(stages)\n",
    "    \n",
    "    cv = (CrossValidator() # you can feel free to change the number of folds used in cross validation as well\n",
    "      .setEstimator(pipeline) # the estimator can also just be an individual model rather than a pipeline\n",
    "      .setEstimatorParamMaps(paramGrid)\n",
    "      .setEvaluator(BinaryClassificationEvaluator().setLabelCol(\"quality\")))\n",
    "    \n",
    "    pipelineFitted = cv.fit(training)\n",
    "    \n",
    "    print(\"The Best Parameters:\\n--------------------\")\n",
    "    print(pipelineFitted.bestModel.stages[0])      \n",
    "    pipelineFitted.bestModel.stages[0].extractParamMap()\n",
    "    \n",
    "    test_predict = pipelineFitted.bestModel.transform(test).selectExpr(\"double(round(prediction)) as prediction\",\"double(round(quality)) as quality\")\n",
    "    display(test_predict.show(3))\n",
    "    \n",
    "    return test_predict"
   ]
  },
  {
   "cell_type": "code",
   "execution_count": 37,
   "metadata": {},
   "outputs": [],
   "source": [
    "def MC_ConfMatrix(test_predict):\n",
    "        #collect prediction and true value\n",
    "    y_true = test_predict.select(['quality']).collect()\n",
    "    y_pred = test_predict.select(['prediction']).collect()\n",
    "\n",
    "    #classification report\n",
    "    print(classification_report(y_true, y_pred))\n",
    "    \n",
    "    #confusion matrix \n",
    "\n",
    "    cm = confusion_matrix(y_true, y_pred)\n",
    "    sns.heatmap(cm, annot=True, fmt='d')\n",
    "    plt.show()"
   ]
  },
  {
   "cell_type": "code",
   "execution_count": 38,
   "metadata": {},
   "outputs": [],
   "source": [
    "def MC_Evaluation(test_predict):\n",
    "    acc = test_predict.selectExpr(\"prediction\", \"quality\",\n",
    "                        \"\"\"\n",
    "                        CASE prediction = quality\n",
    "                        WHEN true then 1\n",
    "                        ELSE 0\n",
    "                        END as equal\n",
    "                        \"\"\")\n",
    "        \n",
    "    print(acc.selectExpr(\"sum(equal)/sum(1)\").show())\n",
    "\n",
    "    # Another way to evaluate error\n",
    "    evaluator = MulticlassClassificationEvaluator(labelCol=\"quality\", predictionCol=\"prediction\", metricName=\"accuracy\")\n",
    "    \n",
    "    accuracy = evaluator.evaluate(test_predict)\n",
    "    print(\"Test Error = %g\" % (1.0 - accuracy))\n",
    "    \n",
    "    MC_ConfMatrix(test_predict)"
   ]
  },
  {
   "cell_type": "markdown",
   "metadata": {},
   "source": [
    "### Logistic Regression - Multi-Class Classification - All wine"
   ]
  },
  {
   "cell_type": "code",
   "execution_count": 44,
   "metadata": {},
   "outputs": [
    {
     "name": "stdout",
     "output_type": "stream",
     "text": [
      "The Best Parameters:\n",
      "--------------------\n",
      "LogisticRegressionModel: uid=LogisticRegression_c55dc02e7053, numClasses=10, numFeatures=12\n",
      "+----------+-------+\n",
      "|prediction|quality|\n",
      "+----------+-------+\n",
      "|       7.0|    7.0|\n",
      "|       7.0|    8.0|\n",
      "|       6.0|    7.0|\n",
      "+----------+-------+\n",
      "only showing top 3 rows\n",
      "\n"
     ]
    },
    {
     "data": {
      "text/plain": [
       "None"
      ]
     },
     "metadata": {},
     "output_type": "display_data"
    },
    {
     "name": "stdout",
     "output_type": "stream",
     "text": [
      "+---------------------+\n",
      "|(sum(equal) / sum(1))|\n",
      "+---------------------+\n",
      "|   0.5441329179646937|\n",
      "+---------------------+\n",
      "\n",
      "None\n",
      "Test Error = 0.455867\n",
      "              precision    recall  f1-score   support\n",
      "\n",
      "         3.0       0.00      0.00      0.00         6\n",
      "         4.0       0.00      0.00      0.00        73\n",
      "         5.0       0.58      0.61      0.59       602\n",
      "         6.0       0.55      0.68      0.61       874\n",
      "         7.0       0.41      0.30      0.34       311\n",
      "         8.0       0.00      0.00      0.00        60\n",
      "\n",
      "    accuracy                           0.54      1926\n",
      "   macro avg       0.26      0.26      0.26      1926\n",
      "weighted avg       0.50      0.54      0.52      1926\n",
      "\n"
     ]
    },
    {
     "name": "stderr",
     "output_type": "stream",
     "text": [
      "/home/ubuntu/.local/lib/python3.8/site-packages/sklearn/metrics/_classification.py:1221: UndefinedMetricWarning: Precision and F-score are ill-defined and being set to 0.0 in labels with no predicted samples. Use `zero_division` parameter to control this behavior.\n",
      "  _warn_prf(average, modifier, msg_start, len(result))\n"
     ]
    },
    {
     "data": {
      "image/png": "[encoded data removed]",
      "text/plain": [
       "<Figure size 432x288 with 2 Axes>"
      ]
     },
     "metadata": {
      "needs_background": "light"
     },
     "output_type": "display_data"
    }
   ],
   "source": [
    "test_predict = MC_LRClassifer(training_enc, test_enc)\n",
    "MC_Evaluation(test_predict)"
   ]
  },
  {
   "cell_type": "markdown",
   "metadata": {},
   "source": [
    "### Logistic Regression - Multi-Class Classification - Red wine"
   ]
  },
  {
   "cell_type": "code",
   "execution_count": 45,
   "metadata": {},
   "outputs": [
    {
     "name": "stdout",
     "output_type": "stream",
     "text": [
      "The Best Parameters:\n",
      "--------------------\n",
      "LogisticRegressionModel: uid=LogisticRegression_044b10cbb61a, numClasses=9, numFeatures=11\n",
      "+----------+-------+\n",
      "|prediction|quality|\n",
      "+----------+-------+\n",
      "|       5.0|    4.0|\n",
      "|       5.0|    5.0|\n",
      "|       6.0|    7.0|\n",
      "+----------+-------+\n",
      "only showing top 3 rows\n",
      "\n"
     ]
    },
    {
     "data": {
      "text/plain": [
       "None"
      ]
     },
     "metadata": {},
     "output_type": "display_data"
    },
    {
     "name": "stdout",
     "output_type": "stream",
     "text": [
      "+---------------------+\n",
      "|(sum(equal) / sum(1))|\n",
      "+---------------------+\n",
      "|   0.5932914046121593|\n",
      "+---------------------+\n",
      "\n",
      "None\n",
      "Test Error = 0.406709\n",
      "              precision    recall  f1-score   support\n",
      "\n",
      "         3.0       0.00      0.00      0.00         3\n",
      "         4.0       0.00      0.00      0.00        17\n",
      "         5.0       0.66      0.74      0.70       215\n",
      "         6.0       0.52      0.59      0.55       183\n",
      "         7.0       0.55      0.29      0.38        55\n",
      "         8.0       0.00      0.00      0.00         4\n",
      "\n",
      "    accuracy                           0.59       477\n",
      "   macro avg       0.29      0.27      0.27       477\n",
      "weighted avg       0.56      0.59      0.57       477\n",
      "\n"
     ]
    },
    {
     "data": {
      "image/png": "[encoded data removed]",
      "text/plain": [
       "<Figure size 432x288 with 2 Axes>"
      ]
     },
     "metadata": {
      "needs_background": "light"
     },
     "output_type": "display_data"
    }
   ],
   "source": [
    "test_predict = MC_LRClassifer(training_red, test_red)\n",
    "MC_Evaluation(test_predict)"
   ]
  },
  {
   "cell_type": "markdown",
   "metadata": {},
   "source": [
    "### Logistic Regression - Multi-Class Classification - Wgite wine"
   ]
  },
  {
   "cell_type": "code",
   "execution_count": 46,
   "metadata": {},
   "outputs": [
    {
     "name": "stdout",
     "output_type": "stream",
     "text": [
      "The Best Parameters:\n",
      "--------------------\n",
      "LogisticRegressionModel: uid=LogisticRegression_b7fd1f555793, numClasses=10, numFeatures=11\n",
      "+----------+-------+\n",
      "|prediction|quality|\n",
      "+----------+-------+\n",
      "|       5.0|    5.0|\n",
      "|       6.0|    5.0|\n",
      "|       7.0|    5.0|\n",
      "+----------+-------+\n",
      "only showing top 3 rows\n",
      "\n"
     ]
    },
    {
     "data": {
      "text/plain": [
       "None"
      ]
     },
     "metadata": {},
     "output_type": "display_data"
    },
    {
     "name": "stdout",
     "output_type": "stream",
     "text": [
      "+---------------------+\n",
      "|(sum(equal) / sum(1))|\n",
      "+---------------------+\n",
      "|   0.5209205020920502|\n",
      "+---------------------+\n",
      "\n",
      "None\n",
      "Test Error = 0.479079\n",
      "              precision    recall  f1-score   support\n",
      "\n",
      "         3.0       0.00      0.00      0.00         6\n",
      "         4.0       0.00      0.00      0.00        48\n",
      "         5.0       0.51      0.51      0.51       406\n",
      "         6.0       0.53      0.73      0.62       678\n",
      "         7.0       0.44      0.19      0.27       253\n",
      "         8.0       0.00      0.00      0.00        42\n",
      "         9.0       0.00      0.00      0.00         1\n",
      "\n",
      "    accuracy                           0.52      1434\n",
      "   macro avg       0.21      0.20      0.20      1434\n",
      "weighted avg       0.48      0.52      0.48      1434\n",
      "\n"
     ]
    },
    {
     "data": {
      "image/png": "[encoded data removed]",
      "text/plain": [
       "<Figure size 432x288 with 2 Axes>"
      ]
     },
     "metadata": {
      "needs_background": "light"
     },
     "output_type": "display_data"
    }
   ],
   "source": [
    "test_predict = MC_LRClassifer(training_white, test_white)\n",
    "MC_Evaluation(test_predict)"
   ]
  },
  {
   "cell_type": "code",
   "execution_count": null,
   "metadata": {},
   "outputs": [],
   "source": []
  }
 ],
 "metadata": {
  "kernelspec": {
   "display_name": "Python 3",
   "language": "python",
   "name": "python3"
  },
  "language_info": {
   "codemirror_mode": {
    "name": "ipython",
    "version": 3
   },
   "file_extension": ".py",
   "mimetype": "text/x-python",
   "name": "python",
   "nbconvert_exporter": "python",
   "pygments_lexer": "ipython3",
   "version": "3.8.2"
  }
 },
 "nbformat": 4,
 "nbformat_minor": 4
}
