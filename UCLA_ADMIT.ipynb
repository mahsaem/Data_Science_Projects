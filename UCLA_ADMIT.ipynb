{
 "cells": [
  {
   "cell_type": "markdown",
   "metadata": {},
   "source": [
    "## UCLA Admission prediction- Logestic Regression"
   ]
  },
  {
   "cell_type": "markdown",
   "metadata": {},
   "source": [
    "Here we're going to use logistic regression to estimate whether a student will be admited to the university based on the student's GPA and GRE score along with the rank indicating the prestige of the student's undergraduate institution."
   ]
  },
  {
   "cell_type": "code",
   "execution_count": 1,
   "metadata": {},
   "outputs": [],
   "source": [
    "# Import libraries\n",
    "import pandas as pd\n",
    "import numpy as np\n",
    "import matplotlib.pyplot as plt\n",
    "from statsmodels.discrete.discrete_model import Logit\n",
    "from scipy.special import logit\n",
    "import warnings\n",
    "warnings.filterwarnings('ignore')"
   ]
  },
  {
   "cell_type": "code",
   "execution_count": 2,
   "metadata": {},
   "outputs": [],
   "source": [
    "df = pd.read_csv(r'ucla_binary.csv')"
   ]
  },
  {
   "cell_type": "code",
   "execution_count": 3,
   "metadata": {},
   "outputs": [
    {
     "data": {
      "text/html": [
       "<div>\n",
       "<style scoped>\n",
       "    .dataframe tbody tr th:only-of-type {\n",
       "        vertical-align: middle;\n",
       "    }\n",
       "\n",
       "    .dataframe tbody tr th {\n",
       "        vertical-align: top;\n",
       "    }\n",
       "\n",
       "    .dataframe thead th {\n",
       "        text-align: right;\n",
       "    }\n",
       "</style>\n",
       "<table border=\"1\" class=\"dataframe\">\n",
       "  <thead>\n",
       "    <tr style=\"text-align: right;\">\n",
       "      <th></th>\n",
       "      <th>admit</th>\n",
       "      <th>gre</th>\n",
       "      <th>gpa</th>\n",
       "      <th>rank</th>\n",
       "    </tr>\n",
       "  </thead>\n",
       "  <tbody>\n",
       "    <tr>\n",
       "      <th>0</th>\n",
       "      <td>0</td>\n",
       "      <td>380</td>\n",
       "      <td>3.61</td>\n",
       "      <td>3</td>\n",
       "    </tr>\n",
       "    <tr>\n",
       "      <th>1</th>\n",
       "      <td>1</td>\n",
       "      <td>660</td>\n",
       "      <td>3.67</td>\n",
       "      <td>3</td>\n",
       "    </tr>\n",
       "    <tr>\n",
       "      <th>2</th>\n",
       "      <td>1</td>\n",
       "      <td>800</td>\n",
       "      <td>4.00</td>\n",
       "      <td>1</td>\n",
       "    </tr>\n",
       "    <tr>\n",
       "      <th>3</th>\n",
       "      <td>1</td>\n",
       "      <td>640</td>\n",
       "      <td>3.19</td>\n",
       "      <td>4</td>\n",
       "    </tr>\n",
       "    <tr>\n",
       "      <th>4</th>\n",
       "      <td>0</td>\n",
       "      <td>520</td>\n",
       "      <td>2.93</td>\n",
       "      <td>4</td>\n",
       "    </tr>\n",
       "  </tbody>\n",
       "</table>\n",
       "</div>"
      ],
      "text/plain": [
       "   admit  gre   gpa  rank\n",
       "0      0  380  3.61     3\n",
       "1      1  660  3.67     3\n",
       "2      1  800  4.00     1\n",
       "3      1  640  3.19     4\n",
       "4      0  520  2.93     4"
      ]
     },
     "execution_count": 3,
     "metadata": {},
     "output_type": "execute_result"
    }
   ],
   "source": [
    "df.head()"
   ]
  },
  {
   "cell_type": "code",
   "execution_count": 4,
   "metadata": {},
   "outputs": [
    {
     "data": {
      "text/html": [
       "<div>\n",
       "<style scoped>\n",
       "    .dataframe tbody tr th:only-of-type {\n",
       "        vertical-align: middle;\n",
       "    }\n",
       "\n",
       "    .dataframe tbody tr th {\n",
       "        vertical-align: top;\n",
       "    }\n",
       "\n",
       "    .dataframe thead th {\n",
       "        text-align: right;\n",
       "    }\n",
       "</style>\n",
       "<table border=\"1\" class=\"dataframe\">\n",
       "  <thead>\n",
       "    <tr style=\"text-align: right;\">\n",
       "      <th></th>\n",
       "      <th>admit</th>\n",
       "      <th>gre</th>\n",
       "      <th>gpa</th>\n",
       "      <th>rank</th>\n",
       "    </tr>\n",
       "  </thead>\n",
       "  <tbody>\n",
       "    <tr>\n",
       "      <th>count</th>\n",
       "      <td>400.000000</td>\n",
       "      <td>400.000000</td>\n",
       "      <td>400.000000</td>\n",
       "      <td>400.00000</td>\n",
       "    </tr>\n",
       "    <tr>\n",
       "      <th>mean</th>\n",
       "      <td>0.317500</td>\n",
       "      <td>587.700000</td>\n",
       "      <td>3.389900</td>\n",
       "      <td>2.48500</td>\n",
       "    </tr>\n",
       "    <tr>\n",
       "      <th>std</th>\n",
       "      <td>0.466087</td>\n",
       "      <td>115.516536</td>\n",
       "      <td>0.380567</td>\n",
       "      <td>0.94446</td>\n",
       "    </tr>\n",
       "    <tr>\n",
       "      <th>min</th>\n",
       "      <td>0.000000</td>\n",
       "      <td>220.000000</td>\n",
       "      <td>2.260000</td>\n",
       "      <td>1.00000</td>\n",
       "    </tr>\n",
       "    <tr>\n",
       "      <th>25%</th>\n",
       "      <td>0.000000</td>\n",
       "      <td>520.000000</td>\n",
       "      <td>3.130000</td>\n",
       "      <td>2.00000</td>\n",
       "    </tr>\n",
       "    <tr>\n",
       "      <th>50%</th>\n",
       "      <td>0.000000</td>\n",
       "      <td>580.000000</td>\n",
       "      <td>3.395000</td>\n",
       "      <td>2.00000</td>\n",
       "    </tr>\n",
       "    <tr>\n",
       "      <th>75%</th>\n",
       "      <td>1.000000</td>\n",
       "      <td>660.000000</td>\n",
       "      <td>3.670000</td>\n",
       "      <td>3.00000</td>\n",
       "    </tr>\n",
       "    <tr>\n",
       "      <th>max</th>\n",
       "      <td>1.000000</td>\n",
       "      <td>800.000000</td>\n",
       "      <td>4.000000</td>\n",
       "      <td>4.00000</td>\n",
       "    </tr>\n",
       "  </tbody>\n",
       "</table>\n",
       "</div>"
      ],
      "text/plain": [
       "            admit         gre         gpa       rank\n",
       "count  400.000000  400.000000  400.000000  400.00000\n",
       "mean     0.317500  587.700000    3.389900    2.48500\n",
       "std      0.466087  115.516536    0.380567    0.94446\n",
       "min      0.000000  220.000000    2.260000    1.00000\n",
       "25%      0.000000  520.000000    3.130000    2.00000\n",
       "50%      0.000000  580.000000    3.395000    2.00000\n",
       "75%      1.000000  660.000000    3.670000    3.00000\n",
       "max      1.000000  800.000000    4.000000    4.00000"
      ]
     },
     "execution_count": 4,
     "metadata": {},
     "output_type": "execute_result"
    }
   ],
   "source": [
    "df.describe()"
   ]
  },
  {
   "cell_type": "code",
   "execution_count": 5,
   "metadata": {},
   "outputs": [
    {
     "data": {
      "image/png": "[encoded data removed]",
      "text/plain": [
       "<Figure size 504x360 with 4 Axes>"
      ]
     },
     "metadata": {
      "needs_background": "light"
     },
     "output_type": "display_data"
    }
   ],
   "source": [
    "df.hist(figsize=(7,5))\n",
    "plt.show()"
   ]
  },
  {
   "cell_type": "markdown",
   "metadata": {},
   "source": [
    "Rank is ordinal variable. Here, we will convert to set of dummies which will then be used as a predictors in our logistic regression model."
   ]
  },
  {
   "cell_type": "code",
   "execution_count": 6,
   "metadata": {},
   "outputs": [],
   "source": [
    "dummy_ranks = pd.get_dummies(df['rank'], prefix='rank')\n",
    "df = df.join(dummy_ranks)"
   ]
  },
  {
   "cell_type": "code",
   "execution_count": 7,
   "metadata": {},
   "outputs": [
    {
     "name": "stdout",
     "output_type": "stream",
     "text": [
      "Optimization terminated successfully.\n",
      "         Current function value: 0.573147\n",
      "         Iterations 6\n"
     ]
    }
   ],
   "source": [
    "#fitting the model\n",
    "predictors = ['gpa', 'gre', 'rank_1', 'rank_2', 'rank_3', 'rank_4']\n",
    "m = Logit(df['admit'], df[predictors])\n",
    "m = m.fit()"
   ]
  },
  {
   "cell_type": "code",
   "execution_count": 8,
   "metadata": {},
   "outputs": [
    {
     "data": {
      "text/plain": [
       "gpa       0.804038\n",
       "gre       0.002264\n",
       "rank_1   -3.989979\n",
       "rank_2   -4.665422\n",
       "rank_3   -5.330183\n",
       "rank_4   -5.541443\n",
       "dtype: float64"
      ]
     },
     "execution_count": 8,
     "metadata": {},
     "output_type": "execute_result"
    }
   ],
   "source": [
    "m.params"
   ]
  },
  {
   "cell_type": "code",
   "execution_count": 9,
   "metadata": {},
   "outputs": [
    {
     "name": "stdout",
     "output_type": "stream",
     "text": [
      "                         Results: Logit\n",
      "=================================================================\n",
      "Model:              Logit            Pseudo R-squared: 0.083     \n",
      "Dependent Variable: admit            AIC:              470.5175  \n",
      "Date:               2020-05-21 12:18 BIC:              494.4663  \n",
      "No. Observations:   400              Log-Likelihood:   -229.26   \n",
      "Df Model:           5                LL-Null:          -249.99   \n",
      "Df Residuals:       394              LLR p-value:      7.5782e-08\n",
      "Converged:          1.0000           Scale:            1.0000    \n",
      "No. Iterations:     6.0000                                       \n",
      "-------------------------------------------------------------------\n",
      "           Coef.    Std.Err.      z      P>|z|     [0.025    0.975]\n",
      "-------------------------------------------------------------------\n",
      "gpa        0.8040     0.3318    2.4231   0.0154    0.1537    1.4544\n",
      "gre        0.0023     0.0011    2.0699   0.0385    0.0001    0.0044\n",
      "rank_1    -3.9900     1.1400   -3.5001   0.0005   -6.2242   -1.7557\n",
      "rank_2    -4.6654     1.1094   -4.2055   0.0000   -6.8397   -2.4911\n",
      "rank_3    -5.3302     1.1495   -4.6368   0.0000   -7.5832   -3.0771\n",
      "rank_4    -5.5414     1.1381   -4.8691   0.0000   -7.7720   -3.3109\n",
      "=================================================================\n",
      "\n"
     ]
    }
   ],
   "source": [
    "print(m.summary2())"
   ]
  },
  {
   "cell_type": "code",
   "execution_count": 10,
   "metadata": {},
   "outputs": [],
   "source": [
    "#estimate of odds\n",
    "df['p'] = m.predict(df[predictors])"
   ]
  },
  {
   "cell_type": "code",
   "execution_count": 11,
   "metadata": {},
   "outputs": [
    {
     "data": {
      "image/png": "[encoded data removed]",
      "text/plain": [
       "<Figure size 432x288 with 1 Axes>"
      ]
     },
     "metadata": {
      "needs_background": "light"
     },
     "output_type": "display_data"
    }
   ],
   "source": [
    "df = df.sort_values(by = ['p'])\n",
    "plt.plot(logit(df.p), df.p, '--')\n",
    "plt.plot(logit(df.p), df.admit, '+')\n",
    "plt.xlabel('logit(p)')\n",
    "plt.ylabel('p')\n",
    "plt.show()"
   ]
  },
  {
   "cell_type": "code",
   "execution_count": 12,
   "metadata": {},
   "outputs": [
    {
     "data": {
      "image/png": "[encoded data removed]",
      "text/plain": [
       "<Figure size 432x288 with 1 Axes>"
      ]
     },
     "metadata": {
      "needs_background": "light"
     },
     "output_type": "display_data"
    }
   ],
   "source": [
    "df.boxplot(column='p', by = 'admit')\n",
    "plt.show()"
   ]
  },
  {
   "cell_type": "code",
   "execution_count": 13,
   "metadata": {},
   "outputs": [
    {
     "data": {
      "text/plain": [
       "0    351\n",
       "1     49\n",
       "Name: yhat, dtype: int64"
      ]
     },
     "execution_count": 13,
     "metadata": {},
     "output_type": "execute_result"
    }
   ],
   "source": [
    "df.loc[:, 'yhat'] = (df.p > 0.5) * 1\n",
    "df.yhat.value_counts()"
   ]
  },
  {
   "cell_type": "code",
   "execution_count": 14,
   "metadata": {},
   "outputs": [
    {
     "data": {
      "text/html": [
       "<div>\n",
       "<style scoped>\n",
       "    .dataframe tbody tr th:only-of-type {\n",
       "        vertical-align: middle;\n",
       "    }\n",
       "\n",
       "    .dataframe tbody tr th {\n",
       "        vertical-align: top;\n",
       "    }\n",
       "\n",
       "    .dataframe thead th {\n",
       "        text-align: right;\n",
       "    }\n",
       "</style>\n",
       "<table border=\"1\" class=\"dataframe\">\n",
       "  <thead>\n",
       "    <tr style=\"text-align: right;\">\n",
       "      <th>yhat</th>\n",
       "      <th>0</th>\n",
       "      <th>1</th>\n",
       "    </tr>\n",
       "    <tr>\n",
       "      <th>admit</th>\n",
       "      <th></th>\n",
       "      <th></th>\n",
       "    </tr>\n",
       "  </thead>\n",
       "  <tbody>\n",
       "    <tr>\n",
       "      <th>0</th>\n",
       "      <td>254</td>\n",
       "      <td>19</td>\n",
       "    </tr>\n",
       "    <tr>\n",
       "      <th>1</th>\n",
       "      <td>97</td>\n",
       "      <td>30</td>\n",
       "    </tr>\n",
       "  </tbody>\n",
       "</table>\n",
       "</div>"
      ],
      "text/plain": [
       "yhat     0   1\n",
       "admit         \n",
       "0      254  19\n",
       "1       97  30"
      ]
     },
     "execution_count": 14,
     "metadata": {},
     "output_type": "execute_result"
    }
   ],
   "source": [
    "pd.crosstab(df.admit, df.yhat)"
   ]
  },
  {
   "cell_type": "code",
   "execution_count": 15,
   "metadata": {},
   "outputs": [
    {
     "name": "stdout",
     "output_type": "stream",
     "text": [
      "[[254.  19.]\n",
      " [ 97.  30.]]\n"
     ]
    }
   ],
   "source": [
    "#confusion matrix \n",
    "conf_mat = m.pred_table()\n",
    "print (conf_mat)"
   ]
  },
  {
   "cell_type": "code",
   "execution_count": 16,
   "metadata": {},
   "outputs": [
    {
     "name": "stdout",
     "output_type": "stream",
     "text": [
      "254.0 19.0 97.0 30.0\n"
     ]
    }
   ],
   "source": [
    "tn, fp, fn, tp = conf_mat.flatten()\n",
    "print (tn, fp, fn, tp)"
   ]
  },
  {
   "cell_type": "code",
   "execution_count": 17,
   "metadata": {},
   "outputs": [
    {
     "name": "stdout",
     "output_type": "stream",
     "text": [
      "Accuraccy of the model is: 0.71\n"
     ]
    }
   ],
   "source": [
    "#accuracy\n",
    "acc = (tp + tn) / np.sum(conf_mat)\n",
    "print (\"Accuraccy of the model is: %1.2f\" % acc)"
   ]
  },
  {
   "cell_type": "code",
   "execution_count": 18,
   "metadata": {},
   "outputs": [
    {
     "name": "stdout",
     "output_type": "stream",
     "text": [
      "Mathews correlation coefficient between the estimates and the true response is: 0.24\n"
     ]
    }
   ],
   "source": [
    "#Matthews correlation coefficient\n",
    "mcc = (tp * tn - fp * fn)/np.sqrt((tp + fp)*(tp + fn)*(tn + fp)*(tn + fn))\n",
    "print (\"Mathews correlation coefficient between the estimates and the true response is: %1.2f\" % mcc)"
   ]
  },
  {
   "cell_type": "code",
   "execution_count": 19,
   "metadata": {},
   "outputs": [
    {
     "name": "stdout",
     "output_type": "stream",
     "text": [
      "Model's precision is 0.61 and it's recall is 0.24\n"
     ]
    }
   ],
   "source": [
    "#precision and recall\n",
    "prc = tp / (tp + fp)\n",
    "rec = tp / (tp + fn)\n",
    "print (\"Model's precision is %1.2f and it's recall is %1.2f\" % (prc, rec))"
   ]
  },
  {
   "cell_type": "code",
   "execution_count": 20,
   "metadata": {},
   "outputs": [],
   "source": [
    "#Set discrimination thresholds\n",
    "ths = np.arange(0., 1.0, 0.025)\n",
    "\n",
    "# Containers\n",
    "sensitivity = []\n",
    "specificity = []\n",
    "accuracy = []\n",
    "matthews = []\n",
    "\n",
    "# Main loop\n",
    "for th in ths:\n",
    "    # Generate estimates\n",
    "    conf_mat = m.pred_table(threshold=th)\n",
    "    \n",
    "    # Extract TN, FP, ...\n",
    "    tn, fp, fn, tp = conf_mat.flatten()\n",
    "    \n",
    "    # Calculate sensitivity and specificity\n",
    "    sens = (1. * tp) / (tp + fn)\n",
    "    spec = (1. * tn) / (tn + fp)    \n",
    "    \n",
    "    # Calculate ACC and MCC\n",
    "    acc = (tp + tn) / np.sum(conf_mat)\n",
    "    mcc = (tp * tn - fp * fn)/np.sqrt((tp + fp)*(tp + fn)*(tn + fp)*(tn + fn))    \n",
    "\n",
    "    # Add to containers\n",
    "    sensitivity.append(sens)\n",
    "    specificity.append(spec)\n",
    "    accuracy.append(acc)\n",
    "    matthews.append(mcc)"
   ]
  },
  {
   "cell_type": "code",
   "execution_count": 21,
   "metadata": {},
   "outputs": [],
   "source": [
    "# Bind all the numbers together\n",
    "roc = pd.DataFrame({'discret_thr' : ths, \n",
    "                    'sensitivity' : sensitivity, \n",
    "                    'specificity' : specificity,\n",
    "                    '_specificity' : [1 - x for x in specificity],\n",
    "                    'accuracy' : accuracy, \n",
    "                    'matthews' : matthews})\n",
    "\n",
    "# Sort by 1 - specificity so we can plot it easily\n",
    "roc = roc.sort_values(by = \"_specificity\").reset_index()"
   ]
  },
  {
   "cell_type": "code",
   "execution_count": 22,
   "metadata": {},
   "outputs": [
    {
     "data": {
      "text/plain": [
       "<matplotlib.legend.Legend at 0x263e3b0d5c8>"
      ]
     },
     "execution_count": 22,
     "metadata": {},
     "output_type": "execute_result"
    },
    {
     "data": {
      "image/png": "[encoded data removed]",
      "text/plain": [
       "<Figure size 432x288 with 1 Axes>"
      ]
     },
     "metadata": {
      "needs_background": "light"
     },
     "output_type": "display_data"
    }
   ],
   "source": [
    "plt.plot(roc._specificity, roc.sensitivity, label = 'ROC')\n",
    "plt.plot(np.arange(0., 1., 0.01), \n",
    "         np.arange(0., 1., 0.01), \n",
    "         '--')\n",
    "plt.xlabel('1-specificity')\n",
    "plt.ylabel('sensitivity')\n",
    "\n",
    "plt.legend(loc = 4)"
   ]
  },
  {
   "cell_type": "code",
   "execution_count": 23,
   "metadata": {},
   "outputs": [
    {
     "name": "stdout",
     "output_type": "stream",
     "text": [
      "Area under ROC curve = 0.69\n"
     ]
    }
   ],
   "source": [
    "#Area Under Curve\n",
    "auc = np.trapz(y = roc.sensitivity, x = roc._specificity)\n",
    "print (\"Area under ROC curve = %1.2f\" % auc)"
   ]
  },
  {
   "cell_type": "code",
   "execution_count": 24,
   "metadata": {},
   "outputs": [],
   "source": [
    "# Where threshold equal 0.5\n",
    "idx_default_th = np.where(roc.discret_thr == 0.5)[0][0]\n",
    "\n",
    "# Max sum of spec and sens\n",
    "idx_youdensj = np.argmax(roc.sensitivity + roc.specificity)\n",
    "\n",
    " # Ballanced spec and sens\n",
    "idx_ballance = np.argmin(np.abs(roc.sensitivity - roc.specificity))"
   ]
  },
  {
   "cell_type": "code",
   "execution_count": 25,
   "metadata": {},
   "outputs": [
    {
     "data": {
      "image/png": "[encoded data removed]",
      "text/plain": [
       "<Figure size 432x288 with 1 Axes>"
      ]
     },
     "metadata": {
      "needs_background": "light"
     },
     "output_type": "display_data"
    }
   ],
   "source": [
    "plt.plot(roc._specificity, roc.sensitivity, label = 'ROC')\n",
    "\n",
    "plt.plot(np.arange(0., 1., 0.01), \n",
    "         np.arange(0., 1., 0.01), \n",
    "         '--')\n",
    "\n",
    "plt.plot(roc._specificity[idx_default_th], \n",
    "         roc.sensitivity[idx_default_th], \n",
    "         's', color = 'blue',\n",
    "         label = 'Default')\n",
    "\n",
    "plt.plot(roc._specificity[idx_youdensj], \n",
    "         roc.sensitivity[idx_youdensj], \n",
    "         's', color = 'red',\n",
    "         label = 'Max(Spec. + Sens.)')\n",
    "\n",
    "plt.plot(roc._specificity[idx_ballance], \n",
    "         roc.sensitivity[idx_ballance], \n",
    "         's', color = 'green', \n",
    "         label = 'Spec. = Sens.')\n",
    "\n",
    "\n",
    "plt.legend(loc = 4)\n",
    "plt.xlabel('1 - Specificity')\n",
    "plt.ylabel('Sensitivity')\n",
    "plt.show()"
   ]
  },
  {
   "cell_type": "markdown",
   "metadata": {},
   "source": [
    "Confusion matrix at different points of the ROC curve"
   ]
  },
  {
   "cell_type": "code",
   "execution_count": 26,
   "metadata": {},
   "outputs": [
    {
     "data": {
      "text/plain": [
       "array([[216.,  57.],\n",
       "       [ 62.,  65.]])"
      ]
     },
     "execution_count": 26,
     "metadata": {},
     "output_type": "execute_result"
    }
   ],
   "source": [
    "m.pred_table(threshold=roc.discret_thr[idx_youdensj])"
   ]
  },
  {
   "cell_type": "code",
   "execution_count": 27,
   "metadata": {},
   "outputs": [
    {
     "data": {
      "text/plain": [
       "array([[176.,  97.],\n",
       "       [ 48.,  79.]])"
      ]
     },
     "execution_count": 27,
     "metadata": {},
     "output_type": "execute_result"
    }
   ],
   "source": [
    "m.pred_table(threshold=roc.discret_thr[idx_ballance])"
   ]
  },
  {
   "cell_type": "markdown",
   "metadata": {},
   "source": [
    "Youden's J: The point on the ROC curve that is closest to the error-free point (0,1) is the point where the sum of sensitivity and specificity is maximimal. Therefore, the discrimination threshold corresponding to that point is often considered to be the optimal threshold. The vertical distance beween this point and the identity line is called Youden's J"
   ]
  },
  {
   "cell_type": "code",
   "execution_count": 28,
   "metadata": {},
   "outputs": [
    {
     "name": "stdout",
     "output_type": "stream",
     "text": [
      "Youden's J = 0.30\n"
     ]
    }
   ],
   "source": [
    "J = max(roc.sensitivity + roc.specificity - 1)\n",
    "print ('Youden\\'s J = %1.2f' % J)"
   ]
  },
  {
   "cell_type": "code",
   "execution_count": 29,
   "metadata": {},
   "outputs": [
    {
     "name": "stdout",
     "output_type": "stream",
     "text": [
      "Odds mean: 0.32\n",
      "Response mean: 0.32\n"
     ]
    }
   ],
   "source": [
    "print ('Odds mean: %1.2f' % np.mean(df['p']))\n",
    "print ('Response mean: %1.2f' % np.mean(df['admit']))"
   ]
  },
  {
   "cell_type": "code",
   "execution_count": 30,
   "metadata": {},
   "outputs": [
    {
     "name": "stdout",
     "output_type": "stream",
     "text": [
      "Predicted positives #: 49\n",
      "True positives #: 127\n"
     ]
    }
   ],
   "source": [
    "print ('Predicted positives #: %i' % np.sum(df['p'] > 0.5))\n",
    "print ('True positives #: %i' % np.sum(df['admit'] > 0.5))"
   ]
  },
  {
   "cell_type": "code",
   "execution_count": 31,
   "metadata": {},
   "outputs": [
    {
     "data": {
      "image/png": "[encoded data removed]",
      "text/plain": [
       "<Figure size 432x288 with 1 Axes>"
      ]
     },
     "metadata": {
      "needs_background": "light"
     },
     "output_type": "display_data"
    }
   ],
   "source": [
    "plt.plot(roc.discret_thr, roc.accuracy, 'x-')\n",
    "plt.xlabel('Discrimination threshold')\n",
    "plt.ylabel('Accuracy')\n",
    "plt.show()"
   ]
  },
  {
   "cell_type": "code",
   "execution_count": 32,
   "metadata": {},
   "outputs": [
    {
     "data": {
      "image/png": "[encoded data removed]",
      "text/plain": [
       "<Figure size 432x288 with 1 Axes>"
      ]
     },
     "metadata": {
      "needs_background": "light"
     },
     "output_type": "display_data"
    }
   ],
   "source": [
    "plt.plot(roc.discret_thr, roc.matthews, 'x-')\n",
    "plt.xlabel('Discrimination threshold')\n",
    "plt.ylabel('MCC')\n",
    "plt.show()"
   ]
  },
  {
   "cell_type": "code",
   "execution_count": 33,
   "metadata": {},
   "outputs": [],
   "source": [
    "idx_maxacc = np.argmax(roc.accuracy)\n",
    "idx_maxmcc = np.argmax(roc.matthews)"
   ]
  },
  {
   "cell_type": "code",
   "execution_count": 34,
   "metadata": {
    "scrolled": true
   },
   "outputs": [
    {
     "data": {
      "image/png": "[encoded data removed]",
      "text/plain": [
       "<Figure size 432x288 with 1 Axes>"
      ]
     },
     "metadata": {
      "needs_background": "light"
     },
     "output_type": "display_data"
    }
   ],
   "source": [
    "plt.plot(roc._specificity, roc.sensitivity, label = 'ROC')\n",
    "\n",
    "plt.plot(np.arange(0., 1., 0.01), \n",
    "         np.arange(0., 1., 0.01), \n",
    "         '--')\n",
    "\n",
    "plt.plot(roc._specificity[idx_default_th], \n",
    "         roc.sensitivity[idx_default_th], \n",
    "         's', color = 'blue',\n",
    "         label = 'Default')\n",
    "\n",
    "plt.plot(roc._specificity[idx_youdensj], \n",
    "         roc.sensitivity[idx_youdensj], \n",
    "         's', color = 'red',\n",
    "         label = 'Max(Spec. + Sens.)')\n",
    "\n",
    "plt.plot(roc._specificity[idx_ballance], \n",
    "         roc.sensitivity[idx_ballance], \n",
    "         's', color = 'green', \n",
    "         label = 'Spec. = Sens.')\n",
    "\n",
    "plt.plot(roc._specificity[idx_maxacc], \n",
    "         roc.sensitivity[idx_maxacc], \n",
    "         's', color = 'purple',\n",
    "         label = 'Max. Accuracy')\n",
    "\n",
    "plt.plot(roc._specificity[idx_maxmcc], \n",
    "         roc.sensitivity[idx_maxmcc], \n",
    "         '^', color = 'cyan', \n",
    "         label = 'Max. MCC')\n",
    "\n",
    "plt.legend(loc = 4)\n",
    "plt.xlabel('1 - Specificity')\n",
    "plt.ylabel('Sensitivity')\n",
    "plt.show()"
   ]
  },
  {
   "cell_type": "markdown",
   "metadata": {},
   "source": [
    "As can be seen, the ROC point of maximal accuracy is quite distant from maximal MCC.\n",
    "\n",
    "The maximal MCC is identical to maximum of the sum of specificity and sensitivity.\n",
    "\n",
    "The ROC point of balanced senitivity and specificty differs from both maximal accuracy and maximal MCC.\n",
    "\n",
    "This highlights the fact that the model's discrimination threshold can be optimized in multiple ways.\n"
   ]
  }
 ],
 "metadata": {
  "kernelspec": {
   "display_name": "Python 3",
   "language": "python",
   "name": "python3"
  },
  "language_info": {
   "codemirror_mode": {
    "name": "ipython",
    "version": 3
   },
   "file_extension": ".py",
   "mimetype": "text/x-python",
   "name": "python",
   "nbconvert_exporter": "python",
   "pygments_lexer": "ipython3",
   "version": "3.7.5"
  }
 },
 "nbformat": 4,
 "nbformat_minor": 2
}
