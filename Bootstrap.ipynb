{
 "cells": [
  {
   "cell_type": "markdown",
   "metadata": {},
   "source": [
    "## Bootstrap Sampling"
   ]
  },
  {
   "cell_type": "markdown",
   "metadata": {},
   "source": [
    "In summary, bootstrap is a computer intensive technique to assess the accuracy of estimates. Because it does not rely on parametric, i.e. normality assumptions, it is empirically based on the data available, it can applied to different statistics and different distributions. Here we will discuss empirical non-parametric bootstrap and mention the two most common methods to determine confidence intervals, the **percentile interval** and **$BC_{a}$** (bias corrected and accelerated).\n",
    "\n",
    "In short, bootstrap assesses the accuracy of a sample statistic by applying computer intensive resampling with replacement.\n",
    "\n",
    "1. A sample of size *n* is withdrawn from an unknown distribution _F_. </br>\n",
    "  $$F \\rightarrow X=(x_1, x_2,..,x_n)$$  \n",
    "  \n",
    "2. The sample of size n is sampled with replacement with a sample size of n _B_ times.  These are called bootstrap samples.  We will denote each sample as $X^{i}$ for i=1, 2, ...B.\n",
    " \n",
    " \n",
    "3. The B bootstrap samples $X^{i}$ are used to calculate the statistic of interest $S^{i}=S(X^{i})$.\n",
    "\n",
    "\n",
    "4.  The distribution of the _B_ bootstrap samples statistic $S(X^{i})$ is used to calculate the estimated confidence interval of the statistic of interest.\n"
   ]
  },
  {
   "cell_type": "code",
   "execution_count": 1,
   "metadata": {},
   "outputs": [],
   "source": [
    "import pandas as pd\n",
    "%matplotlib inline\n",
    "import matplotlib.pyplot as plt\n",
    "import numpy as np\n",
    "import warnings\n",
    "warnings.filterwarnings('ignore')"
   ]
  },
  {
   "cell_type": "code",
   "execution_count": 2,
   "metadata": {},
   "outputs": [
    {
     "data": {
      "text/html": [
       "<div>\n",
       "<style scoped>\n",
       "    .dataframe tbody tr th:only-of-type {\n",
       "        vertical-align: middle;\n",
       "    }\n",
       "\n",
       "    .dataframe tbody tr th {\n",
       "        vertical-align: top;\n",
       "    }\n",
       "\n",
       "    .dataframe thead th {\n",
       "        text-align: right;\n",
       "    }\n",
       "</style>\n",
       "<table border=\"1\" class=\"dataframe\">\n",
       "  <thead>\n",
       "    <tr style=\"text-align: right;\">\n",
       "      <th></th>\n",
       "      <th>Unnamed: 0</th>\n",
       "      <th>School</th>\n",
       "      <th>LSAT</th>\n",
       "      <th>GPA</th>\n",
       "    </tr>\n",
       "  </thead>\n",
       "  <tbody>\n",
       "    <tr>\n",
       "      <th>0</th>\n",
       "      <td>1</td>\n",
       "      <td>1</td>\n",
       "      <td>622</td>\n",
       "      <td>3.23</td>\n",
       "    </tr>\n",
       "    <tr>\n",
       "      <th>1</th>\n",
       "      <td>2</td>\n",
       "      <td>2</td>\n",
       "      <td>542</td>\n",
       "      <td>2.83</td>\n",
       "    </tr>\n",
       "    <tr>\n",
       "      <th>2</th>\n",
       "      <td>3</td>\n",
       "      <td>3</td>\n",
       "      <td>579</td>\n",
       "      <td>3.24</td>\n",
       "    </tr>\n",
       "    <tr>\n",
       "      <th>3</th>\n",
       "      <td>4</td>\n",
       "      <td>4</td>\n",
       "      <td>653</td>\n",
       "      <td>3.12</td>\n",
       "    </tr>\n",
       "    <tr>\n",
       "      <th>4</th>\n",
       "      <td>5</td>\n",
       "      <td>5</td>\n",
       "      <td>606</td>\n",
       "      <td>3.09</td>\n",
       "    </tr>\n",
       "  </tbody>\n",
       "</table>\n",
       "</div>"
      ],
      "text/plain": [
       "   Unnamed: 0  School  LSAT   GPA\n",
       "0           1       1   622  3.23\n",
       "1           2       2   542  2.83\n",
       "2           3       3   579  3.24\n",
       "3           4       4   653  3.12\n",
       "4           5       5   606  3.09"
      ]
     },
     "execution_count": 2,
     "metadata": {},
     "output_type": "execute_result"
    }
   ],
   "source": [
    "law82=pd.read_csv(r'law82.csv')\n",
    "law82.head()"
   ]
  },
  {
   "cell_type": "code",
   "execution_count": 3,
   "metadata": {},
   "outputs": [
    {
     "data": {
      "text/html": [
       "<div>\n",
       "<style scoped>\n",
       "    .dataframe tbody tr th:only-of-type {\n",
       "        vertical-align: middle;\n",
       "    }\n",
       "\n",
       "    .dataframe tbody tr th {\n",
       "        vertical-align: top;\n",
       "    }\n",
       "\n",
       "    .dataframe thead th {\n",
       "        text-align: right;\n",
       "    }\n",
       "</style>\n",
       "<table border=\"1\" class=\"dataframe\">\n",
       "  <thead>\n",
       "    <tr style=\"text-align: right;\">\n",
       "      <th></th>\n",
       "      <th>index</th>\n",
       "      <th>Unnamed: 0</th>\n",
       "      <th>School</th>\n",
       "      <th>LSAT</th>\n",
       "      <th>GPA</th>\n",
       "    </tr>\n",
       "  </thead>\n",
       "  <tbody>\n",
       "    <tr>\n",
       "      <th>0</th>\n",
       "      <td>4</td>\n",
       "      <td>5</td>\n",
       "      <td>5</td>\n",
       "      <td>606</td>\n",
       "      <td>3.09</td>\n",
       "    </tr>\n",
       "    <tr>\n",
       "      <th>1</th>\n",
       "      <td>53</td>\n",
       "      <td>54</td>\n",
       "      <td>54</td>\n",
       "      <td>594</td>\n",
       "      <td>3.05</td>\n",
       "    </tr>\n",
       "    <tr>\n",
       "      <th>2</th>\n",
       "      <td>55</td>\n",
       "      <td>56</td>\n",
       "      <td>56</td>\n",
       "      <td>641</td>\n",
       "      <td>3.28</td>\n",
       "    </tr>\n",
       "    <tr>\n",
       "      <th>3</th>\n",
       "      <td>81</td>\n",
       "      <td>82</td>\n",
       "      <td>82</td>\n",
       "      <td>575</td>\n",
       "      <td>2.74</td>\n",
       "    </tr>\n",
       "    <tr>\n",
       "      <th>4</th>\n",
       "      <td>13</td>\n",
       "      <td>14</td>\n",
       "      <td>14</td>\n",
       "      <td>581</td>\n",
       "      <td>3.22</td>\n",
       "    </tr>\n",
       "  </tbody>\n",
       "</table>\n",
       "</div>"
      ],
      "text/plain": [
       "   index  Unnamed: 0  School  LSAT   GPA\n",
       "0      4           5       5   606  3.09\n",
       "1     53          54      54   594  3.05\n",
       "2     55          56      56   641  3.28\n",
       "3     81          82      82   575  2.74\n",
       "4     13          14      14   581  3.22"
      ]
     },
     "execution_count": 3,
     "metadata": {},
     "output_type": "execute_result"
    }
   ],
   "source": [
    "sample_size  = 15\n",
    "law15=pd.DataFrame.sample(law82,n = sample_size).reset_index()\n",
    "#law15= law15.reset_index()\n",
    "law15.head()"
   ]
  },
  {
   "cell_type": "markdown",
   "metadata": {},
   "source": [
    "Create a histogram to see the shape of the original data"
   ]
  },
  {
   "cell_type": "code",
   "execution_count": 4,
   "metadata": {},
   "outputs": [
    {
     "data": {
      "text/plain": [
       "Text(0, 0.5, 'Frequency')"
      ]
     },
     "execution_count": 4,
     "metadata": {},
     "output_type": "execute_result"
    },
    {
     "data": {
      "image/png": "[encoded data removed]",
      "text/plain": [
       "<Figure size 1440x360 with 2 Axes>"
      ]
     },
     "metadata": {
      "needs_background": "light"
     },
     "output_type": "display_data"
    }
   ],
   "source": [
    "plt.figure(figsize=(20,5))\n",
    "\n",
    "plt.subplot(121)\n",
    "plt.hist(law82.LSAT)\n",
    "plt.title('Histogram Population LSAT')\n",
    "plt.xlabel('LSAT')\n",
    "plt.ylabel('Frequency')\n",
    "\n",
    "\n",
    "plt.subplot(122)\n",
    "plt.hist(law82.GPA)\n",
    "plt.title('Histogram Population GPA')\n",
    "plt.xlabel('GPA')\n",
    "plt.ylabel('Frequency')"
   ]
  },
  {
   "cell_type": "code",
   "execution_count": 5,
   "metadata": {},
   "outputs": [
    {
     "data": {
      "text/plain": [
       "(477, 704)"
      ]
     },
     "execution_count": 5,
     "metadata": {},
     "output_type": "execute_result"
    },
    {
     "data": {
      "image/png": "[encoded data removed]",
      "text/plain": [
       "<Figure size 1440x360 with 2 Axes>"
      ]
     },
     "metadata": {
      "needs_background": "light"
     },
     "output_type": "display_data"
    }
   ],
   "source": [
    "plt.figure(figsize=(20,5))\n",
    "\n",
    "plt.subplot(121)\n",
    "plt.scatter(law82.LSAT,law82.GPA,color='c')\n",
    "plt.scatter(law15.LSAT,law15.GPA,color='green')\n",
    "plt.title('Scatter Plot Population')\n",
    "plt.xlabel('LSAT')\n",
    "plt.ylabel('GPA')\n",
    "plt.ylim(law82.GPA.min(),law82.GPA.max())\n",
    "plt.xlim(law82.LSAT.min(),law82.LSAT.max())\n",
    "\n",
    "plt.subplot(122)\n",
    "plt.scatter(law15.LSAT,law15.GPA,color='green')\n",
    "plt.title('Scatter Plot Sample')\n",
    "plt.xlabel('LSAT')\n",
    "plt.ylabel('GPA')\n",
    "plt.ylim(law82.GPA.min(),law82.GPA.max())\n",
    "plt.xlim(law82.LSAT.min(),law82.LSAT.max())"
   ]
  },
  {
   "cell_type": "markdown",
   "metadata": {},
   "source": [
    "We will calculate an interval confidence for the correlation using the bootstrap resampling method. First we will calculate the correlation for the original dataset and the sample."
   ]
  },
  {
   "cell_type": "code",
   "execution_count": 6,
   "metadata": {},
   "outputs": [
    {
     "name": "stdout",
     "output_type": "stream",
     "text": [
      "Population LSAT vs. GPA correlation: 0.7600\n"
     ]
    }
   ],
   "source": [
    "corr_pop=law82['LSAT'].corr(law82['GPA'])\n",
    "print(\"Population LSAT vs. GPA correlation: %.4f\"  % corr_pop)"
   ]
  },
  {
   "cell_type": "code",
   "execution_count": 7,
   "metadata": {},
   "outputs": [
    {
     "data": {
      "text/plain": [
       "array([ 0,  1,  2,  3,  4,  5,  6,  7,  8,  9, 10, 11, 12, 13, 14, 15, 16,\n",
       "       17, 18, 19, 20, 21, 22, 23, 24, 25, 26, 27, 28, 29, 30, 31, 32, 33,\n",
       "       34, 35, 36, 37, 38, 39, 40, 41, 42, 43, 44, 45, 46, 47, 48, 49, 50,\n",
       "       51, 52, 53, 54, 55, 56, 57, 58, 59, 60, 61, 62, 63, 64, 65, 66, 67,\n",
       "       68, 69, 70, 71, 72, 73, 74, 75, 76, 77, 78, 79, 80, 81])"
      ]
     },
     "execution_count": 7,
     "metadata": {},
     "output_type": "execute_result"
    }
   ],
   "source": [
    "# Create a file to use it as index\n",
    "\n",
    "index_law82=np.arange(0,law82.shape[0]) #law82.shape[0] counts the number of rows (records)\n",
    "index_law82"
   ]
  },
  {
   "cell_type": "code",
   "execution_count": 8,
   "metadata": {},
   "outputs": [],
   "source": [
    "LSAT=law82['LSAT']\n",
    "GPA=law82['GPA']\n",
    "\n",
    "#Create a df for the sampling distribution of correlations\n",
    "#set the number of bootstraps\n",
    "B=3200\n",
    "\n",
    "corr_sampling_dist_pop=[]\n",
    "\n",
    "for i in np.arange(0,B):\n",
    "    #pick 15 rows (indexes) randomly with replacement (default)\n",
    "    pop_sample_idx=np.random.choice(law82.shape[0],15,replace=True)\n",
    "\n",
    "\n",
    "    # sample the records that match with the index\n",
    "    random_sampling_pop=(LSAT[pop_sample_idx],GPA[pop_sample_idx])\n",
    "\n",
    "    #calculate the correlation of the sample\n",
    "    corr_sample_pop=random_sampling_pop[0].corr(random_sampling_pop[1])\n",
    "\n",
    "    #Append the new sample correlation to the sampling distribution df\n",
    "    corr_sampling_dist_pop.append(corr_sample_pop)"
   ]
  },
  {
   "cell_type": "code",
   "execution_count": 9,
   "metadata": {},
   "outputs": [],
   "source": [
    "LSAT=law15['LSAT']\n",
    "GPA=law15['GPA']\n",
    "\n",
    "#Create a df for the sampling distribution of correlations\n",
    "\n",
    "\n",
    "\n",
    "corr_sampling_dist_sample=[]\n",
    "\n",
    "for i in np.arange(0,B):\n",
    "    #pick 15 rows (indexes) randomly with replacement (default)\n",
    "    pop_sample_idx=np.random.choice(law15.shape[0],15,replace=True)\n",
    "\n",
    "\n",
    "    # sample the records that match with the index\n",
    "    random_sampling_sample=(LSAT[pop_sample_idx],GPA[pop_sample_idx])\n",
    "\n",
    "    #calculate the correlation of the sample\n",
    "    corr_sample_sample=random_sampling_sample[0].corr(random_sampling_sample[1])\n",
    "\n",
    "    #Append the new sample correlation to the sampling distribution df\n",
    "    corr_sampling_dist_sample.append(corr_sample_sample)"
   ]
  },
  {
   "cell_type": "code",
   "execution_count": 10,
   "metadata": {},
   "outputs": [
    {
     "data": {
      "text/plain": [
       "Text(0, 0.5, 'Frequency')"
      ]
     },
     "execution_count": 10,
     "metadata": {},
     "output_type": "execute_result"
    },
    {
     "data": {
      "image/png": "[encoded data removed]",
      "text/plain": [
       "<Figure size 1440x360 with 2 Axes>"
      ]
     },
     "metadata": {
      "needs_background": "light"
     },
     "output_type": "display_data"
    }
   ],
   "source": [
    "plt.figure(figsize=(20,5))\n",
    "\n",
    "plt.subplot(121)\n",
    "plt.hist(corr_sampling_dist_pop,bins=20)\n",
    "plt.title('Histogram: Sampling Distribution of the Correlations')\n",
    "plt.xlabel('Correlation')\n",
    "plt.ylabel('Frequency')\n",
    "#plt.ylim(0,B/5)\n",
    "\n",
    "plt.subplot(122)\n",
    "plt.hist(corr_sampling_dist_sample,bins=20)\n",
    "plt.title('Histogram: Sample Boostrap Distribution of the Correlations')\n",
    "plt.xlabel('Correlation')\n",
    "plt.ylabel('Frequency')\n",
    "#plt.ylim(0,B/5)\n"
   ]
  },
  {
   "cell_type": "code",
   "execution_count": 11,
   "metadata": {},
   "outputs": [
    {
     "name": "stdout",
     "output_type": "stream",
     "text": [
      "Population LSAT vs. GPA correlation: 0.76\n",
      "Population LSAT vs. GPA bootstrap sampling: 0.79 , the error vs. the true correlation is 0.03\n",
      "Population LSAT vs. GPA population sampling: 0.74 the error vs. the true correlation is -0.02\n"
     ]
    }
   ],
   "source": [
    "corr_pop=law82['LSAT'].corr(law82['GPA'])\n",
    "print(\"Population LSAT vs. GPA correlation: %.2f\"  % corr_pop)\n",
    "\n",
    "corr_boot_mean=sum(corr_sampling_dist_sample)/len(corr_sampling_dist_sample)\n",
    "error_corr_boot_mean=corr_boot_mean-corr_pop\n",
    "print(\"Population LSAT vs. GPA bootstrap sampling: %.2f\"  % corr_boot_mean,', the error vs. the true correlation is %.2f' % error_corr_boot_mean)\n",
    "\n",
    "corr_sampling_mean=sum(corr_sampling_dist_pop)/len(corr_sampling_dist_pop)\n",
    "error_corr_sampling_mean=corr_sampling_mean-corr_pop\n",
    "print(\"Population LSAT vs. GPA population sampling: %.2f\"  % corr_sampling_mean, 'the error vs. the true correlation is %.2f' % error_corr_sampling_mean)"
   ]
  },
  {
   "cell_type": "code",
   "execution_count": 12,
   "metadata": {},
   "outputs": [
    {
     "data": {
      "text/plain": [
       "597.5487804878048"
      ]
     },
     "execution_count": 12,
     "metadata": {},
     "output_type": "execute_result"
    }
   ],
   "source": [
    "LSAT=law82['LSAT']\n",
    "LSAT.mean()"
   ]
  },
  {
   "cell_type": "code",
   "execution_count": 13,
   "metadata": {},
   "outputs": [],
   "source": [
    "index_law82=np.arange(0,law82.shape[0])"
   ]
  },
  {
   "cell_type": "code",
   "execution_count": 14,
   "metadata": {},
   "outputs": [],
   "source": [
    "pop_sample_idx=np.random.choice(law82.shape[0],15,replace=True)"
   ]
  },
  {
   "cell_type": "code",
   "execution_count": 15,
   "metadata": {},
   "outputs": [
    {
     "data": {
      "text/plain": [
       "array([60,  8, 48, 65, 71,  7, 34, 78,  6, 74, 48, 70, 45, 75, 63])"
      ]
     },
     "execution_count": 15,
     "metadata": {},
     "output_type": "execute_result"
    }
   ],
   "source": [
    "pop_sample_idx"
   ]
  },
  {
   "cell_type": "code",
   "execution_count": 16,
   "metadata": {},
   "outputs": [],
   "source": [
    "random_sampling_sample=LSAT[pop_sample_idx]"
   ]
  },
  {
   "cell_type": "code",
   "execution_count": 17,
   "metadata": {},
   "outputs": [
    {
     "data": {
      "text/plain": [
       "605.5333333333333"
      ]
     },
     "execution_count": 17,
     "metadata": {},
     "output_type": "execute_result"
    }
   ],
   "source": [
    "random_sampling_sample.mean()"
   ]
  },
  {
   "cell_type": "code",
   "execution_count": 18,
   "metadata": {},
   "outputs": [],
   "source": [
    "LSAT=law82['LSAT']\n",
    "LSAT_True_Mean=LSAT.mean()\n",
    "\n",
    "LSAT15=law15['LSAT']\n",
    "LSAT_sample_Mean=LSAT15.mean()\n",
    "\n",
    "sampling_dist_sample_LSAT=[]\n",
    "\n",
    "B=10000\n",
    "\n",
    "for i in np.arange(0,B):\n",
    "\n",
    "    #create a range with the indexes of the dataframe\n",
    "    index_law15=np.arange(0,law15.shape[0])\n",
    "\n",
    "    #sample with replacement the index\n",
    "    pop_sample_idx=np.random.choice(law15.shape[0],15,replace=True)\n",
    "\n",
    "    # sample the records that match with the index\n",
    "    random_sampling_sample=LSAT[pop_sample_idx]\n",
    "\n",
    "    #append the new mean\n",
    "    sampling_dist_sample_LSAT.append(random_sampling_sample.mean())\n",
    "    \n",
    "#plt.hist(sampling_dist_sample_LSAT)\n",
    "#plt.show"
   ]
  },
  {
   "cell_type": "code",
   "execution_count": 19,
   "metadata": {},
   "outputs": [],
   "source": [
    "sampling_dist_pop_LSAT=[]\n",
    "\n",
    "\n",
    "for i in np.arange(0,B):\n",
    "\n",
    "    #create a range with the indexes of the dataframe\n",
    "    index_law82=np.arange(0,law82.shape[0])\n",
    "\n",
    "    #sample with replacement the index\n",
    "    pop_sample_idx=np.random.choice(law82.shape[0],15,replace=True)\n",
    "\n",
    "    # sample the records that match with the index\n",
    "    random_sampling_sample=LSAT[pop_sample_idx]\n",
    "\n",
    "    #append the new mean\n",
    "    sampling_dist_pop_LSAT.append(random_sampling_sample.mean())\n",
    "    \n",
    "#plt.hist(sampling_dist_pop_LSAT)\n",
    "#plt.show"
   ]
  },
  {
   "cell_type": "code",
   "execution_count": 20,
   "metadata": {},
   "outputs": [
    {
     "data": {
      "text/plain": [
       "<function matplotlib.pyplot.show(*args, **kw)>"
      ]
     },
     "execution_count": 20,
     "metadata": {},
     "output_type": "execute_result"
    },
    {
     "data": {
      "image/png": "[encoded data removed]",
      "text/plain": [
       "<Figure size 1440x360 with 2 Axes>"
      ]
     },
     "metadata": {
      "needs_background": "light"
     },
     "output_type": "display_data"
    }
   ],
   "source": [
    "plt.figure(figsize=(20,5))\n",
    "\n",
    "plt.subplot(121)\n",
    "plt.hist(sampling_dist_pop_LSAT)\n",
    "plt.axvline(LSAT_True_Mean,linestyle='--',color='b',ymax=0.97)\n",
    "plt.axvline(LSAT_sample_Mean,linestyle='--',color='r',ymax=0.97)\n",
    "plt.xlabel('LSAT')\n",
    "plt.ylabel('Frequency')\n",
    "plt.title('Population Sample Distribution')\n",
    "\n",
    "plt.subplot(122)\n",
    "plt.hist(sampling_dist_sample_LSAT)\n",
    "plt.axvline(LSAT_True_Mean,linestyle='--',color='b',ymax=0.97)\n",
    "plt.axvline(LSAT_sample_Mean,linestyle='--',color='r',ymax=0.97)\n",
    "plt.xlabel('LSAT')\n",
    "plt.ylabel('Frequency')\n",
    "plt.title('Sample Bootstrap Distribution')\n",
    "plt.show"
   ]
  }
 ],
 "metadata": {
  "kernelspec": {
   "display_name": "Python 3",
   "language": "python",
   "name": "python3"
  },
  "language_info": {
   "codemirror_mode": {
    "name": "ipython",
    "version": 3
   },
   "file_extension": ".py",
   "mimetype": "text/x-python",
   "name": "python",
   "nbconvert_exporter": "python",
   "pygments_lexer": "ipython3",
   "version": "3.7.5"
  }
 },
 "nbformat": 4,
 "nbformat_minor": 2
}
